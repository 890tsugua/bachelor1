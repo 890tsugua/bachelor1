{
 "cells": [
  {
   "cell_type": "markdown",
   "id": "13294ea7",
   "metadata": {},
   "source": [
    "Til at evaluere recall per snr. Simuler kun én psf per billede.\n",
    "\n",
    "For box in predboxes\n",
    "    If box and targetbox iou > .5\n",
    "        Add targetsnr and TP += 1\n",
    "        break\n",
    "add targetsnr and FN +=1"
   ]
  },
  {
   "cell_type": "code",
   "execution_count": 1,
   "id": "4a78db12",
   "metadata": {},
   "outputs": [
    {
     "name": "stdout",
     "output_type": "stream",
     "text": [
      "135\n",
      "100.82222222222222\n"
     ]
    }
   ],
   "source": [
    "from PsfSimulator import PsfSimulator, PsfDataset\n",
    "from scripts.plotting import PlotController\n",
    "import PIL\n",
    "from PIL import Image\n",
    "import torchvision.transforms as T\n",
    "\n",
    "\n",
    "sim = PsfSimulator(snr_mean=3, base_noise=100, img_h=15, img_w=15, sigma_mean=1.5)\n",
    "image, target = sim.generate(num_spots=1)\n",
    "image = image*10000\n",
    "# Tensor to numpy array\n",
    "image = image.numpy().astype('uint16')\n",
    "print(image.max())\n",
    "print(image.mean())\n",
    "\n",
    "# Plot the numpy array using matplotlib\n",
    "image = image[0]\n",
    "\n",
    "import matplotlib.pyplot as plt\n"
   ]
  },
  {
   "cell_type": "code",
   "execution_count": 2,
   "id": "5caf0f98",
   "metadata": {},
   "outputs": [],
   "source": [
    "\n",
    "import numpy as np\n",
    "from mpl_toolkits.mplot3d import Axes3D  # noqa: F401 unused import\n",
    "import matplotlib.pyplot as plt\n",
    "import matplotlib.cm as cm"
   ]
  },
  {
   "cell_type": "code",
   "execution_count": 3,
   "id": "3f8d9c70",
   "metadata": {},
   "outputs": [
    {
     "name": "stdout",
     "output_type": "stream",
     "text": [
      "135\n",
      "100.74074\n",
      "10.251802\n"
     ]
    }
   ],
   "source": [
    "imagecopy = image.copy()\n",
    "imagecopy = imagecopy.astype(np.float32)\n",
    "print(image.max())\n",
    "imagecopy[6:9,6:9] = np.nan\n",
    "print(np.nanmean(imagecopy))\n",
    "print(np.nanstd(imagecopy))"
   ]
  },
  {
   "cell_type": "code",
   "execution_count": 4,
   "id": "9ee4ad9b",
   "metadata": {},
   "outputs": [
    {
     "data": {
      "image/png": "[encoded data removed]",
      "text/plain": [
       "<Figure size 640x480 with 1 Axes>"
      ]
     },
     "metadata": {},
     "output_type": "display_data"
    }
   ],
   "source": [
    "plt.imshow(image, cmap='gray')\n",
    "plt.axis('off')\n",
    "%matplotlib inline\n",
    "plt.show()"
   ]
  },
  {
   "cell_type": "code",
   "execution_count": 59,
   "id": "3f4d68cd",
   "metadata": {},
   "outputs": [
    {
     "name": "stderr",
     "output_type": "stream",
     "text": [
      "/var/folders/sr/ychn_0nn4b54j0qp8gmljtr80000gn/T/ipykernel_48953/4179902590.py:32: UserWarning: FigureCanvasAgg is non-interactive, and thus cannot be shown\n",
      "  plt.show()\n"
     ]
    }
   ],
   "source": [
    "# image is your 2D numpy array\n",
    "fig = plt.figure()\n",
    "ax = fig.add_subplot(111, projection='3d')\n",
    "\n",
    "# Get the shape\n",
    "ny, nx = image.shape\n",
    "\n",
    "# Create X, Y positions for each bar\n",
    "_x = np.arange(nx)\n",
    "_y = np.arange(ny)\n",
    "_xx, _yy = np.meshgrid(_x, _y)\n",
    "x, y = _xx.ravel(), _yy.ravel()\n",
    "z = np.zeros_like(x)\n",
    "\n",
    "# The bar heights are the pixel values\n",
    "dz = image.ravel()\n",
    "z_min = 70\n",
    "\n",
    "# Width and depth of each bar\n",
    "dx = dy = 1 * np.ones_like(z)\n",
    "\n",
    "normed = (dz - dz.min()) / (dz.max() - dz.min())\n",
    "colors = cm.jet(normed)\n",
    "\n",
    "ax.bar3d(x, y, z+z_min, dx, dy, dz-z_min, shade=True, color=colors, zsort='min')\n",
    "\n",
    "ax.set_xlabel('X')\n",
    "ax.set_ylabel('Y')\n",
    "ax.set_zlabel('Pixel Value')\n",
    "ax.set_zlim(z_min, z_min+70)\n",
    "%matplotlib qt\n",
    "plt.show()\n",
    "\n"
   ]
  },
  {
   "cell_type": "code",
   "execution_count": null,
   "id": "a510bfe6",
   "metadata": {},
   "outputs": [
    {
     "name": "stderr",
     "output_type": "stream",
     "text": [
      "/var/folders/sr/ychn_0nn4b54j0qp8gmljtr80000gn/T/ipykernel_48953/53948189.py:23: UserWarning: FigureCanvasAgg is non-interactive, and thus cannot be shown\n",
      "  plt.show()\n"
     ]
    },
    {
     "name": "stderr",
     "output_type": "stream",
     "text": [
      "2025-05-24 17:17:23.749 python[48953:17631804] The class 'NSSavePanel' overrides the method identifier.  This method is implemented by class 'NSWindow'\n",
      "2025-05-24 17:19:05.855 python[48953:17631804] _TIPropertyValueIsValid called with 16 on nil context!\n",
      "2025-05-24 17:19:05.855 python[48953:17631804] imkxpc_getApplicationProperty:reply: called with incorrect property value 16, bailing.\n",
      "2025-05-24 17:19:05.855 python[48953:17631804] Text input context does not respond to _valueForTIProperty:\n"
     ]
    }
   ],
   "source": [
    "# image is your 2D numpy array\n",
    "fig = plt.figure()\n",
    "ax = fig.add_subplot(111, projection='3d')\n",
    "\n",
    "# Create X and Y coordinate arrays\n",
    "X = np.arange(image.shape[1])\n",
    "Y = np.arange(image.shape[0])\n",
    "X, Y = np.meshgrid(X, Y)\n",
    "\n",
    "# The bar heights are the pixel values\n",
    "dz = image.ravel()\n",
    "z_min = 70\n",
    "\n",
    "# Width and depth of each bar\n",
    "dx = dy = 1 * np.ones_like(z)\n",
    "\n",
    "# Plot the surface\n",
    "ax.plot_surface(X, Y, image, cmap='gnuplot')\n",
    "\n",
    "ax.set_xlabel('X')\n",
    "ax.set_ylabel('Y')\n",
    "ax.set_zlabel('Pixel Value')\n",
    "plt.show()"
   ]
  },
  {
   "cell_type": "markdown",
   "id": "e1a3ec7e",
   "metadata": {},
   "source": [
    "# SNR TROUBLESHOOTING"
   ]
  },
  {
   "cell_type": "code",
   "execution_count": 7,
   "id": "57535137",
   "metadata": {},
   "outputs": [],
   "source": [
    "def make_psf(sigma, intensity, subpos):\n",
    "    radius = int(np.ceil(3 * sigma))\n",
    "    array = np.zeros((radius * 2 + 1, radius * 2 + 1))\n",
    "    yy, xx = np.ogrid[-radius:radius + 1, -radius:radius + 1]\n",
    "    subpos = (subpos[0] - 0.5, subpos[1] - 0.5)\n",
    "    r2 = (xx - subpos[0]) ** 2 + (yy - subpos[1]) ** 2\n",
    "    signals = np.exp(-r2 / (2 * sigma ** 2)) \n",
    "    array = signals * intensity\n",
    "    return array.astype(np.float32)"
   ]
  },
  {
   "cell_type": "code",
   "execution_count": 39,
   "id": "71998ee8",
   "metadata": {},
   "outputs": [
    {
     "name": "stdout",
     "output_type": "stream",
     "text": [
      "100.0\n"
     ]
    },
    {
     "data": {
      "image/png": "[encoded data removed]",
      "text/plain": [
       "<Figure size 640x480 with 1 Axes>"
      ]
     },
     "metadata": {},
     "output_type": "display_data"
    }
   ],
   "source": [
    "psf_1s_100int = make_psf(1, 100, (0.5,0.5)).astype(np.float32)\n",
    "print(np.max(psf_1s_100int))\n",
    "plt.imshow(psf_1s_100int, cmap='gray')\n",
    "plt.axis('off')\n",
    "plt.show()"
   ]
  },
  {
   "cell_type": "code",
   "execution_count": 40,
   "id": "d92cbca1",
   "metadata": {},
   "outputs": [
    {
     "name": "stdout",
     "output_type": "stream",
     "text": [
      "Mean: 100.61602783203125, Std: 9.918256759643555, Max: 137.0, sqrt_mean: 10.030754089355469\n"
     ]
    },
    {
     "data": {
      "image/png": "[encoded data removed]",
      "text/plain": [
       "<Figure size 640x480 with 1 Axes>"
      ]
     },
     "metadata": {},
     "output_type": "display_data"
    }
   ],
   "source": [
    "background = np.full((31,31), 100, dtype=np.float32)\n",
    "background = np.random.poisson(background).astype(np.float32)\n",
    "print(f\"Mean: {np.mean(background)}, Std: {np.std(background)}, Max: {np.max(background)}, sqrt_mean: {np.sqrt(np.mean(background))}\")\n",
    "plt.imshow(background, cmap='gray')\n",
    "plt.axis('off')\n",
    "plt.show()"
   ]
  },
  {
   "cell_type": "code",
   "execution_count": 42,
   "id": "87e8d537",
   "metadata": {},
   "outputs": [
    {
     "name": "stdout",
     "output_type": "stream",
     "text": [
      "SNR is 10\n"
     ]
    },
    {
     "data": {
      "image/png": "[encoded data removed]",
      "text/plain": [
       "<Figure size 640x480 with 1 Axes>"
      ]
     },
     "metadata": {},
     "output_type": "display_data"
    }
   ],
   "source": [
    "full_image = background.copy()\n",
    "full_image[12:12+psf_1s_100int.shape[0], 12:12+psf_1s_100int.shape[1]] += psf_1s_100int\n",
    "print(\"SNR is 10\")\n",
    "plt.imshow(full_image, cmap='gray')\n",
    "plt.axis('off')\n",
    "plt.show()"
   ]
  },
  {
   "cell_type": "code",
   "execution_count": 85,
   "id": "8015b954",
   "metadata": {},
   "outputs": [
    {
     "name": "stdout",
     "output_type": "stream",
     "text": [
      "psf max: 30.0\n",
      "SNR is 3\n"
     ]
    },
    {
     "data": {
      "image/png": "[encoded data removed]",
      "text/plain": [
       "<Figure size 800x1200 with 6 Axes>"
      ]
     },
     "metadata": {},
     "output_type": "display_data"
    }
   ],
   "source": [
    "psf_1s_30int = make_psf(1, 30, (0.5,0.5)).astype(np.float32)\n",
    "print(f\"psf max: {np.max(psf_1s_30int)}\")\n",
    "background = np.full((31,31), 100, dtype=np.float32)\n",
    "full_image = background.copy()\n",
    "full_image[12:12+psf_1s_30int.shape[0], 12:12+psf_1s_30int.shape[1]] += psf_1s_30int\n",
    "\n",
    "full_image_wnoise = full_image.copy()\n",
    "full_image_wnoise = np.random.poisson(full_image_wnoise).astype(np.float32)\n",
    "\n",
    "print(\"SNR is 3\")\n",
    "\n",
    "plt.figure(figsize=(8, 12))\n",
    "\n",
    "plt.subplot(3,2,1)\n",
    "plt.imshow(full_image, cmap='gray', vmin=0, vmax=255)\n",
    "plt.axis('off')\n",
    "plt.title(\"before noise,vmin=0 vmax=255\")\n",
    "\n",
    "plt.subplot(3,2,2)\n",
    "plt.imshow(full_image_wnoise, cmap='gray', vmin=0, vmax=255)\n",
    "plt.axis('off')\n",
    "plt.title(\"with noise, vmin=0 vmax=255\")\n",
    "\n",
    "plt.subplot(3,2,3)\n",
    "plt.imshow(full_image, cmap='gray', norm=None)\n",
    "plt.axis('off')\n",
    "plt.title(\"before noise, norm None\")\n",
    "\n",
    "plt.subplot(3,2,4)\n",
    "plt.imshow(full_image_wnoise, cmap='gray', norm=None)\n",
    "plt.axis('off')\n",
    "plt.title(\"with noise, norm None\")\n",
    "\n",
    "plt.subplot(3,2,5)\n",
    "plt.imshow(full_image, cmap='gray', vmin=np.min(full_image), vmax=255)\n",
    "plt.axis('off')\n",
    "plt.title(f\"before noise,vmin={np.min(full_image)} vmax=255\")\n",
    "\n",
    "plt.subplot(3,2,6)\n",
    "plt.imshow(full_image_wnoise, cmap='gray', vmin=np.min(full_image_wnoise), vmax=255)\n",
    "plt.axis('off')\n",
    "plt.title(f\"with noise, vmin={np.min(full_image_wnoise)} vmax=255\")\n",
    "\n",
    "plt.tight_layout\n",
    "plt.show()"
   ]
  },
  {
   "cell_type": "code",
   "execution_count": null,
   "id": "f84c46b8",
   "metadata": {},
   "outputs": [],
   "source": []
  },
  {
   "cell_type": "code",
   "execution_count": null,
   "id": "83878a74",
   "metadata": {},
   "outputs": [],
   "source": []
  },
  {
   "cell_type": "code",
   "execution_count": null,
   "id": "088f9fac",
   "metadata": {},
   "outputs": [],
   "source": []
  },
  {
   "cell_type": "code",
   "execution_count": null,
   "id": "6a7c1b6f",
   "metadata": {},
   "outputs": [],
   "source": []
  },
  {
   "cell_type": "code",
   "execution_count": null,
   "id": "7aa5eee0",
   "metadata": {},
   "outputs": [],
   "source": []
  },
  {
   "cell_type": "code",
   "execution_count": null,
   "id": "67f129f1",
   "metadata": {},
   "outputs": [],
   "source": []
  },
  {
   "cell_type": "code",
   "execution_count": null,
   "id": "ec393813",
   "metadata": {},
   "outputs": [],
   "source": []
  },
  {
   "cell_type": "code",
   "execution_count": null,
   "id": "d139be96",
   "metadata": {},
   "outputs": [],
   "source": []
  },
  {
   "cell_type": "code",
   "execution_count": null,
   "id": "12998722",
   "metadata": {},
   "outputs": [],
   "source": []
  },
  {
   "cell_type": "code",
   "execution_count": null,
   "id": "ddb320eb",
   "metadata": {},
   "outputs": [],
   "source": []
  }
 ],
 "metadata": {
  "kernelspec": {
   "display_name": "base",
   "language": "python",
   "name": "python3"
  },
  "language_info": {
   "codemirror_mode": {
    "name": "ipython",
    "version": 3
   },
   "file_extension": ".py",
   "mimetype": "text/x-python",
   "name": "python",
   "nbconvert_exporter": "python",
   "pygments_lexer": "ipython3",
   "version": "3.12.7"
  }
 },
 "nbformat": 4,
 "nbformat_minor": 5
}
