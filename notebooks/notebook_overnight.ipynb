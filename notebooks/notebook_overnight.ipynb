{
 "cells": [
  {
   "cell_type": "code",
   "execution_count": 1,
   "id": "8be3f121",
   "metadata": {
    "editable": true,
    "slideshow": {
     "slide_type": ""
    },
    "tags": []
   },
   "outputs": [],
   "source": [
    "import pandas as pd\n",
    "import torch\n",
    "\n",
    "import os\n",
    "import sys\n",
    "sys.path.append(os.path.abspath('..'))\n",
    "from scripts.training import run_epoch, train_loop\n",
    "from utils import move_data_to_device, move_dict_to_cpu, plot_image, plot_image_boxes\n",
    "from PsfSimulator import PsfDataset\n",
    "from models.subpix_rcnn import SubpixRCNN\n",
    "import matplotlib.pyplot as plt\n",
    "import torch.nn as nn\n",
    "from torchvision.ops import MultiScaleRoIAlign\n",
    "from torchvision.ops import misc as misc_nn_ops\n",
    "from torchvision.transforms._presets import ObjectDetection\n",
    "from torchvision.models._api import register_model, Weights, WeightsEnum\n",
    "from torchvision.models._meta import _COCO_CATEGORIES\n",
    "from torchvision.models._utils import _ovewrite_value_param, handle_legacy_interface\n",
    "from torchvision.models.resnet import resnet50, ResNet50_Weights\n",
    "from torchvision.models.detection._utils import overwrite_eps\n",
    "from torchvision.models.detection.backbone_utils import _resnet_fpn_extractor, _validate_trainable_layers\n",
    "from torchvision.models.detection.faster_rcnn import _default_anchorgen, FasterRCNN, FastRCNNConvFCHead, RPNHead\n",
    "from torchvision.models.detection.roi_heads import RoIHeads\n",
    "\n",
    "from torchvision.models.detection.backbone_utils import resnet_fpn_backbone\n",
    "from torchvision.models.detection.generalized_rcnn import GeneralizedRCNN\n",
    "import torch.nn.functional as F\n",
    "import torch.optim as optim\n",
    "import os\n",
    "import datetime\n",
    "\n",
    "from torchvision.models.detection.backbone_utils import resnet_fpn_backbone\n",
    "import torch\n",
    "\n",
    "import sys, os\n",
    "sys.path.append(os.path.abspath('..'))\n",
    "from models.subpix_rcnn import SubpixRCNN\n",
    "from utils import move_data_to_device, move_dict_to_cpu, plot_image_boxes, evaluate_predictions, evaluate_prediction\n",
    "from PsfSimulator import PsfDataset\n",
    "\n",
    "from scripts.plotting import PlotController\n",
    "from scripts.evaluating import test_densities_fixed_snr, test_model_once_plot, evaluate_recall_per_snr, test_perlinnoise_fixed_snr\n",
    "import numpy as np\n",
    "import matplotlib.pyplot as plt\n",
    "import pickle\n",
    "from scipy.ndimage import gaussian_filter, gaussian_laplace, laplace"
   ]
  },
  {
   "cell_type": "code",
   "execution_count": 2,
   "id": "60b84f77",
   "metadata": {},
   "outputs": [],
   "source": [
    "# Density 1 = 40 spots per 64x64 image\n",
    "# Density 0.05 = 2 spots per 64x64 image"
   ]
  },
  {
   "cell_type": "code",
   "execution_count": 2,
   "id": "90e2304a",
   "metadata": {},
   "outputs": [
    {
     "name": "stdout",
     "output_type": "stream",
     "text": [
      "Training dataset size:      2000\n",
      "Validation dataset size:     100\n",
      "dtype: int64\n"
     ]
    }
   ],
   "source": [
    "# Instatiate the dataset\n",
    "seed = None\n",
    "\n",
    "num_spots_min = 2\n",
    "num_spots_max = 80\n",
    "sigma_mean= 1.5\n",
    "sigma_std = 0.1\n",
    "snr_min = 2\n",
    "snr_max = 20\n",
    "snr_std = 0.0\n",
    "base_noise_min = 300\n",
    "base_noise_max = 10000\n",
    "use_gauss_noise = False\n",
    "gauss_noise_std = 0.0\n",
    "use_perlin_noise = True\n",
    "perlin_min_max = None#(0.4, 0.6)\n",
    "img_w = 64\n",
    "img_h = 64\n",
    "\n",
    "train_dataset = PsfDataset(seed, 2000, num_spots_min, num_spots_max, sigma_mean, sigma_std,\n",
    "                      snr_min, snr_max, snr_std, base_noise_min, base_noise_max, use_gauss_noise,\n",
    "                      gauss_noise_std, use_perlin_noise, perlin_min_max, img_w, img_h)\n",
    "\n",
    "\n",
    "valid_dataset = PsfDataset(seed, 100, num_spots_min, num_spots_max, sigma_mean, sigma_std,\n",
    "                      snr_min, snr_max, snr_std, base_noise_min, base_noise_max, use_gauss_noise,\n",
    "                      gauss_noise_std, use_perlin_noise, perlin_min_max, img_w, img_h)\n",
    "\n",
    "\n",
    "# Print the number of samples in the training and validation datasets\n",
    "print(pd.Series({\n",
    "    'Training dataset size:': len(train_dataset),\n",
    "    'Validation dataset size:': len(valid_dataset)}))\n",
    "\n",
    "data_loader_params = {'batch_size':8,    'collate_fn': lambda batch: tuple(zip(*batch)),}\n",
    "\n",
    "training_loader = torch.utils.data.DataLoader(train_dataset, **data_loader_params)\n",
    "validation_loader = torch.utils.data.DataLoader(valid_dataset, **data_loader_params)"
   ]
  },
  {
   "cell_type": "code",
   "execution_count": 3,
   "id": "a0e60b66",
   "metadata": {},
   "outputs": [],
   "source": [
    "def generate_checkpoint_path(model_name, project_name):\n",
    "\n",
    "  # 1. Define the project directory within Colab's content area\n",
    "  folder_path = os.path.join(os.curdir, project_name)\n",
    "\n",
    "  # 2. Create the directory if it doesn't exist\n",
    "  os.makedirs(folder_path, exist_ok=True)\n",
    "\n",
    "  # 3. Generate a timestamped subdirectory\n",
    "  timestamp = datetime.datetime.now().strftime(\"%Y-%m-%d_%H-%M-%S\")\n",
    "  checkpoint_dir = os.path.join(folder_path, timestamp)\n",
    "  os.makedirs(checkpoint_dir, exist_ok=True)\n",
    "\n",
    "  # 4. Construct the checkpoint path\n",
    "  checkpoint_path = os.path.join(checkpoint_dir, f\"{model_name}.pth\")\n",
    "\n",
    "  return checkpoint_path"
   ]
  },
  {
   "cell_type": "code",
   "execution_count": 4,
   "id": "6275c7ca",
   "metadata": {},
   "outputs": [],
   "source": [
    "from torch.utils.tensorboard import SummaryWriter"
   ]
  },
  {
   "cell_type": "code",
   "execution_count": 5,
   "id": "a3044bbc",
   "metadata": {},
   "outputs": [],
   "source": [
    "writer = SummaryWriter('runs/filters_perlin_std')"
   ]
  },
  {
   "cell_type": "code",
   "execution_count": 7,
   "id": "cddcf5b7",
   "metadata": {},
   "outputs": [
    {
     "name": "stdout",
     "output_type": "stream",
     "text": [
      "cuda\n"
     ]
    },
    {
     "name": "stderr",
     "output_type": "stream",
     "text": [
      "c:\\Users\\zeiss\\anaconda3\\envs\\hilger312\\Lib\\site-packages\\torchvision\\models\\_utils.py:135: UserWarning: Using 'backbone_name' as positional parameter(s) is deprecated since 0.13 and may be removed in the future. Please use keyword parameter(s) instead.\n",
      "  warnings.warn(\n"
     ]
    },
    {
     "name": "stdout",
     "output_type": "stream",
     "text": [
      "Custom SubpixRoIHeads successfully initialized!\n"
     ]
    },
    {
     "data": {
      "application/vnd.jupyter.widget-view+json": {
       "model_id": "c6110c7666a34e14959ae5e54d5a8ef6",
       "version_major": 2,
       "version_minor": 0
      },
      "text/plain": [
       "Training Loop:   0%|          | 0/200 [00:00<?, ?it/s]"
      ]
     },
     "metadata": {},
     "output_type": "display_data"
    },
    {
     "data": {
      "application/vnd.jupyter.widget-view+json": {
       "model_id": "aa328afda72b45a59782dbd0a244e7b6",
       "version_major": 2,
       "version_minor": 0
      },
      "text/plain": [
       "Train:   0%|          | 0/250 [00:00<?, ?it/s]"
      ]
     },
     "metadata": {},
     "output_type": "display_data"
    },
    {
     "name": "stderr",
     "output_type": "stream",
     "text": [
      "d:\\zeiss\\Desktop\\coding\\Hilger\\bachelor\\PsfSimulator.py:123: RuntimeWarning: All-NaN slice encountered\n",
      "  signal = np.nanmax(array[y1:y2, x1:x2])\n"
     ]
    },
    {
     "data": {
      "application/vnd.jupyter.widget-view+json": {
       "model_id": "1209a7e924034a89badd42353e2a4026",
       "version_major": 2,
       "version_minor": 0
      },
      "text/plain": [
       "Eval:   0%|          | 0/13 [00:00<?, ?it/s]"
      ]
     },
     "metadata": {},
     "output_type": "display_data"
    },
    {
     "name": "stdout",
     "output_type": "stream",
     "text": [
      "New best loss: 0.326901559646313\n"
     ]
    },
    {
     "data": {
      "application/vnd.jupyter.widget-view+json": {
       "model_id": "332fadf6bc32487bad3f3abe0077db50",
       "version_major": 2,
       "version_minor": 0
      },
      "text/plain": [
       "Train:   0%|          | 0/250 [00:00<?, ?it/s]"
      ]
     },
     "metadata": {},
     "output_type": "display_data"
    },
    {
     "data": {
      "application/vnd.jupyter.widget-view+json": {
       "model_id": "09ae8a9a63994c6d8c3511d2fe1d80a9",
       "version_major": 2,
       "version_minor": 0
      },
      "text/plain": [
       "Eval:   0%|          | 0/13 [00:00<?, ?it/s]"
      ]
     },
     "metadata": {},
     "output_type": "display_data"
    },
    {
     "data": {
      "application/vnd.jupyter.widget-view+json": {
       "model_id": "fcb437069fb5439bbcb28911133b3877",
       "version_major": 2,
       "version_minor": 0
      },
      "text/plain": [
       "Train:   0%|          | 0/250 [00:00<?, ?it/s]"
      ]
     },
     "metadata": {},
     "output_type": "display_data"
    },
    {
     "data": {
      "application/vnd.jupyter.widget-view+json": {
       "model_id": "3ddff9d929944d2e800a1cdabcce2b1e",
       "version_major": 2,
       "version_minor": 0
      },
      "text/plain": [
       "Eval:   0%|          | 0/13 [00:00<?, ?it/s]"
      ]
     },
     "metadata": {},
     "output_type": "display_data"
    },
    {
     "data": {
      "application/vnd.jupyter.widget-view+json": {
       "model_id": "f026a37ae6bb477c9f5668addd26132e",
       "version_major": 2,
       "version_minor": 0
      },
      "text/plain": [
       "Train:   0%|          | 0/250 [00:00<?, ?it/s]"
      ]
     },
     "metadata": {},
     "output_type": "display_data"
    },
    {
     "data": {
      "application/vnd.jupyter.widget-view+json": {
       "model_id": "11b33cdf957e4af097cb1091c6a65340",
       "version_major": 2,
       "version_minor": 0
      },
      "text/plain": [
       "Eval:   0%|          | 0/13 [00:00<?, ?it/s]"
      ]
     },
     "metadata": {},
     "output_type": "display_data"
    },
    {
     "data": {
      "application/vnd.jupyter.widget-view+json": {
       "model_id": "d70849a1fdec4837863ca70ed706bb7a",
       "version_major": 2,
       "version_minor": 0
      },
      "text/plain": [
       "Train:   0%|          | 0/250 [00:00<?, ?it/s]"
      ]
     },
     "metadata": {},
     "output_type": "display_data"
    },
    {
     "data": {
      "application/vnd.jupyter.widget-view+json": {
       "model_id": "c5b38cb1d1674678896535b9d1013127",
       "version_major": 2,
       "version_minor": 0
      },
      "text/plain": [
       "Eval:   0%|          | 0/13 [00:00<?, ?it/s]"
      ]
     },
     "metadata": {},
     "output_type": "display_data"
    },
    {
     "data": {
      "application/vnd.jupyter.widget-view+json": {
       "model_id": "e3ce26fcac6d4cd88489146e968472fd",
       "version_major": 2,
       "version_minor": 0
      },
      "text/plain": [
       "Train:   0%|          | 0/250 [00:00<?, ?it/s]"
      ]
     },
     "metadata": {},
     "output_type": "display_data"
    },
    {
     "data": {
      "application/vnd.jupyter.widget-view+json": {
       "model_id": "b246f515872a4faba5f8d733d753e39a",
       "version_major": 2,
       "version_minor": 0
      },
      "text/plain": [
       "Eval:   0%|          | 0/13 [00:00<?, ?it/s]"
      ]
     },
     "metadata": {},
     "output_type": "display_data"
    },
    {
     "data": {
      "application/vnd.jupyter.widget-view+json": {
       "model_id": "a5c4efed24da4549adef711558069001",
       "version_major": 2,
       "version_minor": 0
      },
      "text/plain": [
       "Train:   0%|          | 0/250 [00:00<?, ?it/s]"
      ]
     },
     "metadata": {},
     "output_type": "display_data"
    },
    {
     "data": {
      "application/vnd.jupyter.widget-view+json": {
       "model_id": "c22c1f2dae40410d8a36cf23724daa6b",
       "version_major": 2,
       "version_minor": 0
      },
      "text/plain": [
       "Eval:   0%|          | 0/13 [00:00<?, ?it/s]"
      ]
     },
     "metadata": {},
     "output_type": "display_data"
    },
    {
     "data": {
      "application/vnd.jupyter.widget-view+json": {
       "model_id": "31418231ceb24d7fab2831f931d93739",
       "version_major": 2,
       "version_minor": 0
      },
      "text/plain": [
       "Train:   0%|          | 0/250 [00:00<?, ?it/s]"
      ]
     },
     "metadata": {},
     "output_type": "display_data"
    },
    {
     "data": {
      "application/vnd.jupyter.widget-view+json": {
       "model_id": "cee6bc969b2f44baae43304b0aaff082",
       "version_major": 2,
       "version_minor": 0
      },
      "text/plain": [
       "Eval:   0%|          | 0/13 [00:00<?, ?it/s]"
      ]
     },
     "metadata": {},
     "output_type": "display_data"
    },
    {
     "data": {
      "application/vnd.jupyter.widget-view+json": {
       "model_id": "31e1ec4a89e0429199b8cdb5b34daba9",
       "version_major": 2,
       "version_minor": 0
      },
      "text/plain": [
       "Train:   0%|          | 0/250 [00:00<?, ?it/s]"
      ]
     },
     "metadata": {},
     "output_type": "display_data"
    },
    {
     "data": {
      "application/vnd.jupyter.widget-view+json": {
       "model_id": "0aff4d29bdbb4ebaad74614a781f611f",
       "version_major": 2,
       "version_minor": 0
      },
      "text/plain": [
       "Eval:   0%|          | 0/13 [00:00<?, ?it/s]"
      ]
     },
     "metadata": {},
     "output_type": "display_data"
    },
    {
     "data": {
      "application/vnd.jupyter.widget-view+json": {
       "model_id": "a2f4d15c05374f17ade19449c6879a3e",
       "version_major": 2,
       "version_minor": 0
      },
      "text/plain": [
       "Train:   0%|          | 0/250 [00:00<?, ?it/s]"
      ]
     },
     "metadata": {},
     "output_type": "display_data"
    },
    {
     "data": {
      "application/vnd.jupyter.widget-view+json": {
       "model_id": "2915aca2bb7e441f9a3863e327e66dcc",
       "version_major": 2,
       "version_minor": 0
      },
      "text/plain": [
       "Eval:   0%|          | 0/13 [00:00<?, ?it/s]"
      ]
     },
     "metadata": {},
     "output_type": "display_data"
    },
    {
     "data": {
      "application/vnd.jupyter.widget-view+json": {
       "model_id": "12d6a9d8f4e34ae2b5ca5094590a1a3d",
       "version_major": 2,
       "version_minor": 0
      },
      "text/plain": [
       "Train:   0%|          | 0/250 [00:00<?, ?it/s]"
      ]
     },
     "metadata": {},
     "output_type": "display_data"
    },
    {
     "data": {
      "application/vnd.jupyter.widget-view+json": {
       "model_id": "92ef3d5520a14c9a9445d8131712207c",
       "version_major": 2,
       "version_minor": 0
      },
      "text/plain": [
       "Eval:   0%|          | 0/13 [00:00<?, ?it/s]"
      ]
     },
     "metadata": {},
     "output_type": "display_data"
    },
    {
     "data": {
      "application/vnd.jupyter.widget-view+json": {
       "model_id": "769ad274a3b04898ba8f2cdc292c3899",
       "version_major": 2,
       "version_minor": 0
      },
      "text/plain": [
       "Train:   0%|          | 0/250 [00:00<?, ?it/s]"
      ]
     },
     "metadata": {},
     "output_type": "display_data"
    },
    {
     "data": {
      "application/vnd.jupyter.widget-view+json": {
       "model_id": "500806f6d54c4b8c99b9227407f3b4e4",
       "version_major": 2,
       "version_minor": 0
      },
      "text/plain": [
       "Eval:   0%|          | 0/13 [00:00<?, ?it/s]"
      ]
     },
     "metadata": {},
     "output_type": "display_data"
    },
    {
     "data": {
      "application/vnd.jupyter.widget-view+json": {
       "model_id": "0a6a3aaccfcd43c8b6eda35031137d94",
       "version_major": 2,
       "version_minor": 0
      },
      "text/plain": [
       "Train:   0%|          | 0/250 [00:00<?, ?it/s]"
      ]
     },
     "metadata": {},
     "output_type": "display_data"
    },
    {
     "data": {
      "application/vnd.jupyter.widget-view+json": {
       "model_id": "59589e6f3931453e960ce488ba7f7c56",
       "version_major": 2,
       "version_minor": 0
      },
      "text/plain": [
       "Eval:   0%|          | 0/13 [00:00<?, ?it/s]"
      ]
     },
     "metadata": {},
     "output_type": "display_data"
    },
    {
     "name": "stdout",
     "output_type": "stream",
     "text": [
      "New best loss: 0.3254171839127174\n"
     ]
    },
    {
     "data": {
      "application/vnd.jupyter.widget-view+json": {
       "model_id": "2028578e44ad4ae78372ff05b6cf0c5f",
       "version_major": 2,
       "version_minor": 0
      },
      "text/plain": [
       "Train:   0%|          | 0/250 [00:00<?, ?it/s]"
      ]
     },
     "metadata": {},
     "output_type": "display_data"
    },
    {
     "data": {
      "application/vnd.jupyter.widget-view+json": {
       "model_id": "24b1f0821de84dd3abdb556fcd34ba03",
       "version_major": 2,
       "version_minor": 0
      },
      "text/plain": [
       "Eval:   0%|          | 0/13 [00:00<?, ?it/s]"
      ]
     },
     "metadata": {},
     "output_type": "display_data"
    },
    {
     "data": {
      "application/vnd.jupyter.widget-view+json": {
       "model_id": "92715acb55ed4a5cb87c42d49989883c",
       "version_major": 2,
       "version_minor": 0
      },
      "text/plain": [
       "Train:   0%|          | 0/250 [00:00<?, ?it/s]"
      ]
     },
     "metadata": {},
     "output_type": "display_data"
    },
    {
     "data": {
      "application/vnd.jupyter.widget-view+json": {
       "model_id": "503c62089c444cd282532477afa82a2b",
       "version_major": 2,
       "version_minor": 0
      },
      "text/plain": [
       "Eval:   0%|          | 0/13 [00:00<?, ?it/s]"
      ]
     },
     "metadata": {},
     "output_type": "display_data"
    },
    {
     "name": "stdout",
     "output_type": "stream",
     "text": [
      "New best loss: 0.3055766201936282\n"
     ]
    },
    {
     "data": {
      "application/vnd.jupyter.widget-view+json": {
       "model_id": "a8e57a8a291e4881bed625518dd155ba",
       "version_major": 2,
       "version_minor": 0
      },
      "text/plain": [
       "Train:   0%|          | 0/250 [00:00<?, ?it/s]"
      ]
     },
     "metadata": {},
     "output_type": "display_data"
    },
    {
     "data": {
      "application/vnd.jupyter.widget-view+json": {
       "model_id": "3e7fd3459e254e7ebe96322c9411bc0e",
       "version_major": 2,
       "version_minor": 0
      },
      "text/plain": [
       "Eval:   0%|          | 0/13 [00:00<?, ?it/s]"
      ]
     },
     "metadata": {},
     "output_type": "display_data"
    },
    {
     "data": {
      "application/vnd.jupyter.widget-view+json": {
       "model_id": "ad10cf153d7c417085bcc2d38ce10bf3",
       "version_major": 2,
       "version_minor": 0
      },
      "text/plain": [
       "Train:   0%|          | 0/250 [00:00<?, ?it/s]"
      ]
     },
     "metadata": {},
     "output_type": "display_data"
    },
    {
     "data": {
      "application/vnd.jupyter.widget-view+json": {
       "model_id": "39da8a97b5e741fb9bb86e6cba2f9d6a",
       "version_major": 2,
       "version_minor": 0
      },
      "text/plain": [
       "Eval:   0%|          | 0/13 [00:00<?, ?it/s]"
      ]
     },
     "metadata": {},
     "output_type": "display_data"
    },
    {
     "data": {
      "application/vnd.jupyter.widget-view+json": {
       "model_id": "85dc6eb9347e45299b7717f6dbbe44ac",
       "version_major": 2,
       "version_minor": 0
      },
      "text/plain": [
       "Train:   0%|          | 0/250 [00:00<?, ?it/s]"
      ]
     },
     "metadata": {},
     "output_type": "display_data"
    },
    {
     "data": {
      "application/vnd.jupyter.widget-view+json": {
       "model_id": "02caa45f442441f18dadaba0f49ddc4d",
       "version_major": 2,
       "version_minor": 0
      },
      "text/plain": [
       "Eval:   0%|          | 0/13 [00:00<?, ?it/s]"
      ]
     },
     "metadata": {},
     "output_type": "display_data"
    },
    {
     "data": {
      "application/vnd.jupyter.widget-view+json": {
       "model_id": "3f398e9e14bd406bbd6763b8a6106b40",
       "version_major": 2,
       "version_minor": 0
      },
      "text/plain": [
       "Train:   0%|          | 0/250 [00:00<?, ?it/s]"
      ]
     },
     "metadata": {},
     "output_type": "display_data"
    },
    {
     "data": {
      "application/vnd.jupyter.widget-view+json": {
       "model_id": "e2eddb2a93024047865992658a8760c3",
       "version_major": 2,
       "version_minor": 0
      },
      "text/plain": [
       "Eval:   0%|          | 0/13 [00:00<?, ?it/s]"
      ]
     },
     "metadata": {},
     "output_type": "display_data"
    },
    {
     "name": "stdout",
     "output_type": "stream",
     "text": [
      "New best loss: 0.2980021364413775\n"
     ]
    },
    {
     "data": {
      "application/vnd.jupyter.widget-view+json": {
       "model_id": "0dc69914dda8435ca3a27f28c60ea476",
       "version_major": 2,
       "version_minor": 0
      },
      "text/plain": [
       "Train:   0%|          | 0/250 [00:00<?, ?it/s]"
      ]
     },
     "metadata": {},
     "output_type": "display_data"
    },
    {
     "data": {
      "application/vnd.jupyter.widget-view+json": {
       "model_id": "475947895dd74ef1857d5441a9dc7fec",
       "version_major": 2,
       "version_minor": 0
      },
      "text/plain": [
       "Eval:   0%|          | 0/13 [00:00<?, ?it/s]"
      ]
     },
     "metadata": {},
     "output_type": "display_data"
    },
    {
     "data": {
      "application/vnd.jupyter.widget-view+json": {
       "model_id": "2e875bad125343f38996d6353b1c9a85",
       "version_major": 2,
       "version_minor": 0
      },
      "text/plain": [
       "Train:   0%|          | 0/250 [00:00<?, ?it/s]"
      ]
     },
     "metadata": {},
     "output_type": "display_data"
    },
    {
     "data": {
      "application/vnd.jupyter.widget-view+json": {
       "model_id": "ba83933edd9d40448fcc3de81b23871b",
       "version_major": 2,
       "version_minor": 0
      },
      "text/plain": [
       "Eval:   0%|          | 0/13 [00:00<?, ?it/s]"
      ]
     },
     "metadata": {},
     "output_type": "display_data"
    },
    {
     "name": "stdout",
     "output_type": "stream",
     "text": [
      "New best loss: 0.29655981636964357\n"
     ]
    },
    {
     "data": {
      "application/vnd.jupyter.widget-view+json": {
       "model_id": "f2c90e1bad7341219de256e98bc7caac",
       "version_major": 2,
       "version_minor": 0
      },
      "text/plain": [
       "Train:   0%|          | 0/250 [00:00<?, ?it/s]"
      ]
     },
     "metadata": {},
     "output_type": "display_data"
    },
    {
     "data": {
      "application/vnd.jupyter.widget-view+json": {
       "model_id": "fc2492a27b4941509b0bf689bd6ee3bd",
       "version_major": 2,
       "version_minor": 0
      },
      "text/plain": [
       "Eval:   0%|          | 0/13 [00:00<?, ?it/s]"
      ]
     },
     "metadata": {},
     "output_type": "display_data"
    },
    {
     "data": {
      "application/vnd.jupyter.widget-view+json": {
       "model_id": "6e0e693be1ce444c8ee02dd185e3c230",
       "version_major": 2,
       "version_minor": 0
      },
      "text/plain": [
       "Train:   0%|          | 0/250 [00:00<?, ?it/s]"
      ]
     },
     "metadata": {},
     "output_type": "display_data"
    },
    {
     "data": {
      "application/vnd.jupyter.widget-view+json": {
       "model_id": "cefcf06204a046e0a382b5d49391536a",
       "version_major": 2,
       "version_minor": 0
      },
      "text/plain": [
       "Eval:   0%|          | 0/13 [00:00<?, ?it/s]"
      ]
     },
     "metadata": {},
     "output_type": "display_data"
    },
    {
     "data": {
      "application/vnd.jupyter.widget-view+json": {
       "model_id": "120a0ae8b2a74b86acca8142135e906a",
       "version_major": 2,
       "version_minor": 0
      },
      "text/plain": [
       "Train:   0%|          | 0/250 [00:00<?, ?it/s]"
      ]
     },
     "metadata": {},
     "output_type": "display_data"
    },
    {
     "data": {
      "application/vnd.jupyter.widget-view+json": {
       "model_id": "732b60de7f014ca9898aa2f5c88bc3c0",
       "version_major": 2,
       "version_minor": 0
      },
      "text/plain": [
       "Eval:   0%|          | 0/13 [00:00<?, ?it/s]"
      ]
     },
     "metadata": {},
     "output_type": "display_data"
    },
    {
     "data": {
      "application/vnd.jupyter.widget-view+json": {
       "model_id": "60c65afa91684a188dd76930f2a98884",
       "version_major": 2,
       "version_minor": 0
      },
      "text/plain": [
       "Train:   0%|          | 0/250 [00:00<?, ?it/s]"
      ]
     },
     "metadata": {},
     "output_type": "display_data"
    },
    {
     "data": {
      "application/vnd.jupyter.widget-view+json": {
       "model_id": "3629488a78724ec1b47e07002465713b",
       "version_major": 2,
       "version_minor": 0
      },
      "text/plain": [
       "Eval:   0%|          | 0/13 [00:00<?, ?it/s]"
      ]
     },
     "metadata": {},
     "output_type": "display_data"
    },
    {
     "data": {
      "application/vnd.jupyter.widget-view+json": {
       "model_id": "36cb560e52cf44ecbf3617a7c30f20b6",
       "version_major": 2,
       "version_minor": 0
      },
      "text/plain": [
       "Train:   0%|          | 0/250 [00:00<?, ?it/s]"
      ]
     },
     "metadata": {},
     "output_type": "display_data"
    },
    {
     "data": {
      "application/vnd.jupyter.widget-view+json": {
       "model_id": "3666f39a3a5f49cc884ee2146c094899",
       "version_major": 2,
       "version_minor": 0
      },
      "text/plain": [
       "Eval:   0%|          | 0/13 [00:00<?, ?it/s]"
      ]
     },
     "metadata": {},
     "output_type": "display_data"
    },
    {
     "data": {
      "application/vnd.jupyter.widget-view+json": {
       "model_id": "d96d9a8cc2d14437b2ac16b0a5bed300",
       "version_major": 2,
       "version_minor": 0
      },
      "text/plain": [
       "Train:   0%|          | 0/250 [00:00<?, ?it/s]"
      ]
     },
     "metadata": {},
     "output_type": "display_data"
    },
    {
     "data": {
      "application/vnd.jupyter.widget-view+json": {
       "model_id": "ebfd166315aa4ff7a027454aa616be2d",
       "version_major": 2,
       "version_minor": 0
      },
      "text/plain": [
       "Eval:   0%|          | 0/13 [00:00<?, ?it/s]"
      ]
     },
     "metadata": {},
     "output_type": "display_data"
    },
    {
     "data": {
      "application/vnd.jupyter.widget-view+json": {
       "model_id": "970fbc4916e14c6ba0f054d950e9af64",
       "version_major": 2,
       "version_minor": 0
      },
      "text/plain": [
       "Train:   0%|          | 0/250 [00:00<?, ?it/s]"
      ]
     },
     "metadata": {},
     "output_type": "display_data"
    },
    {
     "data": {
      "application/vnd.jupyter.widget-view+json": {
       "model_id": "35c5661aff2a4bf3984a7a52bc8a0f25",
       "version_major": 2,
       "version_minor": 0
      },
      "text/plain": [
       "Eval:   0%|          | 0/13 [00:00<?, ?it/s]"
      ]
     },
     "metadata": {},
     "output_type": "display_data"
    },
    {
     "data": {
      "application/vnd.jupyter.widget-view+json": {
       "model_id": "c77c7d3e283f4a1bbdc03e4c719b7500",
       "version_major": 2,
       "version_minor": 0
      },
      "text/plain": [
       "Train:   0%|          | 0/250 [00:00<?, ?it/s]"
      ]
     },
     "metadata": {},
     "output_type": "display_data"
    },
    {
     "data": {
      "application/vnd.jupyter.widget-view+json": {
       "model_id": "09b3a94315eb4ad1bf27dd41049fc1c1",
       "version_major": 2,
       "version_minor": 0
      },
      "text/plain": [
       "Eval:   0%|          | 0/13 [00:00<?, ?it/s]"
      ]
     },
     "metadata": {},
     "output_type": "display_data"
    },
    {
     "data": {
      "application/vnd.jupyter.widget-view+json": {
       "model_id": "802efc693ae24cc0a0c8a06d10c93baf",
       "version_major": 2,
       "version_minor": 0
      },
      "text/plain": [
       "Train:   0%|          | 0/250 [00:00<?, ?it/s]"
      ]
     },
     "metadata": {},
     "output_type": "display_data"
    },
    {
     "data": {
      "application/vnd.jupyter.widget-view+json": {
       "model_id": "9c13b07fc4384dabba3532b63b1fe531",
       "version_major": 2,
       "version_minor": 0
      },
      "text/plain": [
       "Eval:   0%|          | 0/13 [00:00<?, ?it/s]"
      ]
     },
     "metadata": {},
     "output_type": "display_data"
    },
    {
     "data": {
      "application/vnd.jupyter.widget-view+json": {
       "model_id": "f4816c1b12d74edeba3973c6866a5add",
       "version_major": 2,
       "version_minor": 0
      },
      "text/plain": [
       "Train:   0%|          | 0/250 [00:00<?, ?it/s]"
      ]
     },
     "metadata": {},
     "output_type": "display_data"
    },
    {
     "data": {
      "application/vnd.jupyter.widget-view+json": {
       "model_id": "e14f01d7138648ddaa68fea91638f860",
       "version_major": 2,
       "version_minor": 0
      },
      "text/plain": [
       "Eval:   0%|          | 0/13 [00:00<?, ?it/s]"
      ]
     },
     "metadata": {},
     "output_type": "display_data"
    },
    {
     "data": {
      "application/vnd.jupyter.widget-view+json": {
       "model_id": "4fa33aa17ff24147843315148d876c70",
       "version_major": 2,
       "version_minor": 0
      },
      "text/plain": [
       "Train:   0%|          | 0/250 [00:00<?, ?it/s]"
      ]
     },
     "metadata": {},
     "output_type": "display_data"
    },
    {
     "data": {
      "application/vnd.jupyter.widget-view+json": {
       "model_id": "b797483ae49442e0bc0c8dc75c0ac9d2",
       "version_major": 2,
       "version_minor": 0
      },
      "text/plain": [
       "Eval:   0%|          | 0/13 [00:00<?, ?it/s]"
      ]
     },
     "metadata": {},
     "output_type": "display_data"
    },
    {
     "data": {
      "application/vnd.jupyter.widget-view+json": {
       "model_id": "50504daa5dd74c799f34431aaf0d5e55",
       "version_major": 2,
       "version_minor": 0
      },
      "text/plain": [
       "Train:   0%|          | 0/250 [00:00<?, ?it/s]"
      ]
     },
     "metadata": {},
     "output_type": "display_data"
    },
    {
     "data": {
      "application/vnd.jupyter.widget-view+json": {
       "model_id": "41751469d6ec429a965b136b33298796",
       "version_major": 2,
       "version_minor": 0
      },
      "text/plain": [
       "Eval:   0%|          | 0/13 [00:00<?, ?it/s]"
      ]
     },
     "metadata": {},
     "output_type": "display_data"
    },
    {
     "data": {
      "application/vnd.jupyter.widget-view+json": {
       "model_id": "a6076f9ada1046a685b704bd8bd15b43",
       "version_major": 2,
       "version_minor": 0
      },
      "text/plain": [
       "Train:   0%|          | 0/250 [00:00<?, ?it/s]"
      ]
     },
     "metadata": {},
     "output_type": "display_data"
    },
    {
     "data": {
      "application/vnd.jupyter.widget-view+json": {
       "model_id": "133911057be6431d866bff7452501ccf",
       "version_major": 2,
       "version_minor": 0
      },
      "text/plain": [
       "Eval:   0%|          | 0/13 [00:00<?, ?it/s]"
      ]
     },
     "metadata": {},
     "output_type": "display_data"
    },
    {
     "data": {
      "application/vnd.jupyter.widget-view+json": {
       "model_id": "bd0b860c0fd04fd7b260f76d364d60bc",
       "version_major": 2,
       "version_minor": 0
      },
      "text/plain": [
       "Train:   0%|          | 0/250 [00:00<?, ?it/s]"
      ]
     },
     "metadata": {},
     "output_type": "display_data"
    },
    {
     "data": {
      "application/vnd.jupyter.widget-view+json": {
       "model_id": "99a58f5dc07347689b1da4e542fc58fe",
       "version_major": 2,
       "version_minor": 0
      },
      "text/plain": [
       "Eval:   0%|          | 0/13 [00:00<?, ?it/s]"
      ]
     },
     "metadata": {},
     "output_type": "display_data"
    },
    {
     "data": {
      "application/vnd.jupyter.widget-view+json": {
       "model_id": "310a8ddca6dc4458849df14eeb215222",
       "version_major": 2,
       "version_minor": 0
      },
      "text/plain": [
       "Train:   0%|          | 0/250 [00:00<?, ?it/s]"
      ]
     },
     "metadata": {},
     "output_type": "display_data"
    },
    {
     "data": {
      "application/vnd.jupyter.widget-view+json": {
       "model_id": "0d1b47d989a14d1b9d07006b19ce18c5",
       "version_major": 2,
       "version_minor": 0
      },
      "text/plain": [
       "Eval:   0%|          | 0/13 [00:00<?, ?it/s]"
      ]
     },
     "metadata": {},
     "output_type": "display_data"
    },
    {
     "data": {
      "application/vnd.jupyter.widget-view+json": {
       "model_id": "1483298131e54141b9a3df03a050ade5",
       "version_major": 2,
       "version_minor": 0
      },
      "text/plain": [
       "Train:   0%|          | 0/250 [00:00<?, ?it/s]"
      ]
     },
     "metadata": {},
     "output_type": "display_data"
    },
    {
     "data": {
      "application/vnd.jupyter.widget-view+json": {
       "model_id": "e53d9843a25e4035bac71caf6cb711bf",
       "version_major": 2,
       "version_minor": 0
      },
      "text/plain": [
       "Eval:   0%|          | 0/13 [00:00<?, ?it/s]"
      ]
     },
     "metadata": {},
     "output_type": "display_data"
    },
    {
     "name": "stdout",
     "output_type": "stream",
     "text": [
      "New best loss: 0.28548984688061935\n"
     ]
    },
    {
     "data": {
      "application/vnd.jupyter.widget-view+json": {
       "model_id": "3f10c6ea90a64d8aad0f403a0baec62e",
       "version_major": 2,
       "version_minor": 0
      },
      "text/plain": [
       "Train:   0%|          | 0/250 [00:00<?, ?it/s]"
      ]
     },
     "metadata": {},
     "output_type": "display_data"
    },
    {
     "data": {
      "application/vnd.jupyter.widget-view+json": {
       "model_id": "c9fa6a1d3f0543bc99408cbd1829539f",
       "version_major": 2,
       "version_minor": 0
      },
      "text/plain": [
       "Eval:   0%|          | 0/13 [00:00<?, ?it/s]"
      ]
     },
     "metadata": {},
     "output_type": "display_data"
    },
    {
     "data": {
      "application/vnd.jupyter.widget-view+json": {
       "model_id": "d6cf2413bb7f4f2f8720b1a39ae2e8c8",
       "version_major": 2,
       "version_minor": 0
      },
      "text/plain": [
       "Train:   0%|          | 0/250 [00:00<?, ?it/s]"
      ]
     },
     "metadata": {},
     "output_type": "display_data"
    },
    {
     "data": {
      "application/vnd.jupyter.widget-view+json": {
       "model_id": "40e5d7540c614702b413699fddbfe45c",
       "version_major": 2,
       "version_minor": 0
      },
      "text/plain": [
       "Eval:   0%|          | 0/13 [00:00<?, ?it/s]"
      ]
     },
     "metadata": {},
     "output_type": "display_data"
    },
    {
     "data": {
      "application/vnd.jupyter.widget-view+json": {
       "model_id": "d028d5c0f25a497c86c718e6d24798bc",
       "version_major": 2,
       "version_minor": 0
      },
      "text/plain": [
       "Train:   0%|          | 0/250 [00:00<?, ?it/s]"
      ]
     },
     "metadata": {},
     "output_type": "display_data"
    },
    {
     "data": {
      "application/vnd.jupyter.widget-view+json": {
       "model_id": "3db01e1ee9a2460aaf3b869188fcfccf",
       "version_major": 2,
       "version_minor": 0
      },
      "text/plain": [
       "Eval:   0%|          | 0/13 [00:00<?, ?it/s]"
      ]
     },
     "metadata": {},
     "output_type": "display_data"
    },
    {
     "data": {
      "application/vnd.jupyter.widget-view+json": {
       "model_id": "4bafca2b62e04f23a7b6f19235eff3a9",
       "version_major": 2,
       "version_minor": 0
      },
      "text/plain": [
       "Train:   0%|          | 0/250 [00:00<?, ?it/s]"
      ]
     },
     "metadata": {},
     "output_type": "display_data"
    },
    {
     "data": {
      "application/vnd.jupyter.widget-view+json": {
       "model_id": "5c621da7241e4786a20ff4e3b30b2f07",
       "version_major": 2,
       "version_minor": 0
      },
      "text/plain": [
       "Eval:   0%|          | 0/13 [00:00<?, ?it/s]"
      ]
     },
     "metadata": {},
     "output_type": "display_data"
    },
    {
     "data": {
      "application/vnd.jupyter.widget-view+json": {
       "model_id": "d2b0ada165c548c2acc0952f968fe662",
       "version_major": 2,
       "version_minor": 0
      },
      "text/plain": [
       "Train:   0%|          | 0/250 [00:00<?, ?it/s]"
      ]
     },
     "metadata": {},
     "output_type": "display_data"
    },
    {
     "data": {
      "application/vnd.jupyter.widget-view+json": {
       "model_id": "ad64a3069c1545cc801df2dbb352e1cf",
       "version_major": 2,
       "version_minor": 0
      },
      "text/plain": [
       "Eval:   0%|          | 0/13 [00:00<?, ?it/s]"
      ]
     },
     "metadata": {},
     "output_type": "display_data"
    },
    {
     "data": {
      "application/vnd.jupyter.widget-view+json": {
       "model_id": "7a927be2f4eb4e1bb4729ce2b5c4444a",
       "version_major": 2,
       "version_minor": 0
      },
      "text/plain": [
       "Train:   0%|          | 0/250 [00:00<?, ?it/s]"
      ]
     },
     "metadata": {},
     "output_type": "display_data"
    },
    {
     "data": {
      "application/vnd.jupyter.widget-view+json": {
       "model_id": "073fefa81c744f93a782ac942e74a8d0",
       "version_major": 2,
       "version_minor": 0
      },
      "text/plain": [
       "Eval:   0%|          | 0/13 [00:00<?, ?it/s]"
      ]
     },
     "metadata": {},
     "output_type": "display_data"
    },
    {
     "data": {
      "application/vnd.jupyter.widget-view+json": {
       "model_id": "25caf0f2b5d34a8aa7d447709bd7a526",
       "version_major": 2,
       "version_minor": 0
      },
      "text/plain": [
       "Train:   0%|          | 0/250 [00:00<?, ?it/s]"
      ]
     },
     "metadata": {},
     "output_type": "display_data"
    },
    {
     "data": {
      "application/vnd.jupyter.widget-view+json": {
       "model_id": "230875486eab4ffca6f522fa8d27c026",
       "version_major": 2,
       "version_minor": 0
      },
      "text/plain": [
       "Eval:   0%|          | 0/13 [00:00<?, ?it/s]"
      ]
     },
     "metadata": {},
     "output_type": "display_data"
    },
    {
     "data": {
      "application/vnd.jupyter.widget-view+json": {
       "model_id": "6ce0ca0b97a24a609133454e8e35e343",
       "version_major": 2,
       "version_minor": 0
      },
      "text/plain": [
       "Train:   0%|          | 0/250 [00:00<?, ?it/s]"
      ]
     },
     "metadata": {},
     "output_type": "display_data"
    },
    {
     "data": {
      "application/vnd.jupyter.widget-view+json": {
       "model_id": "dc23979ab16444bbaa5d363d7c9c9460",
       "version_major": 2,
       "version_minor": 0
      },
      "text/plain": [
       "Eval:   0%|          | 0/13 [00:00<?, ?it/s]"
      ]
     },
     "metadata": {},
     "output_type": "display_data"
    },
    {
     "data": {
      "application/vnd.jupyter.widget-view+json": {
       "model_id": "0c9707c4010b426891ab95cbaf887ae1",
       "version_major": 2,
       "version_minor": 0
      },
      "text/plain": [
       "Train:   0%|          | 0/250 [00:00<?, ?it/s]"
      ]
     },
     "metadata": {},
     "output_type": "display_data"
    },
    {
     "data": {
      "application/vnd.jupyter.widget-view+json": {
       "model_id": "6b370b3535c14a96aa7569bcb406ae22",
       "version_major": 2,
       "version_minor": 0
      },
      "text/plain": [
       "Eval:   0%|          | 0/13 [00:00<?, ?it/s]"
      ]
     },
     "metadata": {},
     "output_type": "display_data"
    },
    {
     "data": {
      "application/vnd.jupyter.widget-view+json": {
       "model_id": "a5bc0c6440784f2f9bf1bb9bc97ac7d4",
       "version_major": 2,
       "version_minor": 0
      },
      "text/plain": [
       "Train:   0%|          | 0/250 [00:00<?, ?it/s]"
      ]
     },
     "metadata": {},
     "output_type": "display_data"
    },
    {
     "data": {
      "application/vnd.jupyter.widget-view+json": {
       "model_id": "a8c647e381504241a1216dec7045b90f",
       "version_major": 2,
       "version_minor": 0
      },
      "text/plain": [
       "Eval:   0%|          | 0/13 [00:00<?, ?it/s]"
      ]
     },
     "metadata": {},
     "output_type": "display_data"
    },
    {
     "data": {
      "application/vnd.jupyter.widget-view+json": {
       "model_id": "cedf6dc35cfd4caf8a45d6e281d4bad9",
       "version_major": 2,
       "version_minor": 0
      },
      "text/plain": [
       "Train:   0%|          | 0/250 [00:00<?, ?it/s]"
      ]
     },
     "metadata": {},
     "output_type": "display_data"
    },
    {
     "data": {
      "application/vnd.jupyter.widget-view+json": {
       "model_id": "a8593fcca31c473ba0e82219b5d25035",
       "version_major": 2,
       "version_minor": 0
      },
      "text/plain": [
       "Eval:   0%|          | 0/13 [00:00<?, ?it/s]"
      ]
     },
     "metadata": {},
     "output_type": "display_data"
    },
    {
     "data": {
      "application/vnd.jupyter.widget-view+json": {
       "model_id": "97e28c05c92f46dd9cf7c36b1a3c88e6",
       "version_major": 2,
       "version_minor": 0
      },
      "text/plain": [
       "Train:   0%|          | 0/250 [00:00<?, ?it/s]"
      ]
     },
     "metadata": {},
     "output_type": "display_data"
    },
    {
     "data": {
      "application/vnd.jupyter.widget-view+json": {
       "model_id": "56904c1a7952429d8f189e865a136524",
       "version_major": 2,
       "version_minor": 0
      },
      "text/plain": [
       "Eval:   0%|          | 0/13 [00:00<?, ?it/s]"
      ]
     },
     "metadata": {},
     "output_type": "display_data"
    },
    {
     "data": {
      "application/vnd.jupyter.widget-view+json": {
       "model_id": "c6e7d8ce7f7544439285e1a5845fc21e",
       "version_major": 2,
       "version_minor": 0
      },
      "text/plain": [
       "Train:   0%|          | 0/250 [00:00<?, ?it/s]"
      ]
     },
     "metadata": {},
     "output_type": "display_data"
    },
    {
     "data": {
      "application/vnd.jupyter.widget-view+json": {
       "model_id": "5dabd5f5cb1c4107bde5f4cccaa438b1",
       "version_major": 2,
       "version_minor": 0
      },
      "text/plain": [
       "Eval:   0%|          | 0/13 [00:00<?, ?it/s]"
      ]
     },
     "metadata": {},
     "output_type": "display_data"
    },
    {
     "data": {
      "application/vnd.jupyter.widget-view+json": {
       "model_id": "a862b93a91cf408db3f3739d187172b4",
       "version_major": 2,
       "version_minor": 0
      },
      "text/plain": [
       "Train:   0%|          | 0/250 [00:00<?, ?it/s]"
      ]
     },
     "metadata": {},
     "output_type": "display_data"
    },
    {
     "data": {
      "application/vnd.jupyter.widget-view+json": {
       "model_id": "acd1fce274be490ebadfc5836d1f61ec",
       "version_major": 2,
       "version_minor": 0
      },
      "text/plain": [
       "Eval:   0%|          | 0/13 [00:00<?, ?it/s]"
      ]
     },
     "metadata": {},
     "output_type": "display_data"
    },
    {
     "data": {
      "application/vnd.jupyter.widget-view+json": {
       "model_id": "3c6c66d65abe4e59b1431768a60d12c5",
       "version_major": 2,
       "version_minor": 0
      },
      "text/plain": [
       "Train:   0%|          | 0/250 [00:00<?, ?it/s]"
      ]
     },
     "metadata": {},
     "output_type": "display_data"
    },
    {
     "data": {
      "application/vnd.jupyter.widget-view+json": {
       "model_id": "b0954b83af434b4a9c37c897dfd19f04",
       "version_major": 2,
       "version_minor": 0
      },
      "text/plain": [
       "Eval:   0%|          | 0/13 [00:00<?, ?it/s]"
      ]
     },
     "metadata": {},
     "output_type": "display_data"
    },
    {
     "data": {
      "application/vnd.jupyter.widget-view+json": {
       "model_id": "34a9f63b86984dd98d3488a37684aa7c",
       "version_major": 2,
       "version_minor": 0
      },
      "text/plain": [
       "Train:   0%|          | 0/250 [00:00<?, ?it/s]"
      ]
     },
     "metadata": {},
     "output_type": "display_data"
    },
    {
     "data": {
      "application/vnd.jupyter.widget-view+json": {
       "model_id": "53ee8eea7c254df680ececda812585af",
       "version_major": 2,
       "version_minor": 0
      },
      "text/plain": [
       "Eval:   0%|          | 0/13 [00:00<?, ?it/s]"
      ]
     },
     "metadata": {},
     "output_type": "display_data"
    },
    {
     "data": {
      "application/vnd.jupyter.widget-view+json": {
       "model_id": "bac6ee76ab98449ea2367fa3775e7bc3",
       "version_major": 2,
       "version_minor": 0
      },
      "text/plain": [
       "Train:   0%|          | 0/250 [00:00<?, ?it/s]"
      ]
     },
     "metadata": {},
     "output_type": "display_data"
    },
    {
     "data": {
      "application/vnd.jupyter.widget-view+json": {
       "model_id": "905093d1fbcb44bea665c8168b7b106f",
       "version_major": 2,
       "version_minor": 0
      },
      "text/plain": [
       "Eval:   0%|          | 0/13 [00:00<?, ?it/s]"
      ]
     },
     "metadata": {},
     "output_type": "display_data"
    },
    {
     "data": {
      "application/vnd.jupyter.widget-view+json": {
       "model_id": "00680f4087fa42c3bf4197c80e237c44",
       "version_major": 2,
       "version_minor": 0
      },
      "text/plain": [
       "Train:   0%|          | 0/250 [00:00<?, ?it/s]"
      ]
     },
     "metadata": {},
     "output_type": "display_data"
    },
    {
     "data": {
      "application/vnd.jupyter.widget-view+json": {
       "model_id": "2efe874f854f40738f66efd2605da253",
       "version_major": 2,
       "version_minor": 0
      },
      "text/plain": [
       "Eval:   0%|          | 0/13 [00:00<?, ?it/s]"
      ]
     },
     "metadata": {},
     "output_type": "display_data"
    },
    {
     "data": {
      "application/vnd.jupyter.widget-view+json": {
       "model_id": "a9d9484a9a9d4a8eb12a83541a85fa68",
       "version_major": 2,
       "version_minor": 0
      },
      "text/plain": [
       "Train:   0%|          | 0/250 [00:00<?, ?it/s]"
      ]
     },
     "metadata": {},
     "output_type": "display_data"
    },
    {
     "data": {
      "application/vnd.jupyter.widget-view+json": {
       "model_id": "0d86497dac4d40e49dea7369cec19463",
       "version_major": 2,
       "version_minor": 0
      },
      "text/plain": [
       "Eval:   0%|          | 0/13 [00:00<?, ?it/s]"
      ]
     },
     "metadata": {},
     "output_type": "display_data"
    },
    {
     "data": {
      "application/vnd.jupyter.widget-view+json": {
       "model_id": "c4762dc9ed20454abd133211a8383eaa",
       "version_major": 2,
       "version_minor": 0
      },
      "text/plain": [
       "Train:   0%|          | 0/250 [00:00<?, ?it/s]"
      ]
     },
     "metadata": {},
     "output_type": "display_data"
    },
    {
     "data": {
      "application/vnd.jupyter.widget-view+json": {
       "model_id": "11db1ace9c3c4a689b1a68dac20e2656",
       "version_major": 2,
       "version_minor": 0
      },
      "text/plain": [
       "Eval:   0%|          | 0/13 [00:00<?, ?it/s]"
      ]
     },
     "metadata": {},
     "output_type": "display_data"
    },
    {
     "data": {
      "application/vnd.jupyter.widget-view+json": {
       "model_id": "37aea1c9f7a140d9b7efa3d9d386b8a5",
       "version_major": 2,
       "version_minor": 0
      },
      "text/plain": [
       "Train:   0%|          | 0/250 [00:00<?, ?it/s]"
      ]
     },
     "metadata": {},
     "output_type": "display_data"
    },
    {
     "data": {
      "application/vnd.jupyter.widget-view+json": {
       "model_id": "fd9632fb33a1471b8dfa22ca3e09cb4d",
       "version_major": 2,
       "version_minor": 0
      },
      "text/plain": [
       "Eval:   0%|          | 0/13 [00:00<?, ?it/s]"
      ]
     },
     "metadata": {},
     "output_type": "display_data"
    },
    {
     "data": {
      "application/vnd.jupyter.widget-view+json": {
       "model_id": "c883522bdd824c49bbb778e7af4f3ae1",
       "version_major": 2,
       "version_minor": 0
      },
      "text/plain": [
       "Train:   0%|          | 0/250 [00:00<?, ?it/s]"
      ]
     },
     "metadata": {},
     "output_type": "display_data"
    },
    {
     "data": {
      "application/vnd.jupyter.widget-view+json": {
       "model_id": "0243aad240de4ffa89e795b4f7ac8763",
       "version_major": 2,
       "version_minor": 0
      },
      "text/plain": [
       "Eval:   0%|          | 0/13 [00:00<?, ?it/s]"
      ]
     },
     "metadata": {},
     "output_type": "display_data"
    },
    {
     "data": {
      "application/vnd.jupyter.widget-view+json": {
       "model_id": "ad6e784b7b8b4d2aa7c52ce9a974d50c",
       "version_major": 2,
       "version_minor": 0
      },
      "text/plain": [
       "Train:   0%|          | 0/250 [00:00<?, ?it/s]"
      ]
     },
     "metadata": {},
     "output_type": "display_data"
    },
    {
     "data": {
      "application/vnd.jupyter.widget-view+json": {
       "model_id": "34818d73cef140e7a029ec86b158ffce",
       "version_major": 2,
       "version_minor": 0
      },
      "text/plain": [
       "Eval:   0%|          | 0/13 [00:00<?, ?it/s]"
      ]
     },
     "metadata": {},
     "output_type": "display_data"
    },
    {
     "data": {
      "application/vnd.jupyter.widget-view+json": {
       "model_id": "c305d65470694bf2bb59b4b767d83e5c",
       "version_major": 2,
       "version_minor": 0
      },
      "text/plain": [
       "Train:   0%|          | 0/250 [00:00<?, ?it/s]"
      ]
     },
     "metadata": {},
     "output_type": "display_data"
    },
    {
     "data": {
      "application/vnd.jupyter.widget-view+json": {
       "model_id": "9db7321f30174a49b06f0b626377e914",
       "version_major": 2,
       "version_minor": 0
      },
      "text/plain": [
       "Eval:   0%|          | 0/13 [00:00<?, ?it/s]"
      ]
     },
     "metadata": {},
     "output_type": "display_data"
    },
    {
     "data": {
      "application/vnd.jupyter.widget-view+json": {
       "model_id": "d13a19ec3df444bf8167ac96240aefb7",
       "version_major": 2,
       "version_minor": 0
      },
      "text/plain": [
       "Train:   0%|          | 0/250 [00:00<?, ?it/s]"
      ]
     },
     "metadata": {},
     "output_type": "display_data"
    },
    {
     "data": {
      "application/vnd.jupyter.widget-view+json": {
       "model_id": "f20fc10c0f2544c98a91be0cc8cba87f",
       "version_major": 2,
       "version_minor": 0
      },
      "text/plain": [
       "Eval:   0%|          | 0/13 [00:00<?, ?it/s]"
      ]
     },
     "metadata": {},
     "output_type": "display_data"
    },
    {
     "data": {
      "application/vnd.jupyter.widget-view+json": {
       "model_id": "4c9dfa640beb4ff58a24320ac50dd151",
       "version_major": 2,
       "version_minor": 0
      },
      "text/plain": [
       "Train:   0%|          | 0/250 [00:00<?, ?it/s]"
      ]
     },
     "metadata": {},
     "output_type": "display_data"
    },
    {
     "data": {
      "application/vnd.jupyter.widget-view+json": {
       "model_id": "ad9bfc6fa81d446c9012c13dbf6b1b6d",
       "version_major": 2,
       "version_minor": 0
      },
      "text/plain": [
       "Eval:   0%|          | 0/13 [00:00<?, ?it/s]"
      ]
     },
     "metadata": {},
     "output_type": "display_data"
    },
    {
     "data": {
      "application/vnd.jupyter.widget-view+json": {
       "model_id": "7e9ad3374180434789aff84e7dd84627",
       "version_major": 2,
       "version_minor": 0
      },
      "text/plain": [
       "Train:   0%|          | 0/250 [00:00<?, ?it/s]"
      ]
     },
     "metadata": {},
     "output_type": "display_data"
    },
    {
     "data": {
      "application/vnd.jupyter.widget-view+json": {
       "model_id": "a68f787beaf8485499a738f1c3a412f9",
       "version_major": 2,
       "version_minor": 0
      },
      "text/plain": [
       "Eval:   0%|          | 0/13 [00:00<?, ?it/s]"
      ]
     },
     "metadata": {},
     "output_type": "display_data"
    },
    {
     "data": {
      "application/vnd.jupyter.widget-view+json": {
       "model_id": "b9fa9ffa9941495da1aba6009dddd051",
       "version_major": 2,
       "version_minor": 0
      },
      "text/plain": [
       "Train:   0%|          | 0/250 [00:00<?, ?it/s]"
      ]
     },
     "metadata": {},
     "output_type": "display_data"
    },
    {
     "data": {
      "application/vnd.jupyter.widget-view+json": {
       "model_id": "79f381444b324fae93f1c107017f46f9",
       "version_major": 2,
       "version_minor": 0
      },
      "text/plain": [
       "Eval:   0%|          | 0/13 [00:00<?, ?it/s]"
      ]
     },
     "metadata": {},
     "output_type": "display_data"
    },
    {
     "data": {
      "application/vnd.jupyter.widget-view+json": {
       "model_id": "120eab9b2c2e4ee48dd07b281c59f01a",
       "version_major": 2,
       "version_minor": 0
      },
      "text/plain": [
       "Train:   0%|          | 0/250 [00:00<?, ?it/s]"
      ]
     },
     "metadata": {},
     "output_type": "display_data"
    },
    {
     "data": {
      "application/vnd.jupyter.widget-view+json": {
       "model_id": "a0f7de39fbf3452ba3a49fb310fa46f8",
       "version_major": 2,
       "version_minor": 0
      },
      "text/plain": [
       "Eval:   0%|          | 0/13 [00:00<?, ?it/s]"
      ]
     },
     "metadata": {},
     "output_type": "display_data"
    },
    {
     "data": {
      "application/vnd.jupyter.widget-view+json": {
       "model_id": "50abfc36234d40fd89c8f7f15449cb4f",
       "version_major": 2,
       "version_minor": 0
      },
      "text/plain": [
       "Train:   0%|          | 0/250 [00:00<?, ?it/s]"
      ]
     },
     "metadata": {},
     "output_type": "display_data"
    },
    {
     "data": {
      "application/vnd.jupyter.widget-view+json": {
       "model_id": "ad299b26bbb24e61a51540cf67195a8b",
       "version_major": 2,
       "version_minor": 0
      },
      "text/plain": [
       "Eval:   0%|          | 0/13 [00:00<?, ?it/s]"
      ]
     },
     "metadata": {},
     "output_type": "display_data"
    },
    {
     "data": {
      "application/vnd.jupyter.widget-view+json": {
       "model_id": "5264e3ba34f44def97bc22572856a58a",
       "version_major": 2,
       "version_minor": 0
      },
      "text/plain": [
       "Train:   0%|          | 0/250 [00:00<?, ?it/s]"
      ]
     },
     "metadata": {},
     "output_type": "display_data"
    },
    {
     "data": {
      "application/vnd.jupyter.widget-view+json": {
       "model_id": "aed4244d3820434cb2db819ca070292c",
       "version_major": 2,
       "version_minor": 0
      },
      "text/plain": [
       "Eval:   0%|          | 0/13 [00:00<?, ?it/s]"
      ]
     },
     "metadata": {},
     "output_type": "display_data"
    },
    {
     "data": {
      "application/vnd.jupyter.widget-view+json": {
       "model_id": "9dae088b97be4b9aad2098d7ed5050af",
       "version_major": 2,
       "version_minor": 0
      },
      "text/plain": [
       "Train:   0%|          | 0/250 [00:00<?, ?it/s]"
      ]
     },
     "metadata": {},
     "output_type": "display_data"
    },
    {
     "data": {
      "application/vnd.jupyter.widget-view+json": {
       "model_id": "bdac3f70ca7344159082b05a08583c39",
       "version_major": 2,
       "version_minor": 0
      },
      "text/plain": [
       "Eval:   0%|          | 0/13 [00:00<?, ?it/s]"
      ]
     },
     "metadata": {},
     "output_type": "display_data"
    },
    {
     "data": {
      "application/vnd.jupyter.widget-view+json": {
       "model_id": "d30bb64087764ecd95d437c1c85c1a16",
       "version_major": 2,
       "version_minor": 0
      },
      "text/plain": [
       "Train:   0%|          | 0/250 [00:00<?, ?it/s]"
      ]
     },
     "metadata": {},
     "output_type": "display_data"
    },
    {
     "data": {
      "application/vnd.jupyter.widget-view+json": {
       "model_id": "1db8d5c52a5f4a54868057be8364be84",
       "version_major": 2,
       "version_minor": 0
      },
      "text/plain": [
       "Eval:   0%|          | 0/13 [00:00<?, ?it/s]"
      ]
     },
     "metadata": {},
     "output_type": "display_data"
    },
    {
     "data": {
      "application/vnd.jupyter.widget-view+json": {
       "model_id": "6b9e20acde8749e59a2f3bcd05982bc1",
       "version_major": 2,
       "version_minor": 0
      },
      "text/plain": [
       "Train:   0%|          | 0/250 [00:00<?, ?it/s]"
      ]
     },
     "metadata": {},
     "output_type": "display_data"
    },
    {
     "data": {
      "application/vnd.jupyter.widget-view+json": {
       "model_id": "adca13ebec684dfeb166e731dda7c33a",
       "version_major": 2,
       "version_minor": 0
      },
      "text/plain": [
       "Eval:   0%|          | 0/13 [00:00<?, ?it/s]"
      ]
     },
     "metadata": {},
     "output_type": "display_data"
    },
    {
     "data": {
      "application/vnd.jupyter.widget-view+json": {
       "model_id": "7caeab9793a847b39f52d311a52b77de",
       "version_major": 2,
       "version_minor": 0
      },
      "text/plain": [
       "Train:   0%|          | 0/250 [00:00<?, ?it/s]"
      ]
     },
     "metadata": {},
     "output_type": "display_data"
    },
    {
     "data": {
      "application/vnd.jupyter.widget-view+json": {
       "model_id": "9e9f619ff99b461cb324762aa95335de",
       "version_major": 2,
       "version_minor": 0
      },
      "text/plain": [
       "Eval:   0%|          | 0/13 [00:00<?, ?it/s]"
      ]
     },
     "metadata": {},
     "output_type": "display_data"
    },
    {
     "data": {
      "application/vnd.jupyter.widget-view+json": {
       "model_id": "2452b679ff8947cb823c534cba28e53c",
       "version_major": 2,
       "version_minor": 0
      },
      "text/plain": [
       "Train:   0%|          | 0/250 [00:00<?, ?it/s]"
      ]
     },
     "metadata": {},
     "output_type": "display_data"
    },
    {
     "data": {
      "application/vnd.jupyter.widget-view+json": {
       "model_id": "4978b5fb910248e3b1c1f7480fce8080",
       "version_major": 2,
       "version_minor": 0
      },
      "text/plain": [
       "Eval:   0%|          | 0/13 [00:00<?, ?it/s]"
      ]
     },
     "metadata": {},
     "output_type": "display_data"
    },
    {
     "data": {
      "application/vnd.jupyter.widget-view+json": {
       "model_id": "6b5a3c6ea2b34be48cc86591880bd521",
       "version_major": 2,
       "version_minor": 0
      },
      "text/plain": [
       "Train:   0%|          | 0/250 [00:00<?, ?it/s]"
      ]
     },
     "metadata": {},
     "output_type": "display_data"
    },
    {
     "data": {
      "application/vnd.jupyter.widget-view+json": {
       "model_id": "e2299d1c75bf46b4b6dc78ae29c0160e",
       "version_major": 2,
       "version_minor": 0
      },
      "text/plain": [
       "Eval:   0%|          | 0/13 [00:00<?, ?it/s]"
      ]
     },
     "metadata": {},
     "output_type": "display_data"
    },
    {
     "data": {
      "application/vnd.jupyter.widget-view+json": {
       "model_id": "7df887fc9739436eb06427827c6ffb73",
       "version_major": 2,
       "version_minor": 0
      },
      "text/plain": [
       "Train:   0%|          | 0/250 [00:00<?, ?it/s]"
      ]
     },
     "metadata": {},
     "output_type": "display_data"
    },
    {
     "data": {
      "application/vnd.jupyter.widget-view+json": {
       "model_id": "37ac55435c4941028fe392817a1856c5",
       "version_major": 2,
       "version_minor": 0
      },
      "text/plain": [
       "Eval:   0%|          | 0/13 [00:00<?, ?it/s]"
      ]
     },
     "metadata": {},
     "output_type": "display_data"
    },
    {
     "data": {
      "application/vnd.jupyter.widget-view+json": {
       "model_id": "ae2950320d49453abe51a0ca7d997f6b",
       "version_major": 2,
       "version_minor": 0
      },
      "text/plain": [
       "Train:   0%|          | 0/250 [00:00<?, ?it/s]"
      ]
     },
     "metadata": {},
     "output_type": "display_data"
    },
    {
     "data": {
      "application/vnd.jupyter.widget-view+json": {
       "model_id": "c39d5108e28d4c1db7ca99149cea91b6",
       "version_major": 2,
       "version_minor": 0
      },
      "text/plain": [
       "Eval:   0%|          | 0/13 [00:00<?, ?it/s]"
      ]
     },
     "metadata": {},
     "output_type": "display_data"
    },
    {
     "data": {
      "application/vnd.jupyter.widget-view+json": {
       "model_id": "573246a939424449873bb7c1a14bc7bb",
       "version_major": 2,
       "version_minor": 0
      },
      "text/plain": [
       "Train:   0%|          | 0/250 [00:00<?, ?it/s]"
      ]
     },
     "metadata": {},
     "output_type": "display_data"
    },
    {
     "data": {
      "application/vnd.jupyter.widget-view+json": {
       "model_id": "c998f4bb63cb40668993dc829f32ecb6",
       "version_major": 2,
       "version_minor": 0
      },
      "text/plain": [
       "Eval:   0%|          | 0/13 [00:00<?, ?it/s]"
      ]
     },
     "metadata": {},
     "output_type": "display_data"
    },
    {
     "data": {
      "application/vnd.jupyter.widget-view+json": {
       "model_id": "64f661d3fe4f4b958347f4159a189fed",
       "version_major": 2,
       "version_minor": 0
      },
      "text/plain": [
       "Train:   0%|          | 0/250 [00:00<?, ?it/s]"
      ]
     },
     "metadata": {},
     "output_type": "display_data"
    },
    {
     "data": {
      "application/vnd.jupyter.widget-view+json": {
       "model_id": "a97b593278d8434fbe676cae1ba3af92",
       "version_major": 2,
       "version_minor": 0
      },
      "text/plain": [
       "Eval:   0%|          | 0/13 [00:00<?, ?it/s]"
      ]
     },
     "metadata": {},
     "output_type": "display_data"
    },
    {
     "data": {
      "application/vnd.jupyter.widget-view+json": {
       "model_id": "6427fee6e632463290a30bd2c962cd60",
       "version_major": 2,
       "version_minor": 0
      },
      "text/plain": [
       "Train:   0%|          | 0/250 [00:00<?, ?it/s]"
      ]
     },
     "metadata": {},
     "output_type": "display_data"
    },
    {
     "data": {
      "application/vnd.jupyter.widget-view+json": {
       "model_id": "c96b73dffaf143afb84a5bb68c52eabe",
       "version_major": 2,
       "version_minor": 0
      },
      "text/plain": [
       "Eval:   0%|          | 0/13 [00:00<?, ?it/s]"
      ]
     },
     "metadata": {},
     "output_type": "display_data"
    },
    {
     "data": {
      "application/vnd.jupyter.widget-view+json": {
       "model_id": "ce76c6a0f6c94bd6b9441cf1962feb07",
       "version_major": 2,
       "version_minor": 0
      },
      "text/plain": [
       "Train:   0%|          | 0/250 [00:00<?, ?it/s]"
      ]
     },
     "metadata": {},
     "output_type": "display_data"
    },
    {
     "data": {
      "application/vnd.jupyter.widget-view+json": {
       "model_id": "e0b6e5034e4d4cd2bf391c6e661d6616",
       "version_major": 2,
       "version_minor": 0
      },
      "text/plain": [
       "Eval:   0%|          | 0/13 [00:00<?, ?it/s]"
      ]
     },
     "metadata": {},
     "output_type": "display_data"
    },
    {
     "data": {
      "application/vnd.jupyter.widget-view+json": {
       "model_id": "09fa608d9c054a39ae82ca5d15e91395",
       "version_major": 2,
       "version_minor": 0
      },
      "text/plain": [
       "Train:   0%|          | 0/250 [00:00<?, ?it/s]"
      ]
     },
     "metadata": {},
     "output_type": "display_data"
    },
    {
     "data": {
      "application/vnd.jupyter.widget-view+json": {
       "model_id": "edb8acd54fd04a4e854369316a57178b",
       "version_major": 2,
       "version_minor": 0
      },
      "text/plain": [
       "Eval:   0%|          | 0/13 [00:00<?, ?it/s]"
      ]
     },
     "metadata": {},
     "output_type": "display_data"
    },
    {
     "data": {
      "application/vnd.jupyter.widget-view+json": {
       "model_id": "3a94d79c0326434da2e0973b9ea76601",
       "version_major": 2,
       "version_minor": 0
      },
      "text/plain": [
       "Train:   0%|          | 0/250 [00:00<?, ?it/s]"
      ]
     },
     "metadata": {},
     "output_type": "display_data"
    },
    {
     "data": {
      "application/vnd.jupyter.widget-view+json": {
       "model_id": "e1530be84032400b84b3ff871e89ecc3",
       "version_major": 2,
       "version_minor": 0
      },
      "text/plain": [
       "Eval:   0%|          | 0/13 [00:00<?, ?it/s]"
      ]
     },
     "metadata": {},
     "output_type": "display_data"
    },
    {
     "data": {
      "application/vnd.jupyter.widget-view+json": {
       "model_id": "a416b2473d4a45f787e215de671d6ed4",
       "version_major": 2,
       "version_minor": 0
      },
      "text/plain": [
       "Train:   0%|          | 0/250 [00:00<?, ?it/s]"
      ]
     },
     "metadata": {},
     "output_type": "display_data"
    },
    {
     "data": {
      "application/vnd.jupyter.widget-view+json": {
       "model_id": "b450a020a9fb468e9feabf5de3d606d5",
       "version_major": 2,
       "version_minor": 0
      },
      "text/plain": [
       "Eval:   0%|          | 0/13 [00:00<?, ?it/s]"
      ]
     },
     "metadata": {},
     "output_type": "display_data"
    },
    {
     "data": {
      "application/vnd.jupyter.widget-view+json": {
       "model_id": "e4d780b335824bf9b330be270a984b2e",
       "version_major": 2,
       "version_minor": 0
      },
      "text/plain": [
       "Train:   0%|          | 0/250 [00:00<?, ?it/s]"
      ]
     },
     "metadata": {},
     "output_type": "display_data"
    },
    {
     "data": {
      "application/vnd.jupyter.widget-view+json": {
       "model_id": "e8a0d5ad1c5149f2a82f8c555c1229cd",
       "version_major": 2,
       "version_minor": 0
      },
      "text/plain": [
       "Eval:   0%|          | 0/13 [00:00<?, ?it/s]"
      ]
     },
     "metadata": {},
     "output_type": "display_data"
    },
    {
     "data": {
      "application/vnd.jupyter.widget-view+json": {
       "model_id": "2b56992a578c4e6faf3b58104513a254",
       "version_major": 2,
       "version_minor": 0
      },
      "text/plain": [
       "Train:   0%|          | 0/250 [00:00<?, ?it/s]"
      ]
     },
     "metadata": {},
     "output_type": "display_data"
    },
    {
     "data": {
      "application/vnd.jupyter.widget-view+json": {
       "model_id": "0776ae3a5d4b4d288e10dde8c235bd9b",
       "version_major": 2,
       "version_minor": 0
      },
      "text/plain": [
       "Eval:   0%|          | 0/13 [00:00<?, ?it/s]"
      ]
     },
     "metadata": {},
     "output_type": "display_data"
    },
    {
     "data": {
      "application/vnd.jupyter.widget-view+json": {
       "model_id": "4e4ad5a09d524893bc91d80e1cc30ffe",
       "version_major": 2,
       "version_minor": 0
      },
      "text/plain": [
       "Train:   0%|          | 0/250 [00:00<?, ?it/s]"
      ]
     },
     "metadata": {},
     "output_type": "display_data"
    },
    {
     "data": {
      "application/vnd.jupyter.widget-view+json": {
       "model_id": "0b2e3ea167fa441889d0cf754068a8aa",
       "version_major": 2,
       "version_minor": 0
      },
      "text/plain": [
       "Eval:   0%|          | 0/13 [00:00<?, ?it/s]"
      ]
     },
     "metadata": {},
     "output_type": "display_data"
    },
    {
     "data": {
      "application/vnd.jupyter.widget-view+json": {
       "model_id": "e41284b9bf104478ae55628e4566152a",
       "version_major": 2,
       "version_minor": 0
      },
      "text/plain": [
       "Train:   0%|          | 0/250 [00:00<?, ?it/s]"
      ]
     },
     "metadata": {},
     "output_type": "display_data"
    },
    {
     "data": {
      "application/vnd.jupyter.widget-view+json": {
       "model_id": "bfb1e4b50f424791af9e699078ad6e28",
       "version_major": 2,
       "version_minor": 0
      },
      "text/plain": [
       "Eval:   0%|          | 0/13 [00:00<?, ?it/s]"
      ]
     },
     "metadata": {},
     "output_type": "display_data"
    },
    {
     "data": {
      "application/vnd.jupyter.widget-view+json": {
       "model_id": "4fbbf57352c540138f9caca423821ded",
       "version_major": 2,
       "version_minor": 0
      },
      "text/plain": [
       "Train:   0%|          | 0/250 [00:00<?, ?it/s]"
      ]
     },
     "metadata": {},
     "output_type": "display_data"
    },
    {
     "data": {
      "application/vnd.jupyter.widget-view+json": {
       "model_id": "5f054555d83a409d9cafb3638e7d5a38",
       "version_major": 2,
       "version_minor": 0
      },
      "text/plain": [
       "Eval:   0%|          | 0/13 [00:00<?, ?it/s]"
      ]
     },
     "metadata": {},
     "output_type": "display_data"
    },
    {
     "data": {
      "application/vnd.jupyter.widget-view+json": {
       "model_id": "46d8ddc459a54358ac3fbe0cdc608c16",
       "version_major": 2,
       "version_minor": 0
      },
      "text/plain": [
       "Train:   0%|          | 0/250 [00:00<?, ?it/s]"
      ]
     },
     "metadata": {},
     "output_type": "display_data"
    },
    {
     "data": {
      "application/vnd.jupyter.widget-view+json": {
       "model_id": "7c4deaf1e1c745c1988906c2cdbfcc7c",
       "version_major": 2,
       "version_minor": 0
      },
      "text/plain": [
       "Eval:   0%|          | 0/13 [00:00<?, ?it/s]"
      ]
     },
     "metadata": {},
     "output_type": "display_data"
    },
    {
     "data": {
      "application/vnd.jupyter.widget-view+json": {
       "model_id": "d0b7966b2d0348148524802b19badb91",
       "version_major": 2,
       "version_minor": 0
      },
      "text/plain": [
       "Train:   0%|          | 0/250 [00:00<?, ?it/s]"
      ]
     },
     "metadata": {},
     "output_type": "display_data"
    },
    {
     "data": {
      "application/vnd.jupyter.widget-view+json": {
       "model_id": "f1d299ade4294d78af00ebca612c1c7d",
       "version_major": 2,
       "version_minor": 0
      },
      "text/plain": [
       "Eval:   0%|          | 0/13 [00:00<?, ?it/s]"
      ]
     },
     "metadata": {},
     "output_type": "display_data"
    },
    {
     "data": {
      "application/vnd.jupyter.widget-view+json": {
       "model_id": "5104285f75b24ec4b73b558a6f88dce4",
       "version_major": 2,
       "version_minor": 0
      },
      "text/plain": [
       "Train:   0%|          | 0/250 [00:00<?, ?it/s]"
      ]
     },
     "metadata": {},
     "output_type": "display_data"
    },
    {
     "data": {
      "application/vnd.jupyter.widget-view+json": {
       "model_id": "2ffa0b48de814044ac410eddb1ef1b8d",
       "version_major": 2,
       "version_minor": 0
      },
      "text/plain": [
       "Eval:   0%|          | 0/13 [00:00<?, ?it/s]"
      ]
     },
     "metadata": {},
     "output_type": "display_data"
    },
    {
     "data": {
      "application/vnd.jupyter.widget-view+json": {
       "model_id": "7c0c91ff128b4139b5f273ec9a28c6be",
       "version_major": 2,
       "version_minor": 0
      },
      "text/plain": [
       "Train:   0%|          | 0/250 [00:00<?, ?it/s]"
      ]
     },
     "metadata": {},
     "output_type": "display_data"
    },
    {
     "data": {
      "application/vnd.jupyter.widget-view+json": {
       "model_id": "3ed5416adced47db87fdf3cb0bb04441",
       "version_major": 2,
       "version_minor": 0
      },
      "text/plain": [
       "Eval:   0%|          | 0/13 [00:00<?, ?it/s]"
      ]
     },
     "metadata": {},
     "output_type": "display_data"
    },
    {
     "name": "stdout",
     "output_type": "stream",
     "text": [
      "New best loss: 0.27385052694724155\n"
     ]
    },
    {
     "data": {
      "application/vnd.jupyter.widget-view+json": {
       "model_id": "629d177808144fd6bcffc80fa084aa79",
       "version_major": 2,
       "version_minor": 0
      },
      "text/plain": [
       "Train:   0%|          | 0/250 [00:00<?, ?it/s]"
      ]
     },
     "metadata": {},
     "output_type": "display_data"
    },
    {
     "data": {
      "application/vnd.jupyter.widget-view+json": {
       "model_id": "364a0f50515e4b2f95e3363f7e52e40d",
       "version_major": 2,
       "version_minor": 0
      },
      "text/plain": [
       "Eval:   0%|          | 0/13 [00:00<?, ?it/s]"
      ]
     },
     "metadata": {},
     "output_type": "display_data"
    },
    {
     "data": {
      "application/vnd.jupyter.widget-view+json": {
       "model_id": "3352b78fde0047c89796fe80835557a6",
       "version_major": 2,
       "version_minor": 0
      },
      "text/plain": [
       "Train:   0%|          | 0/250 [00:00<?, ?it/s]"
      ]
     },
     "metadata": {},
     "output_type": "display_data"
    },
    {
     "data": {
      "application/vnd.jupyter.widget-view+json": {
       "model_id": "2274cebe1c264aaab352ed0807e8bb78",
       "version_major": 2,
       "version_minor": 0
      },
      "text/plain": [
       "Eval:   0%|          | 0/13 [00:00<?, ?it/s]"
      ]
     },
     "metadata": {},
     "output_type": "display_data"
    },
    {
     "data": {
      "application/vnd.jupyter.widget-view+json": {
       "model_id": "25ad704351af4a88afac3487b7b53f15",
       "version_major": 2,
       "version_minor": 0
      },
      "text/plain": [
       "Train:   0%|          | 0/250 [00:00<?, ?it/s]"
      ]
     },
     "metadata": {},
     "output_type": "display_data"
    },
    {
     "data": {
      "application/vnd.jupyter.widget-view+json": {
       "model_id": "90787a5e13f64556972b2c28eb93c19b",
       "version_major": 2,
       "version_minor": 0
      },
      "text/plain": [
       "Eval:   0%|          | 0/13 [00:00<?, ?it/s]"
      ]
     },
     "metadata": {},
     "output_type": "display_data"
    },
    {
     "data": {
      "application/vnd.jupyter.widget-view+json": {
       "model_id": "c625588a0f4641f29c1ba7caa4ede565",
       "version_major": 2,
       "version_minor": 0
      },
      "text/plain": [
       "Train:   0%|          | 0/250 [00:00<?, ?it/s]"
      ]
     },
     "metadata": {},
     "output_type": "display_data"
    },
    {
     "data": {
      "application/vnd.jupyter.widget-view+json": {
       "model_id": "b1d9e911326b47d09bf40fc1a6a568c2",
       "version_major": 2,
       "version_minor": 0
      },
      "text/plain": [
       "Eval:   0%|          | 0/13 [00:00<?, ?it/s]"
      ]
     },
     "metadata": {},
     "output_type": "display_data"
    },
    {
     "data": {
      "application/vnd.jupyter.widget-view+json": {
       "model_id": "929ca44b0b454e5590665384b2fcd8ae",
       "version_major": 2,
       "version_minor": 0
      },
      "text/plain": [
       "Train:   0%|          | 0/250 [00:00<?, ?it/s]"
      ]
     },
     "metadata": {},
     "output_type": "display_data"
    },
    {
     "data": {
      "application/vnd.jupyter.widget-view+json": {
       "model_id": "dda547b501104cb980fac9b9938cefe9",
       "version_major": 2,
       "version_minor": 0
      },
      "text/plain": [
       "Eval:   0%|          | 0/13 [00:00<?, ?it/s]"
      ]
     },
     "metadata": {},
     "output_type": "display_data"
    },
    {
     "data": {
      "application/vnd.jupyter.widget-view+json": {
       "model_id": "f0f6c9163ccd4ec891ff6907043fe7b1",
       "version_major": 2,
       "version_minor": 0
      },
      "text/plain": [
       "Train:   0%|          | 0/250 [00:00<?, ?it/s]"
      ]
     },
     "metadata": {},
     "output_type": "display_data"
    },
    {
     "data": {
      "application/vnd.jupyter.widget-view+json": {
       "model_id": "f52164f8330a490da954d3f4708c0f30",
       "version_major": 2,
       "version_minor": 0
      },
      "text/plain": [
       "Eval:   0%|          | 0/13 [00:00<?, ?it/s]"
      ]
     },
     "metadata": {},
     "output_type": "display_data"
    },
    {
     "data": {
      "application/vnd.jupyter.widget-view+json": {
       "model_id": "c89c0836b7304c9eb63f30f00470e16b",
       "version_major": 2,
       "version_minor": 0
      },
      "text/plain": [
       "Train:   0%|          | 0/250 [00:00<?, ?it/s]"
      ]
     },
     "metadata": {},
     "output_type": "display_data"
    },
    {
     "data": {
      "application/vnd.jupyter.widget-view+json": {
       "model_id": "b4945bb17f0e41df86e97fa8249f4452",
       "version_major": 2,
       "version_minor": 0
      },
      "text/plain": [
       "Eval:   0%|          | 0/13 [00:00<?, ?it/s]"
      ]
     },
     "metadata": {},
     "output_type": "display_data"
    },
    {
     "data": {
      "application/vnd.jupyter.widget-view+json": {
       "model_id": "803c99ef2fa04facbe152541de776dfb",
       "version_major": 2,
       "version_minor": 0
      },
      "text/plain": [
       "Train:   0%|          | 0/250 [00:00<?, ?it/s]"
      ]
     },
     "metadata": {},
     "output_type": "display_data"
    },
    {
     "data": {
      "application/vnd.jupyter.widget-view+json": {
       "model_id": "e68e06f607034ce8b2d68860367b5a34",
       "version_major": 2,
       "version_minor": 0
      },
      "text/plain": [
       "Eval:   0%|          | 0/13 [00:00<?, ?it/s]"
      ]
     },
     "metadata": {},
     "output_type": "display_data"
    },
    {
     "data": {
      "application/vnd.jupyter.widget-view+json": {
       "model_id": "03dab00c4a8c471eb1a36ad63bdbb4cc",
       "version_major": 2,
       "version_minor": 0
      },
      "text/plain": [
       "Train:   0%|          | 0/250 [00:00<?, ?it/s]"
      ]
     },
     "metadata": {},
     "output_type": "display_data"
    },
    {
     "data": {
      "application/vnd.jupyter.widget-view+json": {
       "model_id": "d36a76dfced84702bec5ee115ae43c7d",
       "version_major": 2,
       "version_minor": 0
      },
      "text/plain": [
       "Eval:   0%|          | 0/13 [00:00<?, ?it/s]"
      ]
     },
     "metadata": {},
     "output_type": "display_data"
    },
    {
     "data": {
      "application/vnd.jupyter.widget-view+json": {
       "model_id": "c099a73bea13411493b6078868cd7d46",
       "version_major": 2,
       "version_minor": 0
      },
      "text/plain": [
       "Train:   0%|          | 0/250 [00:00<?, ?it/s]"
      ]
     },
     "metadata": {},
     "output_type": "display_data"
    },
    {
     "data": {
      "application/vnd.jupyter.widget-view+json": {
       "model_id": "cca49e1272ec4e52aa7b63a9185414fa",
       "version_major": 2,
       "version_minor": 0
      },
      "text/plain": [
       "Eval:   0%|          | 0/13 [00:00<?, ?it/s]"
      ]
     },
     "metadata": {},
     "output_type": "display_data"
    },
    {
     "data": {
      "application/vnd.jupyter.widget-view+json": {
       "model_id": "10039d8286784fc1b70cf33c919540ec",
       "version_major": 2,
       "version_minor": 0
      },
      "text/plain": [
       "Train:   0%|          | 0/250 [00:00<?, ?it/s]"
      ]
     },
     "metadata": {},
     "output_type": "display_data"
    },
    {
     "data": {
      "application/vnd.jupyter.widget-view+json": {
       "model_id": "1dcf096ea592435e8c0e1d4dd1e3b480",
       "version_major": 2,
       "version_minor": 0
      },
      "text/plain": [
       "Eval:   0%|          | 0/13 [00:00<?, ?it/s]"
      ]
     },
     "metadata": {},
     "output_type": "display_data"
    },
    {
     "data": {
      "application/vnd.jupyter.widget-view+json": {
       "model_id": "d6f7181cc8004cb98615f87e0d9328a7",
       "version_major": 2,
       "version_minor": 0
      },
      "text/plain": [
       "Train:   0%|          | 0/250 [00:00<?, ?it/s]"
      ]
     },
     "metadata": {},
     "output_type": "display_data"
    },
    {
     "data": {
      "application/vnd.jupyter.widget-view+json": {
       "model_id": "cfea650ec4ab4df794de567a815adcda",
       "version_major": 2,
       "version_minor": 0
      },
      "text/plain": [
       "Eval:   0%|          | 0/13 [00:00<?, ?it/s]"
      ]
     },
     "metadata": {},
     "output_type": "display_data"
    },
    {
     "data": {
      "application/vnd.jupyter.widget-view+json": {
       "model_id": "875e27ecd99d44a2aa285afb8edba9ee",
       "version_major": 2,
       "version_minor": 0
      },
      "text/plain": [
       "Train:   0%|          | 0/250 [00:00<?, ?it/s]"
      ]
     },
     "metadata": {},
     "output_type": "display_data"
    },
    {
     "data": {
      "application/vnd.jupyter.widget-view+json": {
       "model_id": "30167e4edce54cb2acc933482c621efc",
       "version_major": 2,
       "version_minor": 0
      },
      "text/plain": [
       "Eval:   0%|          | 0/13 [00:00<?, ?it/s]"
      ]
     },
     "metadata": {},
     "output_type": "display_data"
    },
    {
     "data": {
      "application/vnd.jupyter.widget-view+json": {
       "model_id": "1bb2028c76a74332a7cbc5e7e37dee06",
       "version_major": 2,
       "version_minor": 0
      },
      "text/plain": [
       "Train:   0%|          | 0/250 [00:00<?, ?it/s]"
      ]
     },
     "metadata": {},
     "output_type": "display_data"
    },
    {
     "data": {
      "application/vnd.jupyter.widget-view+json": {
       "model_id": "a8e3bb2acd464dac8f68051de4ec471e",
       "version_major": 2,
       "version_minor": 0
      },
      "text/plain": [
       "Eval:   0%|          | 0/13 [00:00<?, ?it/s]"
      ]
     },
     "metadata": {},
     "output_type": "display_data"
    },
    {
     "data": {
      "application/vnd.jupyter.widget-view+json": {
       "model_id": "136320fe4317460f9b061aa0bee2eed0",
       "version_major": 2,
       "version_minor": 0
      },
      "text/plain": [
       "Train:   0%|          | 0/250 [00:00<?, ?it/s]"
      ]
     },
     "metadata": {},
     "output_type": "display_data"
    },
    {
     "data": {
      "application/vnd.jupyter.widget-view+json": {
       "model_id": "fd50cd5489fe43fcbea76f40ebf57ded",
       "version_major": 2,
       "version_minor": 0
      },
      "text/plain": [
       "Eval:   0%|          | 0/13 [00:00<?, ?it/s]"
      ]
     },
     "metadata": {},
     "output_type": "display_data"
    },
    {
     "data": {
      "application/vnd.jupyter.widget-view+json": {
       "model_id": "cf012bc1cb354eec86b46f3291a04295",
       "version_major": 2,
       "version_minor": 0
      },
      "text/plain": [
       "Train:   0%|          | 0/250 [00:00<?, ?it/s]"
      ]
     },
     "metadata": {},
     "output_type": "display_data"
    },
    {
     "data": {
      "application/vnd.jupyter.widget-view+json": {
       "model_id": "49d84c19d3d049e4b5438c24f18f65c7",
       "version_major": 2,
       "version_minor": 0
      },
      "text/plain": [
       "Eval:   0%|          | 0/13 [00:00<?, ?it/s]"
      ]
     },
     "metadata": {},
     "output_type": "display_data"
    },
    {
     "data": {
      "application/vnd.jupyter.widget-view+json": {
       "model_id": "1617af4374eb4125bc8a3b6bf12a2738",
       "version_major": 2,
       "version_minor": 0
      },
      "text/plain": [
       "Train:   0%|          | 0/250 [00:00<?, ?it/s]"
      ]
     },
     "metadata": {},
     "output_type": "display_data"
    },
    {
     "data": {
      "application/vnd.jupyter.widget-view+json": {
       "model_id": "b7d7d542d94b46979ec9df342307d7cb",
       "version_major": 2,
       "version_minor": 0
      },
      "text/plain": [
       "Eval:   0%|          | 0/13 [00:00<?, ?it/s]"
      ]
     },
     "metadata": {},
     "output_type": "display_data"
    },
    {
     "data": {
      "application/vnd.jupyter.widget-view+json": {
       "model_id": "1ba673a8941749ed839e4d8691a1e2aa",
       "version_major": 2,
       "version_minor": 0
      },
      "text/plain": [
       "Train:   0%|          | 0/250 [00:00<?, ?it/s]"
      ]
     },
     "metadata": {},
     "output_type": "display_data"
    },
    {
     "data": {
      "application/vnd.jupyter.widget-view+json": {
       "model_id": "7a81ab53e21441019c4a71a78f23f20d",
       "version_major": 2,
       "version_minor": 0
      },
      "text/plain": [
       "Eval:   0%|          | 0/13 [00:00<?, ?it/s]"
      ]
     },
     "metadata": {},
     "output_type": "display_data"
    },
    {
     "data": {
      "application/vnd.jupyter.widget-view+json": {
       "model_id": "9b39378c99eb497c82c7524a4106f6d4",
       "version_major": 2,
       "version_minor": 0
      },
      "text/plain": [
       "Train:   0%|          | 0/250 [00:00<?, ?it/s]"
      ]
     },
     "metadata": {},
     "output_type": "display_data"
    },
    {
     "data": {
      "application/vnd.jupyter.widget-view+json": {
       "model_id": "e4443e34dc464a00a18f5214b60bb4d3",
       "version_major": 2,
       "version_minor": 0
      },
      "text/plain": [
       "Eval:   0%|          | 0/13 [00:00<?, ?it/s]"
      ]
     },
     "metadata": {},
     "output_type": "display_data"
    },
    {
     "data": {
      "application/vnd.jupyter.widget-view+json": {
       "model_id": "ad393d32db2a4b528a8dc7ed538ecfd8",
       "version_major": 2,
       "version_minor": 0
      },
      "text/plain": [
       "Train:   0%|          | 0/250 [00:00<?, ?it/s]"
      ]
     },
     "metadata": {},
     "output_type": "display_data"
    },
    {
     "data": {
      "application/vnd.jupyter.widget-view+json": {
       "model_id": "b0f50e9b7a574909bf514a09fb027c7c",
       "version_major": 2,
       "version_minor": 0
      },
      "text/plain": [
       "Eval:   0%|          | 0/13 [00:00<?, ?it/s]"
      ]
     },
     "metadata": {},
     "output_type": "display_data"
    },
    {
     "data": {
      "application/vnd.jupyter.widget-view+json": {
       "model_id": "5f519db3c7704f2b8f829d0068d8aef2",
       "version_major": 2,
       "version_minor": 0
      },
      "text/plain": [
       "Train:   0%|          | 0/250 [00:00<?, ?it/s]"
      ]
     },
     "metadata": {},
     "output_type": "display_data"
    },
    {
     "data": {
      "application/vnd.jupyter.widget-view+json": {
       "model_id": "767d328d91924940bddb916753a23b4d",
       "version_major": 2,
       "version_minor": 0
      },
      "text/plain": [
       "Eval:   0%|          | 0/13 [00:00<?, ?it/s]"
      ]
     },
     "metadata": {},
     "output_type": "display_data"
    },
    {
     "data": {
      "application/vnd.jupyter.widget-view+json": {
       "model_id": "c2e95359c170406dbe92007254285e66",
       "version_major": 2,
       "version_minor": 0
      },
      "text/plain": [
       "Train:   0%|          | 0/250 [00:00<?, ?it/s]"
      ]
     },
     "metadata": {},
     "output_type": "display_data"
    },
    {
     "data": {
      "application/vnd.jupyter.widget-view+json": {
       "model_id": "41e017ec8cad474da06696653341a90c",
       "version_major": 2,
       "version_minor": 0
      },
      "text/plain": [
       "Eval:   0%|          | 0/13 [00:00<?, ?it/s]"
      ]
     },
     "metadata": {},
     "output_type": "display_data"
    },
    {
     "data": {
      "application/vnd.jupyter.widget-view+json": {
       "model_id": "48da2bfe043b49eab043566ca5ce21ba",
       "version_major": 2,
       "version_minor": 0
      },
      "text/plain": [
       "Train:   0%|          | 0/250 [00:00<?, ?it/s]"
      ]
     },
     "metadata": {},
     "output_type": "display_data"
    },
    {
     "data": {
      "application/vnd.jupyter.widget-view+json": {
       "model_id": "bb92b2bc319e49d7b4e943fe26eb1df1",
       "version_major": 2,
       "version_minor": 0
      },
      "text/plain": [
       "Eval:   0%|          | 0/13 [00:00<?, ?it/s]"
      ]
     },
     "metadata": {},
     "output_type": "display_data"
    },
    {
     "data": {
      "application/vnd.jupyter.widget-view+json": {
       "model_id": "8a1d997f1bd944d1a86f3ec07144921c",
       "version_major": 2,
       "version_minor": 0
      },
      "text/plain": [
       "Train:   0%|          | 0/250 [00:00<?, ?it/s]"
      ]
     },
     "metadata": {},
     "output_type": "display_data"
    },
    {
     "data": {
      "application/vnd.jupyter.widget-view+json": {
       "model_id": "44d2c1a3f09c4bafae4e9986dfe23bf4",
       "version_major": 2,
       "version_minor": 0
      },
      "text/plain": [
       "Eval:   0%|          | 0/13 [00:00<?, ?it/s]"
      ]
     },
     "metadata": {},
     "output_type": "display_data"
    },
    {
     "data": {
      "application/vnd.jupyter.widget-view+json": {
       "model_id": "f3fa696fd4ca49488a75acd8bf04131e",
       "version_major": 2,
       "version_minor": 0
      },
      "text/plain": [
       "Train:   0%|          | 0/250 [00:00<?, ?it/s]"
      ]
     },
     "metadata": {},
     "output_type": "display_data"
    },
    {
     "data": {
      "application/vnd.jupyter.widget-view+json": {
       "model_id": "645d1432454e45b0a3100f4d4155ec3a",
       "version_major": 2,
       "version_minor": 0
      },
      "text/plain": [
       "Eval:   0%|          | 0/13 [00:00<?, ?it/s]"
      ]
     },
     "metadata": {},
     "output_type": "display_data"
    },
    {
     "data": {
      "application/vnd.jupyter.widget-view+json": {
       "model_id": "e864108b835c4d85aa17d82e4364f9b7",
       "version_major": 2,
       "version_minor": 0
      },
      "text/plain": [
       "Train:   0%|          | 0/250 [00:00<?, ?it/s]"
      ]
     },
     "metadata": {},
     "output_type": "display_data"
    },
    {
     "data": {
      "application/vnd.jupyter.widget-view+json": {
       "model_id": "e85423b889b04c7f9460bf5fca865e07",
       "version_major": 2,
       "version_minor": 0
      },
      "text/plain": [
       "Eval:   0%|          | 0/13 [00:00<?, ?it/s]"
      ]
     },
     "metadata": {},
     "output_type": "display_data"
    },
    {
     "data": {
      "application/vnd.jupyter.widget-view+json": {
       "model_id": "837cffc540164c7689620e98e8cca9c1",
       "version_major": 2,
       "version_minor": 0
      },
      "text/plain": [
       "Train:   0%|          | 0/250 [00:00<?, ?it/s]"
      ]
     },
     "metadata": {},
     "output_type": "display_data"
    },
    {
     "data": {
      "application/vnd.jupyter.widget-view+json": {
       "model_id": "9042f85297f649bcbe6a8416c6cfacd1",
       "version_major": 2,
       "version_minor": 0
      },
      "text/plain": [
       "Eval:   0%|          | 0/13 [00:00<?, ?it/s]"
      ]
     },
     "metadata": {},
     "output_type": "display_data"
    },
    {
     "data": {
      "application/vnd.jupyter.widget-view+json": {
       "model_id": "a722b48940a442b9a29cde7e90067f20",
       "version_major": 2,
       "version_minor": 0
      },
      "text/plain": [
       "Train:   0%|          | 0/250 [00:00<?, ?it/s]"
      ]
     },
     "metadata": {},
     "output_type": "display_data"
    },
    {
     "data": {
      "application/vnd.jupyter.widget-view+json": {
       "model_id": "a83b5faa05ea4d58b3387f068495950b",
       "version_major": 2,
       "version_minor": 0
      },
      "text/plain": [
       "Eval:   0%|          | 0/13 [00:00<?, ?it/s]"
      ]
     },
     "metadata": {},
     "output_type": "display_data"
    },
    {
     "data": {
      "application/vnd.jupyter.widget-view+json": {
       "model_id": "638d8030ebdf4ffea803e4390b73034f",
       "version_major": 2,
       "version_minor": 0
      },
      "text/plain": [
       "Train:   0%|          | 0/250 [00:00<?, ?it/s]"
      ]
     },
     "metadata": {},
     "output_type": "display_data"
    },
    {
     "data": {
      "application/vnd.jupyter.widget-view+json": {
       "model_id": "22894a3072a5436eb59ff8328aed39b7",
       "version_major": 2,
       "version_minor": 0
      },
      "text/plain": [
       "Eval:   0%|          | 0/13 [00:00<?, ?it/s]"
      ]
     },
     "metadata": {},
     "output_type": "display_data"
    },
    {
     "data": {
      "application/vnd.jupyter.widget-view+json": {
       "model_id": "44ba5269ef4244778fe166d9afe11ea6",
       "version_major": 2,
       "version_minor": 0
      },
      "text/plain": [
       "Train:   0%|          | 0/250 [00:00<?, ?it/s]"
      ]
     },
     "metadata": {},
     "output_type": "display_data"
    },
    {
     "data": {
      "application/vnd.jupyter.widget-view+json": {
       "model_id": "7894317fe29043b0a6897fc1326e5b01",
       "version_major": 2,
       "version_minor": 0
      },
      "text/plain": [
       "Eval:   0%|          | 0/13 [00:00<?, ?it/s]"
      ]
     },
     "metadata": {},
     "output_type": "display_data"
    },
    {
     "data": {
      "application/vnd.jupyter.widget-view+json": {
       "model_id": "0531e1a932694fc49c7c6fdf6115e514",
       "version_major": 2,
       "version_minor": 0
      },
      "text/plain": [
       "Train:   0%|          | 0/250 [00:00<?, ?it/s]"
      ]
     },
     "metadata": {},
     "output_type": "display_data"
    },
    {
     "data": {
      "application/vnd.jupyter.widget-view+json": {
       "model_id": "5786b0e8e7254cf6b03cbb9bbd9ed97f",
       "version_major": 2,
       "version_minor": 0
      },
      "text/plain": [
       "Eval:   0%|          | 0/13 [00:00<?, ?it/s]"
      ]
     },
     "metadata": {},
     "output_type": "display_data"
    },
    {
     "data": {
      "application/vnd.jupyter.widget-view+json": {
       "model_id": "fa0e75133b4c4e04ad54b31d650c1ffd",
       "version_major": 2,
       "version_minor": 0
      },
      "text/plain": [
       "Train:   0%|          | 0/250 [00:00<?, ?it/s]"
      ]
     },
     "metadata": {},
     "output_type": "display_data"
    },
    {
     "data": {
      "application/vnd.jupyter.widget-view+json": {
       "model_id": "94360af1a8bd4f97bc18176e1112e4ca",
       "version_major": 2,
       "version_minor": 0
      },
      "text/plain": [
       "Eval:   0%|          | 0/13 [00:00<?, ?it/s]"
      ]
     },
     "metadata": {},
     "output_type": "display_data"
    },
    {
     "data": {
      "application/vnd.jupyter.widget-view+json": {
       "model_id": "24b0fdb1c8c54b99a2cd3957fe66f1c0",
       "version_major": 2,
       "version_minor": 0
      },
      "text/plain": [
       "Train:   0%|          | 0/250 [00:00<?, ?it/s]"
      ]
     },
     "metadata": {},
     "output_type": "display_data"
    },
    {
     "data": {
      "application/vnd.jupyter.widget-view+json": {
       "model_id": "0ef3c351ca40419fa684a4497c7414be",
       "version_major": 2,
       "version_minor": 0
      },
      "text/plain": [
       "Eval:   0%|          | 0/13 [00:00<?, ?it/s]"
      ]
     },
     "metadata": {},
     "output_type": "display_data"
    },
    {
     "data": {
      "application/vnd.jupyter.widget-view+json": {
       "model_id": "cdd4a2b6da614792af15e414941ac281",
       "version_major": 2,
       "version_minor": 0
      },
      "text/plain": [
       "Train:   0%|          | 0/250 [00:00<?, ?it/s]"
      ]
     },
     "metadata": {},
     "output_type": "display_data"
    },
    {
     "data": {
      "application/vnd.jupyter.widget-view+json": {
       "model_id": "345dd2e2bf0a4f499a7b19f672798aeb",
       "version_major": 2,
       "version_minor": 0
      },
      "text/plain": [
       "Eval:   0%|          | 0/13 [00:00<?, ?it/s]"
      ]
     },
     "metadata": {},
     "output_type": "display_data"
    },
    {
     "data": {
      "application/vnd.jupyter.widget-view+json": {
       "model_id": "3b3dcd1f205a4ffd8c6d978479b4b418",
       "version_major": 2,
       "version_minor": 0
      },
      "text/plain": [
       "Train:   0%|          | 0/250 [00:00<?, ?it/s]"
      ]
     },
     "metadata": {},
     "output_type": "display_data"
    },
    {
     "data": {
      "application/vnd.jupyter.widget-view+json": {
       "model_id": "3bd20974a3324c84a0658a11ff8a27c7",
       "version_major": 2,
       "version_minor": 0
      },
      "text/plain": [
       "Eval:   0%|          | 0/13 [00:00<?, ?it/s]"
      ]
     },
     "metadata": {},
     "output_type": "display_data"
    },
    {
     "data": {
      "application/vnd.jupyter.widget-view+json": {
       "model_id": "8f29277016614384813288354415a5d6",
       "version_major": 2,
       "version_minor": 0
      },
      "text/plain": [
       "Train:   0%|          | 0/250 [00:00<?, ?it/s]"
      ]
     },
     "metadata": {},
     "output_type": "display_data"
    },
    {
     "data": {
      "application/vnd.jupyter.widget-view+json": {
       "model_id": "b84134579e704df0bfdbf46c359989b1",
       "version_major": 2,
       "version_minor": 0
      },
      "text/plain": [
       "Eval:   0%|          | 0/13 [00:00<?, ?it/s]"
      ]
     },
     "metadata": {},
     "output_type": "display_data"
    },
    {
     "data": {
      "application/vnd.jupyter.widget-view+json": {
       "model_id": "bf68a3b4441c4502b135769a36507728",
       "version_major": 2,
       "version_minor": 0
      },
      "text/plain": [
       "Train:   0%|          | 0/250 [00:00<?, ?it/s]"
      ]
     },
     "metadata": {},
     "output_type": "display_data"
    },
    {
     "data": {
      "application/vnd.jupyter.widget-view+json": {
       "model_id": "b86a6994139547349cc076b165998c48",
       "version_major": 2,
       "version_minor": 0
      },
      "text/plain": [
       "Eval:   0%|          | 0/13 [00:00<?, ?it/s]"
      ]
     },
     "metadata": {},
     "output_type": "display_data"
    },
    {
     "data": {
      "application/vnd.jupyter.widget-view+json": {
       "model_id": "d853e0bc78834b14982ac134b5251323",
       "version_major": 2,
       "version_minor": 0
      },
      "text/plain": [
       "Train:   0%|          | 0/250 [00:00<?, ?it/s]"
      ]
     },
     "metadata": {},
     "output_type": "display_data"
    },
    {
     "data": {
      "application/vnd.jupyter.widget-view+json": {
       "model_id": "45046259d79c4d2f8eea054c449a0e50",
       "version_major": 2,
       "version_minor": 0
      },
      "text/plain": [
       "Eval:   0%|          | 0/13 [00:00<?, ?it/s]"
      ]
     },
     "metadata": {},
     "output_type": "display_data"
    },
    {
     "data": {
      "application/vnd.jupyter.widget-view+json": {
       "model_id": "c78e4848d8a748e6992c969bff8b6848",
       "version_major": 2,
       "version_minor": 0
      },
      "text/plain": [
       "Train:   0%|          | 0/250 [00:00<?, ?it/s]"
      ]
     },
     "metadata": {},
     "output_type": "display_data"
    },
    {
     "data": {
      "application/vnd.jupyter.widget-view+json": {
       "model_id": "5b234ec6bfab4c9baf522cace51ef8e0",
       "version_major": 2,
       "version_minor": 0
      },
      "text/plain": [
       "Eval:   0%|          | 0/13 [00:00<?, ?it/s]"
      ]
     },
     "metadata": {},
     "output_type": "display_data"
    },
    {
     "data": {
      "application/vnd.jupyter.widget-view+json": {
       "model_id": "741b54899dac40a99a48d0f6199d65cd",
       "version_major": 2,
       "version_minor": 0
      },
      "text/plain": [
       "Train:   0%|          | 0/250 [00:00<?, ?it/s]"
      ]
     },
     "metadata": {},
     "output_type": "display_data"
    },
    {
     "data": {
      "application/vnd.jupyter.widget-view+json": {
       "model_id": "a6fa1fd8e2a34ef5b8d6d932866e703b",
       "version_major": 2,
       "version_minor": 0
      },
      "text/plain": [
       "Eval:   0%|          | 0/13 [00:00<?, ?it/s]"
      ]
     },
     "metadata": {},
     "output_type": "display_data"
    },
    {
     "data": {
      "application/vnd.jupyter.widget-view+json": {
       "model_id": "99f043bb6f2645e69e47eed151db841a",
       "version_major": 2,
       "version_minor": 0
      },
      "text/plain": [
       "Train:   0%|          | 0/250 [00:00<?, ?it/s]"
      ]
     },
     "metadata": {},
     "output_type": "display_data"
    },
    {
     "data": {
      "application/vnd.jupyter.widget-view+json": {
       "model_id": "e832a562141e44fab1c25cc30e904270",
       "version_major": 2,
       "version_minor": 0
      },
      "text/plain": [
       "Eval:   0%|          | 0/13 [00:00<?, ?it/s]"
      ]
     },
     "metadata": {},
     "output_type": "display_data"
    },
    {
     "data": {
      "application/vnd.jupyter.widget-view+json": {
       "model_id": "5f17b7c3bece46e7b7c383a98d8ce84a",
       "version_major": 2,
       "version_minor": 0
      },
      "text/plain": [
       "Train:   0%|          | 0/250 [00:00<?, ?it/s]"
      ]
     },
     "metadata": {},
     "output_type": "display_data"
    },
    {
     "data": {
      "application/vnd.jupyter.widget-view+json": {
       "model_id": "4c7783e493714046a28319f23feff572",
       "version_major": 2,
       "version_minor": 0
      },
      "text/plain": [
       "Eval:   0%|          | 0/13 [00:00<?, ?it/s]"
      ]
     },
     "metadata": {},
     "output_type": "display_data"
    },
    {
     "data": {
      "application/vnd.jupyter.widget-view+json": {
       "model_id": "911508ea790949648f6c04321582a606",
       "version_major": 2,
       "version_minor": 0
      },
      "text/plain": [
       "Train:   0%|          | 0/250 [00:00<?, ?it/s]"
      ]
     },
     "metadata": {},
     "output_type": "display_data"
    },
    {
     "data": {
      "application/vnd.jupyter.widget-view+json": {
       "model_id": "95fcd895c1d74d4ca27925bc91f5c7db",
       "version_major": 2,
       "version_minor": 0
      },
      "text/plain": [
       "Eval:   0%|          | 0/13 [00:00<?, ?it/s]"
      ]
     },
     "metadata": {},
     "output_type": "display_data"
    },
    {
     "name": "stdout",
     "output_type": "stream",
     "text": [
      "New best loss: 0.26814359999619997\n"
     ]
    },
    {
     "data": {
      "application/vnd.jupyter.widget-view+json": {
       "model_id": "8ec6e46c339446b4ab67fe79444ca396",
       "version_major": 2,
       "version_minor": 0
      },
      "text/plain": [
       "Train:   0%|          | 0/250 [00:00<?, ?it/s]"
      ]
     },
     "metadata": {},
     "output_type": "display_data"
    },
    {
     "data": {
      "application/vnd.jupyter.widget-view+json": {
       "model_id": "99fd15b743984aec89359189feb42f06",
       "version_major": 2,
       "version_minor": 0
      },
      "text/plain": [
       "Eval:   0%|          | 0/13 [00:00<?, ?it/s]"
      ]
     },
     "metadata": {},
     "output_type": "display_data"
    },
    {
     "data": {
      "application/vnd.jupyter.widget-view+json": {
       "model_id": "a9f86b0fa9c94672ae2a595929832c13",
       "version_major": 2,
       "version_minor": 0
      },
      "text/plain": [
       "Train:   0%|          | 0/250 [00:00<?, ?it/s]"
      ]
     },
     "metadata": {},
     "output_type": "display_data"
    },
    {
     "data": {
      "application/vnd.jupyter.widget-view+json": {
       "model_id": "c0257f4bd6d1494dafa23f9642c072d7",
       "version_major": 2,
       "version_minor": 0
      },
      "text/plain": [
       "Eval:   0%|          | 0/13 [00:00<?, ?it/s]"
      ]
     },
     "metadata": {},
     "output_type": "display_data"
    },
    {
     "data": {
      "application/vnd.jupyter.widget-view+json": {
       "model_id": "4d4665bbd92b4801b9992b0302f39634",
       "version_major": 2,
       "version_minor": 0
      },
      "text/plain": [
       "Train:   0%|          | 0/250 [00:00<?, ?it/s]"
      ]
     },
     "metadata": {},
     "output_type": "display_data"
    },
    {
     "data": {
      "application/vnd.jupyter.widget-view+json": {
       "model_id": "84c10fb4afa34e82804fbb9192d3917c",
       "version_major": 2,
       "version_minor": 0
      },
      "text/plain": [
       "Eval:   0%|          | 0/13 [00:00<?, ?it/s]"
      ]
     },
     "metadata": {},
     "output_type": "display_data"
    },
    {
     "data": {
      "application/vnd.jupyter.widget-view+json": {
       "model_id": "7862b34884f54903b7e56c52bd9cfe31",
       "version_major": 2,
       "version_minor": 0
      },
      "text/plain": [
       "Train:   0%|          | 0/250 [00:00<?, ?it/s]"
      ]
     },
     "metadata": {},
     "output_type": "display_data"
    },
    {
     "data": {
      "application/vnd.jupyter.widget-view+json": {
       "model_id": "02d273c6943c43dfaa79f50d76d8020a",
       "version_major": 2,
       "version_minor": 0
      },
      "text/plain": [
       "Eval:   0%|          | 0/13 [00:00<?, ?it/s]"
      ]
     },
     "metadata": {},
     "output_type": "display_data"
    },
    {
     "data": {
      "application/vnd.jupyter.widget-view+json": {
       "model_id": "2947cadceccc4018a3ec57a4d65d1e27",
       "version_major": 2,
       "version_minor": 0
      },
      "text/plain": [
       "Train:   0%|          | 0/250 [00:00<?, ?it/s]"
      ]
     },
     "metadata": {},
     "output_type": "display_data"
    },
    {
     "data": {
      "application/vnd.jupyter.widget-view+json": {
       "model_id": "98c31a0100b2402c99a3a9ed2eccf877",
       "version_major": 2,
       "version_minor": 0
      },
      "text/plain": [
       "Eval:   0%|          | 0/13 [00:00<?, ?it/s]"
      ]
     },
     "metadata": {},
     "output_type": "display_data"
    },
    {
     "data": {
      "application/vnd.jupyter.widget-view+json": {
       "model_id": "0c35cc1f11524015acc69189bd8bb175",
       "version_major": 2,
       "version_minor": 0
      },
      "text/plain": [
       "Train:   0%|          | 0/250 [00:00<?, ?it/s]"
      ]
     },
     "metadata": {},
     "output_type": "display_data"
    },
    {
     "data": {
      "application/vnd.jupyter.widget-view+json": {
       "model_id": "5d4c0c4e66c64e8eae643f44c4466ff0",
       "version_major": 2,
       "version_minor": 0
      },
      "text/plain": [
       "Eval:   0%|          | 0/13 [00:00<?, ?it/s]"
      ]
     },
     "metadata": {},
     "output_type": "display_data"
    },
    {
     "data": {
      "application/vnd.jupyter.widget-view+json": {
       "model_id": "845b7c8bfb8e445d934099923c264c0f",
       "version_major": 2,
       "version_minor": 0
      },
      "text/plain": [
       "Train:   0%|          | 0/250 [00:00<?, ?it/s]"
      ]
     },
     "metadata": {},
     "output_type": "display_data"
    },
    {
     "data": {
      "application/vnd.jupyter.widget-view+json": {
       "model_id": "4937cb25825c4ea88b8c5d6de364eea3",
       "version_major": 2,
       "version_minor": 0
      },
      "text/plain": [
       "Eval:   0%|          | 0/13 [00:00<?, ?it/s]"
      ]
     },
     "metadata": {},
     "output_type": "display_data"
    },
    {
     "data": {
      "application/vnd.jupyter.widget-view+json": {
       "model_id": "7cc59693c9ef4c63874053a16d938084",
       "version_major": 2,
       "version_minor": 0
      },
      "text/plain": [
       "Train:   0%|          | 0/250 [00:00<?, ?it/s]"
      ]
     },
     "metadata": {},
     "output_type": "display_data"
    },
    {
     "data": {
      "application/vnd.jupyter.widget-view+json": {
       "model_id": "67c01fab682d424b91d9851a31aa6864",
       "version_major": 2,
       "version_minor": 0
      },
      "text/plain": [
       "Eval:   0%|          | 0/13 [00:00<?, ?it/s]"
      ]
     },
     "metadata": {},
     "output_type": "display_data"
    },
    {
     "data": {
      "application/vnd.jupyter.widget-view+json": {
       "model_id": "0445a60aa0664ae7bdc00c90a3a007fe",
       "version_major": 2,
       "version_minor": 0
      },
      "text/plain": [
       "Train:   0%|          | 0/250 [00:00<?, ?it/s]"
      ]
     },
     "metadata": {},
     "output_type": "display_data"
    },
    {
     "data": {
      "application/vnd.jupyter.widget-view+json": {
       "model_id": "29726c2f7c5b4c00a568f6ae780adca1",
       "version_major": 2,
       "version_minor": 0
      },
      "text/plain": [
       "Eval:   0%|          | 0/13 [00:00<?, ?it/s]"
      ]
     },
     "metadata": {},
     "output_type": "display_data"
    },
    {
     "data": {
      "application/vnd.jupyter.widget-view+json": {
       "model_id": "f3d1d60f6cd14a0fa8f0799b4dd7c9ac",
       "version_major": 2,
       "version_minor": 0
      },
      "text/plain": [
       "Train:   0%|          | 0/250 [00:00<?, ?it/s]"
      ]
     },
     "metadata": {},
     "output_type": "display_data"
    },
    {
     "data": {
      "application/vnd.jupyter.widget-view+json": {
       "model_id": "9c4a886e04024def8ac157b8b6263d6a",
       "version_major": 2,
       "version_minor": 0
      },
      "text/plain": [
       "Eval:   0%|          | 0/13 [00:00<?, ?it/s]"
      ]
     },
     "metadata": {},
     "output_type": "display_data"
    },
    {
     "data": {
      "application/vnd.jupyter.widget-view+json": {
       "model_id": "7ab60c23f1454ae69a73db93c759cd34",
       "version_major": 2,
       "version_minor": 0
      },
      "text/plain": [
       "Train:   0%|          | 0/250 [00:00<?, ?it/s]"
      ]
     },
     "metadata": {},
     "output_type": "display_data"
    },
    {
     "data": {
      "application/vnd.jupyter.widget-view+json": {
       "model_id": "f2fca9f7070642978ffe9f70c0e2a11f",
       "version_major": 2,
       "version_minor": 0
      },
      "text/plain": [
       "Eval:   0%|          | 0/13 [00:00<?, ?it/s]"
      ]
     },
     "metadata": {},
     "output_type": "display_data"
    },
    {
     "data": {
      "application/vnd.jupyter.widget-view+json": {
       "model_id": "2c75a0a88a76489f82a05f54e31b4c55",
       "version_major": 2,
       "version_minor": 0
      },
      "text/plain": [
       "Train:   0%|          | 0/250 [00:00<?, ?it/s]"
      ]
     },
     "metadata": {},
     "output_type": "display_data"
    },
    {
     "data": {
      "application/vnd.jupyter.widget-view+json": {
       "model_id": "7a8089c03b7549c89f6a61e3bcd6612d",
       "version_major": 2,
       "version_minor": 0
      },
      "text/plain": [
       "Eval:   0%|          | 0/13 [00:00<?, ?it/s]"
      ]
     },
     "metadata": {},
     "output_type": "display_data"
    },
    {
     "data": {
      "application/vnd.jupyter.widget-view+json": {
       "model_id": "027bae0dd91f4971ac71f52a3ac5923b",
       "version_major": 2,
       "version_minor": 0
      },
      "text/plain": [
       "Train:   0%|          | 0/250 [00:00<?, ?it/s]"
      ]
     },
     "metadata": {},
     "output_type": "display_data"
    },
    {
     "data": {
      "application/vnd.jupyter.widget-view+json": {
       "model_id": "0b3ea518b9eb410f9727f0daec7d9edb",
       "version_major": 2,
       "version_minor": 0
      },
      "text/plain": [
       "Eval:   0%|          | 0/13 [00:00<?, ?it/s]"
      ]
     },
     "metadata": {},
     "output_type": "display_data"
    },
    {
     "data": {
      "application/vnd.jupyter.widget-view+json": {
       "model_id": "d3afbca2a1eb41b19d3519d004abe3eb",
       "version_major": 2,
       "version_minor": 0
      },
      "text/plain": [
       "Train:   0%|          | 0/250 [00:00<?, ?it/s]"
      ]
     },
     "metadata": {},
     "output_type": "display_data"
    },
    {
     "data": {
      "application/vnd.jupyter.widget-view+json": {
       "model_id": "2391fc95b6ac46519208002cfcd864cd",
       "version_major": 2,
       "version_minor": 0
      },
      "text/plain": [
       "Eval:   0%|          | 0/13 [00:00<?, ?it/s]"
      ]
     },
     "metadata": {},
     "output_type": "display_data"
    },
    {
     "data": {
      "application/vnd.jupyter.widget-view+json": {
       "model_id": "c11f83cbda6146b8bc09634305489d24",
       "version_major": 2,
       "version_minor": 0
      },
      "text/plain": [
       "Train:   0%|          | 0/250 [00:00<?, ?it/s]"
      ]
     },
     "metadata": {},
     "output_type": "display_data"
    },
    {
     "data": {
      "application/vnd.jupyter.widget-view+json": {
       "model_id": "103198f63e7c470b8f02b0ece80588cc",
       "version_major": 2,
       "version_minor": 0
      },
      "text/plain": [
       "Eval:   0%|          | 0/13 [00:00<?, ?it/s]"
      ]
     },
     "metadata": {},
     "output_type": "display_data"
    },
    {
     "data": {
      "application/vnd.jupyter.widget-view+json": {
       "model_id": "4a8203276605424286119456e587762f",
       "version_major": 2,
       "version_minor": 0
      },
      "text/plain": [
       "Train:   0%|          | 0/250 [00:00<?, ?it/s]"
      ]
     },
     "metadata": {},
     "output_type": "display_data"
    },
    {
     "data": {
      "application/vnd.jupyter.widget-view+json": {
       "model_id": "28234cbad5ca439692343257136fd049",
       "version_major": 2,
       "version_minor": 0
      },
      "text/plain": [
       "Eval:   0%|          | 0/13 [00:00<?, ?it/s]"
      ]
     },
     "metadata": {},
     "output_type": "display_data"
    },
    {
     "data": {
      "application/vnd.jupyter.widget-view+json": {
       "model_id": "fa12f49e5ecb4f5598ae9d1e528d0671",
       "version_major": 2,
       "version_minor": 0
      },
      "text/plain": [
       "Train:   0%|          | 0/250 [00:00<?, ?it/s]"
      ]
     },
     "metadata": {},
     "output_type": "display_data"
    },
    {
     "data": {
      "application/vnd.jupyter.widget-view+json": {
       "model_id": "87689f6b23174bf6bce20f6f6ac0b526",
       "version_major": 2,
       "version_minor": 0
      },
      "text/plain": [
       "Eval:   0%|          | 0/13 [00:00<?, ?it/s]"
      ]
     },
     "metadata": {},
     "output_type": "display_data"
    },
    {
     "data": {
      "application/vnd.jupyter.widget-view+json": {
       "model_id": "ebd652c427374db088f4cac19da8cd7d",
       "version_major": 2,
       "version_minor": 0
      },
      "text/plain": [
       "Train:   0%|          | 0/250 [00:00<?, ?it/s]"
      ]
     },
     "metadata": {},
     "output_type": "display_data"
    },
    {
     "data": {
      "application/vnd.jupyter.widget-view+json": {
       "model_id": "32fdfdc7434f4b78bbf74367a875e329",
       "version_major": 2,
       "version_minor": 0
      },
      "text/plain": [
       "Eval:   0%|          | 0/13 [00:00<?, ?it/s]"
      ]
     },
     "metadata": {},
     "output_type": "display_data"
    },
    {
     "data": {
      "application/vnd.jupyter.widget-view+json": {
       "model_id": "c5fcc688aaba46e5b22003314a55f4d4",
       "version_major": 2,
       "version_minor": 0
      },
      "text/plain": [
       "Train:   0%|          | 0/250 [00:00<?, ?it/s]"
      ]
     },
     "metadata": {},
     "output_type": "display_data"
    },
    {
     "data": {
      "application/vnd.jupyter.widget-view+json": {
       "model_id": "b0f67eeb300b4be198c8f7f4831ccb92",
       "version_major": 2,
       "version_minor": 0
      },
      "text/plain": [
       "Eval:   0%|          | 0/13 [00:00<?, ?it/s]"
      ]
     },
     "metadata": {},
     "output_type": "display_data"
    },
    {
     "data": {
      "application/vnd.jupyter.widget-view+json": {
       "model_id": "ed63084ccb7147979480b3c349956626",
       "version_major": 2,
       "version_minor": 0
      },
      "text/plain": [
       "Train:   0%|          | 0/250 [00:00<?, ?it/s]"
      ]
     },
     "metadata": {},
     "output_type": "display_data"
    },
    {
     "data": {
      "application/vnd.jupyter.widget-view+json": {
       "model_id": "d73203598bdb4b4cbcb3ccedcf38aa79",
       "version_major": 2,
       "version_minor": 0
      },
      "text/plain": [
       "Eval:   0%|          | 0/13 [00:00<?, ?it/s]"
      ]
     },
     "metadata": {},
     "output_type": "display_data"
    },
    {
     "data": {
      "application/vnd.jupyter.widget-view+json": {
       "model_id": "b16a81f3d94d460297fed82a9e3ba3e2",
       "version_major": 2,
       "version_minor": 0
      },
      "text/plain": [
       "Train:   0%|          | 0/250 [00:00<?, ?it/s]"
      ]
     },
     "metadata": {},
     "output_type": "display_data"
    },
    {
     "data": {
      "application/vnd.jupyter.widget-view+json": {
       "model_id": "395f8e85c3a34083b12b0f4f19295cac",
       "version_major": 2,
       "version_minor": 0
      },
      "text/plain": [
       "Eval:   0%|          | 0/13 [00:00<?, ?it/s]"
      ]
     },
     "metadata": {},
     "output_type": "display_data"
    },
    {
     "data": {
      "application/vnd.jupyter.widget-view+json": {
       "model_id": "81227cd1d82747b797ad5525687260db",
       "version_major": 2,
       "version_minor": 0
      },
      "text/plain": [
       "Train:   0%|          | 0/250 [00:00<?, ?it/s]"
      ]
     },
     "metadata": {},
     "output_type": "display_data"
    },
    {
     "data": {
      "application/vnd.jupyter.widget-view+json": {
       "model_id": "8d065d04822341d5977186a5faaef0da",
       "version_major": 2,
       "version_minor": 0
      },
      "text/plain": [
       "Eval:   0%|          | 0/13 [00:00<?, ?it/s]"
      ]
     },
     "metadata": {},
     "output_type": "display_data"
    },
    {
     "data": {
      "application/vnd.jupyter.widget-view+json": {
       "model_id": "c60a49474d4544cb888e9f06408cc8b7",
       "version_major": 2,
       "version_minor": 0
      },
      "text/plain": [
       "Train:   0%|          | 0/250 [00:00<?, ?it/s]"
      ]
     },
     "metadata": {},
     "output_type": "display_data"
    },
    {
     "data": {
      "application/vnd.jupyter.widget-view+json": {
       "model_id": "f50b282d10fc41eab120195b1be5b0d6",
       "version_major": 2,
       "version_minor": 0
      },
      "text/plain": [
       "Eval:   0%|          | 0/13 [00:00<?, ?it/s]"
      ]
     },
     "metadata": {},
     "output_type": "display_data"
    },
    {
     "data": {
      "application/vnd.jupyter.widget-view+json": {
       "model_id": "24328b7ca31b46a4a28a40ab7804e932",
       "version_major": 2,
       "version_minor": 0
      },
      "text/plain": [
       "Train:   0%|          | 0/250 [00:00<?, ?it/s]"
      ]
     },
     "metadata": {},
     "output_type": "display_data"
    },
    {
     "data": {
      "application/vnd.jupyter.widget-view+json": {
       "model_id": "ee6f03b9aa5e4b0b96a59ee4481c6836",
       "version_major": 2,
       "version_minor": 0
      },
      "text/plain": [
       "Eval:   0%|          | 0/13 [00:00<?, ?it/s]"
      ]
     },
     "metadata": {},
     "output_type": "display_data"
    },
    {
     "data": {
      "application/vnd.jupyter.widget-view+json": {
       "model_id": "0e08382408994889ab25ca7be578891c",
       "version_major": 2,
       "version_minor": 0
      },
      "text/plain": [
       "Train:   0%|          | 0/250 [00:00<?, ?it/s]"
      ]
     },
     "metadata": {},
     "output_type": "display_data"
    },
    {
     "data": {
      "application/vnd.jupyter.widget-view+json": {
       "model_id": "cfb454467c1340a8942284a147297073",
       "version_major": 2,
       "version_minor": 0
      },
      "text/plain": [
       "Eval:   0%|          | 0/13 [00:00<?, ?it/s]"
      ]
     },
     "metadata": {},
     "output_type": "display_data"
    },
    {
     "data": {
      "application/vnd.jupyter.widget-view+json": {
       "model_id": "eab7b763f6f64ffeb0b9040c54661d8e",
       "version_major": 2,
       "version_minor": 0
      },
      "text/plain": [
       "Train:   0%|          | 0/250 [00:00<?, ?it/s]"
      ]
     },
     "metadata": {},
     "output_type": "display_data"
    },
    {
     "data": {
      "application/vnd.jupyter.widget-view+json": {
       "model_id": "abe0d00f921344da976a63f96e0943f8",
       "version_major": 2,
       "version_minor": 0
      },
      "text/plain": [
       "Eval:   0%|          | 0/13 [00:00<?, ?it/s]"
      ]
     },
     "metadata": {},
     "output_type": "display_data"
    },
    {
     "data": {
      "application/vnd.jupyter.widget-view+json": {
       "model_id": "ba61aeb330d2483d9b7bc0bdf63f5da4",
       "version_major": 2,
       "version_minor": 0
      },
      "text/plain": [
       "Train:   0%|          | 0/250 [00:00<?, ?it/s]"
      ]
     },
     "metadata": {},
     "output_type": "display_data"
    },
    {
     "data": {
      "application/vnd.jupyter.widget-view+json": {
       "model_id": "a57479c2f9d34c9593dbeea374b41aa7",
       "version_major": 2,
       "version_minor": 0
      },
      "text/plain": [
       "Eval:   0%|          | 0/13 [00:00<?, ?it/s]"
      ]
     },
     "metadata": {},
     "output_type": "display_data"
    },
    {
     "data": {
      "application/vnd.jupyter.widget-view+json": {
       "model_id": "433711573b85466cb507949a877c76fb",
       "version_major": 2,
       "version_minor": 0
      },
      "text/plain": [
       "Train:   0%|          | 0/250 [00:00<?, ?it/s]"
      ]
     },
     "metadata": {},
     "output_type": "display_data"
    },
    {
     "data": {
      "application/vnd.jupyter.widget-view+json": {
       "model_id": "0f782efaa67c4ddcac1c7daae0642cd0",
       "version_major": 2,
       "version_minor": 0
      },
      "text/plain": [
       "Eval:   0%|          | 0/13 [00:00<?, ?it/s]"
      ]
     },
     "metadata": {},
     "output_type": "display_data"
    },
    {
     "data": {
      "application/vnd.jupyter.widget-view+json": {
       "model_id": "08ed7c012c9042279b399c9b16b684e4",
       "version_major": 2,
       "version_minor": 0
      },
      "text/plain": [
       "Train:   0%|          | 0/250 [00:00<?, ?it/s]"
      ]
     },
     "metadata": {},
     "output_type": "display_data"
    },
    {
     "data": {
      "application/vnd.jupyter.widget-view+json": {
       "model_id": "51c3cb826fa54543b1b54f9c02b5b666",
       "version_major": 2,
       "version_minor": 0
      },
      "text/plain": [
       "Eval:   0%|          | 0/13 [00:00<?, ?it/s]"
      ]
     },
     "metadata": {},
     "output_type": "display_data"
    },
    {
     "data": {
      "application/vnd.jupyter.widget-view+json": {
       "model_id": "1d31cfa6e5274db3b459995b333d491c",
       "version_major": 2,
       "version_minor": 0
      },
      "text/plain": [
       "Train:   0%|          | 0/250 [00:00<?, ?it/s]"
      ]
     },
     "metadata": {},
     "output_type": "display_data"
    },
    {
     "data": {
      "application/vnd.jupyter.widget-view+json": {
       "model_id": "84c0bd25badf43e681fc2d23aa67718d",
       "version_major": 2,
       "version_minor": 0
      },
      "text/plain": [
       "Eval:   0%|          | 0/13 [00:00<?, ?it/s]"
      ]
     },
     "metadata": {},
     "output_type": "display_data"
    },
    {
     "data": {
      "application/vnd.jupyter.widget-view+json": {
       "model_id": "150ccd8bd63a4f2a8d2de093c16da77f",
       "version_major": 2,
       "version_minor": 0
      },
      "text/plain": [
       "Train:   0%|          | 0/250 [00:00<?, ?it/s]"
      ]
     },
     "metadata": {},
     "output_type": "display_data"
    },
    {
     "data": {
      "application/vnd.jupyter.widget-view+json": {
       "model_id": "a2a33e43f16545408d5acb9fdfba6ead",
       "version_major": 2,
       "version_minor": 0
      },
      "text/plain": [
       "Eval:   0%|          | 0/13 [00:00<?, ?it/s]"
      ]
     },
     "metadata": {},
     "output_type": "display_data"
    },
    {
     "data": {
      "application/vnd.jupyter.widget-view+json": {
       "model_id": "b253cdb3c4214aabbee991910260d02a",
       "version_major": 2,
       "version_minor": 0
      },
      "text/plain": [
       "Train:   0%|          | 0/250 [00:00<?, ?it/s]"
      ]
     },
     "metadata": {},
     "output_type": "display_data"
    },
    {
     "data": {
      "application/vnd.jupyter.widget-view+json": {
       "model_id": "871471e827044f359778de7383286639",
       "version_major": 2,
       "version_minor": 0
      },
      "text/plain": [
       "Eval:   0%|          | 0/13 [00:00<?, ?it/s]"
      ]
     },
     "metadata": {},
     "output_type": "display_data"
    },
    {
     "data": {
      "application/vnd.jupyter.widget-view+json": {
       "model_id": "84a43b9dcc574f5cb3b179b1c5cf23a4",
       "version_major": 2,
       "version_minor": 0
      },
      "text/plain": [
       "Train:   0%|          | 0/250 [00:00<?, ?it/s]"
      ]
     },
     "metadata": {},
     "output_type": "display_data"
    },
    {
     "data": {
      "application/vnd.jupyter.widget-view+json": {
       "model_id": "9b468418e9804637a68d1c03882e2961",
       "version_major": 2,
       "version_minor": 0
      },
      "text/plain": [
       "Eval:   0%|          | 0/13 [00:00<?, ?it/s]"
      ]
     },
     "metadata": {},
     "output_type": "display_data"
    },
    {
     "data": {
      "application/vnd.jupyter.widget-view+json": {
       "model_id": "a734c0c705de4009890852e1ce8af70f",
       "version_major": 2,
       "version_minor": 0
      },
      "text/plain": [
       "Train:   0%|          | 0/250 [00:00<?, ?it/s]"
      ]
     },
     "metadata": {},
     "output_type": "display_data"
    },
    {
     "data": {
      "application/vnd.jupyter.widget-view+json": {
       "model_id": "58581d18ba1148c8b6589a224769151c",
       "version_major": 2,
       "version_minor": 0
      },
      "text/plain": [
       "Eval:   0%|          | 0/13 [00:00<?, ?it/s]"
      ]
     },
     "metadata": {},
     "output_type": "display_data"
    },
    {
     "data": {
      "application/vnd.jupyter.widget-view+json": {
       "model_id": "900a65c2fea045688f13941c60c3bcc2",
       "version_major": 2,
       "version_minor": 0
      },
      "text/plain": [
       "Train:   0%|          | 0/250 [00:00<?, ?it/s]"
      ]
     },
     "metadata": {},
     "output_type": "display_data"
    },
    {
     "data": {
      "application/vnd.jupyter.widget-view+json": {
       "model_id": "15cc4d99d97c4953b105b573a131dff5",
       "version_major": 2,
       "version_minor": 0
      },
      "text/plain": [
       "Eval:   0%|          | 0/13 [00:00<?, ?it/s]"
      ]
     },
     "metadata": {},
     "output_type": "display_data"
    },
    {
     "data": {
      "application/vnd.jupyter.widget-view+json": {
       "model_id": "696924706dad49d3a234de28d217e9e5",
       "version_major": 2,
       "version_minor": 0
      },
      "text/plain": [
       "Train:   0%|          | 0/250 [00:00<?, ?it/s]"
      ]
     },
     "metadata": {},
     "output_type": "display_data"
    },
    {
     "data": {
      "application/vnd.jupyter.widget-view+json": {
       "model_id": "9c352e4da4264910800d4dc7d25759a8",
       "version_major": 2,
       "version_minor": 0
      },
      "text/plain": [
       "Eval:   0%|          | 0/13 [00:00<?, ?it/s]"
      ]
     },
     "metadata": {},
     "output_type": "display_data"
    },
    {
     "data": {
      "application/vnd.jupyter.widget-view+json": {
       "model_id": "698d604145fc4c94a008175a9dce7299",
       "version_major": 2,
       "version_minor": 0
      },
      "text/plain": [
       "Train:   0%|          | 0/250 [00:00<?, ?it/s]"
      ]
     },
     "metadata": {},
     "output_type": "display_data"
    },
    {
     "data": {
      "application/vnd.jupyter.widget-view+json": {
       "model_id": "a227db56a8eb43919b2620d74dd0b549",
       "version_major": 2,
       "version_minor": 0
      },
      "text/plain": [
       "Eval:   0%|          | 0/13 [00:00<?, ?it/s]"
      ]
     },
     "metadata": {},
     "output_type": "display_data"
    },
    {
     "data": {
      "application/vnd.jupyter.widget-view+json": {
       "model_id": "c4aab2691d124b13bc5c24ceedb3ab51",
       "version_major": 2,
       "version_minor": 0
      },
      "text/plain": [
       "Train:   0%|          | 0/250 [00:00<?, ?it/s]"
      ]
     },
     "metadata": {},
     "output_type": "display_data"
    },
    {
     "data": {
      "application/vnd.jupyter.widget-view+json": {
       "model_id": "a6d8dffea83a48398456ca9474272ecf",
       "version_major": 2,
       "version_minor": 0
      },
      "text/plain": [
       "Eval:   0%|          | 0/13 [00:00<?, ?it/s]"
      ]
     },
     "metadata": {},
     "output_type": "display_data"
    },
    {
     "data": {
      "application/vnd.jupyter.widget-view+json": {
       "model_id": "49a73c5329aa44139f201e5a3c191491",
       "version_major": 2,
       "version_minor": 0
      },
      "text/plain": [
       "Train:   0%|          | 0/250 [00:00<?, ?it/s]"
      ]
     },
     "metadata": {},
     "output_type": "display_data"
    },
    {
     "data": {
      "application/vnd.jupyter.widget-view+json": {
       "model_id": "0eaeed0974dc4766ac6b7eec59011425",
       "version_major": 2,
       "version_minor": 0
      },
      "text/plain": [
       "Eval:   0%|          | 0/13 [00:00<?, ?it/s]"
      ]
     },
     "metadata": {},
     "output_type": "display_data"
    },
    {
     "data": {
      "application/vnd.jupyter.widget-view+json": {
       "model_id": "d28b54fc3dc84020990a2f71bd154624",
       "version_major": 2,
       "version_minor": 0
      },
      "text/plain": [
       "Train:   0%|          | 0/250 [00:00<?, ?it/s]"
      ]
     },
     "metadata": {},
     "output_type": "display_data"
    },
    {
     "data": {
      "application/vnd.jupyter.widget-view+json": {
       "model_id": "ec41cbf0695c41639384c3de72664963",
       "version_major": 2,
       "version_minor": 0
      },
      "text/plain": [
       "Eval:   0%|          | 0/13 [00:00<?, ?it/s]"
      ]
     },
     "metadata": {},
     "output_type": "display_data"
    },
    {
     "data": {
      "application/vnd.jupyter.widget-view+json": {
       "model_id": "4354e6352464475fb9c6886b309f879c",
       "version_major": 2,
       "version_minor": 0
      },
      "text/plain": [
       "Train:   0%|          | 0/250 [00:00<?, ?it/s]"
      ]
     },
     "metadata": {},
     "output_type": "display_data"
    },
    {
     "data": {
      "application/vnd.jupyter.widget-view+json": {
       "model_id": "2c536f43034c4ffd847827b575fd9b94",
       "version_major": 2,
       "version_minor": 0
      },
      "text/plain": [
       "Eval:   0%|          | 0/13 [00:00<?, ?it/s]"
      ]
     },
     "metadata": {},
     "output_type": "display_data"
    },
    {
     "data": {
      "application/vnd.jupyter.widget-view+json": {
       "model_id": "94ea1e4ffaad4935a43d0d148724b0ee",
       "version_major": 2,
       "version_minor": 0
      },
      "text/plain": [
       "Train:   0%|          | 0/250 [00:00<?, ?it/s]"
      ]
     },
     "metadata": {},
     "output_type": "display_data"
    },
    {
     "data": {
      "application/vnd.jupyter.widget-view+json": {
       "model_id": "0f9d770530c944a5998f4ee58c128b0a",
       "version_major": 2,
       "version_minor": 0
      },
      "text/plain": [
       "Eval:   0%|          | 0/13 [00:00<?, ?it/s]"
      ]
     },
     "metadata": {},
     "output_type": "display_data"
    },
    {
     "data": {
      "application/vnd.jupyter.widget-view+json": {
       "model_id": "33a1f15a97824be2bba1396b6b7dbc1f",
       "version_major": 2,
       "version_minor": 0
      },
      "text/plain": [
       "Train:   0%|          | 0/250 [00:00<?, ?it/s]"
      ]
     },
     "metadata": {},
     "output_type": "display_data"
    },
    {
     "data": {
      "application/vnd.jupyter.widget-view+json": {
       "model_id": "432c83e4a8f44f248dd36bc58b1cf708",
       "version_major": 2,
       "version_minor": 0
      },
      "text/plain": [
       "Eval:   0%|          | 0/13 [00:00<?, ?it/s]"
      ]
     },
     "metadata": {},
     "output_type": "display_data"
    },
    {
     "data": {
      "application/vnd.jupyter.widget-view+json": {
       "model_id": "dacfa6b0212545738c8cf048ab072aa4",
       "version_major": 2,
       "version_minor": 0
      },
      "text/plain": [
       "Train:   0%|          | 0/250 [00:00<?, ?it/s]"
      ]
     },
     "metadata": {},
     "output_type": "display_data"
    },
    {
     "data": {
      "application/vnd.jupyter.widget-view+json": {
       "model_id": "474ca990ebee4c1eb0c5e11a62db6ccf",
       "version_major": 2,
       "version_minor": 0
      },
      "text/plain": [
       "Eval:   0%|          | 0/13 [00:00<?, ?it/s]"
      ]
     },
     "metadata": {},
     "output_type": "display_data"
    },
    {
     "data": {
      "application/vnd.jupyter.widget-view+json": {
       "model_id": "85a05d3b5d4a46c6b1977deef7114e71",
       "version_major": 2,
       "version_minor": 0
      },
      "text/plain": [
       "Train:   0%|          | 0/250 [00:00<?, ?it/s]"
      ]
     },
     "metadata": {},
     "output_type": "display_data"
    },
    {
     "data": {
      "application/vnd.jupyter.widget-view+json": {
       "model_id": "a3a779cd7d074336b9911d9cb5954b10",
       "version_major": 2,
       "version_minor": 0
      },
      "text/plain": [
       "Eval:   0%|          | 0/13 [00:00<?, ?it/s]"
      ]
     },
     "metadata": {},
     "output_type": "display_data"
    },
    {
     "data": {
      "application/vnd.jupyter.widget-view+json": {
       "model_id": "0f2ab8f5213641daaccbaff4ea9a6b8d",
       "version_major": 2,
       "version_minor": 0
      },
      "text/plain": [
       "Train:   0%|          | 0/250 [00:00<?, ?it/s]"
      ]
     },
     "metadata": {},
     "output_type": "display_data"
    },
    {
     "data": {
      "application/vnd.jupyter.widget-view+json": {
       "model_id": "e38065ee2daf4ac6b9de85ab253ebb52",
       "version_major": 2,
       "version_minor": 0
      },
      "text/plain": [
       "Eval:   0%|          | 0/13 [00:00<?, ?it/s]"
      ]
     },
     "metadata": {},
     "output_type": "display_data"
    },
    {
     "data": {
      "application/vnd.jupyter.widget-view+json": {
       "model_id": "668ae240c28a4b19ba3bd36f59beea32",
       "version_major": 2,
       "version_minor": 0
      },
      "text/plain": [
       "Train:   0%|          | 0/250 [00:00<?, ?it/s]"
      ]
     },
     "metadata": {},
     "output_type": "display_data"
    },
    {
     "data": {
      "application/vnd.jupyter.widget-view+json": {
       "model_id": "b93fc6a508ec4422a57047a088534ee8",
       "version_major": 2,
       "version_minor": 0
      },
      "text/plain": [
       "Eval:   0%|          | 0/13 [00:00<?, ?it/s]"
      ]
     },
     "metadata": {},
     "output_type": "display_data"
    },
    {
     "data": {
      "application/vnd.jupyter.widget-view+json": {
       "model_id": "966c0c1ffaf84a1cbfb8765436c83587",
       "version_major": 2,
       "version_minor": 0
      },
      "text/plain": [
       "Train:   0%|          | 0/250 [00:00<?, ?it/s]"
      ]
     },
     "metadata": {},
     "output_type": "display_data"
    },
    {
     "data": {
      "application/vnd.jupyter.widget-view+json": {
       "model_id": "5c65930ad73a4ca187c93d569fe8f5f4",
       "version_major": 2,
       "version_minor": 0
      },
      "text/plain": [
       "Eval:   0%|          | 0/13 [00:00<?, ?it/s]"
      ]
     },
     "metadata": {},
     "output_type": "display_data"
    },
    {
     "data": {
      "application/vnd.jupyter.widget-view+json": {
       "model_id": "11c37469f31b4c9db4ccefc93c4c417e",
       "version_major": 2,
       "version_minor": 0
      },
      "text/plain": [
       "Train:   0%|          | 0/250 [00:00<?, ?it/s]"
      ]
     },
     "metadata": {},
     "output_type": "display_data"
    },
    {
     "data": {
      "application/vnd.jupyter.widget-view+json": {
       "model_id": "963a01845a6e4cc4ab3cd11113280a00",
       "version_major": 2,
       "version_minor": 0
      },
      "text/plain": [
       "Eval:   0%|          | 0/13 [00:00<?, ?it/s]"
      ]
     },
     "metadata": {},
     "output_type": "display_data"
    },
    {
     "data": {
      "application/vnd.jupyter.widget-view+json": {
       "model_id": "17080114dbf443d5a299435a013a796a",
       "version_major": 2,
       "version_minor": 0
      },
      "text/plain": [
       "Train:   0%|          | 0/250 [00:00<?, ?it/s]"
      ]
     },
     "metadata": {},
     "output_type": "display_data"
    },
    {
     "data": {
      "application/vnd.jupyter.widget-view+json": {
       "model_id": "2214c04a25754125b6263dab1899f376",
       "version_major": 2,
       "version_minor": 0
      },
      "text/plain": [
       "Eval:   0%|          | 0/13 [00:00<?, ?it/s]"
      ]
     },
     "metadata": {},
     "output_type": "display_data"
    },
    {
     "data": {
      "application/vnd.jupyter.widget-view+json": {
       "model_id": "a0e13170e6d643d685cf9aabcf4c2c54",
       "version_major": 2,
       "version_minor": 0
      },
      "text/plain": [
       "Train:   0%|          | 0/250 [00:00<?, ?it/s]"
      ]
     },
     "metadata": {},
     "output_type": "display_data"
    },
    {
     "data": {
      "application/vnd.jupyter.widget-view+json": {
       "model_id": "3bf8f22aaf334f5bad466a63147d02a0",
       "version_major": 2,
       "version_minor": 0
      },
      "text/plain": [
       "Eval:   0%|          | 0/13 [00:00<?, ?it/s]"
      ]
     },
     "metadata": {},
     "output_type": "display_data"
    },
    {
     "data": {
      "application/vnd.jupyter.widget-view+json": {
       "model_id": "4b8d9fe4ddfc450895b75e9aacd0102b",
       "version_major": 2,
       "version_minor": 0
      },
      "text/plain": [
       "Train:   0%|          | 0/250 [00:00<?, ?it/s]"
      ]
     },
     "metadata": {},
     "output_type": "display_data"
    },
    {
     "data": {
      "application/vnd.jupyter.widget-view+json": {
       "model_id": "7d187b3239c4498a983b1c4c20047262",
       "version_major": 2,
       "version_minor": 0
      },
      "text/plain": [
       "Eval:   0%|          | 0/13 [00:00<?, ?it/s]"
      ]
     },
     "metadata": {},
     "output_type": "display_data"
    },
    {
     "data": {
      "application/vnd.jupyter.widget-view+json": {
       "model_id": "01ab94cf3834401b9716b65f6ff2bf87",
       "version_major": 2,
       "version_minor": 0
      },
      "text/plain": [
       "Train:   0%|          | 0/250 [00:00<?, ?it/s]"
      ]
     },
     "metadata": {},
     "output_type": "display_data"
    },
    {
     "data": {
      "application/vnd.jupyter.widget-view+json": {
       "model_id": "e11be485f8fd4e80a6aaf19157c3ef58",
       "version_major": 2,
       "version_minor": 0
      },
      "text/plain": [
       "Eval:   0%|          | 0/13 [00:00<?, ?it/s]"
      ]
     },
     "metadata": {},
     "output_type": "display_data"
    },
    {
     "data": {
      "application/vnd.jupyter.widget-view+json": {
       "model_id": "6c93265b13bf4019ae1e2f554b7025f5",
       "version_major": 2,
       "version_minor": 0
      },
      "text/plain": [
       "Train:   0%|          | 0/250 [00:00<?, ?it/s]"
      ]
     },
     "metadata": {},
     "output_type": "display_data"
    },
    {
     "data": {
      "application/vnd.jupyter.widget-view+json": {
       "model_id": "c581dfcc4bb84ae3ac9f7c050c15f532",
       "version_major": 2,
       "version_minor": 0
      },
      "text/plain": [
       "Eval:   0%|          | 0/13 [00:00<?, ?it/s]"
      ]
     },
     "metadata": {},
     "output_type": "display_data"
    },
    {
     "data": {
      "application/vnd.jupyter.widget-view+json": {
       "model_id": "6a31d80065554ccc8bcee424b9c34178",
       "version_major": 2,
       "version_minor": 0
      },
      "text/plain": [
       "Train:   0%|          | 0/250 [00:00<?, ?it/s]"
      ]
     },
     "metadata": {},
     "output_type": "display_data"
    },
    {
     "data": {
      "application/vnd.jupyter.widget-view+json": {
       "model_id": "04aab612e931416da6e5bd7ff230072e",
       "version_major": 2,
       "version_minor": 0
      },
      "text/plain": [
       "Eval:   0%|          | 0/13 [00:00<?, ?it/s]"
      ]
     },
     "metadata": {},
     "output_type": "display_data"
    },
    {
     "data": {
      "application/vnd.jupyter.widget-view+json": {
       "model_id": "bee0ff38674e4eb0bf2df73be090e3c5",
       "version_major": 2,
       "version_minor": 0
      },
      "text/plain": [
       "Train:   0%|          | 0/250 [00:00<?, ?it/s]"
      ]
     },
     "metadata": {},
     "output_type": "display_data"
    },
    {
     "data": {
      "application/vnd.jupyter.widget-view+json": {
       "model_id": "1750109c65d44157b367a50716dc3647",
       "version_major": 2,
       "version_minor": 0
      },
      "text/plain": [
       "Eval:   0%|          | 0/13 [00:00<?, ?it/s]"
      ]
     },
     "metadata": {},
     "output_type": "display_data"
    },
    {
     "data": {
      "application/vnd.jupyter.widget-view+json": {
       "model_id": "07c70de4420f4a408760a2a3995d9bad",
       "version_major": 2,
       "version_minor": 0
      },
      "text/plain": [
       "Train:   0%|          | 0/250 [00:00<?, ?it/s]"
      ]
     },
     "metadata": {},
     "output_type": "display_data"
    },
    {
     "data": {
      "application/vnd.jupyter.widget-view+json": {
       "model_id": "4a0557a298274cb19104bbd0b09415b8",
       "version_major": 2,
       "version_minor": 0
      },
      "text/plain": [
       "Eval:   0%|          | 0/13 [00:00<?, ?it/s]"
      ]
     },
     "metadata": {},
     "output_type": "display_data"
    },
    {
     "data": {
      "application/vnd.jupyter.widget-view+json": {
       "model_id": "70957f9531604369a6f003c8b8868d0c",
       "version_major": 2,
       "version_minor": 0
      },
      "text/plain": [
       "Train:   0%|          | 0/250 [00:00<?, ?it/s]"
      ]
     },
     "metadata": {},
     "output_type": "display_data"
    },
    {
     "data": {
      "application/vnd.jupyter.widget-view+json": {
       "model_id": "2dbfd96d2cc045268d04cea664a701c0",
       "version_major": 2,
       "version_minor": 0
      },
      "text/plain": [
       "Eval:   0%|          | 0/13 [00:00<?, ?it/s]"
      ]
     },
     "metadata": {},
     "output_type": "display_data"
    },
    {
     "data": {
      "application/vnd.jupyter.widget-view+json": {
       "model_id": "0957a38b7c0843f4a2dd1b760d8f9622",
       "version_major": 2,
       "version_minor": 0
      },
      "text/plain": [
       "Train:   0%|          | 0/250 [00:00<?, ?it/s]"
      ]
     },
     "metadata": {},
     "output_type": "display_data"
    },
    {
     "data": {
      "application/vnd.jupyter.widget-view+json": {
       "model_id": "1e52a91ae95a46a7975ce1077b04f2ed",
       "version_major": 2,
       "version_minor": 0
      },
      "text/plain": [
       "Eval:   0%|          | 0/13 [00:00<?, ?it/s]"
      ]
     },
     "metadata": {},
     "output_type": "display_data"
    },
    {
     "data": {
      "application/vnd.jupyter.widget-view+json": {
       "model_id": "2af195d8e7914fc0ad3ffbd87ffb41e8",
       "version_major": 2,
       "version_minor": 0
      },
      "text/plain": [
       "Train:   0%|          | 0/250 [00:00<?, ?it/s]"
      ]
     },
     "metadata": {},
     "output_type": "display_data"
    },
    {
     "data": {
      "application/vnd.jupyter.widget-view+json": {
       "model_id": "b7f3de17d68b4ec28b9e48eae5b52102",
       "version_major": 2,
       "version_minor": 0
      },
      "text/plain": [
       "Eval:   0%|          | 0/13 [00:00<?, ?it/s]"
      ]
     },
     "metadata": {},
     "output_type": "display_data"
    },
    {
     "data": {
      "application/vnd.jupyter.widget-view+json": {
       "model_id": "1ff4da9ecf624a3a9335b831163aade1",
       "version_major": 2,
       "version_minor": 0
      },
      "text/plain": [
       "Train:   0%|          | 0/250 [00:00<?, ?it/s]"
      ]
     },
     "metadata": {},
     "output_type": "display_data"
    },
    {
     "data": {
      "application/vnd.jupyter.widget-view+json": {
       "model_id": "096a4dc489104dcd9a146383ebecb03e",
       "version_major": 2,
       "version_minor": 0
      },
      "text/plain": [
       "Eval:   0%|          | 0/13 [00:00<?, ?it/s]"
      ]
     },
     "metadata": {},
     "output_type": "display_data"
    },
    {
     "data": {
      "application/vnd.jupyter.widget-view+json": {
       "model_id": "b52ea6c78e424e96b6ecf4308ca39def",
       "version_major": 2,
       "version_minor": 0
      },
      "text/plain": [
       "Train:   0%|          | 0/250 [00:00<?, ?it/s]"
      ]
     },
     "metadata": {},
     "output_type": "display_data"
    },
    {
     "data": {
      "application/vnd.jupyter.widget-view+json": {
       "model_id": "54057c2250ba4c7b99b4238e5f3f8e28",
       "version_major": 2,
       "version_minor": 0
      },
      "text/plain": [
       "Eval:   0%|          | 0/13 [00:00<?, ?it/s]"
      ]
     },
     "metadata": {},
     "output_type": "display_data"
    },
    {
     "data": {
      "application/vnd.jupyter.widget-view+json": {
       "model_id": "2454392e17d04975a4e93376e736e9ea",
       "version_major": 2,
       "version_minor": 0
      },
      "text/plain": [
       "Train:   0%|          | 0/250 [00:00<?, ?it/s]"
      ]
     },
     "metadata": {},
     "output_type": "display_data"
    },
    {
     "data": {
      "application/vnd.jupyter.widget-view+json": {
       "model_id": "a5c31fe7fd8046df9906bb0d6071f253",
       "version_major": 2,
       "version_minor": 0
      },
      "text/plain": [
       "Eval:   0%|          | 0/13 [00:00<?, ?it/s]"
      ]
     },
     "metadata": {},
     "output_type": "display_data"
    },
    {
     "data": {
      "application/vnd.jupyter.widget-view+json": {
       "model_id": "d7652cb9c2e5409f8b4e5cfab18d6f5f",
       "version_major": 2,
       "version_minor": 0
      },
      "text/plain": [
       "Train:   0%|          | 0/250 [00:00<?, ?it/s]"
      ]
     },
     "metadata": {},
     "output_type": "display_data"
    },
    {
     "data": {
      "application/vnd.jupyter.widget-view+json": {
       "model_id": "ed353828ee494d96b7efa4c504f2080c",
       "version_major": 2,
       "version_minor": 0
      },
      "text/plain": [
       "Eval:   0%|          | 0/13 [00:00<?, ?it/s]"
      ]
     },
     "metadata": {},
     "output_type": "display_data"
    },
    {
     "data": {
      "application/vnd.jupyter.widget-view+json": {
       "model_id": "6006f7a104c342f0a45072d350715df8",
       "version_major": 2,
       "version_minor": 0
      },
      "text/plain": [
       "Train:   0%|          | 0/250 [00:00<?, ?it/s]"
      ]
     },
     "metadata": {},
     "output_type": "display_data"
    },
    {
     "data": {
      "application/vnd.jupyter.widget-view+json": {
       "model_id": "9bb2a516ef5042ddb3f91f4960ecc70a",
       "version_major": 2,
       "version_minor": 0
      },
      "text/plain": [
       "Eval:   0%|          | 0/13 [00:00<?, ?it/s]"
      ]
     },
     "metadata": {},
     "output_type": "display_data"
    }
   ],
   "source": [
    "device = torch.device(\"cuda\" if torch.cuda.is_available() else \"cpu\")\n",
    "print(device)\n",
    "\n",
    "backbone = resnet_fpn_backbone(\"resnet50\", weights=None, trainable_layers=5)\n",
    "kwargs = {\"nms_tresh\": 0.1, \"image_mean\":[0,0,0], \"image_std\":[1,1,1], 'score_thresh': 0.5}\n",
    "\n",
    "model = SubpixRCNN(backbone, num_classes=2, device=device, **kwargs)\n",
    "model.to(device)\n",
    "model.name = \"testmodel\"\n",
    "optimizer = optim.Adam(model.parameters(), lr=0.0001)\n",
    "path = r\"D:\\zeiss\\Desktop\\coding\\Hilger\\bachelor\\notebooks\\subpix_rcnn_models\\2025-06-02_19-10-05\\with_filters_long.pth\"\n",
    "model.load_state_dict(torch.load(path, map_location=device))\n",
    "\n",
    "checkpoint_path = generate_checkpoint_path(\"with_filters_long\", \"subpix_rcnn_models\")\n",
    "num_epochs = 200\n",
    "\n",
    "train_loop(model, training_loader, validation_loader, optimizer, device, num_epochs, checkpoint_path, writer)"
   ]
  },
  {
   "cell_type": "markdown",
   "id": "1c91dd32",
   "metadata": {},
   "source": [
    "# Now time to test the model"
   ]
  },
  {
   "cell_type": "code",
   "execution_count": 8,
   "id": "d8e81fb4",
   "metadata": {},
   "outputs": [
    {
     "name": "stdout",
     "output_type": "stream",
     "text": [
      "cuda\n",
      "Custom SubpixRoIHeads successfully initialized!\n"
     ]
    },
    {
     "data": {
      "text/plain": [
       "SubpixRCNN(\n",
       "  (transform): GeneralizedRCNNTransform(\n",
       "      Normalize(mean=[0, 0, 0], std=[1, 1, 1])\n",
       "      Resize(min_size=(800,), max_size=1333, mode='bilinear')\n",
       "  )\n",
       "  (backbone): BackboneWithFPN(\n",
       "    (body): IntermediateLayerGetter(\n",
       "      (conv1): Conv2d(3, 64, kernel_size=(7, 7), stride=(2, 2), padding=(3, 3), bias=False)\n",
       "      (bn1): FrozenBatchNorm2d(64, eps=1e-05)\n",
       "      (relu): ReLU(inplace=True)\n",
       "      (maxpool): MaxPool2d(kernel_size=3, stride=2, padding=1, dilation=1, ceil_mode=False)\n",
       "      (layer1): Sequential(\n",
       "        (0): Bottleneck(\n",
       "          (conv1): Conv2d(64, 64, kernel_size=(1, 1), stride=(1, 1), bias=False)\n",
       "          (bn1): FrozenBatchNorm2d(64, eps=1e-05)\n",
       "          (conv2): Conv2d(64, 64, kernel_size=(3, 3), stride=(1, 1), padding=(1, 1), bias=False)\n",
       "          (bn2): FrozenBatchNorm2d(64, eps=1e-05)\n",
       "          (conv3): Conv2d(64, 256, kernel_size=(1, 1), stride=(1, 1), bias=False)\n",
       "          (bn3): FrozenBatchNorm2d(256, eps=1e-05)\n",
       "          (relu): ReLU(inplace=True)\n",
       "          (downsample): Sequential(\n",
       "            (0): Conv2d(64, 256, kernel_size=(1, 1), stride=(1, 1), bias=False)\n",
       "            (1): FrozenBatchNorm2d(256, eps=1e-05)\n",
       "          )\n",
       "        )\n",
       "        (1): Bottleneck(\n",
       "          (conv1): Conv2d(256, 64, kernel_size=(1, 1), stride=(1, 1), bias=False)\n",
       "          (bn1): FrozenBatchNorm2d(64, eps=1e-05)\n",
       "          (conv2): Conv2d(64, 64, kernel_size=(3, 3), stride=(1, 1), padding=(1, 1), bias=False)\n",
       "          (bn2): FrozenBatchNorm2d(64, eps=1e-05)\n",
       "          (conv3): Conv2d(64, 256, kernel_size=(1, 1), stride=(1, 1), bias=False)\n",
       "          (bn3): FrozenBatchNorm2d(256, eps=1e-05)\n",
       "          (relu): ReLU(inplace=True)\n",
       "        )\n",
       "        (2): Bottleneck(\n",
       "          (conv1): Conv2d(256, 64, kernel_size=(1, 1), stride=(1, 1), bias=False)\n",
       "          (bn1): FrozenBatchNorm2d(64, eps=1e-05)\n",
       "          (conv2): Conv2d(64, 64, kernel_size=(3, 3), stride=(1, 1), padding=(1, 1), bias=False)\n",
       "          (bn2): FrozenBatchNorm2d(64, eps=1e-05)\n",
       "          (conv3): Conv2d(64, 256, kernel_size=(1, 1), stride=(1, 1), bias=False)\n",
       "          (bn3): FrozenBatchNorm2d(256, eps=1e-05)\n",
       "          (relu): ReLU(inplace=True)\n",
       "        )\n",
       "      )\n",
       "      (layer2): Sequential(\n",
       "        (0): Bottleneck(\n",
       "          (conv1): Conv2d(256, 128, kernel_size=(1, 1), stride=(1, 1), bias=False)\n",
       "          (bn1): FrozenBatchNorm2d(128, eps=1e-05)\n",
       "          (conv2): Conv2d(128, 128, kernel_size=(3, 3), stride=(2, 2), padding=(1, 1), bias=False)\n",
       "          (bn2): FrozenBatchNorm2d(128, eps=1e-05)\n",
       "          (conv3): Conv2d(128, 512, kernel_size=(1, 1), stride=(1, 1), bias=False)\n",
       "          (bn3): FrozenBatchNorm2d(512, eps=1e-05)\n",
       "          (relu): ReLU(inplace=True)\n",
       "          (downsample): Sequential(\n",
       "            (0): Conv2d(256, 512, kernel_size=(1, 1), stride=(2, 2), bias=False)\n",
       "            (1): FrozenBatchNorm2d(512, eps=1e-05)\n",
       "          )\n",
       "        )\n",
       "        (1): Bottleneck(\n",
       "          (conv1): Conv2d(512, 128, kernel_size=(1, 1), stride=(1, 1), bias=False)\n",
       "          (bn1): FrozenBatchNorm2d(128, eps=1e-05)\n",
       "          (conv2): Conv2d(128, 128, kernel_size=(3, 3), stride=(1, 1), padding=(1, 1), bias=False)\n",
       "          (bn2): FrozenBatchNorm2d(128, eps=1e-05)\n",
       "          (conv3): Conv2d(128, 512, kernel_size=(1, 1), stride=(1, 1), bias=False)\n",
       "          (bn3): FrozenBatchNorm2d(512, eps=1e-05)\n",
       "          (relu): ReLU(inplace=True)\n",
       "        )\n",
       "        (2): Bottleneck(\n",
       "          (conv1): Conv2d(512, 128, kernel_size=(1, 1), stride=(1, 1), bias=False)\n",
       "          (bn1): FrozenBatchNorm2d(128, eps=1e-05)\n",
       "          (conv2): Conv2d(128, 128, kernel_size=(3, 3), stride=(1, 1), padding=(1, 1), bias=False)\n",
       "          (bn2): FrozenBatchNorm2d(128, eps=1e-05)\n",
       "          (conv3): Conv2d(128, 512, kernel_size=(1, 1), stride=(1, 1), bias=False)\n",
       "          (bn3): FrozenBatchNorm2d(512, eps=1e-05)\n",
       "          (relu): ReLU(inplace=True)\n",
       "        )\n",
       "        (3): Bottleneck(\n",
       "          (conv1): Conv2d(512, 128, kernel_size=(1, 1), stride=(1, 1), bias=False)\n",
       "          (bn1): FrozenBatchNorm2d(128, eps=1e-05)\n",
       "          (conv2): Conv2d(128, 128, kernel_size=(3, 3), stride=(1, 1), padding=(1, 1), bias=False)\n",
       "          (bn2): FrozenBatchNorm2d(128, eps=1e-05)\n",
       "          (conv3): Conv2d(128, 512, kernel_size=(1, 1), stride=(1, 1), bias=False)\n",
       "          (bn3): FrozenBatchNorm2d(512, eps=1e-05)\n",
       "          (relu): ReLU(inplace=True)\n",
       "        )\n",
       "      )\n",
       "      (layer3): Sequential(\n",
       "        (0): Bottleneck(\n",
       "          (conv1): Conv2d(512, 256, kernel_size=(1, 1), stride=(1, 1), bias=False)\n",
       "          (bn1): FrozenBatchNorm2d(256, eps=1e-05)\n",
       "          (conv2): Conv2d(256, 256, kernel_size=(3, 3), stride=(2, 2), padding=(1, 1), bias=False)\n",
       "          (bn2): FrozenBatchNorm2d(256, eps=1e-05)\n",
       "          (conv3): Conv2d(256, 1024, kernel_size=(1, 1), stride=(1, 1), bias=False)\n",
       "          (bn3): FrozenBatchNorm2d(1024, eps=1e-05)\n",
       "          (relu): ReLU(inplace=True)\n",
       "          (downsample): Sequential(\n",
       "            (0): Conv2d(512, 1024, kernel_size=(1, 1), stride=(2, 2), bias=False)\n",
       "            (1): FrozenBatchNorm2d(1024, eps=1e-05)\n",
       "          )\n",
       "        )\n",
       "        (1): Bottleneck(\n",
       "          (conv1): Conv2d(1024, 256, kernel_size=(1, 1), stride=(1, 1), bias=False)\n",
       "          (bn1): FrozenBatchNorm2d(256, eps=1e-05)\n",
       "          (conv2): Conv2d(256, 256, kernel_size=(3, 3), stride=(1, 1), padding=(1, 1), bias=False)\n",
       "          (bn2): FrozenBatchNorm2d(256, eps=1e-05)\n",
       "          (conv3): Conv2d(256, 1024, kernel_size=(1, 1), stride=(1, 1), bias=False)\n",
       "          (bn3): FrozenBatchNorm2d(1024, eps=1e-05)\n",
       "          (relu): ReLU(inplace=True)\n",
       "        )\n",
       "        (2): Bottleneck(\n",
       "          (conv1): Conv2d(1024, 256, kernel_size=(1, 1), stride=(1, 1), bias=False)\n",
       "          (bn1): FrozenBatchNorm2d(256, eps=1e-05)\n",
       "          (conv2): Conv2d(256, 256, kernel_size=(3, 3), stride=(1, 1), padding=(1, 1), bias=False)\n",
       "          (bn2): FrozenBatchNorm2d(256, eps=1e-05)\n",
       "          (conv3): Conv2d(256, 1024, kernel_size=(1, 1), stride=(1, 1), bias=False)\n",
       "          (bn3): FrozenBatchNorm2d(1024, eps=1e-05)\n",
       "          (relu): ReLU(inplace=True)\n",
       "        )\n",
       "        (3): Bottleneck(\n",
       "          (conv1): Conv2d(1024, 256, kernel_size=(1, 1), stride=(1, 1), bias=False)\n",
       "          (bn1): FrozenBatchNorm2d(256, eps=1e-05)\n",
       "          (conv2): Conv2d(256, 256, kernel_size=(3, 3), stride=(1, 1), padding=(1, 1), bias=False)\n",
       "          (bn2): FrozenBatchNorm2d(256, eps=1e-05)\n",
       "          (conv3): Conv2d(256, 1024, kernel_size=(1, 1), stride=(1, 1), bias=False)\n",
       "          (bn3): FrozenBatchNorm2d(1024, eps=1e-05)\n",
       "          (relu): ReLU(inplace=True)\n",
       "        )\n",
       "        (4): Bottleneck(\n",
       "          (conv1): Conv2d(1024, 256, kernel_size=(1, 1), stride=(1, 1), bias=False)\n",
       "          (bn1): FrozenBatchNorm2d(256, eps=1e-05)\n",
       "          (conv2): Conv2d(256, 256, kernel_size=(3, 3), stride=(1, 1), padding=(1, 1), bias=False)\n",
       "          (bn2): FrozenBatchNorm2d(256, eps=1e-05)\n",
       "          (conv3): Conv2d(256, 1024, kernel_size=(1, 1), stride=(1, 1), bias=False)\n",
       "          (bn3): FrozenBatchNorm2d(1024, eps=1e-05)\n",
       "          (relu): ReLU(inplace=True)\n",
       "        )\n",
       "        (5): Bottleneck(\n",
       "          (conv1): Conv2d(1024, 256, kernel_size=(1, 1), stride=(1, 1), bias=False)\n",
       "          (bn1): FrozenBatchNorm2d(256, eps=1e-05)\n",
       "          (conv2): Conv2d(256, 256, kernel_size=(3, 3), stride=(1, 1), padding=(1, 1), bias=False)\n",
       "          (bn2): FrozenBatchNorm2d(256, eps=1e-05)\n",
       "          (conv3): Conv2d(256, 1024, kernel_size=(1, 1), stride=(1, 1), bias=False)\n",
       "          (bn3): FrozenBatchNorm2d(1024, eps=1e-05)\n",
       "          (relu): ReLU(inplace=True)\n",
       "        )\n",
       "      )\n",
       "      (layer4): Sequential(\n",
       "        (0): Bottleneck(\n",
       "          (conv1): Conv2d(1024, 512, kernel_size=(1, 1), stride=(1, 1), bias=False)\n",
       "          (bn1): FrozenBatchNorm2d(512, eps=1e-05)\n",
       "          (conv2): Conv2d(512, 512, kernel_size=(3, 3), stride=(2, 2), padding=(1, 1), bias=False)\n",
       "          (bn2): FrozenBatchNorm2d(512, eps=1e-05)\n",
       "          (conv3): Conv2d(512, 2048, kernel_size=(1, 1), stride=(1, 1), bias=False)\n",
       "          (bn3): FrozenBatchNorm2d(2048, eps=1e-05)\n",
       "          (relu): ReLU(inplace=True)\n",
       "          (downsample): Sequential(\n",
       "            (0): Conv2d(1024, 2048, kernel_size=(1, 1), stride=(2, 2), bias=False)\n",
       "            (1): FrozenBatchNorm2d(2048, eps=1e-05)\n",
       "          )\n",
       "        )\n",
       "        (1): Bottleneck(\n",
       "          (conv1): Conv2d(2048, 512, kernel_size=(1, 1), stride=(1, 1), bias=False)\n",
       "          (bn1): FrozenBatchNorm2d(512, eps=1e-05)\n",
       "          (conv2): Conv2d(512, 512, kernel_size=(3, 3), stride=(1, 1), padding=(1, 1), bias=False)\n",
       "          (bn2): FrozenBatchNorm2d(512, eps=1e-05)\n",
       "          (conv3): Conv2d(512, 2048, kernel_size=(1, 1), stride=(1, 1), bias=False)\n",
       "          (bn3): FrozenBatchNorm2d(2048, eps=1e-05)\n",
       "          (relu): ReLU(inplace=True)\n",
       "        )\n",
       "        (2): Bottleneck(\n",
       "          (conv1): Conv2d(2048, 512, kernel_size=(1, 1), stride=(1, 1), bias=False)\n",
       "          (bn1): FrozenBatchNorm2d(512, eps=1e-05)\n",
       "          (conv2): Conv2d(512, 512, kernel_size=(3, 3), stride=(1, 1), padding=(1, 1), bias=False)\n",
       "          (bn2): FrozenBatchNorm2d(512, eps=1e-05)\n",
       "          (conv3): Conv2d(512, 2048, kernel_size=(1, 1), stride=(1, 1), bias=False)\n",
       "          (bn3): FrozenBatchNorm2d(2048, eps=1e-05)\n",
       "          (relu): ReLU(inplace=True)\n",
       "        )\n",
       "      )\n",
       "    )\n",
       "    (fpn): FeaturePyramidNetwork(\n",
       "      (inner_blocks): ModuleList(\n",
       "        (0): Conv2dNormActivation(\n",
       "          (0): Conv2d(256, 256, kernel_size=(1, 1), stride=(1, 1))\n",
       "        )\n",
       "        (1): Conv2dNormActivation(\n",
       "          (0): Conv2d(512, 256, kernel_size=(1, 1), stride=(1, 1))\n",
       "        )\n",
       "        (2): Conv2dNormActivation(\n",
       "          (0): Conv2d(1024, 256, kernel_size=(1, 1), stride=(1, 1))\n",
       "        )\n",
       "        (3): Conv2dNormActivation(\n",
       "          (0): Conv2d(2048, 256, kernel_size=(1, 1), stride=(1, 1))\n",
       "        )\n",
       "      )\n",
       "      (layer_blocks): ModuleList(\n",
       "        (0-3): 4 x Conv2dNormActivation(\n",
       "          (0): Conv2d(256, 256, kernel_size=(3, 3), stride=(1, 1), padding=(1, 1))\n",
       "        )\n",
       "      )\n",
       "      (extra_blocks): LastLevelMaxPool()\n",
       "    )\n",
       "  )\n",
       "  (rpn): RegionProposalNetwork(\n",
       "    (anchor_generator): AnchorGenerator()\n",
       "    (head): RPNHead(\n",
       "      (conv): Sequential(\n",
       "        (0): Conv2dNormActivation(\n",
       "          (0): Conv2d(256, 256, kernel_size=(3, 3), stride=(1, 1), padding=(1, 1))\n",
       "          (1): ReLU(inplace=True)\n",
       "        )\n",
       "      )\n",
       "      (cls_logits): Conv2d(256, 3, kernel_size=(1, 1), stride=(1, 1))\n",
       "      (bbox_pred): Conv2d(256, 12, kernel_size=(1, 1), stride=(1, 1))\n",
       "    )\n",
       "  )\n",
       "  (roi_heads): SubpixRoIHeads(\n",
       "    (box_roi_pool): MultiScaleRoIAlign(featmap_names=['0', '1', '2', '3'], output_size=(7, 7), sampling_ratio=2)\n",
       "    (box_head): TwoMLPHead(\n",
       "      (fc6): Linear(in_features=12544, out_features=1024, bias=True)\n",
       "      (fc7): Linear(in_features=1024, out_features=1024, bias=True)\n",
       "    )\n",
       "    (box_predictor): FastRCNNPredictor(\n",
       "      (cls_score): Linear(in_features=1024, out_features=2, bias=True)\n",
       "      (bbox_pred): Linear(in_features=1024, out_features=8, bias=True)\n",
       "    )\n",
       "    (subpixel_head): SubpixHead(\n",
       "      (head): Sequential(\n",
       "        (0): Conv2d(256, 128, kernel_size=(3, 3), stride=(1, 1), padding=(1, 1))\n",
       "        (1): ReLU()\n",
       "        (2): Conv2d(128, 64, kernel_size=(3, 3), stride=(1, 1), padding=(1, 1))\n",
       "        (3): ReLU()\n",
       "        (4): AdaptiveAvgPool2d(output_size=(1, 1))\n",
       "        (5): Flatten(start_dim=1, end_dim=-1)\n",
       "        (6): Linear(in_features=64, out_features=32, bias=True)\n",
       "        (7): ReLU()\n",
       "        (8): Linear(in_features=32, out_features=2, bias=True)\n",
       "        (9): Sigmoid()\n",
       "      )\n",
       "    )\n",
       "  )\n",
       ")"
      ]
     },
     "execution_count": 8,
     "metadata": {},
     "output_type": "execute_result"
    }
   ],
   "source": [
    "device = torch.device(\"cuda\" if torch.cuda.is_available() else \"cpu\")\n",
    "print(device)\n",
    "\n",
    "backbone = resnet_fpn_backbone(\"resnet50\", weights=None, trainable_layers=5)\n",
    "kwargs = {\"nms_tresh\": 0.1, \"image_mean\":[0,0,0], \"image_std\":[1,1,1], 'score_thresh': 0.7}\n",
    "\n",
    "model = SubpixRCNN(backbone, num_classes=2, device=device, **kwargs)\n",
    "model.to(device)\n",
    "model.name = \"testmodel\"\n",
    "optimizer = optim.Adam(model.parameters(), lr=0.0001)\n",
    "path = r\"D:\\zeiss\\Desktop\\coding\\Hilger\\bachelor\\notebooks\\subpix_rcnn_models\\2025-06-02_19-15-51\\with_filters_long.pth\"\n",
    "model.load_state_dict(torch.load(path, map_location=device))\n",
    "model.eval()"
   ]
  },
  {
   "cell_type": "code",
   "execution_count": 9,
   "id": "e8f24b5d",
   "metadata": {},
   "outputs": [
    {
     "name": "stderr",
     "output_type": "stream",
     "text": [
      "d:\\zeiss\\Desktop\\coding\\Hilger\\bachelor\\utils.py:86: RuntimeWarning: Mean of empty slice\n",
      "  mse = np.nanmean(square_loc_errors)\n",
      "c:\\Users\\zeiss\\anaconda3\\envs\\hilger312\\Lib\\site-packages\\numpy\\lib\\_nanfunctions_impl.py:2019: RuntimeWarning: Degrees of freedom <= 0 for slice.\n",
      "  var = nanvar(a, axis=axis, dtype=dtype, out=out, ddof=ddof,\n",
      "d:\\zeiss\\Desktop\\coding\\Hilger\\bachelor\\utils.py:88: RuntimeWarning: Mean of empty slice\n",
      "  me = np.nanmean(loc_errors)\n"
     ]
    },
    {
     "name": "stdout",
     "output_type": "stream",
     "text": [
      "Density: 0.04, Metrics: {'mean_precision': np.float64(0.305), 'mean_recall': np.float64(0.3566666666666667), 'mean_f1': np.float64(0.32166666666666666), 'mean_ji': np.float64(0.305), 'mean_loc_error': np.float64(0.35032894364660744), 'avg_std_loc_error': np.float64(0.0), 'mean_mean_squared_error': np.float64(0.13831975380346073), 'avg_std_mean_squared_error': np.float64(0.0), 'std_precision': np.float64(0.4327271400984433), 'std_recall': np.float64(0.47901519344959775), 'std_f1': np.float64(0.44237678761687105), 'std_ji': np.float64(0.4327271400984433), 'std_loc_error': np.float64(0.12485745891580873), 'std_mean_squared_error': np.float64(0.08517894212894771)}\n",
      "Density: 0.05, Metrics: {'mean_precision': np.float64(0.4963888888888889), 'mean_recall': np.float64(0.4083333333333333), 'mean_f1': np.float64(0.43166666666666664), 'mean_ji': np.float64(0.35038888888888886), 'mean_loc_error': np.float64(0.33073603337702545), 'avg_std_loc_error': np.float64(0.024114152065498665), 'mean_mean_squared_error': np.float64(0.12948567830776722), 'avg_std_mean_squared_error': np.float64(0.015554384772028577), 'std_precision': np.float64(0.42677832378685887), 'std_recall': np.float64(0.3593010189551683), 'std_f1': np.float64(0.3620223545379279), 'std_ji': np.float64(0.3336454603465729), 'std_loc_error': np.float64(0.1313572771124087), 'std_mean_squared_error': np.float64(0.08808700422061014)}\n",
      "Density: 0.060000000000000005, Metrics: {'mean_precision': np.float64(0.5091111111111111), 'mean_recall': np.float64(0.405), 'mean_f1': np.float64(0.43146031746031743), 'mean_ji': np.float64(0.3457222222222222), 'mean_loc_error': np.float64(0.3311501917280652), 'avg_std_loc_error': np.float64(0.01727255028191635), 'mean_mean_squared_error': np.float64(0.13186633685715932), 'avg_std_mean_squared_error': np.float64(0.010509524010954223), 'std_precision': np.float64(0.4326879239199689), 'std_recall': np.float64(0.3490105060500806), 'std_f1': np.float64(0.353842484596276), 'std_ji': np.float64(0.32095522456074693), 'std_loc_error': np.float64(0.14321047914052137), 'std_mean_squared_error': np.float64(0.094931522989845)}\n",
      "Density: 0.07, Metrics: {'mean_precision': np.float64(0.4347222222222223), 'mean_recall': np.float64(0.34833333333333333), 'mean_f1': np.float64(0.3727777777777777), 'mean_ji': np.float64(0.29088888888888886), 'mean_loc_error': np.float64(0.34243501110680463), 'avg_std_loc_error': np.float64(0.013655090934439708), 'mean_mean_squared_error': np.float64(0.1355760901650719), 'avg_std_mean_squared_error': np.float64(0.00884601525504584), 'std_precision': np.float64(0.4167476773099161), 'std_recall': np.float64(0.3258280050715237), 'std_f1': np.float64(0.3412228372945721), 'std_ji': np.float64(0.30237692119131016), 'std_loc_error': np.float64(0.1297928791844835), 'std_mean_squared_error': np.float64(0.08810886691486383)}\n",
      "Density: 0.08000000000000002, Metrics: {'mean_precision': np.float64(0.48188888888888887), 'mean_recall': np.float64(0.3677777777777778), 'mean_f1': np.float64(0.39912698412698416), 'mean_ji': np.float64(0.2899444444444444), 'mean_loc_error': np.float64(0.3298566070719544), 'avg_std_loc_error': np.float64(0.034221217071994034), 'mean_mean_squared_error': np.float64(0.12940565051270028), 'avg_std_mean_squared_error': np.float64(0.023009029274467418), 'std_precision': np.float64(0.36017709978547574), 'std_recall': np.float64(0.27202714098431197), 'std_f1': np.float64(0.28002597016300906), 'std_ji': np.float64(0.23676405794757463), 'std_loc_error': np.float64(0.12815172925711243), 'std_mean_squared_error': np.float64(0.08282118965933497)}\n",
      "Density: 0.09000000000000001, Metrics: {'mean_precision': np.float64(0.5031111111111112), 'mean_recall': np.float64(0.39222222222222225), 'mean_f1': np.float64(0.4231587301587302), 'mean_ji': np.float64(0.3198174603174603), 'mean_loc_error': np.float64(0.32733657551583384), 'avg_std_loc_error': np.float64(0.04372582636858694), 'mean_mean_squared_error': np.float64(0.12792660951125673), 'avg_std_mean_squared_error': np.float64(0.028048488596392133), 'std_precision': np.float64(0.3662036807604057), 'std_recall': np.float64(0.2979166342916325), 'std_f1': np.float64(0.3012480209369312), 'std_ji': np.float64(0.27628076099129295), 'std_loc_error': np.float64(0.12230219007194988), 'std_mean_squared_error': np.float64(0.07933733844316224)}\n",
      "Density: 0.1, Metrics: {'mean_precision': np.float64(0.5023333333333333), 'mean_recall': np.float64(0.38083333333333336), 'mean_f1': np.float64(0.417010582010582), 'mean_ji': np.float64(0.2925555555555556), 'mean_loc_error': np.float64(0.3413411466578012), 'avg_std_loc_error': np.float64(0.046280061927056144), 'mean_mean_squared_error': np.float64(0.13579166504638032), 'avg_std_mean_squared_error': np.float64(0.03047983493911344), 'std_precision': np.float64(0.2923755195710551), 'std_recall': np.float64(0.23753800865452154), 'std_f1': np.float64(0.23597671096630218), 'std_ji': np.float64(0.1986340441543255), 'std_loc_error': np.float64(0.1170731244182395), 'std_mean_squared_error': np.float64(0.08000550139835609)}\n",
      "Density: 0.2, Metrics: {'mean_precision': np.float64(0.5280494227994228), 'mean_recall': np.float64(0.37625), 'mean_f1': np.float64(0.429028967735624), 'mean_ji': np.float64(0.2895929625929626), 'mean_loc_error': np.float64(0.3343785263994576), 'avg_std_loc_error': np.float64(0.08996538447545535), 'mean_mean_squared_error': np.float64(0.13255648504850717), 'avg_std_mean_squared_error': np.float64(0.0596441222239791), 'std_precision': np.float64(0.20822622021002188), 'std_recall': np.float64(0.17424988043993986), 'std_f1': np.float64(0.17617824746677957), 'std_ji': np.float64(0.1486625452201787), 'std_loc_error': np.float64(0.0948310758227952), 'std_mean_squared_error': np.float64(0.06209193952224415)}\n",
      "Density: 0.30000000000000004, Metrics: {'mean_precision': np.float64(0.5329846634846634), 'mean_recall': np.float64(0.36027777777777775), 'mean_f1': np.float64(0.42329503820065806), 'mean_ji': np.float64(0.28083449817582945), 'mean_loc_error': np.float64(0.34311113007920346), 'avg_std_loc_error': np.float64(0.10731518645336005), 'mean_mean_squared_error': np.float64(0.13645524624559974), 'avg_std_mean_squared_error': np.float64(0.07148696399015693), 'std_precision': np.float64(0.1830708841645928), 'std_recall': np.float64(0.1466948100102748), 'std_f1': np.float64(0.15326511089979955), 'std_ji': np.float64(0.12834545315996815), 'std_loc_error': np.float64(0.07002196743034234), 'std_mean_squared_error': np.float64(0.04888524322465241)}\n",
      "Density: 0.4, Metrics: {'mean_precision': np.float64(0.5293302114552115), 'mean_recall': np.float64(0.3475), 'mean_f1': np.float64(0.414775773642614), 'mean_ji': np.float64(0.2716302743478036), 'mean_loc_error': np.float64(0.34802564014983817), 'avg_std_loc_error': np.float64(0.11897475121250042), 'mean_mean_squared_error': np.float64(0.14112483422886585), 'avg_std_mean_squared_error': np.float64(0.07993971660680814), 'std_precision': np.float64(0.16851135526581199), 'std_recall': np.float64(0.13049984035750134), 'std_f1': np.float64(0.1398606010284811), 'std_ji': np.float64(0.11392794232044132), 'std_loc_error': np.float64(0.06434206834007641), 'std_mean_squared_error': np.float64(0.04423978492284533)}\n",
      "Density: 0.5, Metrics: {'mean_precision': np.float64(0.5127090670623953), 'mean_recall': np.float64(0.324), 'mean_f1': np.float64(0.3938092118884527), 'mean_ji': np.float64(0.25153263215281585), 'mean_loc_error': np.float64(0.33833387864485054), 'avg_std_loc_error': np.float64(0.12238851109820689), 'mean_mean_squared_error': np.float64(0.13435313612541386), 'avg_std_mean_squared_error': np.float64(0.08207071043854301), 'std_precision': np.float64(0.14159935641221238), 'std_recall': np.float64(0.10258654882585728), 'std_f1': np.float64(0.11345416132793837), 'std_ji': np.float64(0.09037817631500895), 'std_loc_error': np.float64(0.05892871035995073), 'std_mean_squared_error': np.float64(0.03989105318834508)}\n",
      "Density: 0.6, Metrics: {'mean_precision': np.float64(0.517059657204394), 'mean_recall': np.float64(0.31555555555555553), 'mean_f1': np.float64(0.3887831164381972), 'mean_ji': np.float64(0.2470926896920092), 'mean_loc_error': np.float64(0.338132859081265), 'avg_std_loc_error': np.float64(0.1256795038537269), 'mean_mean_squared_error': np.float64(0.13413359266119174), 'avg_std_mean_squared_error': np.float64(0.08374876416545425), 'std_precision': np.float64(0.12968661701168163), 'std_recall': np.float64(0.10021350664246934), 'std_f1': np.float64(0.10813030067532552), 'std_ji': np.float64(0.08680637615562367), 'std_loc_error': np.float64(0.054602543949248426), 'std_mean_squared_error': np.float64(0.036225694987894415)}\n",
      "Density: 0.7000000000000001, Metrics: {'mean_precision': np.float64(0.5035982531649512), 'mean_recall': np.float64(0.295), 'mean_f1': np.float64(0.36946495178816635), 'mean_ji': np.float64(0.23158044405408607), 'mean_loc_error': np.float64(0.34006403693987325), 'avg_std_loc_error': np.float64(0.12753966625645266), 'mean_mean_squared_error': np.float64(0.13566472932727155), 'avg_std_mean_squared_error': np.float64(0.08490286623788142), 'std_precision': np.float64(0.12361722494379025), 'std_recall': np.float64(0.09275910575614812), 'std_f1': np.float64(0.1032772908357868), 'std_ji': np.float64(0.07908589077721576), 'std_loc_error': np.float64(0.051465607104979716), 'std_mean_squared_error': np.float64(0.034730424682427354)}\n",
      "Density: 0.8, Metrics: {'mean_precision': np.float64(0.5173985111946379), 'mean_recall': np.float64(0.2894791666666667), 'mean_f1': np.float64(0.36896349906848075), 'mean_ji': np.float64(0.23032503582494718), 'mean_loc_error': np.float64(0.34668121412154934), 'avg_std_loc_error': np.float64(0.12955103582296873), 'mean_mean_squared_error': np.float64(0.14010770523284075), 'avg_std_mean_squared_error': np.float64(0.08916641874055109), 'std_precision': np.float64(0.12247704887740665), 'std_recall': np.float64(0.08117377567687047), 'std_f1': np.float64(0.09361226225435332), 'std_ji': np.float64(0.07190697664671851), 'std_loc_error': np.float64(0.048047895985219274), 'std_mean_squared_error': np.float64(0.03231355320970956)}\n",
      "Density: 0.9, Metrics: {'mean_precision': np.float64(0.501892699080278), 'mean_recall': np.float64(0.26685185185185184), 'mean_f1': np.float64(0.34655258161925756), 'mean_ji': np.float64(0.21252404311286108), 'mean_loc_error': np.float64(0.34837189462380874), 'avg_std_loc_error': np.float64(0.12705486941942182), 'mean_mean_squared_error': np.float64(0.1408803642445938), 'avg_std_mean_squared_error': np.float64(0.08682332494344838), 'std_precision': np.float64(0.1082781231504686), 'std_recall': np.float64(0.06964021787107157), 'std_f1': np.float64(0.08119378593249868), 'std_ji': np.float64(0.05980225326988828), 'std_loc_error': np.float64(0.05047026145045562), 'std_mean_squared_error': np.float64(0.03481960000317888)}\n",
      "Density: 1.0, Metrics: {'mean_precision': np.float64(0.5015390007557948), 'mean_recall': np.float64(0.2569166666666666), 'mean_f1': np.float64(0.33795440661677323), 'mean_ji': np.float64(0.206683064587484), 'mean_loc_error': np.float64(0.35016638350518703), 'avg_std_loc_error': np.float64(0.12973463335879984), 'mean_mean_squared_error': np.float64(0.1420373308541898), 'avg_std_mean_squared_error': np.float64(0.08874574567221008), 'std_precision': np.float64(0.118116348039307), 'std_recall': np.float64(0.07342848939992948), 'std_f1': np.float64(0.08766438893624275), 'std_ji': np.float64(0.06360408120248799), 'std_loc_error': np.float64(0.04316204095189521), 'std_mean_squared_error': np.float64(0.029839198544078155)}\n",
      "Density: 2.0, Metrics: {'mean_precision': np.float64(0.4841121528967119), 'mean_recall': np.float64(0.15423868312757202), 'mean_f1': np.float64(0.23274905920390015), 'mean_ji': np.float64(0.13273837348318362), 'mean_loc_error': np.float64(0.34618709183090796), 'avg_std_loc_error': np.float64(0.1311253966588289), 'mean_mean_squared_error': np.float64(0.1392811384448429), 'avg_std_mean_squared_error': np.float64(0.08979169294708242), 'std_precision': np.float64(0.09735252339631466), 'std_recall': np.float64(0.03865457312275846), 'std_f1': np.float64(0.05340329158830636), 'std_ji': np.float64(0.034354041354263544), 'std_loc_error': np.float64(0.04090762288362328), 'std_mean_squared_error': np.float64(0.028510833025485252)}\n",
      "Density: 3.0, Metrics: {'mean_precision': np.float64(0.4652017391698961), 'mean_recall': np.float64(0.10169398907103824), 'mean_f1': np.float64(0.16612585311997188), 'mean_ji': np.float64(0.09116522693047367), 'mean_loc_error': np.float64(0.3495224492472017), 'avg_std_loc_error': np.float64(0.13257433900951493), 'mean_mean_squared_error': np.float64(0.14226861741823987), 'avg_std_mean_squared_error': np.float64(0.09045636682896571), 'std_precision': np.float64(0.0962874637802379), 'std_recall': np.float64(0.027733465207550354), 'std_f1': np.float64(0.04217759233177331), 'std_ji': np.float64(0.025136267400027196), 'std_loc_error': np.float64(0.043328912731573827), 'std_mean_squared_error': np.float64(0.02905022664805977)}\n",
      "Density: 4.0, Metrics: {'mean_precision': np.float64(0.4607186512547658), 'mean_recall': np.float64(0.07697341513292434), 'mean_f1': np.float64(0.13138220579391394), 'mean_ji': np.float64(0.07064525835646215), 'mean_loc_error': np.float64(0.3538423461567532), 'avg_std_loc_error': np.float64(0.13099469014880882), 'mean_mean_squared_error': np.float64(0.14480768357427545), 'avg_std_mean_squared_error': np.float64(0.08983306623118932), 'std_precision': np.float64(0.08954798852729412), 'std_recall': np.float64(0.02065443722282369), 'std_f1': np.float64(0.03298085196516676), 'std_ji': np.float64(0.01901019768046232), 'std_loc_error': np.float64(0.043147038084008126), 'std_mean_squared_error': np.float64(0.029721372419568338)}\n",
      "Density: 0.04, Metrics: {'mean_precision': np.float64(0.7683333333333333), 'mean_recall': np.float64(0.84), 'mean_f1': np.float64(0.7916666666666666), 'mean_ji': np.float64(0.7683333333333333), 'mean_loc_error': np.float64(0.32196710513611654), 'avg_std_loc_error': np.float64(0.0), 'mean_mean_squared_error': np.float64(0.12329872038101293), 'avg_std_mean_squared_error': np.float64(0.0), 'std_precision': np.float64(0.3785168424258028), 'std_recall': np.float64(0.36660605559646725), 'std_f1': np.float64(0.36543353248801164), 'std_ji': np.float64(0.3785168424258028), 'std_loc_error': np.float64(0.14012816844332845), 'std_mean_squared_error': np.float64(0.09072823201586912)}\n",
      "Density: 0.05, Metrics: {'mean_precision': np.float64(0.7416666666666667), 'mean_recall': np.float64(0.7783333333333333), 'mean_f1': np.float64(0.7513333333333333), 'mean_ji': np.float64(0.6832777777777779), 'mean_loc_error': np.float64(0.3162637049108105), 'avg_std_loc_error': np.float64(0.057135027817656996), 'mean_mean_squared_error': np.float64(0.11909134395578544), 'avg_std_mean_squared_error': np.float64(0.03515442250604143), 'std_precision': np.float64(0.3090831723135496), 'std_recall': np.float64(0.3082702638198429), 'std_f1': np.float64(0.2996326145527281), 'std_ji': np.float64(0.34640347469959165), 'std_loc_error': np.float64(0.10866844176696619), 'std_mean_squared_error': np.float64(0.07090459733842377)}\n",
      "Density: 0.060000000000000005, Metrics: {'mean_precision': np.float64(0.7655555555555557), 'mean_recall': np.float64(0.8083333333333333), 'mean_f1': np.float64(0.7776666666666667), 'mean_ji': np.float64(0.7066111111111111), 'mean_loc_error': np.float64(0.3065360955771485), 'avg_std_loc_error': np.float64(0.051262333912038424), 'mean_mean_squared_error': np.float64(0.11299960962012634), 'avg_std_mean_squared_error': np.float64(0.03182753499959759), 'std_precision': np.float64(0.2805231004330003), 'std_recall': np.float64(0.27220804951768457), 'std_f1': np.float64(0.2672793655695465), 'std_ji': np.float64(0.3266266935104666), 'std_loc_error': np.float64(0.11467216831649284), 'std_mean_squared_error': np.float64(0.07308689625516926)}\n",
      "Density: 0.07, Metrics: {'mean_precision': np.float64(0.7547222222222222), 'mean_recall': np.float64(0.805), 'mean_f1': np.float64(0.77), 'mean_ji': np.float64(0.6970555555555555), 'mean_loc_error': np.float64(0.29963902277922183), 'avg_std_loc_error': np.float64(0.05030448675798079), 'mean_mean_squared_error': np.float64(0.10739296577149718), 'avg_std_mean_squared_error': np.float64(0.03053546765497433), 'std_precision': np.float64(0.28341651828978875), 'std_recall': np.float64(0.28191310718020895), 'std_f1': np.float64(0.27185916833428186), 'std_ji': np.float64(0.3270400879644611), 'std_loc_error': np.float64(0.11022893852033275), 'std_mean_squared_error': np.float64(0.06810553200909791)}\n",
      "Density: 0.08000000000000002, Metrics: {'mean_precision': np.float64(0.7263888888888889), 'mean_recall': np.float64(0.7666666666666667), 'mean_f1': np.float64(0.7408492063492064), 'mean_ji': np.float64(0.6476428571428572), 'mean_loc_error': np.float64(0.3015059150903678), 'avg_std_loc_error': np.float64(0.07829205072247), 'mean_mean_squared_error': np.float64(0.10911925625792003), 'avg_std_mean_squared_error': np.float64(0.04872813357163378), 'std_precision': np.float64(0.2575937741272793), 'std_recall': np.float64(0.2589151155051343), 'std_f1': np.float64(0.251769761461928), 'std_ji': np.float64(0.3022567852176829), 'std_loc_error': np.float64(0.09466041485722819), 'std_mean_squared_error': np.float64(0.059034071375589435)}\n",
      "Density: 0.09000000000000001, Metrics: {'mean_precision': np.float64(0.7496666666666668), 'mean_recall': np.float64(0.7811111111111111), 'mean_f1': np.float64(0.7596666666666666), 'mean_ji': np.float64(0.6670555555555556), 'mean_loc_error': np.float64(0.313170410167453), 'avg_std_loc_error': np.float64(0.08383017723810855), 'mean_mean_squared_error': np.float64(0.11803392323258724), 'avg_std_mean_squared_error': np.float64(0.05362237571655689), 'std_precision': np.float64(0.2479879776058449), 'std_recall': np.float64(0.24162771078103595), 'std_f1': np.float64(0.23722590978881772), 'std_ji': np.float64(0.2913233482058665), 'std_loc_error': np.float64(0.09736000139217141), 'std_mean_squared_error': np.float64(0.06120445154506659)}\n",
      "Density: 0.1, Metrics: {'mean_precision': np.float64(0.7519047619047619), 'mean_recall': np.float64(0.79), 'mean_f1': np.float64(0.766064454064454), 'mean_ji': np.float64(0.6616507936507936), 'mean_loc_error': np.float64(0.304919530711226), 'avg_std_loc_error': np.float64(0.10214409147718446), 'mean_mean_squared_error': np.float64(0.11263323788271849), 'avg_std_mean_squared_error': np.float64(0.0625319430786331), 'std_precision': np.float64(0.2078725516570822), 'std_recall': np.float64(0.20932430978428343), 'std_f1': np.float64(0.20107730889891648), 'std_ji': np.float64(0.25458013789617817), 'std_loc_error': np.float64(0.08124279591680568), 'std_mean_squared_error': np.float64(0.05038517214418303)}\n",
      "Density: 0.2, Metrics: {'mean_precision': np.float64(0.7388897306397306), 'mean_recall': np.float64(0.7454166666666666), 'mean_f1': np.float64(0.7396772433219801), 'mean_ji': np.float64(0.6117335766085765), 'mean_loc_error': np.float64(0.3119559195660086), 'avg_std_loc_error': np.float64(0.11604059828272938), 'mean_mean_squared_error': np.float64(0.11499344712202896), 'avg_std_mean_squared_error': np.float64(0.0741352336235937), 'std_precision': np.float64(0.16120878390356488), 'std_recall': np.float64(0.1681078316306399), 'std_f1': np.float64(0.15983222035706882), 'std_ji': np.float64(0.1983575961719077), 'std_loc_error': np.float64(0.054350048868388595), 'std_mean_squared_error': np.float64(0.03493949682035806)}\n",
      "Density: 0.30000000000000004, Metrics: {'mean_precision': np.float64(0.7334653402153403), 'mean_recall': np.float64(0.7241666666666666), 'mean_f1': np.float64(0.7270699180047006), 'mean_ji': np.float64(0.586946100797494), 'mean_loc_error': np.float64(0.31175656505771027), 'avg_std_loc_error': np.float64(0.12588870225372797), 'mean_mean_squared_error': np.float64(0.11605156153353581), 'avg_std_mean_squared_error': np.float64(0.08033989113218504), 'std_precision': np.float64(0.12775628668766992), 'std_recall': np.float64(0.1352441208416182), 'std_f1': np.float64(0.12706897989134722), 'std_ji': np.float64(0.15925148810215178), 'std_loc_error': np.float64(0.047340971010371526), 'std_mean_squared_error': np.float64(0.030824262060043617)}\n",
      "Density: 0.4, Metrics: {'mean_precision': np.float64(0.7579552038375568), 'mean_recall': np.float64(0.724375), 'mean_f1': np.float64(0.7393694668618113), 'mean_ji': np.float64(0.5980829196204752), 'mean_loc_error': np.float64(0.3145025879752618), 'avg_std_loc_error': np.float64(0.1292225222354171), 'mean_mean_squared_error': np.float64(0.11802939385462544), 'avg_std_mean_squared_error': np.float64(0.08269470764405625), 'std_precision': np.float64(0.10536336651112752), 'std_recall': np.float64(0.11795622864011887), 'std_f1': np.float64(0.1078321397788193), 'std_ji': np.float64(0.13607139551475111), 'std_loc_error': np.float64(0.042866087849275765), 'std_mean_squared_error': np.float64(0.02770930002008288)}\n",
      "Density: 0.5, Metrics: {'mean_precision': np.float64(0.7406434814755248), 'mean_recall': np.float64(0.6960000000000001), 'mean_f1': np.float64(0.716397329204095), 'mean_ji': np.float64(0.5684690761216499), 'mean_loc_error': np.float64(0.309793484271832), 'avg_std_loc_error': np.float64(0.13256744416015764), 'mean_mean_squared_error': np.float64(0.11537083439036877), 'avg_std_mean_squared_error': np.float64(0.08469050814816334), 'std_precision': np.float64(0.10329897292672938), 'std_recall': np.float64(0.11188088904425694), 'std_f1': np.float64(0.10417182485602991), 'std_ji': np.float64(0.12830220810327253), 'std_loc_error': np.float64(0.037314290449906015), 'std_mean_squared_error': np.float64(0.024725925155766288)}\n",
      "Density: 0.6, Metrics: {'mean_precision': np.float64(0.7289035350132436), 'mean_recall': np.float64(0.6598611111111111), 'mean_f1': np.float64(0.6913749425744872), 'mean_ji': np.float64(0.5373789057717654), 'mean_loc_error': np.float64(0.3129344772105148), 'avg_std_loc_error': np.float64(0.13175485937844492), 'mean_mean_squared_error': np.float64(0.1169115241825872), 'avg_std_mean_squared_error': np.float64(0.08402764717169377), 'std_precision': np.float64(0.09821280826491134), 'std_recall': np.float64(0.10803904115448382), 'std_f1': np.float64(0.1001531220969773), 'std_ji': np.float64(0.11907222997663895), 'std_loc_error': np.float64(0.03551074909897389), 'std_mean_squared_error': np.float64(0.02258332309791504)}\n",
      "Density: 0.7000000000000001, Metrics: {'mean_precision': np.float64(0.7323256763683815), 'mean_recall': np.float64(0.6566666666666666), 'mean_f1': np.float64(0.6913403783935879), 'mean_ji': np.float64(0.5348805192270283), 'mean_loc_error': np.float64(0.3129695058580761), 'avg_std_loc_error': np.float64(0.1339747104610364), 'mean_mean_squared_error': np.float64(0.11722646870272262), 'avg_std_mean_squared_error': np.float64(0.08604859956093809), 'std_precision': np.float64(0.08631285607326364), 'std_recall': np.float64(0.09343107127377424), 'std_f1': np.float64(0.08687599358829017), 'std_ji': np.float64(0.09980502439087985), 'std_loc_error': np.float64(0.03174573327726128), 'std_mean_squared_error': np.float64(0.020141896032758146)}\n",
      "Density: 0.8, Metrics: {'mean_precision': np.float64(0.7376066594930415), 'mean_recall': np.float64(0.6421875), 'mean_f1': np.float64(0.6854149544102736), 'mean_ji': np.float64(0.5277634465518181), 'mean_loc_error': np.float64(0.3153318925720771), 'avg_std_loc_error': np.float64(0.13431635901311287), 'mean_mean_squared_error': np.float64(0.11863155121059324), 'avg_std_mean_squared_error': np.float64(0.08632248769342837), 'std_precision': np.float64(0.08228916571086106), 'std_recall': np.float64(0.09337163230205414), 'std_f1': np.float64(0.08530583087251926), 'std_ji': np.float64(0.09856391604558119), 'std_loc_error': np.float64(0.029789485171060642), 'std_mean_squared_error': np.float64(0.019616427692877914)}\n",
      "Density: 0.9, Metrics: {'mean_precision': np.float64(0.7240103523742137), 'mean_recall': np.float64(0.6069444444444444), 'mean_f1': np.float64(0.6590008649164978), 'mean_ji': np.float64(0.4963609244457736), 'mean_loc_error': np.float64(0.31433242841504255), 'avg_std_loc_error': np.float64(0.13492400453197403), 'mean_mean_squared_error': np.float64(0.11812490821735605), 'avg_std_mean_squared_error': np.float64(0.08668813617328508), 'std_precision': np.float64(0.07902744261878404), 'std_recall': np.float64(0.08355295134830573), 'std_f1': np.float64(0.07765827062666), 'std_ji': np.float64(0.08548714293692397), 'std_loc_error': np.float64(0.028794759374794303), 'std_mean_squared_error': np.float64(0.018490147953513798)}\n",
      "Density: 1.0, Metrics: {'mean_precision': np.float64(0.7287431819576324), 'mean_recall': np.float64(0.5985833333333332), 'mean_f1': np.float64(0.6560365877235728), 'mean_ji': np.float64(0.4935141800459119), 'mean_loc_error': np.float64(0.31699483587621735), 'avg_std_loc_error': np.float64(0.13600205019289102), 'mean_mean_squared_error': np.float64(0.12008080873675231), 'avg_std_mean_squared_error': np.float64(0.08887276178243939), 'std_precision': np.float64(0.07800749560114949), 'std_recall': np.float64(0.08739322850706963), 'std_f1': np.float64(0.08036821707174965), 'std_ji': np.float64(0.09027149164742632), 'std_loc_error': np.float64(0.02971811787324666), 'std_mean_squared_error': np.float64(0.01918452411309039)}\n",
      "Density: 2.0, Metrics: {'mean_precision': np.float64(0.6776927560816544), 'mean_recall': np.float64(0.4004115226337448), 'mean_f1': np.float64(0.502107843012818), 'mean_ji': np.float64(0.3375240898322604), 'mean_loc_error': np.float64(0.3207105786398523), 'avg_std_loc_error': np.float64(0.1365253330499151), 'mean_mean_squared_error': np.float64(0.12230676602286063), 'avg_std_mean_squared_error': np.float64(0.0889775603089821), 'std_precision': np.float64(0.0724059030433336), 'std_recall': np.float64(0.059163445632624), 'std_f1': np.float64(0.062281782895709674), 'std_ji': np.float64(0.055767392381802096), 'std_loc_error': np.float64(0.025135447361859083), 'std_mean_squared_error': np.float64(0.016281003075893943)}\n",
      "Density: 3.0, Metrics: {'mean_precision': np.float64(0.6172770642458083), 'mean_recall': np.float64(0.2652459016393443), 'mean_f1': np.float64(0.370075355843111), 'mean_ji': np.float64(0.22819588749913763), 'mean_loc_error': np.float64(0.3285861929300116), 'avg_std_loc_error': np.float64(0.13652019153155648), 'mean_mean_squared_error': np.float64(0.12736830769998825), 'avg_std_mean_squared_error': np.float64(0.09022822537720974), 'std_precision': np.float64(0.06983215894961188), 'std_recall': np.float64(0.041448510683654724), 'std_f1': np.float64(0.04993555488623516), 'std_ji': np.float64(0.03741750750322487), 'std_loc_error': np.float64(0.024475465585340882), 'std_mean_squared_error': np.float64(0.016371924912603877)}\n"
     ]
    },
    {
     "name": "stderr",
     "output_type": "stream",
     "text": [
      "d:\\zeiss\\Desktop\\coding\\Hilger\\bachelor\\PsfSimulator.py:130: RuntimeWarning: All-NaN slice encountered\n",
      "  meanbg = np.nanmedian(array[y1:y2, x1:x2])\n"
     ]
    },
    {
     "name": "stdout",
     "output_type": "stream",
     "text": [
      "Density: 4.0, Metrics: {'mean_precision': np.float64(0.5639030540796177), 'mean_recall': np.float64(0.18249488752556237), 'mean_f1': np.float64(0.2749793357196671), 'mean_ji': np.float64(0.16019405027161493), 'mean_loc_error': np.float64(0.3367902536436996), 'avg_std_loc_error': np.float64(0.13730595517061792), 'mean_mean_squared_error': np.float64(0.133234153491272), 'avg_std_mean_squared_error': np.float64(0.09212858718898656), 'std_precision': np.float64(0.07073897080489164), 'std_recall': np.float64(0.03360773800825076), 'std_f1': np.float64(0.044884143088215235), 'std_ji': np.float64(0.03029121815088237), 'std_loc_error': np.float64(0.02718208168408644), 'std_mean_squared_error': np.float64(0.01854261081738823)}\n",
      "Density: 0.04, Metrics: {'mean_precision': np.float64(0.9494444444444445), 'mean_recall': np.float64(0.99), 'mean_f1': np.float64(0.9627777777777777), 'mean_ji': np.float64(0.9494444444444445), 'mean_loc_error': np.float64(0.21085811725721532), 'avg_std_loc_error': np.float64(0.0), 'mean_mean_squared_error': np.float64(0.0560690537978964), 'avg_std_mean_squared_error': np.float64(0.0), 'std_precision': np.float64(0.16760752951647873), 'std_recall': np.float64(0.09949874371066199), 'std_f1': np.float64(0.13403864377369443), 'std_ji': np.float64(0.16760752951647873), 'std_loc_error': np.float64(0.10774000271319299), 'std_mean_squared_error': np.float64(0.052492361002697406)}\n",
      "Density: 0.05, Metrics: {'mean_precision': np.float64(0.9472222222222221), 'mean_recall': np.float64(0.975), 'mean_f1': np.float64(0.9581111111111111), 'mean_ji': np.float64(0.94), 'mean_loc_error': np.float64(0.232187603726171), 'avg_std_loc_error': np.float64(0.06092970624350271), 'mean_mean_squared_error': np.float64(0.06808676514655809), 'avg_std_mean_squared_error': np.float64(0.030587700317963415), 'std_precision': np.float64(0.1455884186819851), 'std_recall': np.float64(0.11636866703140784), 'std_f1': np.float64(0.1268308390274032), 'std_ji': np.float64(0.1697274503650114), 'std_loc_error': np.float64(0.08969784094542155), 'std_mean_squared_error': np.float64(0.050691412127000283)}\n",
      "Density: 0.060000000000000005, Metrics: {'mean_precision': np.float64(0.9533333333333334), 'mean_recall': np.float64(0.9833333333333333), 'mean_f1': np.float64(0.9651111111111113), 'mean_ji': np.float64(0.9483333333333334), 'mean_loc_error': np.float64(0.22564023472507766), 'avg_std_loc_error': np.float64(0.06579786279457212), 'mean_mean_squared_error': np.float64(0.0651650927785522), 'avg_std_mean_squared_error': np.float64(0.03157449405220784), 'std_precision': np.float64(0.1328045068400807), 'std_recall': np.float64(0.08975274678557504), 'std_f1': np.float64(0.10796684447631523), 'std_ji': np.float64(0.1520447059012335), 'std_loc_error': np.float64(0.08574589847039889), 'std_mean_squared_error': np.float64(0.04560549701679525)}\n",
      "Density: 0.07, Metrics: {'mean_precision': np.float64(0.9483333333333334), 'mean_recall': np.float64(0.975), 'mean_f1': np.float64(0.9588888888888889), 'mean_ji': np.float64(0.9425), 'mean_loc_error': np.float64(0.2206504628578513), 'avg_std_loc_error': np.float64(0.061456325114510914), 'mean_mean_squared_error': np.float64(0.061842161028114837), 'avg_std_mean_squared_error': np.float64(0.028938797623150155), 'std_precision': np.float64(0.15097522485003464), 'std_recall': np.float64(0.12332207155790618), 'std_f1': np.float64(0.13346752506476464), 'std_ji': np.float64(0.17038695068274143), 'std_loc_error': np.float64(0.08468632792428346), 'std_mean_squared_error': np.float64(0.04379398499301072)}\n",
      "Density: 0.08000000000000002, Metrics: {'mean_precision': np.float64(0.9582777777777778), 'mean_recall': np.float64(0.9788888888888889), 'mean_f1': np.float64(0.9667301587301588), 'mean_ji': np.float64(0.9486666666666668), 'mean_loc_error': np.float64(0.21536805372719428), 'avg_std_loc_error': np.float64(0.08398038005901481), 'mean_mean_squared_error': np.float64(0.060223552074603504), 'avg_std_mean_squared_error': np.float64(0.04056154454605337), 'std_precision': np.float64(0.11054995798224686), 'std_recall': np.float64(0.08984898166464016), 'std_f1': np.float64(0.09620813395473721), 'std_ji': np.float64(0.14129716518348445), 'std_loc_error': np.float64(0.06982500465168083), 'std_mean_squared_error': np.float64(0.03577100823597432)}\n",
      "Density: 0.09000000000000001, Metrics: {'mean_precision': np.float64(0.9501666666666665), 'mean_recall': np.float64(0.9733333333333334), 'mean_f1': np.float64(0.9596904761904761), 'mean_ji': np.float64(0.9373888888888889), 'mean_loc_error': np.float64(0.23300358202046265), 'avg_std_loc_error': np.float64(0.08013109317371271), 'mean_mean_squared_error': np.float64(0.0676628382346179), 'avg_std_mean_squared_error': np.float64(0.039811591308553516), 'std_precision': np.float64(0.11968697599247057), 'std_recall': np.float64(0.09043106644167026), 'std_f1': np.float64(0.10143933265068723), 'std_ji': np.float64(0.1530529945339276), 'std_loc_error': np.float64(0.07119820320276597), 'std_mean_squared_error': np.float64(0.037129075510278386)}\n",
      "Density: 0.1, Metrics: {'mean_precision': np.float64(0.9581111111111114), 'mean_recall': np.float64(0.9725), 'mean_f1': np.float64(0.9636349206349208), 'mean_ji': np.float64(0.9409999999999998), 'mean_loc_error': np.float64(0.226249476818939), 'avg_std_loc_error': np.float64(0.09049543817083033), 'mean_mean_squared_error': np.float64(0.06452175681482508), 'avg_std_mean_squared_error': np.float64(0.04488283763748871), 'std_precision': np.float64(0.09529168994639306), 'std_recall': np.float64(0.08584142356694699), 'std_f1': np.float64(0.08583203111972573), 'std_ji': np.float64(0.13532717555777346), 'std_loc_error': np.float64(0.06075452564604733), 'std_mean_squared_error': np.float64(0.03244638625565977)}\n",
      "Density: 0.2, Metrics: {'mean_precision': np.float64(0.9502473544973545), 'mean_recall': np.float64(0.9620833333333333), 'mean_f1': np.float64(0.9553870992841581), 'mean_ji': np.float64(0.9228585858585859), 'mean_loc_error': np.float64(0.2284624730347958), 'avg_std_loc_error': np.float64(0.10809951709644595), 'mean_mean_squared_error': np.float64(0.0664260339300497), 'avg_std_mean_squared_error': np.float64(0.05536298917658871), 'std_precision': np.float64(0.07776139160568954), 'std_recall': np.float64(0.07338421530244468), 'std_f1': np.float64(0.07196212383339594), 'std_ji': np.float64(0.12041431193900035), 'std_loc_error': np.float64(0.04170690484583365), 'std_mean_squared_error': np.float64(0.022734580855955117)}\n",
      "Density: 0.30000000000000004, Metrics: {'mean_precision': np.float64(0.9518566988566988), 'mean_recall': np.float64(0.9644444444444443), 'mean_f1': np.float64(0.9575956480449236), 'mean_ji': np.float64(0.9238856837606837), 'mean_loc_error': np.float64(0.23138398409270433), 'avg_std_loc_error': np.float64(0.11385831341065403), 'mean_mean_squared_error': np.float64(0.06840570047133199), 'avg_std_mean_squared_error': np.float64(0.06075926093131746), 'std_precision': np.float64(0.062057604867584396), 'std_recall': np.float64(0.05761194149192628), 'std_f1': np.float64(0.05625568762529121), 'std_ji': np.float64(0.09737668623926839), 'std_loc_error': np.float64(0.03591216840283106), 'std_mean_squared_error': np.float64(0.01996558792790021)}\n",
      "Density: 0.4, Metrics: {'mean_precision': np.float64(0.9486665335724933), 'mean_recall': np.float64(0.9589583333333334), 'mean_f1': np.float64(0.9533703709565534), 'mean_ji': np.float64(0.9158033543826889), 'mean_loc_error': np.float64(0.2331636781372608), 'avg_std_loc_error': np.float64(0.11507646577908656), 'mean_mean_squared_error': np.float64(0.0691471431794393), 'avg_std_mean_squared_error': np.float64(0.06228744871806751), 'std_precision': np.float64(0.05843628369785124), 'std_recall': np.float64(0.057012958444160364), 'std_f1': np.float64(0.05465024050921196), 'std_ji': np.float64(0.09420165061769234), 'std_loc_error': np.float64(0.03339506649882249), 'std_mean_squared_error': np.float64(0.01813877273308367)}\n",
      "Density: 0.5, Metrics: {'mean_precision': np.float64(0.9503970831519628), 'mean_recall': np.float64(0.9503333333333334), 'mean_f1': np.float64(0.9500432641850678), 'mean_ji': np.float64(0.9095475333844899), 'mean_loc_error': np.float64(0.23510797041921846), 'avg_std_loc_error': np.float64(0.11749067540751566), 'mean_mean_squared_error': np.float64(0.07032874593503403), 'avg_std_mean_squared_error': np.float64(0.06373119247464103), 'std_precision': np.float64(0.05228662844288674), 'std_recall': np.float64(0.059159858763260145), 'std_f1': np.float64(0.05350948699934112), 'std_ji': np.float64(0.09254272029091432), 'std_loc_error': np.float64(0.02965632148643128), 'std_mean_squared_error': np.float64(0.01625108432286792)}\n",
      "Density: 0.6, Metrics: {'mean_precision': np.float64(0.9383592805744979), 'mean_recall': np.float64(0.94125), 'mean_f1': np.float64(0.9395263035813565), 'mean_ji': np.float64(0.8909364864169462), 'mean_loc_error': np.float64(0.23746362150138045), 'avg_std_loc_error': np.float64(0.11755491413036573), 'mean_mean_squared_error': np.float64(0.07128248154685429), 'avg_std_mean_squared_error': np.float64(0.06432453020256441), 'std_precision': np.float64(0.05649126485145048), 'std_recall': np.float64(0.05953961099787081), 'std_f1': np.float64(0.055983145478359295), 'std_ji': np.float64(0.0946616887217454), 'std_loc_error': np.float64(0.028055545124347533), 'std_mean_squared_error': np.float64(0.01552513590384444)}\n",
      "Density: 0.7000000000000001, Metrics: {'mean_precision': np.float64(0.9339828639775061), 'mean_recall': np.float64(0.937142857142857), 'mean_f1': np.float64(0.9352852966007151), 'mean_ji': np.float64(0.8826745977199547), 'mean_loc_error': np.float64(0.23926988850185885), 'avg_std_loc_error': np.float64(0.11851711626648964), 'mean_mean_squared_error': np.float64(0.07211065851570005), 'avg_std_mean_squared_error': np.float64(0.06530658251524533), 'std_precision': np.float64(0.05239132198490778), 'std_recall': np.float64(0.05512508966164211), 'std_f1': np.float64(0.05164586124098414), 'std_ji': np.float64(0.08752323053620521), 'std_loc_error': np.float64(0.02437118047835198), 'std_mean_squared_error': np.float64(0.0136696198095848)}\n",
      "Density: 0.8, Metrics: {'mean_precision': np.float64(0.9315141296979573), 'mean_recall': np.float64(0.9279166666666666), 'mean_f1': np.float64(0.9294714185780445), 'mean_ji': np.float64(0.8720579159300136), 'mean_loc_error': np.float64(0.23954149417785572), 'avg_std_loc_error': np.float64(0.12151492964816199), 'mean_mean_squared_error': np.float64(0.0728291424879312), 'avg_std_mean_squared_error': np.float64(0.06694134912306951), 'std_precision': np.float64(0.048677051434705014), 'std_recall': np.float64(0.05357610759989527), 'std_f1': np.float64(0.04918576074593233), 'std_ji': np.float64(0.08332676916706244), 'std_loc_error': np.float64(0.022099770416991373), 'std_mean_squared_error': np.float64(0.012492325294351538)}\n",
      "Density: 0.9, Metrics: {'mean_precision': np.float64(0.9279039604904543), 'mean_recall': np.float64(0.9214814814814816), 'mean_f1': np.float64(0.9244690981400437), 'mean_ji': np.float64(0.8631075543047735), 'mean_loc_error': np.float64(0.24527246967356467), 'avg_std_loc_error': np.float64(0.12286828831550058), 'mean_mean_squared_error': np.float64(0.07593274662447928), 'avg_std_mean_squared_error': np.float64(0.06887347342515028), 'std_precision': np.float64(0.045317728892112163), 'std_recall': np.float64(0.05311749018977041), 'std_f1': np.float64(0.047555277103917194), 'std_ji': np.float64(0.08065566411639241), 'std_loc_error': np.float64(0.021786925412959835), 'std_mean_squared_error': np.float64(0.012577404555395565)}\n",
      "Density: 1.0, Metrics: {'mean_precision': np.float64(0.9281018528687874), 'mean_recall': np.float64(0.9154999999999999), 'mean_f1': np.float64(0.9215478210613438), 'mean_ji': np.float64(0.8581196597348861), 'mean_loc_error': np.float64(0.24455761476632396), 'avg_std_loc_error': np.float64(0.12409647257620682), 'mean_mean_squared_error': np.float64(0.0758556010182283), 'avg_std_mean_squared_error': np.float64(0.06985450751362944), 'std_precision': np.float64(0.04531504318957747), 'std_recall': np.float64(0.053864799885144525), 'std_f1': np.float64(0.04801368383573742), 'std_ji': np.float64(0.08121043876352368), 'std_loc_error': np.float64(0.021575924058209826), 'std_mean_squared_error': np.float64(0.01219240601618112)}\n",
      "Density: 2.0, Metrics: {'mean_precision': np.float64(0.8709929052012345), 'mean_recall': np.float64(0.7820987654320988), 'mean_f1': np.float64(0.8236911101200407), 'mean_ji': np.float64(0.7032281604045915), 'mean_loc_error': np.float64(0.26645338176493927), 'avg_std_loc_error': np.float64(0.13172179159768943), 'mean_mean_squared_error': np.float64(0.08872097325672065), 'avg_std_mean_squared_error': np.float64(0.07798814193441449), 'std_precision': np.float64(0.04252917672142775), 'std_recall': np.float64(0.059208869179402775), 'std_f1': np.float64(0.04957909611529678), 'std_ji': np.float64(0.0711582470496805), 'std_loc_error': np.float64(0.016765422926690216), 'std_mean_squared_error': np.float64(0.009787464339836816)}\n",
      "Density: 3.0, Metrics: {'mean_precision': np.float64(0.8140822176503587), 'mean_recall': np.float64(0.619672131147541), 'mean_f1': np.float64(0.7032190796078522), 'mean_ji': np.float64(0.544308601715882), 'mean_loc_error': np.float64(0.2804524118026859), 'avg_std_loc_error': np.float64(0.13463494089927158), 'mean_mean_squared_error': np.float64(0.09713732369651483), 'avg_std_mean_squared_error': np.float64(0.08218986781247083), 'std_precision': np.float64(0.04636507263881692), 'std_recall': np.float64(0.05022568434131609), 'std_f1': np.float64(0.0469188881064903), 'std_ji': np.float64(0.05612345416490808), 'std_loc_error': np.float64(0.016520485070406772), 'std_mean_squared_error': np.float64(0.010115455532291888)}\n",
      "Density: 4.0, Metrics: {'mean_precision': np.float64(0.7524989558947685), 'mean_recall': np.float64(0.4576482617586911), 'mean_f1': np.float64(0.5686695985218118), 'mean_ji': np.float64(0.39855995050187926), 'mean_loc_error': np.float64(0.29451766703930177), 'avg_std_loc_error': np.float64(0.13753740473821152), 'mean_mean_squared_error': np.float64(0.10598828907362803), 'avg_std_mean_squared_error': np.float64(0.0860696554940682), 'std_precision': np.float64(0.04565451393712368), 'std_recall': np.float64(0.04160666762979594), 'std_f1': np.float64(0.042898399691623366), 'std_ji': np.float64(0.042022421390593735), 'std_loc_error': np.float64(0.01612370558112846), 'std_mean_squared_error': np.float64(0.010145351040957531)}\n",
      "Density: 0.04, Metrics: {'mean_precision': np.float64(0.9727777777777779), 'mean_recall': np.float64(0.9966666666666667), 'mean_f1': np.float64(0.9805555555555556), 'mean_ji': np.float64(0.9727777777777779), 'mean_loc_error': np.float64(0.14896900129635543), 'avg_std_loc_error': np.float64(0.0), 'mean_mean_squared_error': np.float64(0.029042083233027222), 'avg_std_mean_squared_error': np.float64(0.0), 'std_precision': np.float64(0.12209463037100401), 'std_recall': np.float64(0.05763872155263527), 'std_f1': np.float64(0.09275448809480001), 'std_ji': np.float64(0.12209463037100401), 'std_loc_error': np.float64(0.08276665926442651), 'std_mean_squared_error': np.float64(0.03154247277954357)}\n",
      "Density: 0.05, Metrics: {'mean_precision': np.float64(0.9696666666666666), 'mean_recall': np.float64(1.0), 'mean_f1': np.float64(0.9812380952380952), 'mean_ji': np.float64(0.9696666666666666), 'mean_loc_error': np.float64(0.14912266302553162), 'avg_std_loc_error': np.float64(0.046017564067261055), 'mean_mean_squared_error': np.float64(0.029240421210827965), 'avg_std_mean_squared_error': np.float64(0.015662855849344244), 'std_precision': np.float64(0.10275050689250476), 'std_recall': np.float64(0.0), 'std_f1': np.float64(0.0645859654938711), 'std_ji': np.float64(0.10275050689250476), 'std_loc_error': np.float64(0.05744678107550056), 'std_mean_squared_error': np.float64(0.02370878780181192)}\n",
      "Density: 0.060000000000000005, Metrics: {'mean_precision': np.float64(0.9633333333333334), 'mean_recall': np.float64(0.9916666666666667), 'mean_f1': np.float64(0.9737777777777777), 'mean_ji': np.float64(0.9597222222222221), 'mean_loc_error': np.float64(0.1523898790157355), 'avg_std_loc_error': np.float64(0.0430381120495006), 'mean_mean_squared_error': np.float64(0.030207053282042443), 'avg_std_mean_squared_error': np.float64(0.014261924826378376), 'std_precision': np.float64(0.11764667755929507), 'std_recall': np.float64(0.07592027982620249), 'std_f1': np.float64(0.09121295121382599), 'std_ji': np.float64(0.1249922837124529), 'std_loc_error': np.float64(0.06190512913449655), 'std_mean_squared_error': np.float64(0.028405995448299495)}\n",
      "Density: 0.07, Metrics: {'mean_precision': np.float64(0.9744444444444443), 'mean_recall': np.float64(0.9966666666666667), 'mean_f1': np.float64(0.9829444444444444), 'mean_ji': np.float64(0.9738095238095237), 'mean_loc_error': np.float64(0.14223688311589264), 'avg_std_loc_error': np.float64(0.0414175611764404), 'mean_mean_squared_error': np.float64(0.025994895923031437), 'avg_std_mean_squared_error': np.float64(0.013224410041621013), 'std_precision': np.float64(0.100437315381225), 'std_recall': np.float64(0.04068851871911234), 'std_f1': np.float64(0.07274280330107415), 'std_ji': np.float64(0.10410145350967445), 'std_loc_error': np.float64(0.054161983724044474), 'std_mean_squared_error': np.float64(0.01963635085848519)}\n",
      "Density: 0.08000000000000002, Metrics: {'mean_precision': np.float64(0.9750555555555555), 'mean_recall': np.float64(0.9911111111111113), 'mean_f1': np.float64(0.9811031746031746), 'mean_ji': np.float64(0.9694999999999999), 'mean_loc_error': np.float64(0.15062280615843127), 'avg_std_loc_error': np.float64(0.05569206620256717), 'mean_mean_squared_error': np.float64(0.029521135493988472), 'avg_std_mean_squared_error': np.float64(0.01893114099098231), 'std_precision': np.float64(0.08209635636491464), 'std_recall': np.float64(0.06607141665474892), 'std_f1': np.float64(0.06772178042524972), 'std_ji': np.float64(0.10044498217653505), 'std_loc_error': np.float64(0.05076829067081369), 'std_mean_squared_error': np.float64(0.02030796189951688)}\n",
      "Density: 0.09000000000000001, Metrics: {'mean_precision': np.float64(0.9741666666666666), 'mean_recall': np.float64(0.9966666666666667), 'mean_f1': np.float64(0.9831984126984128), 'mean_ji': np.float64(0.973), 'mean_loc_error': np.float64(0.14619827375067415), 'avg_std_loc_error': np.float64(0.055631320754366505), 'mean_mean_squared_error': np.float64(0.027481054671273646), 'avg_std_mean_squared_error': np.float64(0.018233906781166754), 'std_precision': np.float64(0.08967146827292514), 'std_recall': np.float64(0.042903854614017384), 'std_f1': np.float64(0.06401914701226014), 'std_ji': np.float64(0.09688997196132666), 'std_loc_error': np.float64(0.045409226153762305), 'std_mean_squared_error': np.float64(0.01725674787143265)}\n",
      "Density: 0.1, Metrics: {'mean_precision': np.float64(0.9760555555555556), 'mean_recall': np.float64(0.99), 'mean_f1': np.float64(0.9819920634920635), 'mean_ji': np.float64(0.9705555555555556), 'mean_loc_error': np.float64(0.1484760499025351), 'avg_std_loc_error': np.float64(0.06363635143885951), 'mean_mean_squared_error': np.float64(0.028441299194479748), 'avg_std_mean_squared_error': np.float64(0.021731604959369915), 'std_precision': np.float64(0.07268524652037987), 'std_recall': np.float64(0.060415229867972854), 'std_f1': np.float64(0.0626260075195461), 'std_ji': np.float64(0.09697110426167373), 'std_loc_error': np.float64(0.03770737390934218), 'std_mean_squared_error': np.float64(0.015134577815893226)}\n",
      "Density: 0.2, Metrics: {'mean_precision': np.float64(0.9810697450697451), 'mean_recall': np.float64(0.9908333333333333), 'mean_f1': np.float64(0.9853364293085656), 'mean_ji': np.float64(0.9741102693602692), 'mean_loc_error': np.float64(0.1508684595251051), 'avg_std_loc_error': np.float64(0.07583939762461872), 'mean_mean_squared_error': np.float64(0.030138708450032563), 'avg_std_mean_squared_error': np.float64(0.0282149725683226), 'std_precision': np.float64(0.05309203184927638), 'std_recall': np.float64(0.03978239420760004), 'std_f1': np.float64(0.04222652328272965), 'std_ji': np.float64(0.07253341874369629), 'std_loc_error': np.float64(0.030927155055803974), 'std_mean_squared_error': np.float64(0.013064595085674395)}\n",
      "Density: 0.30000000000000004, Metrics: {'mean_precision': np.float64(0.9763544233544235), 'mean_recall': np.float64(0.99), 'mean_f1': np.float64(0.9826273834592674), 'mean_ji': np.float64(0.9679662698412699), 'mean_loc_error': np.float64(0.15133401691638185), 'avg_std_loc_error': np.float64(0.08029243268682876), 'mean_mean_squared_error': np.float64(0.03065868553789122), 'avg_std_mean_squared_error': np.float64(0.031256780462322456), 'std_precision': np.float64(0.0471620610740792), 'std_recall': np.float64(0.03106146832998748), 'std_f1': np.float64(0.034530429235959975), 'std_ji': np.float64(0.062458619904789674), 'std_loc_error': np.float64(0.026870917270123886), 'std_mean_squared_error': np.float64(0.011784695416086463)}\n",
      "Density: 0.4, Metrics: {'mean_precision': np.float64(0.9824711779448622), 'mean_recall': np.float64(0.98875), 'mean_f1': np.float64(0.9853323530780835), 'mean_ji': np.float64(0.9727000917325995), 'mean_loc_error': np.float64(0.1555004425935689), 'avg_std_loc_error': np.float64(0.08290012530547256), 'mean_mean_squared_error': np.float64(0.03196502895414062), 'avg_std_mean_squared_error': np.float64(0.03302938770160487), 'std_precision': np.float64(0.03520529489062338), 'std_recall': np.float64(0.031926021257484206), 'std_f1': np.float64(0.030032289571312935), 'std_ji': np.float64(0.05449401259495116), 'std_loc_error': np.float64(0.0227802016548521), 'std_mean_squared_error': np.float64(0.009695545860494913)}\n",
      "Density: 0.5, Metrics: {'mean_precision': np.float64(0.971878790630507), 'mean_recall': np.float64(0.9843333333333332), 'mean_f1': np.float64(0.9777753987809964), 'mean_ji': np.float64(0.9585604335278248), 'mean_loc_error': np.float64(0.15724008438313522), 'avg_std_loc_error': np.float64(0.08657866787738595), 'mean_mean_squared_error': np.float64(0.03308811532067885), 'avg_std_mean_squared_error': np.float64(0.03584104312586607), 'std_precision': np.float64(0.04158762479790178), 'std_recall': np.float64(0.03247392116076462), 'std_f1': np.float64(0.033804854959108094), 'std_ji': np.float64(0.06182589344645881), 'std_loc_error': np.float64(0.022180461297946357), 'std_mean_squared_error': np.float64(0.009693361066977603)}\n",
      "Density: 0.6, Metrics: {'mean_precision': np.float64(0.9719200738338418), 'mean_recall': np.float64(0.9830555555555555), 'mean_f1': np.float64(0.9771967665820569), 'mean_ji': np.float64(0.9571157916157915), 'mean_loc_error': np.float64(0.1617785285249916), 'avg_std_loc_error': np.float64(0.09181921241609207), 'mean_mean_squared_error': np.float64(0.035345694217828114), 'avg_std_mean_squared_error': np.float64(0.039876669024663525), 'std_precision': np.float64(0.037014967492684646), 'std_recall': np.float64(0.03158493350778751), 'std_f1': np.float64(0.030897309187304323), 'std_ji': np.float64(0.05650006081037431), 'std_loc_error': np.float64(0.020693139317668113), 'std_mean_squared_error': np.float64(0.009271121054228584)}\n",
      "Density: 0.7000000000000001, Metrics: {'mean_precision': np.float64(0.9724169410561698), 'mean_recall': np.float64(0.983452380952381), 'mean_f1': np.float64(0.9777403061205291), 'mean_ji': np.float64(0.9578160421009339), 'mean_loc_error': np.float64(0.16399293273373164), 'avg_std_loc_error': np.float64(0.09327263279387862), 'mean_mean_squared_error': np.float64(0.03628442981325545), 'avg_std_mean_squared_error': np.float64(0.040519169707700836), 'std_precision': np.float64(0.032840770635482665), 'std_recall': np.float64(0.026773542207901367), 'std_f1': np.float64(0.027434909692840025), 'std_ji': np.float64(0.050928246311397266), 'std_loc_error': np.float64(0.019944045525977817), 'std_mean_squared_error': np.float64(0.009047229816829)}\n",
      "Density: 0.8, Metrics: {'mean_precision': np.float64(0.9732233656251683), 'mean_recall': np.float64(0.9840625), 'mean_f1': np.float64(0.9784352317457297), 'mean_ji': np.float64(0.9589027278328748), 'mean_loc_error': np.float64(0.16785345724542666), 'avg_std_loc_error': np.float64(0.09502457498212183), 'mean_mean_squared_error': np.float64(0.03780885417098197), 'avg_std_mean_squared_error': np.float64(0.04211484645776151), 'std_precision': np.float64(0.030091262286489784), 'std_recall': np.float64(0.025321500457450515), 'std_f1': np.float64(0.02476897795806678), 'std_ji': np.float64(0.04628500479855634), 'std_loc_error': np.float64(0.018873679227155857), 'std_mean_squared_error': np.float64(0.008696038774747625)}\n",
      "Density: 0.9, Metrics: {'mean_precision': np.float64(0.9665418154551282), 'mean_recall': np.float64(0.9787962962962964), 'mean_f1': np.float64(0.972454619441937), 'mean_ji': np.float64(0.9477803410627545), 'mean_loc_error': np.float64(0.1713508039386239), 'avg_std_loc_error': np.float64(0.09735523931244341), 'mean_mean_squared_error': np.float64(0.03941892731708377), 'avg_std_mean_squared_error': np.float64(0.044378891351113586), 'std_precision': np.float64(0.03198224629015559), 'std_recall': np.float64(0.02940583888903998), 'std_f1': np.float64(0.02799400147389982), 'std_ji': np.float64(0.05123275919896287), 'std_loc_error': np.float64(0.017860226754347175), 'std_mean_squared_error': np.float64(0.008496036799915438)}\n",
      "Density: 1.0, Metrics: {'mean_precision': np.float64(0.9674491987133715), 'mean_recall': np.float64(0.9755833333333331), 'mean_f1': np.float64(0.9713554835295092), 'mean_ji': np.float64(0.9458760017319291), 'mean_loc_error': np.float64(0.17580983575193973), 'avg_std_loc_error': np.float64(0.1021184897727901), 'mean_mean_squared_error': np.float64(0.041944124194760256), 'avg_std_mean_squared_error': np.float64(0.04842277616178492), 'std_precision': np.float64(0.032344606497161615), 'std_recall': np.float64(0.03131947831976488), 'std_f1': np.float64(0.029721363375218312), 'std_ji': np.float64(0.05436651179875027), 'std_loc_error': np.float64(0.019240465234402825), 'std_mean_squared_error': np.float64(0.009098757770744731)}\n",
      "Density: 2.0, Metrics: {'mean_precision': np.float64(0.9480887445388748), 'mean_recall': np.float64(0.9275720164609053), 'mean_f1': np.float64(0.937564096495938), 'mean_ji': np.float64(0.8840065486165685), 'mean_loc_error': np.float64(0.20063647750940522), 'avg_std_loc_error': np.float64(0.11644293930185251), 'mean_mean_squared_error': np.float64(0.05413078808824765), 'avg_std_mean_squared_error': np.float64(0.0605599432906154), 'std_precision': np.float64(0.027757483211145476), 'std_recall': np.float64(0.03704160922852869), 'std_f1': np.float64(0.030708093155296146), 'std_ji': np.float64(0.05332807485143104), 'std_loc_error': np.float64(0.014289318782307117), 'std_mean_squared_error': np.float64(0.007377001715073034)}\n",
      "Density: 3.0, Metrics: {'mean_precision': np.float64(0.9149273114900156), 'mean_recall': np.float64(0.8093442622950819), 'mean_f1': np.float64(0.8586062483904637), 'mean_ji': np.float64(0.7541887967682688), 'mean_loc_error': np.float64(0.2246083670355593), 'avg_std_loc_error': np.float64(0.12623503227572633), 'mean_mean_squared_error': np.float64(0.06666678230415933), 'avg_std_mean_squared_error': np.float64(0.06983853768507305), 'std_precision': np.float64(0.030890819862290215), 'std_recall': np.float64(0.046809235646289304), 'std_f1': np.float64(0.038062467764370535), 'std_ji': np.float64(0.05839231111846579), 'std_loc_error': np.float64(0.014123561042115313), 'std_mean_squared_error': np.float64(0.007952340695195119)}\n",
      "Density: 4.0, Metrics: {'mean_precision': np.float64(0.8726249120675303), 'mean_recall': np.float64(0.6628629856850716), 'mean_f1': np.float64(0.7531163582024235), 'mean_ji': np.float64(0.6052444560661183), 'mean_loc_error': np.float64(0.24529552809858388), 'avg_std_loc_error': np.float64(0.13246137995756538), 'mean_mean_squared_error': np.float64(0.07800452982967122), 'avg_std_mean_squared_error': np.float64(0.0760560926540617), 'std_precision': np.float64(0.03188392776816785), 'std_recall': np.float64(0.03893868891677208), 'std_f1': np.float64(0.03487921622639123), 'std_ji': np.float64(0.04456689221622852), 'std_loc_error': np.float64(0.014847406279661806), 'std_mean_squared_error': np.float64(0.008605724716571552)}\n"
     ]
    }
   ],
   "source": [
    "# Test densities at fixed SNRs\n",
    "denseresults2snr = test_densities_fixed_snr(model, snr=2, num_images=300, device=device)\n",
    "denseresults3snr = test_densities_fixed_snr(model, snr=3, num_images=300, device=device)\n",
    "denseresults5snr = test_densities_fixed_snr(model, snr=5, num_images=300, device=device)\n",
    "denseresults8snr = test_densities_fixed_snr(model, snr=8, num_images=300, device=device)\n",
    "\n",
    "save_path = r'D:\\zeiss\\Desktop\\coding\\Hilger\\bachelor\\measurements\\overnight_measurements\\score07\\d_2snr.pkl'\n",
    "with open(save_path, 'wb') as f:\n",
    "    pickle.dump(denseresults2snr, f)\n",
    "\n",
    "save_path = r'D:\\zeiss\\Desktop\\coding\\Hilger\\bachelor\\measurements\\overnight_measurements\\score07\\d_3snr.pkl'\n",
    "with open(save_path, 'wb') as f:\n",
    "    pickle.dump(denseresults3snr, f)\n",
    "\n",
    "save_path = r'D:\\zeiss\\Desktop\\coding\\Hilger\\bachelor\\measurements\\overnight_measurements\\score07\\d_5snr.pkl'\n",
    "with open(save_path, 'wb') as f:\n",
    "    pickle.dump(denseresults5snr, f)\n",
    "\n",
    "save_path = r'D:\\zeiss\\Desktop\\coding\\Hilger\\bachelor\\measurements\\overnight_measurements\\score07\\d_8snr.pkl'\n",
    "with open(save_path, 'wb') as f:\n",
    "    pickle.dump(denseresults8snr, f)"
   ]
  },
  {
   "cell_type": "code",
   "execution_count": 10,
   "id": "b9f9ba7a",
   "metadata": {},
   "outputs": [
    {
     "name": "stdout",
     "output_type": "stream",
     "text": [
      "Processing image 1/20000\n",
      "Processing image 101/20000\n",
      "Processing image 201/20000\n",
      "Processing image 301/20000\n",
      "Processing image 401/20000\n",
      "Processing image 501/20000\n",
      "Processing image 601/20000\n",
      "Processing image 701/20000\n",
      "Processing image 801/20000\n",
      "Processing image 901/20000\n",
      "Processing image 1001/20000\n",
      "Processing image 1101/20000\n",
      "Processing image 1201/20000\n",
      "Processing image 1301/20000\n",
      "Processing image 1401/20000\n",
      "Processing image 1501/20000\n",
      "Processing image 1601/20000\n",
      "Processing image 1701/20000\n",
      "Processing image 1801/20000\n",
      "Processing image 1901/20000\n",
      "Processing image 2001/20000\n",
      "Processing image 2101/20000\n",
      "Processing image 2201/20000\n",
      "Processing image 2301/20000\n",
      "Processing image 2401/20000\n",
      "Processing image 2501/20000\n",
      "Processing image 2601/20000\n",
      "Processing image 2701/20000\n",
      "Processing image 2801/20000\n",
      "Processing image 2901/20000\n",
      "Processing image 3001/20000\n",
      "Processing image 3101/20000\n",
      "Processing image 3201/20000\n",
      "Processing image 3301/20000\n",
      "Processing image 3401/20000\n",
      "Processing image 3501/20000\n",
      "Processing image 3601/20000\n",
      "Processing image 3701/20000\n",
      "Processing image 3801/20000\n",
      "Processing image 3901/20000\n",
      "Processing image 4001/20000\n",
      "Processing image 4101/20000\n",
      "Processing image 4201/20000\n",
      "Processing image 4301/20000\n",
      "Processing image 4401/20000\n",
      "Processing image 4501/20000\n",
      "Processing image 4601/20000\n",
      "Processing image 4701/20000\n",
      "Processing image 4801/20000\n",
      "Processing image 4901/20000\n",
      "Processing image 5001/20000\n",
      "Processing image 5101/20000\n",
      "Processing image 5201/20000\n",
      "Processing image 5301/20000\n",
      "Processing image 5401/20000\n",
      "Processing image 5501/20000\n",
      "Processing image 5601/20000\n",
      "Processing image 5701/20000\n",
      "Processing image 5801/20000\n",
      "Processing image 5901/20000\n",
      "Processing image 6001/20000\n",
      "Processing image 6101/20000\n",
      "Processing image 6201/20000\n",
      "Processing image 6301/20000\n",
      "Processing image 6401/20000\n",
      "Processing image 6501/20000\n",
      "Processing image 6601/20000\n",
      "Processing image 6701/20000\n",
      "Processing image 6801/20000\n",
      "Processing image 6901/20000\n",
      "Processing image 7001/20000\n",
      "Processing image 7101/20000\n",
      "Processing image 7201/20000\n",
      "Processing image 7301/20000\n",
      "Processing image 7401/20000\n",
      "Processing image 7501/20000\n",
      "Processing image 7601/20000\n",
      "Processing image 7701/20000\n",
      "Processing image 7801/20000\n",
      "Processing image 7901/20000\n",
      "Processing image 8001/20000\n",
      "Processing image 8101/20000\n",
      "Processing image 8201/20000\n",
      "Processing image 8301/20000\n",
      "Processing image 8401/20000\n",
      "Processing image 8501/20000\n",
      "Processing image 8601/20000\n",
      "Processing image 8701/20000\n",
      "Processing image 8801/20000\n",
      "Processing image 8901/20000\n",
      "Processing image 9001/20000\n",
      "Processing image 9101/20000\n",
      "Processing image 9201/20000\n",
      "Processing image 9301/20000\n",
      "Processing image 9401/20000\n",
      "Processing image 9501/20000\n",
      "Processing image 9601/20000\n",
      "Processing image 9701/20000\n",
      "Processing image 9801/20000\n",
      "Processing image 9901/20000\n",
      "Processing image 10001/20000\n",
      "Processing image 10101/20000\n",
      "Processing image 10201/20000\n",
      "Processing image 10301/20000\n",
      "Processing image 10401/20000\n",
      "Processing image 10501/20000\n",
      "Processing image 10601/20000\n",
      "Processing image 10701/20000\n",
      "Processing image 10801/20000\n",
      "Processing image 10901/20000\n",
      "Processing image 11001/20000\n",
      "Processing image 11101/20000\n",
      "Processing image 11201/20000\n",
      "Processing image 11301/20000\n",
      "Processing image 11401/20000\n",
      "Processing image 11501/20000\n",
      "Processing image 11601/20000\n",
      "Processing image 11701/20000\n",
      "Processing image 11801/20000\n",
      "Processing image 11901/20000\n",
      "Processing image 12001/20000\n",
      "Processing image 12101/20000\n",
      "Processing image 12201/20000\n",
      "Processing image 12301/20000\n",
      "Processing image 12401/20000\n",
      "Processing image 12501/20000\n",
      "Processing image 12601/20000\n",
      "Processing image 12701/20000\n",
      "Processing image 12801/20000\n",
      "Processing image 12901/20000\n",
      "Processing image 13001/20000\n",
      "Processing image 13101/20000\n",
      "Processing image 13201/20000\n",
      "Processing image 13301/20000\n",
      "Processing image 13401/20000\n",
      "Processing image 13501/20000\n",
      "Processing image 13601/20000\n",
      "Processing image 13701/20000\n",
      "Processing image 13801/20000\n",
      "Processing image 13901/20000\n",
      "Processing image 14001/20000\n",
      "Processing image 14101/20000\n",
      "Processing image 14201/20000\n",
      "Processing image 14301/20000\n",
      "Processing image 14401/20000\n",
      "Processing image 14501/20000\n",
      "Processing image 14601/20000\n",
      "Processing image 14701/20000\n",
      "Processing image 14801/20000\n",
      "Processing image 14901/20000\n",
      "Processing image 15001/20000\n",
      "Processing image 15101/20000\n",
      "Processing image 15201/20000\n",
      "Processing image 15301/20000\n",
      "Processing image 15401/20000\n",
      "Processing image 15501/20000\n",
      "Processing image 15601/20000\n",
      "Processing image 15701/20000\n",
      "Processing image 15801/20000\n",
      "Processing image 15901/20000\n",
      "Processing image 16001/20000\n",
      "Processing image 16101/20000\n",
      "Processing image 16201/20000\n",
      "Processing image 16301/20000\n",
      "Processing image 16401/20000\n",
      "Processing image 16501/20000\n",
      "Processing image 16601/20000\n",
      "Processing image 16701/20000\n",
      "Processing image 16801/20000\n",
      "Processing image 16901/20000\n",
      "Processing image 17001/20000\n",
      "Processing image 17101/20000\n",
      "Processing image 17201/20000\n",
      "Processing image 17301/20000\n",
      "Processing image 17401/20000\n",
      "Processing image 17501/20000\n",
      "Processing image 17601/20000\n",
      "Processing image 17701/20000\n",
      "Processing image 17801/20000\n",
      "Processing image 17901/20000\n",
      "Processing image 18001/20000\n",
      "Processing image 18101/20000\n",
      "Processing image 18201/20000\n",
      "Processing image 18301/20000\n",
      "Processing image 18401/20000\n",
      "Processing image 18501/20000\n",
      "Processing image 18601/20000\n",
      "Processing image 18701/20000\n",
      "Processing image 18801/20000\n",
      "Processing image 18901/20000\n",
      "Processing image 19001/20000\n",
      "Processing image 19101/20000\n",
      "Processing image 19201/20000\n",
      "Processing image 19301/20000\n",
      "Processing image 19401/20000\n",
      "Processing image 19501/20000\n",
      "Processing image 19601/20000\n",
      "Processing image 19701/20000\n",
      "Processing image 19801/20000\n",
      "Processing image 19901/20000\n",
      "Processing image 1/20000\n",
      "Processing image 101/20000\n",
      "Processing image 201/20000\n",
      "Processing image 301/20000\n",
      "Processing image 401/20000\n",
      "Processing image 501/20000\n",
      "Processing image 601/20000\n",
      "Processing image 701/20000\n",
      "Processing image 801/20000\n",
      "Processing image 901/20000\n",
      "Processing image 1001/20000\n",
      "Processing image 1101/20000\n",
      "Processing image 1201/20000\n",
      "Processing image 1301/20000\n",
      "Processing image 1401/20000\n",
      "Processing image 1501/20000\n",
      "Processing image 1601/20000\n",
      "Processing image 1701/20000\n",
      "Processing image 1801/20000\n",
      "Processing image 1901/20000\n",
      "Processing image 2001/20000\n",
      "Processing image 2101/20000\n",
      "Processing image 2201/20000\n",
      "Processing image 2301/20000\n",
      "Processing image 2401/20000\n",
      "Processing image 2501/20000\n",
      "Processing image 2601/20000\n",
      "Processing image 2701/20000\n",
      "Processing image 2801/20000\n",
      "Processing image 2901/20000\n",
      "Processing image 3001/20000\n",
      "Processing image 3101/20000\n",
      "Processing image 3201/20000\n",
      "Processing image 3301/20000\n",
      "Processing image 3401/20000\n",
      "Processing image 3501/20000\n",
      "Processing image 3601/20000\n",
      "Processing image 3701/20000\n",
      "Processing image 3801/20000\n",
      "Processing image 3901/20000\n",
      "Processing image 4001/20000\n",
      "Processing image 4101/20000\n",
      "Processing image 4201/20000\n",
      "Processing image 4301/20000\n",
      "Processing image 4401/20000\n",
      "Processing image 4501/20000\n",
      "Processing image 4601/20000\n",
      "Processing image 4701/20000\n",
      "Processing image 4801/20000\n",
      "Processing image 4901/20000\n",
      "Processing image 5001/20000\n",
      "Processing image 5101/20000\n",
      "Processing image 5201/20000\n",
      "Processing image 5301/20000\n",
      "Processing image 5401/20000\n",
      "Processing image 5501/20000\n",
      "Processing image 5601/20000\n",
      "Processing image 5701/20000\n",
      "Processing image 5801/20000\n",
      "Processing image 5901/20000\n",
      "Processing image 6001/20000\n",
      "Processing image 6101/20000\n",
      "Processing image 6201/20000\n",
      "Processing image 6301/20000\n",
      "Processing image 6401/20000\n",
      "Processing image 6501/20000\n",
      "Processing image 6601/20000\n",
      "Processing image 6701/20000\n",
      "Processing image 6801/20000\n",
      "Processing image 6901/20000\n",
      "Processing image 7001/20000\n",
      "Processing image 7101/20000\n",
      "Processing image 7201/20000\n",
      "Processing image 7301/20000\n",
      "Processing image 7401/20000\n",
      "Processing image 7501/20000\n",
      "Processing image 7601/20000\n",
      "Processing image 7701/20000\n",
      "Processing image 7801/20000\n",
      "Processing image 7901/20000\n",
      "Processing image 8001/20000\n",
      "Processing image 8101/20000\n",
      "Processing image 8201/20000\n",
      "Processing image 8301/20000\n",
      "Processing image 8401/20000\n",
      "Processing image 8501/20000\n",
      "Processing image 8601/20000\n",
      "Processing image 8701/20000\n",
      "Processing image 8801/20000\n",
      "Processing image 8901/20000\n",
      "Processing image 9001/20000\n",
      "Processing image 9101/20000\n",
      "Processing image 9201/20000\n",
      "Processing image 9301/20000\n",
      "Processing image 9401/20000\n",
      "Processing image 9501/20000\n",
      "Processing image 9601/20000\n",
      "Processing image 9701/20000\n",
      "Processing image 9801/20000\n",
      "Processing image 9901/20000\n",
      "Processing image 10001/20000\n",
      "Processing image 10101/20000\n",
      "Processing image 10201/20000\n",
      "Processing image 10301/20000\n",
      "Processing image 10401/20000\n",
      "Processing image 10501/20000\n",
      "Processing image 10601/20000\n",
      "Processing image 10701/20000\n",
      "Processing image 10801/20000\n",
      "Processing image 10901/20000\n",
      "Processing image 11001/20000\n",
      "Processing image 11101/20000\n",
      "Processing image 11201/20000\n",
      "Processing image 11301/20000\n",
      "Processing image 11401/20000\n",
      "Processing image 11501/20000\n",
      "Processing image 11601/20000\n",
      "Processing image 11701/20000\n",
      "Processing image 11801/20000\n",
      "Processing image 11901/20000\n",
      "Processing image 12001/20000\n",
      "Processing image 12101/20000\n",
      "Processing image 12201/20000\n",
      "Processing image 12301/20000\n",
      "Processing image 12401/20000\n",
      "Processing image 12501/20000\n",
      "Processing image 12601/20000\n",
      "Processing image 12701/20000\n",
      "Processing image 12801/20000\n",
      "Processing image 12901/20000\n",
      "Processing image 13001/20000\n",
      "Processing image 13101/20000\n",
      "Processing image 13201/20000\n",
      "Processing image 13301/20000\n",
      "Processing image 13401/20000\n",
      "Processing image 13501/20000\n",
      "Processing image 13601/20000\n",
      "Processing image 13701/20000\n",
      "Processing image 13801/20000\n",
      "Processing image 13901/20000\n",
      "Processing image 14001/20000\n",
      "Processing image 14101/20000\n",
      "Processing image 14201/20000\n",
      "Processing image 14301/20000\n",
      "Processing image 14401/20000\n",
      "Processing image 14501/20000\n",
      "Processing image 14601/20000\n",
      "Processing image 14701/20000\n",
      "Processing image 14801/20000\n",
      "Processing image 14901/20000\n",
      "Processing image 15001/20000\n",
      "Processing image 15101/20000\n",
      "Processing image 15201/20000\n",
      "Processing image 15301/20000\n",
      "Processing image 15401/20000\n",
      "Processing image 15501/20000\n",
      "Processing image 15601/20000\n",
      "Processing image 15701/20000\n",
      "Processing image 15801/20000\n",
      "Processing image 15901/20000\n",
      "Processing image 16001/20000\n",
      "Processing image 16101/20000\n",
      "Processing image 16201/20000\n",
      "Processing image 16301/20000\n",
      "Processing image 16401/20000\n",
      "Processing image 16501/20000\n",
      "Processing image 16601/20000\n",
      "Processing image 16701/20000\n",
      "Processing image 16801/20000\n",
      "Processing image 16901/20000\n",
      "Processing image 17001/20000\n",
      "Processing image 17101/20000\n",
      "Processing image 17201/20000\n",
      "Processing image 17301/20000\n",
      "Processing image 17401/20000\n",
      "Processing image 17501/20000\n",
      "Processing image 17601/20000\n",
      "Processing image 17701/20000\n",
      "Processing image 17801/20000\n",
      "Processing image 17901/20000\n",
      "Processing image 18001/20000\n",
      "Processing image 18101/20000\n",
      "Processing image 18201/20000\n",
      "Processing image 18301/20000\n",
      "Processing image 18401/20000\n",
      "Processing image 18501/20000\n",
      "Processing image 18601/20000\n",
      "Processing image 18701/20000\n",
      "Processing image 18801/20000\n",
      "Processing image 18901/20000\n",
      "Processing image 19001/20000\n",
      "Processing image 19101/20000\n",
      "Processing image 19201/20000\n",
      "Processing image 19301/20000\n",
      "Processing image 19401/20000\n",
      "Processing image 19501/20000\n",
      "Processing image 19601/20000\n",
      "Processing image 19701/20000\n",
      "Processing image 19801/20000\n",
      "Processing image 19901/20000\n"
     ]
    },
    {
     "ename": "AttributeError",
     "evalue": "Can't get local object 'evaluate_recall_per_snr.<locals>.<lambda>'",
     "output_type": "error",
     "traceback": [
      "\u001b[31m---------------------------------------------------------------------------\u001b[39m",
      "\u001b[31mAttributeError\u001b[39m                            Traceback (most recent call last)",
      "\u001b[36mCell\u001b[39m\u001b[36m \u001b[39m\u001b[32mIn[10]\u001b[39m\u001b[32m, line 8\u001b[39m\n\u001b[32m      6\u001b[39m save_path = \u001b[33mr\u001b[39m\u001b[33m'\u001b[39m\u001b[33mD:\u001b[39m\u001b[33m\\\u001b[39m\u001b[33mzeiss\u001b[39m\u001b[33m\\\u001b[39m\u001b[33mDesktop\u001b[39m\u001b[33m\\\u001b[39m\u001b[33mcoding\u001b[39m\u001b[33m\\\u001b[39m\u001b[33mHilger\u001b[39m\u001b[33m\\\u001b[39m\u001b[33mbachelor\u001b[39m\u001b[33m\\\u001b[39m\u001b[33mmeasurements\u001b[39m\u001b[33m\\\u001b[39m\u001b[33movernight_measurements\u001b[39m\u001b[33m\\\u001b[39m\u001b[33mscore07\u001b[39m\u001b[33m\\\u001b[39m\u001b[33mrec_iou05.pkl\u001b[39m\u001b[33m'\u001b[39m\n\u001b[32m      7\u001b[39m \u001b[38;5;28;01mwith\u001b[39;00m \u001b[38;5;28mopen\u001b[39m(save_path, \u001b[33m'\u001b[39m\u001b[33mwb\u001b[39m\u001b[33m'\u001b[39m) \u001b[38;5;28;01mas\u001b[39;00m f:\n\u001b[32m----> \u001b[39m\u001b[32m8\u001b[39m     \u001b[43mpickle\u001b[49m\u001b[43m.\u001b[49m\u001b[43mdump\u001b[49m\u001b[43m(\u001b[49m\u001b[43mrecall_per_snr_iou05\u001b[49m\u001b[43m,\u001b[49m\u001b[43m \u001b[49m\u001b[43mf\u001b[49m\u001b[43m)\u001b[49m\n\u001b[32m      9\u001b[39m save_path = \u001b[33mr\u001b[39m\u001b[33m'\u001b[39m\u001b[33mD:\u001b[39m\u001b[33m\\\u001b[39m\u001b[33mzeiss\u001b[39m\u001b[33m\\\u001b[39m\u001b[33mDesktop\u001b[39m\u001b[33m\\\u001b[39m\u001b[33mcoding\u001b[39m\u001b[33m\\\u001b[39m\u001b[33mHilger\u001b[39m\u001b[33m\\\u001b[39m\u001b[33mbachelor\u001b[39m\u001b[33m\\\u001b[39m\u001b[33mmeasurements\u001b[39m\u001b[33m\\\u001b[39m\u001b[33movernight_measurements\u001b[39m\u001b[33m\\\u001b[39m\u001b[33mscore07\u001b[39m\u001b[33m\\\u001b[39m\u001b[33mrec_iou03.pkl\u001b[39m\u001b[33m'\u001b[39m\n\u001b[32m     10\u001b[39m \u001b[38;5;28;01mwith\u001b[39;00m \u001b[38;5;28mopen\u001b[39m(save_path, \u001b[33m'\u001b[39m\u001b[33mwb\u001b[39m\u001b[33m'\u001b[39m) \u001b[38;5;28;01mas\u001b[39;00m f:\n",
      "\u001b[31mAttributeError\u001b[39m: Can't get local object 'evaluate_recall_per_snr.<locals>.<lambda>'"
     ]
    }
   ],
   "source": [
    "# Test recall per SNR\n",
    "params = {'snr_min': 1, 'snr_max': 15}\n",
    "recall_per_snr_iou05 = evaluate_recall_per_snr(model, 20000, device, 0.5, **params)\n",
    "recall_per_snr_iou03 = evaluate_recall_per_snr(model, 20000, device, 0.3, **params)\n",
    "\n",
    "save_path = r'D:\\zeiss\\Desktop\\coding\\Hilger\\bachelor\\measurements\\overnight_measurements\\score07\\rec_iou05.pkl'\n",
    "with open(save_path, 'wb') as f:\n",
    "    pickle.dump(recall_per_snr_iou05, f)\n",
    "save_path = r'D:\\zeiss\\Desktop\\coding\\Hilger\\bachelor\\measurements\\overnight_measurements\\score07\\rec_iou03.pkl'\n",
    "with open(save_path, 'wb') as f:\n",
    "    pickle.dump(recall_per_snr_iou03, f)"
   ]
  },
  {
   "cell_type": "code",
   "execution_count": 17,
   "id": "7417fbd7",
   "metadata": {},
   "outputs": [],
   "source": [
    "recall_per_snr_iou05= ((dict(recall_per_snr_iou05[0])), (dict(recall_per_snr_iou03[0])))\n",
    "recall_per_snr_iou03 = ((dict(recall_per_snr_iou05[1])), (dict(recall_per_snr_iou03[1])))\n",
    "\n",
    "save_path = r'D:\\zeiss\\Desktop\\coding\\Hilger\\bachelor\\measurements\\overnight_measurements\\score07\\rec_iou05.pkl'\n",
    "with open(save_path, 'wb') as f:\n",
    "    pickle.dump(recall_per_snr_iou05, f)\n",
    "save_path = r'D:\\zeiss\\Desktop\\coding\\Hilger\\bachelor\\measurements\\overnight_measurements\\score07\\rec_iou03.pkl'\n",
    "with open(save_path, 'wb') as f:\n",
    "    pickle.dump(recall_per_snr_iou03, f)"
   ]
  },
  {
   "cell_type": "code",
   "execution_count": 13,
   "id": "67d54335",
   "metadata": {},
   "outputs": [
    {
     "name": "stdout",
     "output_type": "stream",
     "text": [
      "<class 'collections.defaultdict'>\n"
     ]
    }
   ],
   "source": [
    "print(type(recall_per_snr_iou05[0]))"
   ]
  },
  {
   "cell_type": "code",
   "execution_count": 18,
   "id": "67163865",
   "metadata": {},
   "outputs": [
    {
     "name": "stdout",
     "output_type": "stream",
     "text": [
      "Noise level: (0.0, 1.0), Metrics: {'mean_precision': np.float64(0.7189239420423632), 'mean_recall': np.float64(0.5038333333333334), 'mean_f1': np.float64(0.5836725631809386), 'mean_ji': np.float64(0.42725633664279344), 'mean_loc_error': np.float64(0.3158263544418216), 'avg_std_loc_error': np.float64(0.12679505387331724), 'mean_mean_squared_error': np.float64(0.11891800515325993), 'avg_std_mean_squared_error': np.float64(0.08181932788471763), 'std_precision': np.float64(0.1275074076548825), 'std_recall': np.float64(0.15846231588474138), 'std_f1': np.float64(0.14892981472461306), 'std_ji': np.float64(0.14560566871654576), 'std_loc_error': np.float64(0.04772166827213649), 'std_mean_squared_error': np.float64(0.03013562081317901)}\n"
     ]
    },
    {
     "name": "stderr",
     "output_type": "stream",
     "text": [
      "d:\\zeiss\\Desktop\\coding\\Hilger\\bachelor\\PsfSimulator.py:123: RuntimeWarning: All-NaN slice encountered\n",
      "  signal = np.nanmax(array[y1:y2, x1:x2])\n"
     ]
    },
    {
     "name": "stdout",
     "output_type": "stream",
     "text": [
      "Noise level: (0.05, 0.95), Metrics: {'mean_precision': np.float64(0.7186357586342107), 'mean_recall': np.float64(0.5206666666666666), 'mean_f1': np.float64(0.5974650079889634), 'mean_ji': np.float64(0.4391765359457763), 'mean_loc_error': np.float64(0.31274856718078614), 'avg_std_loc_error': np.float64(0.12841360214168812), 'mean_mean_squared_error': np.float64(0.11701028824223357), 'avg_std_mean_squared_error': np.float64(0.08171021488206678), 'std_precision': np.float64(0.12445414327503229), 'std_recall': np.float64(0.14562356341685306), 'std_f1': np.float64(0.1353193618325164), 'std_ji': np.float64(0.13787099663082733), 'std_loc_error': np.float64(0.04523122085230837), 'std_mean_squared_error': np.float64(0.02926970033429293)}\n",
      "Noise level: (0.1, 0.9), Metrics: {'mean_precision': np.float64(0.7300342394104004), 'mean_recall': np.float64(0.5353333333333333), 'mean_f1': np.float64(0.6112351454093001), 'mean_ji': np.float64(0.4545074045071296), 'mean_loc_error': np.float64(0.31302326955210474), 'avg_std_loc_error': np.float64(0.1279685010593823), 'mean_mean_squared_error': np.float64(0.11682705686776508), 'avg_std_mean_squared_error': np.float64(0.08162954949932226), 'std_precision': np.float64(0.12942150699158458), 'std_recall': np.float64(0.15055969654001772), 'std_f1': np.float64(0.14018119888819788), 'std_ji': np.float64(0.1438423712935402), 'std_loc_error': np.float64(0.043361780005187735), 'std_mean_squared_error': np.float64(0.027922276431285007)}\n",
      "Noise level: (0.15, 0.85), Metrics: {'mean_precision': np.float64(0.7238463865855507), 'mean_recall': np.float64(0.5485), 'mean_f1': np.float64(0.6198564961435085), 'mean_ji': np.float64(0.46130598485398583), 'mean_loc_error': np.float64(0.31160033770117734), 'avg_std_loc_error': np.float64(0.12653392253694895), 'mean_mean_squared_error': np.float64(0.11565167491122345), 'avg_std_mean_squared_error': np.float64(0.08012512903332925), 'std_precision': np.float64(0.12239850675443356), 'std_recall': np.float64(0.13517673616417877), 'std_f1': np.float64(0.126590346585972), 'std_ji': np.float64(0.13401430510830611), 'std_loc_error': np.float64(0.04268730220459874), 'std_mean_squared_error': np.float64(0.02796655623337315)}\n",
      "Noise level: (0.2, 0.8), Metrics: {'mean_precision': np.float64(0.7206475522241776), 'mean_recall': np.float64(0.5643333333333334), 'mean_f1': np.float64(0.6293806536208177), 'mean_ji': np.float64(0.4720130577910438), 'mean_loc_error': np.float64(0.31747353397226985), 'avg_std_loc_error': np.float64(0.12867848550023417), 'mean_mean_squared_error': np.float64(0.11980582407241815), 'avg_std_mean_squared_error': np.float64(0.08279486427732625), 'std_precision': np.float64(0.12434555910209222), 'std_recall': np.float64(0.1374574681694507), 'std_f1': np.float64(0.1289820143301142), 'std_ji': np.float64(0.13726122952903538), 'std_loc_error': np.float64(0.04339991673062323), 'std_mean_squared_error': np.float64(0.027847312587469614)}\n",
      "Noise level: (0.25, 0.75), Metrics: {'mean_precision': np.float64(0.7223404872847597), 'mean_recall': np.float64(0.5706666666666667), 'mean_f1': np.float64(0.6347683773597879), 'mean_ji': np.float64(0.4750694526825462), 'mean_loc_error': np.float64(0.3170251451765275), 'avg_std_loc_error': np.float64(0.12971623696700685), 'mean_mean_squared_error': np.float64(0.11960716371980726), 'avg_std_mean_squared_error': np.float64(0.08439257660200675), 'std_precision': np.float64(0.11251876929364031), 'std_recall': np.float64(0.12140657130302113), 'std_f1': np.float64(0.11427252739347066), 'std_ji': np.float64(0.12155087991284827), 'std_loc_error': np.float64(0.04159546355995453), 'std_mean_squared_error': np.float64(0.026925553815717995)}\n",
      "Noise level: (0.3, 0.7), Metrics: {'mean_precision': np.float64(0.7328045787202133), 'mean_recall': np.float64(0.5960000000000001), 'mean_f1': np.float64(0.6544797666253358), 'mean_ji': np.float64(0.49962639590748686), 'mean_loc_error': np.float64(0.31416936129835754), 'avg_std_loc_error': np.float64(0.13099338669249078), 'mean_mean_squared_error': np.float64(0.1182689652238066), 'avg_std_mean_squared_error': np.float64(0.08442888699926643), 'std_precision': np.float64(0.12774802142842773), 'std_recall': np.float64(0.1348480626483006), 'std_f1': np.float64(0.12827595452517013), 'std_ji': np.float64(0.1395277946472267), 'std_loc_error': np.float64(0.04274410706269436), 'std_mean_squared_error': np.float64(0.027541453999642654)}\n",
      "Noise level: (0.35, 0.65), Metrics: {'mean_precision': np.float64(0.7338412971760495), 'mean_recall': np.float64(0.6105), 'mean_f1': np.float64(0.6642210026804036), 'mean_ji': np.float64(0.5076992271486122), 'mean_loc_error': np.float64(0.31385991713571554), 'avg_std_loc_error': np.float64(0.13067880872088442), 'mean_mean_squared_error': np.float64(0.11780019957620534), 'avg_std_mean_squared_error': np.float64(0.0837108795514852), 'std_precision': np.float64(0.10995720293838643), 'std_recall': np.float64(0.11936533555992432), 'std_f1': np.float64(0.11183133790631393), 'std_ji': np.float64(0.12553642001587215), 'std_loc_error': np.float64(0.041205873887126994), 'std_mean_squared_error': np.float64(0.02704302079235237)}\n",
      "Noise level: (0.4, 0.6), Metrics: {'mean_precision': np.float64(0.7291648885027368), 'mean_recall': np.float64(0.6161666666666666), 'mean_f1': np.float64(0.665717649670904), 'mean_ji': np.float64(0.5093856859188403), 'mean_loc_error': np.float64(0.31163455569462656), 'avg_std_loc_error': np.float64(0.12967688099140895), 'mean_mean_squared_error': np.float64(0.11605013906883146), 'avg_std_mean_squared_error': np.float64(0.0826139964036475), 'std_precision': np.float64(0.10920103829415828), 'std_recall': np.float64(0.12019555824664328), 'std_f1': np.float64(0.11172000603673521), 'std_ji': np.float64(0.12581061471794855), 'std_loc_error': np.float64(0.040886296127056354), 'std_mean_squared_error': np.float64(0.026064668774093587)}\n",
      "Noise level: (0.45, 0.55), Metrics: {'mean_precision': np.float64(0.7395958794673965), 'mean_recall': np.float64(0.6416666666666667), 'mean_f1': np.float64(0.6851754787881892), 'mean_ji': np.float64(0.5318846196344884), 'mean_loc_error': np.float64(0.3150024403266593), 'avg_std_loc_error': np.float64(0.13109608597197395), 'mean_mean_squared_error': np.float64(0.11844577736123897), 'avg_std_mean_squared_error': np.float64(0.08417474351053565), 'std_precision': np.float64(0.11112502485283753), 'std_recall': np.float64(0.118309856826142), 'std_f1': np.float64(0.11048527072357199), 'std_ji': np.float64(0.12895843528996656), 'std_loc_error': np.float64(0.039310123553030554), 'std_mean_squared_error': np.float64(0.025013720908547556)}\n",
      "Noise level: (0.5, 0.5), Metrics: {'mean_precision': np.float64(0.7421632169112651), 'mean_recall': np.float64(0.6698333333333333), 'mean_f1': np.float64(0.7024728619877704), 'mean_ji': np.float64(0.5510756321337265), 'mean_loc_error': np.float64(0.3137594924411194), 'avg_std_loc_error': np.float64(0.13071549611919148), 'mean_mean_squared_error': np.float64(0.1175620404934367), 'avg_std_mean_squared_error': np.float64(0.08462894621419981), 'std_precision': np.float64(0.10259901968247206), 'std_recall': np.float64(0.11104791258231236), 'std_f1': np.float64(0.10278634195968149), 'std_ji': np.float64(0.12277513894333063), 'std_loc_error': np.float64(0.03903603231472495), 'std_mean_squared_error': np.float64(0.02553353862060468)}\n"
     ]
    },
    {
     "name": "stderr",
     "output_type": "stream",
     "text": [
      "d:\\zeiss\\Desktop\\coding\\Hilger\\bachelor\\utils.py:86: RuntimeWarning: Mean of empty slice\n",
      "  mse = np.nanmean(square_loc_errors)\n",
      "c:\\Users\\zeiss\\anaconda3\\envs\\hilger312\\Lib\\site-packages\\numpy\\lib\\_nanfunctions_impl.py:2019: RuntimeWarning: Degrees of freedom <= 0 for slice.\n",
      "  var = nanvar(a, axis=axis, dtype=dtype, out=out, ddof=ddof,\n",
      "d:\\zeiss\\Desktop\\coding\\Hilger\\bachelor\\utils.py:88: RuntimeWarning: Mean of empty slice\n",
      "  me = np.nanmean(loc_errors)\n"
     ]
    },
    {
     "name": "stdout",
     "output_type": "stream",
     "text": [
      "Noise level: (0.0, 1.0), Metrics: {'mean_precision': np.float64(0.5188550986050986), 'mean_recall': np.float64(0.16233333333333333), 'mean_f1': np.float64(0.23806968947662435), 'mean_ji': np.float64(0.14136585267972077), 'mean_loc_error': np.float64(0.34186997617005793), 'avg_std_loc_error': np.float64(0.09060873741513943), 'mean_mean_squared_error': np.float64(0.1362017510329927), 'avg_std_mean_squared_error': np.float64(0.06093149433552126), 'std_precision': np.float64(0.24486487615689767), 'std_recall': np.float64(0.09856244495524426), 'std_f1': np.float64(0.12888420710445894), 'std_ji': np.float64(0.08577849517576194), 'std_loc_error': np.float64(0.08955054832187226), 'std_mean_squared_error': np.float64(0.06002643157495886)}\n",
      "Noise level: (0.05, 0.95), Metrics: {'mean_precision': np.float64(0.536915915468547), 'mean_recall': np.float64(0.19466666666666665), 'mean_f1': np.float64(0.27708944938780244), 'mean_ji': np.float64(0.16687583565119796), 'mean_loc_error': np.float64(0.34375605031749484), 'avg_std_loc_error': np.float64(0.10246315547062822), 'mean_mean_squared_error': np.float64(0.1373207066068569), 'avg_std_mean_squared_error': np.float64(0.06914749969669827), 'std_precision': np.float64(0.20763679663743598), 'std_recall': np.float64(0.0990196389050621), 'std_f1': np.float64(0.12316719070088218), 'std_ji': np.float64(0.0850776706159162), 'std_loc_error': np.float64(0.07619236792489514), 'std_mean_squared_error': np.float64(0.051484677121936696)}\n",
      "Noise level: (0.1, 0.9), Metrics: {'mean_precision': np.float64(0.5101650016650016), 'mean_recall': np.float64(0.1865), 'mean_f1': np.float64(0.26514609963830166), 'mean_ji': np.float64(0.1590523094698257), 'mean_loc_error': np.float64(0.3477429513927421), 'avg_std_loc_error': np.float64(0.09727780326610967), 'mean_mean_squared_error': np.float64(0.1408624752889461), 'avg_std_mean_squared_error': np.float64(0.06646329059449922), 'std_precision': np.float64(0.20705118981925602), 'std_recall': np.float64(0.09996374342730469), 'std_f1': np.float64(0.1261301493839031), 'std_ji': np.float64(0.08585458578613349), 'std_loc_error': np.float64(0.0843459198921129), 'std_mean_squared_error': np.float64(0.05721758755355872)}\n",
      "Noise level: (0.15, 0.85), Metrics: {'mean_precision': np.float64(0.5236744089244089), 'mean_recall': np.float64(0.19216666666666665), 'mean_f1': np.float64(0.2740626099363262), 'mean_ji': np.float64(0.16501245212854407), 'mean_loc_error': np.float64(0.34648549905049253), 'avg_std_loc_error': np.float64(0.103213280412632), 'mean_mean_squared_error': np.float64(0.14058293968493393), 'avg_std_mean_squared_error': np.float64(0.06982430362033583), 'std_precision': np.float64(0.20547725209407727), 'std_recall': np.float64(0.09872675535143562), 'std_f1': np.float64(0.1253721532606392), 'std_ji': np.float64(0.08610251817093754), 'std_loc_error': np.float64(0.08453333941370396), 'std_mean_squared_error': np.float64(0.05711589694782732)}\n",
      "Noise level: (0.2, 0.8), Metrics: {'mean_precision': np.float64(0.531993265993266), 'mean_recall': np.float64(0.20149999999999998), 'mean_f1': np.float64(0.28492108344190015), 'mean_ji': np.float64(0.17212029997322348), 'mean_loc_error': np.float64(0.3426049451072008), 'avg_std_loc_error': np.float64(0.10063059860690159), 'mean_mean_squared_error': np.float64(0.1359493278204623), 'avg_std_mean_squared_error': np.float64(0.06825924489726286), 'std_precision': np.float64(0.188017996291044), 'std_recall': np.float64(0.09860400600381304), 'std_f1': np.float64(0.12153985795338207), 'std_ji': np.float64(0.08491367894364334), 'std_loc_error': np.float64(0.07532663665624444), 'std_mean_squared_error': np.float64(0.050650846819160454)}\n",
      "Noise level: (0.25, 0.75), Metrics: {'mean_precision': np.float64(0.5137905474155474), 'mean_recall': np.float64(0.21366666666666664), 'mean_f1': np.float64(0.2950737178296507), 'mean_ji': np.float64(0.17900497872571836), 'mean_loc_error': np.float64(0.3451963767461057), 'avg_std_loc_error': np.float64(0.1013379811569528), 'mean_mean_squared_error': np.float64(0.13831238181937638), 'avg_std_mean_squared_error': np.float64(0.06852654054579085), 'std_precision': np.float64(0.17711324964031627), 'std_recall': np.float64(0.0995651657067984), 'std_f1': np.float64(0.12008214999498136), 'std_ji': np.float64(0.08461970385292984), 'std_loc_error': np.float64(0.0803039788546575), 'std_mean_squared_error': np.float64(0.0540821254758799)}\n",
      "Noise level: (0.3, 0.7), Metrics: {'mean_precision': np.float64(0.5268291800791801), 'mean_recall': np.float64(0.23616666666666664), 'mean_f1': np.float64(0.3195107141961437), 'mean_ji': np.float64(0.19694746033114346), 'mean_loc_error': np.float64(0.3455425215865391), 'avg_std_loc_error': np.float64(0.10965519334658669), 'mean_mean_squared_error': np.float64(0.1395551309370325), 'avg_std_mean_squared_error': np.float64(0.07392061993693601), 'std_precision': np.float64(0.18351902866558792), 'std_recall': np.float64(0.10653781279693869), 'std_f1': np.float64(0.1263823126567241), 'std_ji': np.float64(0.09113275938291164), 'std_loc_error': np.float64(0.0747811685080731), 'std_mean_squared_error': np.float64(0.05051699268453418)}\n",
      "Noise level: (0.35, 0.65), Metrics: {'mean_precision': np.float64(0.5230146239925652), 'mean_recall': np.float64(0.24933333333333332), 'mean_f1': np.float64(0.33128896684005205), 'mean_ji': np.float64(0.2053184151195021), 'mean_loc_error': np.float64(0.3422246484579279), 'avg_std_loc_error': np.float64(0.11346843533060615), 'mean_mean_squared_error': np.float64(0.13687521104748815), 'avg_std_mean_squared_error': np.float64(0.07619212792333721), 'std_precision': np.float64(0.17975248793124435), 'std_recall': np.float64(0.10606392202608556), 'std_f1': np.float64(0.12527809203175963), 'std_ji': np.float64(0.09093575431063507), 'std_loc_error': np.float64(0.06782003770316292), 'std_mean_squared_error': np.float64(0.0453267134246953)}\n",
      "Noise level: (0.4, 0.6), Metrics: {'mean_precision': np.float64(0.5245865368291839), 'mean_recall': np.float64(0.2683333333333333), 'mean_f1': np.float64(0.3504526564124806), 'mean_ji': np.float64(0.21918225166655952), 'mean_loc_error': np.float64(0.3431993120547587), 'avg_std_loc_error': np.float64(0.11405130534913352), 'mean_mean_squared_error': np.float64(0.1379440915241707), 'avg_std_mean_squared_error': np.float64(0.07723432670077227), 'std_precision': np.float64(0.165407215953838), 'std_recall': np.float64(0.10446955962809878), 'std_f1': np.float64(0.12263476800760645), 'std_ji': np.float64(0.09103262075577953), 'std_loc_error': np.float64(0.07294146233415522), 'std_mean_squared_error': np.float64(0.050263858791396845)}\n",
      "Noise level: (0.45, 0.55), Metrics: {'mean_precision': np.float64(0.520562276503453), 'mean_recall': np.float64(0.28400000000000003), 'mean_f1': np.float64(0.36286439798045034), 'mean_ji': np.float64(0.2287390783878492), 'mean_loc_error': np.float64(0.34863454249317727), 'avg_std_loc_error': np.float64(0.11855851484440662), 'mean_mean_squared_error': np.float64(0.14117374915235087), 'avg_std_mean_squared_error': np.float64(0.08064427427392655), 'std_precision': np.float64(0.1614162093914305), 'std_recall': np.float64(0.10966919956548117), 'std_f1': np.float64(0.12339489598790271), 'std_ji': np.float64(0.09465941499633666), 'std_loc_error': np.float64(0.06370501408094151), 'std_mean_squared_error': np.float64(0.044075852645788116)}\n",
      "Noise level: (0.5, 0.5), Metrics: {'mean_precision': np.float64(0.5187770873347498), 'mean_recall': np.float64(0.319), 'mean_f1': np.float64(0.3913785026759293), 'mean_ji': np.float64(0.2493797463663166), 'mean_loc_error': np.float64(0.3403400956245122), 'avg_std_loc_error': np.float64(0.12050189068780288), 'mean_mean_squared_error': np.float64(0.13526109077429235), 'avg_std_mean_squared_error': np.float64(0.08041792396366584), 'std_precision': np.float64(0.1370221583799883), 'std_recall': np.float64(0.10192644406629714), 'std_f1': np.float64(0.11172080577935721), 'std_ji': np.float64(0.08788630104106683), 'std_loc_error': np.float64(0.05990855493230942), 'std_mean_squared_error': np.float64(0.04059692425406629)}\n",
      "Noise level: (0.0, 1.0), Metrics: {'mean_precision': np.float64(0.9170206220078512), 'mean_recall': np.float64(0.8541666666666666), 'mean_f1': np.float64(0.8830729691897479), 'mean_ji': np.float64(0.7994880955866462), 'mean_loc_error': np.float64(0.2536163530891048), 'avg_std_loc_error': np.float64(0.12179913934530279), 'mean_mean_squared_error': np.float64(0.08072197657134665), 'avg_std_mean_squared_error': np.float64(0.06860079843619785), 'std_precision': np.float64(0.06765514777651419), 'std_recall': np.float64(0.09886508764753893), 'std_f1': np.float64(0.08010104828722203), 'std_ji': np.float64(0.12411130124967128), 'std_loc_error': np.float64(0.03470480204996781), 'std_mean_squared_error': np.float64(0.019890407076226208)}\n",
      "Noise level: (0.05, 0.95), Metrics: {'mean_precision': np.float64(0.9209300617110214), 'mean_recall': np.float64(0.8675), 'mean_f1': np.float64(0.8923554654227462), 'mean_ji': np.float64(0.814106255338864), 'mean_loc_error': np.float64(0.25179543735146903), 'avg_std_loc_error': np.float64(0.12283313418027471), 'mean_mean_squared_error': np.float64(0.07999151911638307), 'avg_std_mean_squared_error': np.float64(0.06892555890037975), 'std_precision': np.float64(0.0671979458842236), 'std_recall': np.float64(0.09337424698491549), 'std_f1': np.float64(0.07786617851804495), 'std_ji': np.float64(0.12114179415443029), 'std_loc_error': np.float64(0.03339395533915474), 'std_mean_squared_error': np.float64(0.019103658047256177)}\n",
      "Noise level: (0.1, 0.9), Metrics: {'mean_precision': np.float64(0.9239265485832823), 'mean_recall': np.float64(0.8779999999999999), 'mean_f1': np.float64(0.8994162558995679), 'mean_ji': np.float64(0.8251725861095427), 'mean_loc_error': np.float64(0.2508076022001536), 'avg_std_loc_error': np.float64(0.12191857938524957), 'mean_mean_squared_error': np.float64(0.07924498280327098), 'avg_std_mean_squared_error': np.float64(0.06860867724091066), 'std_precision': np.float64(0.06644977953705469), 'std_recall': np.float64(0.08850235401765687), 'std_f1': np.float64(0.0741979383146026), 'std_ji': np.float64(0.11844624658565016), 'std_loc_error': np.float64(0.03309133301603585), 'std_mean_squared_error': np.float64(0.019351274661866993)}\n",
      "Noise level: (0.15, 0.85), Metrics: {'mean_precision': np.float64(0.9231185390690033), 'mean_recall': np.float64(0.8865000000000002), 'mean_f1': np.float64(0.9037724008622596), 'mean_ji': np.float64(0.8316536284971068), 'mean_loc_error': np.float64(0.2470280476763953), 'avg_std_loc_error': np.float64(0.1207672901806239), 'mean_mean_squared_error': np.float64(0.07695132279041184), 'avg_std_mean_squared_error': np.float64(0.06744071635704825), 'std_precision': np.float64(0.06422752285554102), 'std_recall': np.float64(0.08099022574772011), 'std_f1': np.float64(0.06996730358202098), 'std_ji': np.float64(0.11338914181143331), 'std_loc_error': np.float64(0.030915841181881152), 'std_mean_squared_error': np.float64(0.01772932509813811)}\n",
      "Noise level: (0.2, 0.8), Metrics: {'mean_precision': np.float64(0.922445658801696), 'mean_recall': np.float64(0.8784999999999998), 'mean_f1': np.float64(0.8990058433415301), 'mean_ji': np.float64(0.8244794340924776), 'mean_loc_error': np.float64(0.24489403552089584), 'avg_std_loc_error': np.float64(0.11888058130732063), 'mean_mean_squared_error': np.float64(0.07542943362990777), 'avg_std_mean_squared_error': np.float64(0.06543748886615354), 'std_precision': np.float64(0.0676454274551531), 'std_recall': np.float64(0.08763228096236378), 'std_f1': np.float64(0.0746031803453514), 'std_ji': np.float64(0.11765763094128538), 'std_loc_error': np.float64(0.030168132468475488), 'std_mean_squared_error': np.float64(0.016963027944634442)}\n",
      "Noise level: (0.25, 0.75), Metrics: {'mean_precision': np.float64(0.922607395270708), 'mean_recall': np.float64(0.8945000000000001), 'mean_f1': np.float64(0.9077344507184045), 'mean_ji': np.float64(0.8395855142442099), 'mean_loc_error': np.float64(0.24697923485936948), 'avg_std_loc_error': np.float64(0.12087658586675888), 'mean_mean_squared_error': np.float64(0.07703357855871956), 'avg_std_mean_squared_error': np.float64(0.0678915647067759), 'std_precision': np.float64(0.07027650761950653), 'std_recall': np.float64(0.08637949216490373), 'std_f1': np.float64(0.07613376350432305), 'std_ji': np.float64(0.12276400819747854), 'std_loc_error': np.float64(0.032369400087118395), 'std_mean_squared_error': np.float64(0.018594356457090296)}\n",
      "Noise level: (0.3, 0.7), Metrics: {'mean_precision': np.float64(0.9313406358290259), 'mean_recall': np.float64(0.9056666666666666), 'mean_f1': np.float64(0.91773205879496), 'mean_ji': np.float64(0.8548917247004204), 'mean_loc_error': np.float64(0.24511722833206184), 'avg_std_loc_error': np.float64(0.12008550833086275), 'mean_mean_squared_error': np.float64(0.07582758943957475), 'avg_std_mean_squared_error': np.float64(0.0665621522589795), 'std_precision': np.float64(0.06309924002386867), 'std_recall': np.float64(0.07948514885743681), 'std_f1': np.float64(0.06878159741394281), 'std_ji': np.float64(0.10959877391282428), 'std_loc_error': np.float64(0.03069150675144869), 'std_mean_squared_error': np.float64(0.017306247773269418)}\n",
      "Noise level: (0.35, 0.65), Metrics: {'mean_precision': np.float64(0.9359462846808049), 'mean_recall': np.float64(0.915), 'mean_f1': np.float64(0.9248147780449752), 'mean_ji': np.float64(0.8665751284946938), 'mean_loc_error': np.float64(0.2428546968855095), 'avg_std_loc_error': np.float64(0.11844871591291806), 'mean_mean_squared_error': np.float64(0.07429654296265996), 'avg_std_mean_squared_error': np.float64(0.06555420854296684), 'std_precision': np.float64(0.06195034260812947), 'std_recall': np.float64(0.07331439149307589), 'std_f1': np.float64(0.06500612431973025), 'std_ji': np.float64(0.10677787644416854), 'std_loc_error': np.float64(0.03129016286830574), 'std_mean_squared_error': np.float64(0.017266128690547264)}\n",
      "Noise level: (0.4, 0.6), Metrics: {'mean_precision': np.float64(0.9293862967534052), 'mean_recall': np.float64(0.9108333333333334), 'mean_f1': np.float64(0.9194649686908546), 'mean_ji': np.float64(0.8573029791464575), 'mean_loc_error': np.float64(0.2400631895879536), 'avg_std_loc_error': np.float64(0.1172694417779264), 'mean_mean_squared_error': np.float64(0.0726040624382011), 'avg_std_mean_squared_error': np.float64(0.0638834729065794), 'std_precision': np.float64(0.06178679742605331), 'std_recall': np.float64(0.07330965526829024), 'std_f1': np.float64(0.06464319916484983), 'std_ji': np.float64(0.10675257248406793), 'std_loc_error': np.float64(0.029687187779148794), 'std_mean_squared_error': np.float64(0.016682574195125827)}\n",
      "Noise level: (0.45, 0.55), Metrics: {'mean_precision': np.float64(0.9351803989746512), 'mean_recall': np.float64(0.925), 'mean_f1': np.float64(0.9295138811338025), 'mean_ji': np.float64(0.8736264100633665), 'mean_loc_error': np.float64(0.23920402068687405), 'avg_std_loc_error': np.float64(0.11819491860314339), 'mean_mean_squared_error': np.float64(0.07234918061255907), 'avg_std_mean_squared_error': np.float64(0.06444451234377402), 'std_precision': np.float64(0.056355091735502065), 'std_recall': np.float64(0.06652067347825034), 'std_f1': np.float64(0.057970330299648445), 'std_ji': np.float64(0.09839992164101408), 'std_loc_error': np.float64(0.028384267446047176), 'std_mean_squared_error': np.float64(0.015561324221692817)}\n",
      "Noise level: (0.5, 0.5), Metrics: {'mean_precision': np.float64(0.9391580564407996), 'mean_recall': np.float64(0.9283333333333333), 'mean_f1': np.float64(0.9332825532491325), 'mean_ji': np.float64(0.8804647374364766), 'mean_loc_error': np.float64(0.2362815084877292), 'avg_std_loc_error': np.float64(0.11627959753386866), 'mean_mean_squared_error': np.float64(0.07064049270436427), 'avg_std_mean_squared_error': np.float64(0.06273992551707946), 'std_precision': np.float64(0.05906706645355833), 'std_recall': np.float64(0.0658069567413321), 'std_f1': np.float64(0.05956008733717685), 'std_ji': np.float64(0.09975086614956419), 'std_loc_error': np.float64(0.0306669570119592), 'std_mean_squared_error': np.float64(0.016761062941209902)}\n",
      "Noise level: (0.0, 1.0), Metrics: {'mean_precision': np.float64(0.9767335823218176), 'mean_recall': np.float64(0.9613333333333333), 'mean_f1': np.float64(0.9686334557130449), 'mean_ji': np.float64(0.9424142355229311), 'mean_loc_error': np.float64(0.17570774038351164), 'avg_std_loc_error': np.float64(0.09623482732928619), 'mean_mean_squared_error': np.float64(0.041333047038602716), 'avg_std_mean_squared_error': np.float64(0.04376376657507304), 'std_precision': np.float64(0.036736476642255496), 'std_recall': np.float64(0.05420537078760943), 'std_f1': np.float64(0.04341498882509232), 'std_ji': np.float64(0.07706440220354734), 'std_loc_error': np.float64(0.026629129618397255), 'std_mean_squared_error': np.float64(0.013061973686761787)}\n",
      "Noise level: (0.05, 0.95), Metrics: {'mean_precision': np.float64(0.9778329217651973), 'mean_recall': np.float64(0.9614999999999999), 'mean_f1': np.float64(0.969239796773173), 'mean_ji': np.float64(0.9433800614844093), 'mean_loc_error': np.float64(0.1757264924637039), 'avg_std_loc_error': np.float64(0.0960366338969828), 'mean_mean_squared_error': np.float64(0.04126689089924743), 'avg_std_mean_squared_error': np.float64(0.04291143919893558), 'std_precision': np.float64(0.03652625068869027), 'std_recall': np.float64(0.05300393067185363), 'std_f1': np.float64(0.042360678824826664), 'std_ji': np.float64(0.07473612976178425), 'std_loc_error': np.float64(0.027050362013135494), 'std_mean_squared_error': np.float64(0.012680121180453845)}\n",
      "Noise level: (0.1, 0.9), Metrics: {'mean_precision': np.float64(0.9795521892967713), 'mean_recall': np.float64(0.9658333333333333), 'mean_f1': np.float64(0.9724008448559156), 'mean_ji': np.float64(0.949256571930485), 'mean_loc_error': np.float64(0.17233074237047485), 'avg_std_loc_error': np.float64(0.09532434155324711), 'mean_mean_squared_error': np.float64(0.03991765461661925), 'avg_std_mean_squared_error': np.float64(0.0425816861094586), 'std_precision': np.float64(0.034869360856223074), 'std_recall': np.float64(0.051227976297678945), 'std_f1': np.float64(0.04169467932506197), 'std_ji': np.float64(0.07340107895058233), 'std_loc_error': np.float64(0.025878147232206807), 'std_mean_squared_error': np.float64(0.01237701634433843)}\n",
      "Noise level: (0.15, 0.85), Metrics: {'mean_precision': np.float64(0.9826194273562695), 'mean_recall': np.float64(0.9773333333333335), 'mean_f1': np.float64(0.9797973122299182), 'mean_ji': np.float64(0.9620389139845662), 'mean_loc_error': np.float64(0.17066262343818592), 'avg_std_loc_error': np.float64(0.09360110315441096), 'mean_mean_squared_error': np.float64(0.03899891705850707), 'avg_std_mean_squared_error': np.float64(0.04150425764244986), 'std_precision': np.float64(0.03065450257370678), 'std_recall': np.float64(0.03468268860525218), 'std_f1': np.float64(0.030280882771983562), 'std_ji': np.float64(0.05545200366826852), 'std_loc_error': np.float64(0.026018710615647377), 'std_mean_squared_error': np.float64(0.01191412513412069)}\n",
      "Noise level: (0.2, 0.8), Metrics: {'mean_precision': np.float64(0.9827112351586035), 'mean_recall': np.float64(0.9735), 'mean_f1': np.float64(0.9778557659000535), 'mean_ji': np.float64(0.9585932931802497), 'mean_loc_error': np.float64(0.17174021345875645), 'avg_std_loc_error': np.float64(0.09351647827248065), 'mean_mean_squared_error': np.float64(0.039256438677663506), 'avg_std_mean_squared_error': np.float64(0.04141483792314269), 'std_precision': np.float64(0.029691268293595512), 'std_recall': np.float64(0.04069500378834401), 'std_f1': np.float64(0.03274918713306352), 'std_ji': np.float64(0.060034210410930315), 'std_loc_error': np.float64(0.024976827301797656), 'std_mean_squared_error': np.float64(0.011553048122898223)}\n",
      "Noise level: (0.25, 0.75), Metrics: {'mean_precision': np.float64(0.978271167048055), 'mean_recall': np.float64(0.9711666666666667), 'mean_f1': np.float64(0.9744587995755414), 'mean_ji': np.float64(0.9530156377438985), 'mean_loc_error': np.float64(0.1702393533767643), 'avg_std_loc_error': np.float64(0.09586233478043722), 'mean_mean_squared_error': np.float64(0.03920817847942783), 'avg_std_mean_squared_error': np.float64(0.04313490220928751), 'std_precision': np.float64(0.037946866557898445), 'std_recall': np.float64(0.04683629883849586), 'std_f1': np.float64(0.04021907356216701), 'std_ji': np.float64(0.07212036245009648), 'std_loc_error': np.float64(0.024277555974586997), 'std_mean_squared_error': np.float64(0.01125278461567432)}\n",
      "Noise level: (0.3, 0.7), Metrics: {'mean_precision': np.float64(0.979843130553657), 'mean_recall': np.float64(0.9741666666666666), 'mean_f1': np.float64(0.9767761625765475), 'mean_ji': np.float64(0.9566480331262941), 'mean_loc_error': np.float64(0.16859579468040028), 'avg_std_loc_error': np.float64(0.0931353182466127), 'mean_mean_squared_error': np.float64(0.038081038729860135), 'avg_std_mean_squared_error': np.float64(0.04115743907240256), 'std_precision': np.float64(0.032116017173073344), 'std_recall': np.float64(0.040302674297812494), 'std_f1': np.float64(0.033771416276803586), 'std_ji': np.float64(0.06188759093807791), 'std_loc_error': np.float64(0.024122526282627982), 'std_mean_squared_error': np.float64(0.010902835883384317)}\n",
      "Noise level: (0.35, 0.65), Metrics: {'mean_precision': np.float64(0.9832729171413382), 'mean_recall': np.float64(0.9828333333333334), 'mean_f1': np.float64(0.9829289585752999), 'mean_ji': np.float64(0.9680683700357613), 'mean_loc_error': np.float64(0.16529021022936116), 'avg_std_loc_error': np.float64(0.09129592222515043), 'mean_mean_squared_error': np.float64(0.03656712323231512), 'avg_std_mean_squared_error': np.float64(0.03918476923410971), 'std_precision': np.float64(0.03248591638685501), 'std_recall': np.float64(0.031837696036128134), 'std_f1': np.float64(0.0303901482737019), 'std_ji': np.float64(0.054897081300304615), 'std_loc_error': np.float64(0.02251812438987008), 'std_mean_squared_error': np.float64(0.010289428730717485)}\n",
      "Noise level: (0.4, 0.6), Metrics: {'mean_precision': np.float64(0.9840588124901626), 'mean_recall': np.float64(0.9804999999999999), 'mean_f1': np.float64(0.9821403009939146), 'mean_ji': np.float64(0.966574283204718), 'mean_loc_error': np.float64(0.1677472643921679), 'avg_std_loc_error': np.float64(0.0932876649835449), 'mean_mean_squared_error': np.float64(0.037812483512280816), 'avg_std_mean_squared_error': np.float64(0.041054582632728855), 'std_precision': np.float64(0.029939888196257786), 'std_recall': np.float64(0.03456515586540874), 'std_f1': np.float64(0.030430891076762417), 'std_ji': np.float64(0.05579594286507535), 'std_loc_error': np.float64(0.02345889203574724), 'std_mean_squared_error': np.float64(0.010738193454113651)}\n",
      "Noise level: (0.45, 0.55), Metrics: {'mean_precision': np.float64(0.9832502468291944), 'mean_recall': np.float64(0.9821666666666666), 'mean_f1': np.float64(0.9825894442171722), 'mean_ji': np.float64(0.967323796975971), 'mean_loc_error': np.float64(0.16405339876050026), 'avg_std_loc_error': np.float64(0.08958329250285761), 'mean_mean_squared_error': np.float64(0.035852982281682044), 'avg_std_mean_squared_error': np.float64(0.038146557895899984), 'std_precision': np.float64(0.028826496056570634), 'std_recall': np.float64(0.033019775219640064), 'std_f1': np.float64(0.029251878438551805), 'std_ji': np.float64(0.05391215550620593), 'std_loc_error': np.float64(0.023353939674381603), 'std_mean_squared_error': np.float64(0.010296450461788524)}\n",
      "Noise level: (0.5, 0.5), Metrics: {'mean_precision': np.float64(0.981624082164128), 'mean_recall': np.float64(0.9821666666666666), 'mean_f1': np.float64(0.9817056631426874), 'mean_ji': np.float64(0.9658809994353473), 'mean_loc_error': np.float64(0.1635073034053951), 'avg_std_loc_error': np.float64(0.09231338929069184), 'mean_mean_squared_error': np.float64(0.03628347226949588), 'avg_std_mean_squared_error': np.float64(0.03983013196622063), 'std_precision': np.float64(0.032875028403705354), 'std_recall': np.float64(0.035920823425355325), 'std_f1': np.float64(0.03199569421825964), 'std_ji': np.float64(0.057770077963931854), 'std_loc_error': np.float64(0.0236217929550914), 'std_mean_squared_error': np.float64(0.011236528927754705)}\n"
     ]
    }
   ],
   "source": [
    "# Test noise levels\n",
    "noisetest_snr3 = test_perlinnoise_fixed_snr(model, snr=3, num_images=300, device=device)\n",
    "noisetest_snr2 = test_perlinnoise_fixed_snr(model, snr=2, num_images=300, device=device)\n",
    "noisetest_snr5 = test_perlinnoise_fixed_snr(model, snr=5, num_images=300, device=device)\n",
    "noisetest_snr8 = test_perlinnoise_fixed_snr(model, snr=8, num_images=300, device=device)\n",
    "\n",
    "save_path = r'D:\\zeiss\\Desktop\\coding\\Hilger\\bachelor\\measurements\\overnight_measurements\\score07\\noise_2snr.pkl'\n",
    "with open(save_path, 'wb') as f:\n",
    "    pickle.dump(noisetest_snr2, f)\n",
    "\n",
    "save_path = r'D:\\zeiss\\Desktop\\coding\\Hilger\\bachelor\\measurements\\overnight_measurements\\score07\\noise_3snr.pkl'\n",
    "with open(save_path, 'wb') as f:\n",
    "    pickle.dump(noisetest_snr3, f)\n",
    "\n",
    "save_path = r'D:\\zeiss\\Desktop\\coding\\Hilger\\bachelor\\measurements\\overnight_measurements\\score07\\noise_8snr.pkl'\n",
    "with open(save_path, 'wb') as f:\n",
    "    pickle.dump(noisetest_snr8, f)\n",
    "\n",
    "save_path = r'D:\\zeiss\\Desktop\\coding\\Hilger\\bachelor\\measurements\\overnight_measurements\\score07\\noise_5snr.pkl'\n",
    "with open(save_path, 'wb') as f:\n",
    "    pickle.dump(noisetest_snr5, f)"
   ]
  },
  {
   "cell_type": "code",
   "execution_count": null,
   "id": "b49cb761",
   "metadata": {},
   "outputs": [],
   "source": [
    "device = torch.device(\"cuda\" if torch.cuda.is_available() else \"cpu\")\n",
    "print(device)\n",
    "\n",
    "backbone = resnet_fpn_backbone(\"resnet50\", weights=None, trainable_layers=5)\n",
    "kwargs = {\"nms_tresh\": 0.1, \"image_mean\":[0,0,0], \"image_std\":[1,1,1], 'score_thresh': 0.67}\n",
    "\n",
    "model = SubpixRCNN(backbone, num_classes=2, device=device, **kwargs)\n",
    "model.to(device)\n",
    "model.name = \"testmodel\"\n",
    "optimizer = optim.Adam(model.parameters(), lr=0.0001)\n",
    "path = r\"D:\\zeiss\\Desktop\\coding\\Hilger\\bachelor\\notebooks\\subpix_rcnn_models\\2025-06-02_19-15-51\\with_filters_long.pth\"\n",
    "model.load_state_dict(torch.load(path, map_location=device))\n",
    "model.eval()"
   ]
  },
  {
   "cell_type": "code",
   "execution_count": null,
   "id": "e362f473",
   "metadata": {},
   "outputs": [],
   "source": [
    "# Test densities at fixed SNRs\n",
    "denseresults2snr = test_densities_fixed_snr(model, snr=2, num_images=300, device=device)\n",
    "denseresults3snr = test_densities_fixed_snr(model, snr=3, num_images=300, device=device)\n",
    "denseresults5snr = test_densities_fixed_snr(model, snr=5, num_images=300, device=device)\n",
    "denseresults8snr = test_densities_fixed_snr(model, snr=8, num_images=300, device=device)\n",
    "\n",
    "save_path = r'D:\\zeiss\\Desktop\\coding\\Hilger\\bachelor\\measurements\\overnight_measurements\\score067\\d_2snr.pkl'\n",
    "with open(save_path, 'wb') as f:\n",
    "    pickle.dump(denseresults2snr, f)\n",
    "\n",
    "save_path = r'D:\\zeiss\\Desktop\\coding\\Hilger\\bachelor\\measurements\\overnight_measurements\\score067\\d_3snr.pkl'\n",
    "with open(save_path, 'wb') as f:\n",
    "    pickle.dump(denseresults3snr, f)\n",
    "\n",
    "save_path = r'D:\\zeiss\\Desktop\\coding\\Hilger\\bachelor\\measurements\\overnight_measurements\\score067\\d_5snr.pkl'\n",
    "with open(save_path, 'wb') as f:\n",
    "    pickle.dump(denseresults5snr, f)\n",
    "\n",
    "save_path = r'D:\\zeiss\\Desktop\\coding\\Hilger\\bachelor\\measurements\\overnight_measurements\\score067\\d_8snr.pkl'\n",
    "with open(save_path, 'wb') as f:\n",
    "    pickle.dump(denseresults8snr, f)"
   ]
  },
  {
   "cell_type": "code",
   "execution_count": null,
   "id": "bc0472f5",
   "metadata": {},
   "outputs": [],
   "source": [
    "# Test recall per SNR\n",
    "params = {'snr_min': 1, 'snr_max': 15}\n",
    "recall_per_snr_iou05 = evaluate_recall_per_snr(model, 20000, device, 0.5, **params)\n",
    "recall_per_snr_iou03 = evaluate_recall_per_snr(model, 20000, device, 0.3, **params)\n",
    "\n",
    "save_path = r'D:\\zeiss\\Desktop\\coding\\Hilger\\bachelor\\measurements\\overnight_measurements\\score067\\rec_iou05.pkl'\n",
    "with open(save_path, 'wb') as f:\n",
    "    pickle.dump(recall_per_snr_iou05, f)\n",
    "save_path = r'D:\\zeiss\\Desktop\\coding\\Hilger\\bachelor\\measurements\\overnight_measurements\\score067\\rec_iou03.pkl'\n",
    "with open(save_path, 'wb') as f:\n",
    "    pickle.dump(recall_per_snr_iou03, f)"
   ]
  },
  {
   "cell_type": "code",
   "execution_count": null,
   "id": "eb20f8ed",
   "metadata": {},
   "outputs": [],
   "source": [
    "# Test noise levels\n",
    "noisetest_snr3 = test_perlinnoise_fixed_snr(model, snr=3, num_images=300, device=device)\n",
    "noisetest_snr2 = test_perlinnoise_fixed_snr(model, snr=2, num_images=300, device=device)\n",
    "noisetest_snr5 = test_perlinnoise_fixed_snr(model, snr=5, num_images=300, device=device)\n",
    "noisetest_snr8 = test_perlinnoise_fixed_snr(model, snr=8, num_images=300, device=device)\n",
    "\n",
    "save_path = r'D:\\zeiss\\Desktop\\coding\\Hilger\\bachelor\\measurements\\overnight_measurements\\score067\\noise_2snr.pkl'\n",
    "with open(save_path, 'wb') as f:\n",
    "    pickle.dump(noisetest_snr2, f)\n",
    "\n",
    "save_path = r'D:\\zeiss\\Desktop\\coding\\Hilger\\bachelor\\measurements\\overnight_measurements\\score067\\noise_3snr.pkl'\n",
    "with open(save_path, 'wb') as f:\n",
    "    pickle.dump(noisetest_snr3, f)\n",
    "\n",
    "save_path = r'D:\\zeiss\\Desktop\\coding\\Hilger\\bachelor\\measurements\\overnight_measurements\\score067\\noise_8snr.pkl'\n",
    "with open(save_path, 'wb') as f:\n",
    "    pickle.dump(noisetest_snr8, f)\n",
    "\n",
    "save_path = r'D:\\zeiss\\Desktop\\coding\\Hilger\\bachelor\\measurements\\overnight_measurements\\score067\\noise_5snr.pkl'\n",
    "with open(save_path, 'wb') as f:\n",
    "    pickle.dump(noisetest_snr5, f)"
   ]
  },
  {
   "cell_type": "code",
   "execution_count": null,
   "id": "f6750ea1",
   "metadata": {},
   "outputs": [],
   "source": [
    "# images = [] # FOR TESTING SCORE THRESHOLDS\n",
    "# targets = []\n",
    "# predictions = []\n",
    "# model.eval()\n",
    "# for i in range(50):\n",
    "#     img, target = valid_dataset[i]\n",
    "#     img = move_data_to_device(img, device)\n",
    "\n",
    "#     images.append(img)\n",
    "#     targets.append(target)\n",
    "#     with torch.no_grad():\n",
    "#         prediction = model([img])[0]\n",
    "#     predictions.append(prediction)\n",
    "# targets = move_data_to_device(targets, device)\n",
    "# predictions = move_data_to_device(predictions, device)"
   ]
  },
  {
   "cell_type": "code",
   "execution_count": null,
   "id": "00d57ca2",
   "metadata": {},
   "outputs": [
    {
     "name": "stdout",
     "output_type": "stream",
     "text": [
      "Score 0.5: {'mean_precision': np.float64(0.6305933985504183), 'mean_recall': np.float64(0.7850718286701257), 'mean_f1': np.float64(0.691228810908318), 'mean_ji': np.float64(0.5531333482177672), 'mean_loc_error': np.float64(0.28740319602197756), 'avg_std_loc_error': np.float64(0.1105305996507351), 'mean_mean_squared_error': np.float64(0.10067826104397275), 'avg_std_mean_squared_error': np.float64(0.06637076121398605), 'std_precision': np.float64(0.1831164911955375), 'std_recall': np.float64(0.1660587075171345), 'std_f1': np.float64(0.1636737428769076), 'std_ji': np.float64(0.20266108382530854), 'std_loc_error': np.float64(0.0651254860984144), 'std_mean_squared_error': np.float64(0.03714115002570901)}\n",
      "Score 0.51: {'mean_precision': np.float64(0.6392457191587223), 'mean_recall': np.float64(0.7758001199866524), 'mean_f1': np.float64(0.6939217571955667), 'mean_ji': np.float64(0.5591636882312392), 'mean_loc_error': np.float64(0.28455278966966235), 'avg_std_loc_error': np.float64(0.10702998095876741), 'mean_mean_squared_error': np.float64(0.09878551715689181), 'avg_std_mean_squared_error': np.float64(0.06427437876211918), 'std_precision': np.float64(0.18998402583483795), 'std_recall': np.float64(0.17828245380759336), 'std_f1': np.float64(0.1746035911011789), 'std_ji': np.float64(0.21184459392473662), 'std_loc_error': np.float64(0.06773170537247443), 'std_mean_squared_error': np.float64(0.03847359721333539)}\n",
      "Score 0.52: {'mean_precision': np.float64(0.6512540468460992), 'mean_recall': np.float64(0.7758001199866524), 'mean_f1': np.float64(0.7017430631634005), 'mean_ji': np.float64(0.5680208346024894), 'mean_loc_error': np.float64(0.2851827259543509), 'avg_std_loc_error': np.float64(0.10735779505698771), 'mean_mean_squared_error': np.float64(0.09931711790539105), 'avg_std_mean_squared_error': np.float64(0.06452806970142595), 'std_precision': np.float64(0.1860594161289433), 'std_recall': np.float64(0.17828245380759336), 'std_f1': np.float64(0.17228880722211942), 'std_ji': np.float64(0.21042390141580478), 'std_loc_error': np.float64(0.06837944375111361), 'std_mean_squared_error': np.float64(0.03905556368849152)}\n",
      "Score 0.53: {'mean_precision': np.float64(0.6615991486079318), 'mean_recall': np.float64(0.7688908450510616), 'mean_f1': np.float64(0.7046472840477782), 'mean_ji': np.float64(0.5708569755644564), 'mean_loc_error': np.float64(0.28493404476762374), 'avg_std_loc_error': np.float64(0.10778284111193356), 'mean_mean_squared_error': np.float64(0.09926976108657701), 'avg_std_mean_squared_error': np.float64(0.06479361530071001), 'std_precision': np.float64(0.1824839380532414), 'std_recall': np.float64(0.17859903670002605), 'std_f1': np.float64(0.16970197510352), 'std_ji': np.float64(0.20820693808607207), 'std_loc_error': np.float64(0.06827044968317102), 'std_mean_squared_error': np.float64(0.038996879715819194)}\n",
      "Score 0.54: {'mean_precision': np.float64(0.6701101275751679), 'mean_recall': np.float64(0.7688908450510616), 'mean_f1': np.float64(0.7095758134245882), 'mean_ji': np.float64(0.5763201518185169), 'mean_loc_error': np.float64(0.28543951832999276), 'avg_std_loc_error': np.float64(0.1076789286566279), 'mean_mean_squared_error': np.float64(0.09956162991399445), 'avg_std_mean_squared_error': np.float64(0.06474474397356798), 'std_precision': np.float64(0.17991708104972393), 'std_recall': np.float64(0.17859903670002605), 'std_f1': np.float64(0.16730211083936108), 'std_ji': np.float64(0.20680844906096416), 'std_loc_error': np.float64(0.06845668953502379), 'std_mean_squared_error': np.float64(0.03909946042394113)}\n",
      "Score 0.55: {'mean_precision': np.float64(0.6803435597104037), 'mean_recall': np.float64(0.7677143744628263), 'mean_f1': np.float64(0.7152873553057363), 'mean_ji': np.float64(0.5847260319334763), 'mean_loc_error': np.float64(0.285257207763224), 'avg_std_loc_error': np.float64(0.10775939055598523), 'mean_mean_squared_error': np.float64(0.09948179121743765), 'avg_std_mean_squared_error': np.float64(0.06479323042978315), 'std_precision': np.float64(0.18423842389375686), 'std_recall': np.float64(0.17997363102391034), 'std_f1': np.float64(0.17103364996735773), 'std_ji': np.float64(0.21299475931891315), 'std_loc_error': np.float64(0.06847745546090706), 'std_mean_squared_error': np.float64(0.03910934605304847)}\n",
      "Score 0.56: {'mean_precision': np.float64(0.6851453665991671), 'mean_recall': np.float64(0.7664643744628263), 'mean_f1': np.float64(0.717757508027167), 'mean_ji': np.float64(0.5879382562630919), 'mean_loc_error': np.float64(0.28473515431739616), 'avg_std_loc_error': np.float64(0.1073323978775526), 'mean_mean_squared_error': np.float64(0.09912430933484064), 'avg_std_mean_squared_error': np.float64(0.06440263154085042), 'std_precision': np.float64(0.18283443933223972), 'std_recall': np.float64(0.18117355298190654), 'std_f1': np.float64(0.17161627136134613), 'std_ji': np.float64(0.21344400442962705), 'std_loc_error': np.float64(0.06876947410351889), 'std_mean_squared_error': np.float64(0.039332576786426994)}\n",
      "Score 0.5700000000000001: {'mean_precision': np.float64(0.6900081214913338), 'mean_recall': np.float64(0.7622143744628265), 'mean_f1': np.float64(0.718936492477642), 'mean_ji': np.float64(0.5891205239953597), 'mean_loc_error': np.float64(0.28523467168736927), 'avg_std_loc_error': np.float64(0.10730617368912786), 'mean_mean_squared_error': np.float64(0.09943584138562489), 'avg_std_mean_squared_error': np.float64(0.06441685153796228), 'std_precision': np.float64(0.17872198362119668), 'std_recall': np.float64(0.18369163286067694), 'std_f1': np.float64(0.17076742661949812), 'std_ji': np.float64(0.21241888380588805), 'std_loc_error': np.float64(0.06890008039312552), 'std_mean_squared_error': np.float64(0.03931618741092795)}\n",
      "Score 0.5800000000000001: {'mean_precision': np.float64(0.7021485394836787), 'mean_recall': np.float64(0.758424691923144), 'mean_f1': np.float64(0.7250797155917829), 'mean_ji': np.float64(0.5977220748360651), 'mean_loc_error': np.float64(0.28458851609084707), 'avg_std_loc_error': np.float64(0.10711745510367143), 'mean_mean_squared_error': np.float64(0.09903082914869284), 'avg_std_mean_squared_error': np.float64(0.06421883834403957), 'std_precision': np.float64(0.1773866425719238), 'std_recall': np.float64(0.1866855509012856), 'std_f1': np.float64(0.17369732203484), 'std_ji': np.float64(0.21569221593493218), 'std_loc_error': np.float64(0.06895918335053038), 'std_mean_squared_error': np.float64(0.03933926352459674)}\n",
      "Score 0.5900000000000001: {'mean_precision': np.float64(0.707086969789756), 'mean_recall': np.float64(0.758424691923144), 'mean_f1': np.float64(0.7281879894054343), 'mean_ji': np.float64(0.6019202812273751), 'mean_loc_error': np.float64(0.28458851609084707), 'avg_std_loc_error': np.float64(0.10711745510367143), 'mean_mean_squared_error': np.float64(0.09903082914869284), 'avg_std_mean_squared_error': np.float64(0.06421883834403957), 'std_precision': np.float64(0.1765709352089548), 'std_recall': np.float64(0.1866855509012856), 'std_f1': np.float64(0.17445429457488018), 'std_ji': np.float64(0.21684697423139926), 'std_loc_error': np.float64(0.06895918335053038), 'std_mean_squared_error': np.float64(0.03933926352459674)}\n",
      "Score 0.6000000000000001: {'mean_precision': np.float64(0.7110163465533433), 'mean_recall': np.float64(0.757174691923144), 'mean_f1': np.float64(0.7297400007063469), 'mean_ji': np.float64(0.6042347056113646), 'mean_loc_error': np.float64(0.2850691015422921), 'avg_std_loc_error': np.float64(0.10720728869221713), 'mean_mean_squared_error': np.float64(0.0993535115401015), 'avg_std_mean_squared_error': np.float64(0.06426127542674105), 'std_precision': np.float64(0.17726125823800212), 'std_recall': np.float64(0.18902478447315937), 'std_f1': np.float64(0.1760827199699046), 'std_ji': np.float64(0.2175254904169005), 'std_loc_error': np.float64(0.0692165877756174), 'std_mean_squared_error': np.float64(0.03946138804669146)}\n",
      "Score 0.6100000000000001: {'mean_precision': np.float64(0.7177099973469941), 'mean_recall': np.float64(0.757174691923144), 'mean_f1': np.float64(0.7334947281582633), 'mean_ji': np.float64(0.6101917633684224), 'mean_loc_error': np.float64(0.2850691015422921), 'avg_std_loc_error': np.float64(0.10720728869221713), 'mean_mean_squared_error': np.float64(0.0993535115401015), 'avg_std_mean_squared_error': np.float64(0.06426127542674105), 'std_precision': np.float64(0.180602091594858), 'std_recall': np.float64(0.18902478447315937), 'std_f1': np.float64(0.1787145354310381), 'std_ji': np.float64(0.22294255595964407), 'std_loc_error': np.float64(0.0692165877756174), 'std_mean_squared_error': np.float64(0.03946138804669146)}\n",
      "Score 0.6200000000000001: {'mean_precision': np.float64(0.7235743172376299), 'mean_recall': np.float64(0.7535635808120328), 'mean_f1': np.float64(0.7348791697874811), 'mean_ji': np.float64(0.6111247201903951), 'mean_loc_error': np.float64(0.2858330032145476), 'avg_std_loc_error': np.float64(0.10785230471543925), 'mean_mean_squared_error': np.float64(0.0999607565264118), 'avg_std_mean_squared_error': np.float64(0.06486278494749673), 'std_precision': np.float64(0.17577395482292058), 'std_recall': np.float64(0.18797124634100035), 'std_f1': np.float64(0.17549864963461442), 'std_ji': np.float64(0.22081480414069202), 'std_loc_error': np.float64(0.06928375102521288), 'std_mean_squared_error': np.float64(0.03954133419614323)}\n",
      "Score 0.6300000000000001: {'mean_precision': np.float64(0.7335080920971013), 'mean_recall': np.float64(0.7503871102237976), 'mean_f1': np.float64(0.7389834174887683), 'mean_ji': np.float64(0.6187152673244206), 'mean_loc_error': np.float64(0.2864472831597857), 'avg_std_loc_error': np.float64(0.10928746482415112), 'mean_mean_squared_error': np.float64(0.10059885119304889), 'avg_std_mean_squared_error': np.float64(0.06585850419383045), 'std_precision': np.float64(0.1814954921267364), 'std_recall': np.float64(0.19166109151047117), 'std_f1': np.float64(0.1818902730657148), 'std_ji': np.float64(0.22945635662469505), 'std_loc_error': np.float64(0.0694322351072113), 'std_mean_squared_error': np.float64(0.03926741329635971)}\n",
      "Score 0.6400000000000001: {'mean_precision': np.float64(0.7457381412017635), 'mean_recall': np.float64(0.7480259991126864), 'mean_f1': np.float64(0.7434178810404994), 'mean_ji': np.float64(0.623611334491426), 'mean_loc_error': np.float64(0.2861279610975581), 'avg_std_loc_error': np.float64(0.10906306460265613), 'mean_mean_squared_error': np.float64(0.10036434149506666), 'avg_std_mean_squared_error': np.float64(0.06546033554382072), 'std_precision': np.float64(0.17980169725867717), 'std_recall': np.float64(0.1922618063313862), 'std_f1': np.float64(0.17947445514361596), 'std_ji': np.float64(0.2268171976148012), 'std_loc_error': np.float64(0.06964790849844375), 'std_mean_squared_error': np.float64(0.03937107069798699)}\n",
      "Score 0.6500000000000001: {'mean_precision': np.float64(0.7487381412017635), 'mean_recall': np.float64(0.7480259991126864), 'mean_f1': np.float64(0.7450788049875315), 'mean_ji': np.float64(0.6255596386393801), 'mean_loc_error': np.float64(0.2861279610975581), 'avg_std_loc_error': np.float64(0.10906306460265613), 'mean_mean_squared_error': np.float64(0.10036434149506666), 'avg_std_mean_squared_error': np.float64(0.06546033554382072), 'std_precision': np.float64(0.17805953727378224), 'std_recall': np.float64(0.1922618063313862), 'std_f1': np.float64(0.17872419075553936), 'std_ji': np.float64(0.22632261806839332), 'std_loc_error': np.float64(0.06964790849844375), 'std_mean_squared_error': np.float64(0.03937107069798699)}\n",
      "Score 0.6600000000000001: {'mean_precision': np.float64(0.7548602413238636), 'mean_recall': np.float64(0.7480259991126864), 'mean_f1': np.float64(0.7478984634852087), 'mean_ji': np.float64(0.6293144899262008), 'mean_loc_error': np.float64(0.2861279610975581), 'avg_std_loc_error': np.float64(0.10906306460265613), 'mean_mean_squared_error': np.float64(0.10036434149506666), 'avg_std_mean_squared_error': np.float64(0.06546033554382072), 'std_precision': np.float64(0.17942458613993836), 'std_recall': np.float64(0.1922618063313862), 'std_f1': np.float64(0.17880462076452489), 'std_ji': np.float64(0.22687708982659974), 'std_loc_error': np.float64(0.06964790849844375), 'std_mean_squared_error': np.float64(0.03937107069798699)}\n",
      "Score 0.6700000000000002: {'mean_precision': np.float64(0.7590494643815076), 'mean_recall': np.float64(0.7480259991126864), 'mean_f1': np.float64(0.7500229705570841), 'mean_ji': np.float64(0.6320079085848368), 'mean_loc_error': np.float64(0.2861279610975581), 'avg_std_loc_error': np.float64(0.10906306460265613), 'mean_mean_squared_error': np.float64(0.10036434149506666), 'avg_std_mean_squared_error': np.float64(0.06546033554382072), 'std_precision': np.float64(0.17853697937366497), 'std_recall': np.float64(0.1922618063313862), 'std_f1': np.float64(0.17854343880621007), 'std_ji': np.float64(0.22666535595404755), 'std_loc_error': np.float64(0.06964790849844375), 'std_mean_squared_error': np.float64(0.03937107069798699)}\n",
      "Score 0.6800000000000002: {'mean_precision': np.float64(0.7755183288503722), 'mean_recall': np.float64(0.7480259991126864), 'mean_f1': np.float64(0.758710007622364), 'mean_ji': np.float64(0.6446495423134272), 'mean_loc_error': np.float64(0.2861279610975581), 'avg_std_loc_error': np.float64(0.10906306460265613), 'mean_mean_squared_error': np.float64(0.10036434149506666), 'avg_std_mean_squared_error': np.float64(0.06546033554382072), 'std_precision': np.float64(0.17516742617194356), 'std_recall': np.float64(0.1922618063313862), 'std_f1': np.float64(0.18000542710620349), 'std_ji': np.float64(0.23306869223226762), 'std_loc_error': np.float64(0.06964790849844375), 'std_mean_squared_error': np.float64(0.03937107069798699)}\n",
      "Score 0.6900000000000002: {'mean_precision': np.float64(0.7818730737786466), 'mean_recall': np.float64(0.7432640943507817), 'mean_f1': np.float64(0.7587182839077193), 'mean_ji': np.float64(0.6440791323312525), 'mean_loc_error': np.float64(0.28656787136218675), 'avg_std_loc_error': np.float64(0.1089929392067141), 'mean_mean_squared_error': np.float64(0.1006517217882779), 'avg_std_mean_squared_error': np.float64(0.06554516088404298), 'std_precision': np.float64(0.17167934200826546), 'std_recall': np.float64(0.19289332000766143), 'std_f1': np.float64(0.17822069558547124), 'std_ji': np.float64(0.23135502168539873), 'std_loc_error': np.float64(0.06991236414531445), 'std_mean_squared_error': np.float64(0.03949007010064997)}\n",
      "Score 0.7000000000000002: {'mean_precision': np.float64(0.7837137126719169), 'mean_recall': np.float64(0.7349783800650674), 'mean_f1': np.float64(0.7549151493354144), 'mean_ji': np.float64(0.6393440765448438), 'mean_loc_error': np.float64(0.28609608851380025), 'avg_std_loc_error': np.float64(0.10840704634600148), 'mean_mean_squared_error': np.float64(0.10029789931127123), 'avg_std_mean_squared_error': np.float64(0.0648684136892197), 'std_precision': np.float64(0.170900334079404), 'std_recall': np.float64(0.19451405997595597), 'std_f1': np.float64(0.17867364560117266), 'std_ji': np.float64(0.23272077663511764), 'std_loc_error': np.float64(0.07022747015550641), 'std_mean_squared_error': np.float64(0.03981457268995557)}\n",
      "Score 0.7100000000000002: {'mean_precision': np.float64(0.7838386857380665), 'mean_recall': np.float64(0.733801909476832), 'mean_f1': np.float64(0.7543068544045387), 'mean_ji': np.float64(0.6389092939361481), 'mean_loc_error': np.float64(0.28669806716544577), 'avg_std_loc_error': np.float64(0.10806086132695732), 'mean_mean_squared_error': np.float64(0.10054076400688171), 'avg_std_mean_squared_error': np.float64(0.06480245256151378), 'std_precision': np.float64(0.17133515610349342), 'std_recall': np.float64(0.19627947945676474), 'std_f1': np.float64(0.1799591299917321), 'std_ji': np.float64(0.23364898644485566), 'std_loc_error': np.float64(0.07014247785497917), 'std_mean_squared_error': np.float64(0.039773255358896205)}\n",
      "Score 0.7200000000000002: {'mean_precision': np.float64(0.7850851585634867), 'mean_recall': np.float64(0.7316254388885968), 'mean_f1': np.float64(0.7534386715690238), 'mean_ji': np.float64(0.6380146990827432), 'mean_loc_error': np.float64(0.2864372804443881), 'avg_std_loc_error': np.float64(0.10825168415867877), 'mean_mean_squared_error': np.float64(0.10042909009143344), 'avg_std_mean_squared_error': np.float64(0.06493231775378722), 'std_precision': np.float64(0.17120848168654484), 'std_recall': np.float64(0.19815508976428733), 'std_f1': np.float64(0.18092130589799194), 'std_ji': np.float64(0.23419732169182766), 'std_loc_error': np.float64(0.0700824843944512), 'std_mean_squared_error': np.float64(0.03974990337707933)}\n",
      "Score 0.7300000000000002: {'mean_precision': np.float64(0.789048792882384), 'mean_recall': np.float64(0.7293378571892505), 'mean_f1': np.float64(0.7539350969454914), 'mean_ji': np.float64(0.6386124436229429), 'mean_loc_error': np.float64(0.28748284722053763), 'avg_std_loc_error': np.float64(0.10911024593428761), 'mean_mean_squared_error': np.float64(0.10123653712257717), 'avg_std_mean_squared_error': np.float64(0.06578501475430362), 'std_precision': np.float64(0.1685595219042717), 'std_recall': np.float64(0.19762940623107972), 'std_f1': np.float64(0.18003120123409366), 'std_ji': np.float64(0.2349679361859398), 'std_loc_error': np.float64(0.07031720174693623), 'std_mean_squared_error': np.float64(0.03980171308923638)}\n",
      "Score 0.7400000000000002: {'mean_precision': np.float64(0.7929589236013384), 'mean_recall': np.float64(0.7180600794114725), 'mean_f1': np.float64(0.7497242266324541), 'mean_ji': np.float64(0.6390774665227484), 'mean_loc_error': np.float64(0.28274360341692995), 'avg_std_loc_error': np.float64(0.1114215745006561), 'mean_mean_squared_error': np.float64(0.09808530168349627), 'avg_std_mean_squared_error': np.float64(0.06715663545304705), 'std_precision': np.float64(0.19503438395815564), 'std_recall': np.float64(0.2164517017341379), 'std_f1': np.float64(0.20294120103326854), 'std_ji': np.float64(0.2487947112783385), 'std_loc_error': np.float64(0.06482595738690301), 'std_mean_squared_error': np.float64(0.03480764898456946)}\n",
      "Score 0.7500000000000002: {'mean_precision': np.float64(0.7960422569346719), 'mean_recall': np.float64(0.7168100794114726), 'mean_f1': np.float64(0.7502037429194006), 'mean_ji': np.float64(0.6402704908896859), 'mean_loc_error': np.float64(0.28295561582914963), 'avg_std_loc_error': np.float64(0.11153283329188084), 'mean_mean_squared_error': np.float64(0.09819315816923553), 'avg_std_mean_squared_error': np.float64(0.06719806891052443), 'std_precision': np.float64(0.19557189373548692), 'std_recall': np.float64(0.21859906651706654), 'std_f1': np.float64(0.2046239269491196), 'std_ji': np.float64(0.2502558554982159), 'std_loc_error': np.float64(0.06457054302869712), 'std_mean_squared_error': np.float64(0.03466097205313916)}\n",
      "Score 0.7600000000000002: {'mean_precision': np.float64(0.7962366342807519), 'mean_recall': np.float64(0.709877552014549), 'mean_f1': np.float64(0.746243557560693), 'mean_ji': np.float64(0.6348067422773306), 'mean_loc_error': np.float64(0.28415508094931724), 'avg_std_loc_error': np.float64(0.11162603022825865), 'mean_mean_squared_error': np.float64(0.09895692848857045), 'avg_std_mean_squared_error': np.float64(0.06745957895843986), 'std_precision': np.float64(0.19464335972407948), 'std_recall': np.float64(0.21822980916520895), 'std_f1': np.float64(0.20460859971798606), 'std_ji': np.float64(0.24842600315761115), 'std_loc_error': np.float64(0.06504382148460883), 'std_mean_squared_error': np.float64(0.03503710784791681)}\n",
      "Score 0.7700000000000002: {'mean_precision': np.float64(0.8006201510907394), 'mean_recall': np.float64(0.7067138093244903), 'mean_f1': np.float64(0.7458909553551497), 'mean_ji': np.float64(0.6346684191625368), 'mean_loc_error': np.float64(0.2837239711137251), 'avg_std_loc_error': np.float64(0.11147374489146607), 'mean_mean_squared_error': np.float64(0.09860286025416697), 'avg_std_mean_squared_error': np.float64(0.06729248429589746), 'std_precision': np.float64(0.19391208191445292), 'std_recall': np.float64(0.22049037502678417), 'std_f1': np.float64(0.20567656301956688), 'std_ji': np.float64(0.24912061518188777), 'std_loc_error': np.float64(0.06426246732891938), 'std_mean_squared_error': np.float64(0.03432711851862846)}\n",
      "Score 0.7800000000000002: {'mean_precision': np.float64(0.8121547325223796), 'mean_recall': np.float64(0.701835134507735), 'mean_f1': np.float64(0.745063582076672), 'mean_ji': np.float64(0.6335930136598867), 'mean_loc_error': np.float64(0.28449181955551994), 'avg_std_loc_error': np.float64(0.11143783984825058), 'mean_mean_squared_error': np.float64(0.09907367671464826), 'avg_std_mean_squared_error': np.float64(0.06742129664200389), 'std_precision': np.float64(0.19113195117988827), 'std_recall': np.float64(0.22435616859296856), 'std_f1': np.float64(0.205990835743986), 'std_ji': np.float64(0.24879444796585382), 'std_loc_error': np.float64(0.06461495226276318), 'std_mean_squared_error': np.float64(0.03461261281347228)}\n",
      "Score 0.7900000000000003: {'mean_precision': np.float64(0.8162558813735284), 'mean_recall': np.float64(0.697474023396624), 'mean_f1': np.float64(0.7434248577929174), 'mean_ji': np.float64(0.6319350376489695), 'mean_loc_error': np.float64(0.2849926486981951), 'avg_std_loc_error': np.float64(0.11105885281047784), 'mean_mean_squared_error': np.float64(0.09915202882487732), 'avg_std_mean_squared_error': np.float64(0.06741095507543388), 'std_precision': np.float64(0.1903411582818235), 'std_recall': np.float64(0.2271797707226362), 'std_f1': np.float64(0.20713091683443668), 'std_ji': np.float64(0.25026899628728855), 'std_loc_error': np.float64(0.06398733121018788), 'std_mean_squared_error': np.float64(0.03448951357251418)}\n",
      "Score 0.8000000000000003: {'mean_precision': np.float64(0.8237638178814649), 'mean_recall': np.float64(0.6964740233966239), 'mean_f1': np.float64(0.7454058576588277), 'mean_ji': np.float64(0.6338960276393714), 'mean_loc_error': np.float64(0.28479764574401684), 'avg_std_loc_error': np.float64(0.1110432604136254), 'mean_mean_squared_error': np.float64(0.09902072242655463), 'avg_std_mean_squared_error': np.float64(0.0674013213899717), 'std_precision': np.float64(0.18397118591521727), 'std_recall': np.float64(0.22749636540477478), 'std_f1': np.float64(0.20528705951271664), 'std_ji': np.float64(0.2487164138131678), 'std_loc_error': np.float64(0.06385623470034972), 'std_mean_squared_error': np.float64(0.03441110131328404)}\n",
      "Score 0.8100000000000003: {'mean_precision': np.float64(0.8304268019562138), 'mean_recall': np.float64(0.6939343408569414), 'mean_f1': np.float64(0.7463501546998988), 'mean_ji': np.float64(0.6350357519501483), 'mean_loc_error': np.float64(0.2848863060035431), 'avg_std_loc_error': np.float64(0.11119963352238763), 'mean_mean_squared_error': np.float64(0.09911384573277945), 'avg_std_mean_squared_error': np.float64(0.0675004666860826), 'std_precision': np.float64(0.18479232895638942), 'std_recall': np.float64(0.22752145796918388), 'std_f1': np.float64(0.20506401109436934), 'std_ji': np.float64(0.2484459590784215), 'std_loc_error': np.float64(0.06388615678296539), 'std_mean_squared_error': np.float64(0.034419668364899306)}\n",
      "Score 0.8200000000000003: {'mean_precision': np.float64(0.8363290386084503), 'mean_recall': np.float64(0.691631709277994), 'mean_f1': np.float64(0.7464192259951851), 'mean_ji': np.float64(0.6359158096289675), 'mean_loc_error': np.float64(0.2845468924841411), 'avg_std_loc_error': np.float64(0.11106641437022138), 'mean_mean_squared_error': np.float64(0.09895714971066524), 'avg_std_mean_squared_error': np.float64(0.06736654199517382), 'std_precision': np.float64(0.18339629734642882), 'std_recall': np.float64(0.2304988547037326), 'std_f1': np.float64(0.20759727932112992), 'std_ji': np.float64(0.2502429659264935), 'std_loc_error': np.float64(0.06456073419781987), 'std_mean_squared_error': np.float64(0.03490585473482087)}\n",
      "Score 0.8300000000000003: {'mean_precision': np.float64(0.8346092583886702), 'mean_recall': np.float64(0.6813272102854147), 'mean_f1': np.float64(0.7387080371757544), 'mean_ji': np.float64(0.6275298447166868), 'mean_loc_error': np.float64(0.2833707795364396), 'avg_std_loc_error': np.float64(0.11098886031435722), 'mean_mean_squared_error': np.float64(0.09844150462519988), 'avg_std_mean_squared_error': np.float64(0.06705490454358361), 'std_precision': np.float64(0.18594680155283197), 'std_recall': np.float64(0.23551490413030915), 'std_f1': np.float64(0.21240272611717936), 'std_ji': np.float64(0.2543551132182738), 'std_loc_error': np.float64(0.06531819956219674), 'std_mean_squared_error': np.float64(0.03534161194975924)}\n",
      "Score 0.8400000000000003: {'mean_precision': np.float64(0.8379592907092908), 'mean_recall': np.float64(0.6691634675953562), 'mean_f1': np.float64(0.731975739955791), 'mean_ji': np.float64(0.6175759985628406), 'mean_loc_error': np.float64(0.2809862973103645), 'avg_std_loc_error': np.float64(0.10882754461611087), 'mean_mean_squared_error': np.float64(0.09776230907532432), 'avg_std_mean_squared_error': np.float64(0.06645593487444196), 'std_precision': np.float64(0.18380252540248912), 'std_recall': np.float64(0.23331215137499736), 'std_f1': np.float64(0.20953125316204346), 'std_ji': np.float64(0.2497713666863977), 'std_loc_error': np.float64(0.07183846198053934), 'std_mean_squared_error': np.float64(0.03693824511514464)}\n",
      "Score 0.8500000000000003: {'mean_precision': np.float64(0.8413249805749805), 'mean_recall': np.float64(0.6573551019843589), 'mean_f1': np.float64(0.7254514314802192), 'mean_ji': np.float64(0.61023332369385), 'mean_loc_error': np.float64(0.28110220123915614), 'avg_std_loc_error': np.float64(0.10780634201152695), 'mean_mean_squared_error': np.float64(0.09776121065294388), 'avg_std_mean_squared_error': np.float64(0.06587590772063645), 'std_precision': np.float64(0.18483012858697012), 'std_recall': np.float64(0.23687757433663947), 'std_f1': np.float64(0.21277746151905697), 'std_ji': np.float64(0.2517175062146509), 'std_loc_error': np.float64(0.07336629918262708), 'std_mean_squared_error': np.float64(0.03804764312095121)}\n",
      "Score 0.8600000000000003: {'mean_precision': np.float64(0.8446140248640248), 'mean_recall': np.float64(0.6497945338974751), 'mean_f1': np.float64(0.7203401057462573), 'mean_ji': np.float64(0.6048024179982384), 'mean_loc_error': np.float64(0.28105274301056216), 'avg_std_loc_error': np.float64(0.10663816786628397), 'mean_mean_squared_error': np.float64(0.09762926284248542), 'avg_std_mean_squared_error': np.float64(0.06535511261198236), 'std_precision': np.float64(0.18108755013004532), 'std_recall': np.float64(0.2413672714206834), 'std_f1': np.float64(0.21510883443267131), 'std_ji': np.float64(0.254830292957368), 'std_loc_error': np.float64(0.07358738050795083), 'std_mean_squared_error': np.float64(0.038297736973155985)}\n",
      "Score 0.8700000000000003: {'mean_precision': np.float64(0.8444465811965813), 'mean_recall': np.float64(0.6374388720154974), 'mean_f1': np.float64(0.7112338946697271), 'mean_ji': np.float64(0.5943411847870052), 'mean_loc_error': np.float64(0.27982501204355725), 'avg_std_loc_error': np.float64(0.10507261264919647), 'mean_mean_squared_error': np.float64(0.09674034014316416), 'avg_std_mean_squared_error': np.float64(0.0641756328115807), 'std_precision': np.float64(0.18094626863428534), 'std_recall': np.float64(0.2441777949727129), 'std_f1': np.float64(0.21861529624581463), 'std_ji': np.float64(0.256043403424028), 'std_loc_error': np.float64(0.07469191268653011), 'std_mean_squared_error': np.float64(0.03920350750341515)}\n",
      "Score 0.8800000000000003: {'mean_precision': np.float64(0.8439523532023532), 'mean_recall': np.float64(0.6286664418313025), 'mean_f1': np.float64(0.7048480329428302), 'mean_ji': np.float64(0.5878254505212709), 'mean_loc_error': np.float64(0.2785273755827043), 'avg_std_loc_error': np.float64(0.10493508797404248), 'mean_mean_squared_error': np.float64(0.09587149464618948), 'avg_std_mean_squared_error': np.float64(0.06397641968048697), 'std_precision': np.float64(0.1819160772307431), 'std_recall': np.float64(0.24839816945724882), 'std_f1': np.float64(0.22263269938221658), 'std_ji': np.float64(0.25941341294578524), 'std_loc_error': np.float64(0.07389850344077992), 'std_mean_squared_error': np.float64(0.03867777909521643)}\n",
      "Score 0.8900000000000003: {'mean_precision': np.float64(0.8507073204573206), 'mean_recall': np.float64(0.5962528130624105), 'mean_f1': np.float64(0.6830860690687227), 'mean_ji': np.float64(0.5606328878379963), 'mean_loc_error': np.float64(0.28031172443457036), 'avg_std_loc_error': np.float64(0.10128631269101089), 'mean_mean_squared_error': np.float64(0.09620876459403183), 'avg_std_mean_squared_error': np.float64(0.06198953408589675), 'std_precision': np.float64(0.18189209963744413), 'std_recall': np.float64(0.24741263094959384), 'std_f1': np.float64(0.22209874436145058), 'std_ji': np.float64(0.25395089288535), 'std_loc_error': np.float64(0.07295458856032444), 'std_mean_squared_error': np.float64(0.0382331984990699)}\n",
      "Score 0.9000000000000004: {'mean_precision': np.float64(0.8591746031746033), 'mean_recall': np.float64(0.5754364093079264), 'mean_f1': np.float64(0.6670462680811683), 'mean_ji': np.float64(0.5437156191761455), 'mean_loc_error': np.float64(0.2758236256362193), 'avg_std_loc_error': np.float64(0.09780191874203849), 'mean_mean_squared_error': np.float64(0.0933082737468083), 'avg_std_mean_squared_error': np.float64(0.058681297534882194), 'std_precision': np.float64(0.1853374388469507), 'std_recall': np.float64(0.2543857884964218), 'std_f1': np.float64(0.22738995279468), 'std_ji': np.float64(0.25902055233282034), 'std_loc_error': np.float64(0.07528761287072516), 'std_mean_squared_error': np.float64(0.039484467865424616)}\n",
      "Score 0.9100000000000004: {'mean_precision': np.float64(0.8440768120768121), 'mean_recall': np.float64(0.5402515722151945), 'mean_f1': np.float64(0.6370073914505028), 'mean_ji': np.float64(0.5110480556595107), 'mean_loc_error': np.float64(0.2806990588282147), 'avg_std_loc_error': np.float64(0.0947442998983864), 'mean_mean_squared_error': np.float64(0.09647334771009734), 'avg_std_mean_squared_error': np.float64(0.05690878819786016), 'std_precision': np.float64(0.2207344458274132), 'std_recall': np.float64(0.2527888788742943), 'std_f1': np.float64(0.2391947349696909), 'std_ji': np.float64(0.25525999453687004), 'std_loc_error': np.float64(0.07995042656048469), 'std_mean_squared_error': np.float64(0.044379321028616435)}\n"
     ]
    },
    {
     "ename": "KeyboardInterrupt",
     "evalue": "",
     "output_type": "error",
     "traceback": [
      "\u001b[31m---------------------------------------------------------------------------\u001b[39m",
      "\u001b[31mKeyboardInterrupt\u001b[39m                         Traceback (most recent call last)",
      "\u001b[36mCell\u001b[39m\u001b[36m \u001b[39m\u001b[32mIn[34]\u001b[39m\u001b[32m, line 3\u001b[39m\n\u001b[32m      1\u001b[39m evals = []\n\u001b[32m      2\u001b[39m \u001b[38;5;28;01mfor\u001b[39;00m score \u001b[38;5;129;01min\u001b[39;00m np.arange(\u001b[32m0.5\u001b[39m,\u001b[32m0.95\u001b[39m, \u001b[32m0.01\u001b[39m):\n\u001b[32m----> \u001b[39m\u001b[32m3\u001b[39m     \u001b[38;5;28mprint\u001b[39m(\u001b[33mf\u001b[39m\u001b[33m\"\u001b[39m\u001b[33mScore \u001b[39m\u001b[38;5;132;01m{\u001b[39;00mscore\u001b[38;5;132;01m}\u001b[39;00m\u001b[33m: \u001b[39m\u001b[38;5;132;01m{\u001b[39;00m\u001b[43mevaluate_predictions\u001b[49m\u001b[43m(\u001b[49m\u001b[43mpredictions\u001b[49m\u001b[43m,\u001b[49m\u001b[38;5;250;43m \u001b[39;49m\u001b[43mtargets\u001b[49m\u001b[43m,\u001b[49m\u001b[38;5;250;43m \u001b[39;49m\u001b[43miou_thresh\u001b[49m\u001b[43m=\u001b[49m\u001b[32;43m0.5\u001b[39;49m\u001b[43m,\u001b[49m\u001b[38;5;250;43m \u001b[39;49m\u001b[43mscore_thresh\u001b[49m\u001b[43m=\u001b[49m\u001b[43mscore\u001b[49m\u001b[43m)\u001b[49m\u001b[38;5;132;01m}\u001b[39;00m\u001b[33m\"\u001b[39m)\n",
      "\u001b[36mFile \u001b[39m\u001b[32md:\\zeiss\\Desktop\\coding\\Hilger\\bachelor\\utils.py:108\u001b[39m, in \u001b[36mevaluate_predictions\u001b[39m\u001b[34m(predictions, targets, iou_thresh, score_thresh)\u001b[39m\n\u001b[32m    105\u001b[39m stdses = []\n\u001b[32m    107\u001b[39m \u001b[38;5;28;01mfor\u001b[39;00m prediction, target \u001b[38;5;129;01min\u001b[39;00m \u001b[38;5;28mzip\u001b[39m(predictions, targets):\n\u001b[32m--> \u001b[39m\u001b[32m108\u001b[39m     p, r, f1, ji, mean_error, std_error, mse, stdse = \u001b[43mevaluate_prediction\u001b[49m\u001b[43m(\u001b[49m\u001b[43mprediction\u001b[49m\u001b[43m,\u001b[49m\u001b[43m \u001b[49m\u001b[43mtarget\u001b[49m\u001b[43m,\u001b[49m\u001b[43m \u001b[49m\u001b[43miou_thresh\u001b[49m\u001b[43m,\u001b[49m\u001b[43m \u001b[49m\u001b[43mscore_thresh\u001b[49m\u001b[43m)\u001b[49m\n\u001b[32m    109\u001b[39m     precisions.append(p)\n\u001b[32m    110\u001b[39m     recalls.append(r)\n",
      "\u001b[36mFile \u001b[39m\u001b[32md:\\zeiss\\Desktop\\coding\\Hilger\\bachelor\\utils.py:49\u001b[39m, in \u001b[36mevaluate_prediction\u001b[39m\u001b[34m(prediction, target, iou_thresh, score_thresh)\u001b[39m\n\u001b[32m     46\u001b[39m used_preds = \u001b[38;5;28mset\u001b[39m()\n\u001b[32m     47\u001b[39m used_gts = \u001b[38;5;28mset\u001b[39m()\n\u001b[32m---> \u001b[39m\u001b[32m49\u001b[39m pairs = [(i, j, \u001b[43miou_matrix\u001b[49m\u001b[43m[\u001b[49m\u001b[43mi\u001b[49m\u001b[43m,\u001b[49m\u001b[43mj\u001b[49m\u001b[43m]\u001b[49m\u001b[43m.\u001b[49m\u001b[43mitem\u001b[49m\u001b[43m(\u001b[49m\u001b[43m)\u001b[49m)\n\u001b[32m     50\u001b[39m          \u001b[38;5;28;01mfor\u001b[39;00m i \u001b[38;5;129;01min\u001b[39;00m \u001b[38;5;28mrange\u001b[39m(iou_matrix.shape[\u001b[32m0\u001b[39m])\n\u001b[32m     51\u001b[39m          \u001b[38;5;28;01mfor\u001b[39;00m j \u001b[38;5;129;01min\u001b[39;00m \u001b[38;5;28mrange\u001b[39m(iou_matrix.shape[\u001b[32m1\u001b[39m])] \u001b[38;5;66;03m# Makes a list of tuples. All possible pairs\u001b[39;00m\n\u001b[32m     53\u001b[39m \u001b[38;5;66;03m# Sort pairs by IoU in descending order\u001b[39;00m\n\u001b[32m     54\u001b[39m pairs.sort(key=\u001b[38;5;28;01mlambda\u001b[39;00m x: x[\u001b[32m2\u001b[39m], reverse=\u001b[38;5;28;01mTrue\u001b[39;00m)\n",
      "\u001b[31mKeyboardInterrupt\u001b[39m: "
     ]
    }
   ],
   "source": [
    "# evals = []\n",
    "# for score in np.arange(0.5,0.95, 0.01):\n",
    "#     print(f\"Score {score}: {evaluate_predictions(predictions, targets, iou_thresh=0.5, score_thresh=score)}\")"
   ]
  },
  {
   "cell_type": "code",
   "execution_count": null,
   "id": "f6de3170",
   "metadata": {},
   "outputs": [],
   "source": []
  }
 ],
 "metadata": {
  "kernelspec": {
   "display_name": "hilger312",
   "language": "python",
   "name": "python3"
  },
  "language_info": {
   "codemirror_mode": {
    "name": "ipython",
    "version": 3
   },
   "file_extension": ".py",
   "mimetype": "text/x-python",
   "name": "python",
   "nbconvert_exporter": "python",
   "pygments_lexer": "ipython3",
   "version": "3.12.9"
  }
 },
 "nbformat": 4,
 "nbformat_minor": 5
}
