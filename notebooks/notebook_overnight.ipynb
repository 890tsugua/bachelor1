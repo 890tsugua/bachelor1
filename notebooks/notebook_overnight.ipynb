{
 "cells": [
  {
   "cell_type": "code",
   "execution_count": 1,
   "id": "8be3f121",
   "metadata": {
    "editable": true,
    "slideshow": {
     "slide_type": ""
    },
    "tags": []
   },
   "outputs": [],
   "source": [
    "import pandas as pd\n",
    "import torch\n",
    "\n",
    "import os\n",
    "import sys\n",
    "sys.path.append(os.path.abspath('..'))\n",
    "from scripts.training import run_epoch, train_loop\n",
    "from utils import move_data_to_device, move_dict_to_cpu, plot_image, plot_image_boxes\n",
    "from PsfSimulator import PsfDataset\n",
    "from models.subpix_rcnn import SubpixRCNN\n",
    "import matplotlib.pyplot as plt\n",
    "import torch.nn as nn\n",
    "from torchvision.ops import MultiScaleRoIAlign\n",
    "from torchvision.ops import misc as misc_nn_ops\n",
    "from torchvision.transforms._presets import ObjectDetection\n",
    "from torchvision.models._api import register_model, Weights, WeightsEnum\n",
    "from torchvision.models._meta import _COCO_CATEGORIES\n",
    "from torchvision.models._utils import _ovewrite_value_param, handle_legacy_interface\n",
    "from torchvision.models.resnet import resnet50, ResNet50_Weights\n",
    "from torchvision.models.detection._utils import overwrite_eps\n",
    "from torchvision.models.detection.backbone_utils import _resnet_fpn_extractor, _validate_trainable_layers\n",
    "from torchvision.models.detection.faster_rcnn import _default_anchorgen, FasterRCNN, FastRCNNConvFCHead, RPNHead\n",
    "from torchvision.models.detection.roi_heads import RoIHeads\n",
    "\n",
    "from torchvision.models.detection.backbone_utils import resnet_fpn_backbone\n",
    "from torchvision.models.detection.generalized_rcnn import GeneralizedRCNN\n",
    "import torch.nn.functional as F\n",
    "import torch.optim as optim\n",
    "import os\n",
    "import datetime\n",
    "\n",
    "from torchvision.models.detection.backbone_utils import resnet_fpn_backbone\n",
    "import torch\n",
    "\n",
    "import sys, os\n",
    "sys.path.append(os.path.abspath('..'))\n",
    "from models.subpix_rcnn import SubpixRCNN\n",
    "from utils import move_data_to_device, move_dict_to_cpu, plot_image_boxes, evaluate_predictions, evaluate_prediction\n",
    "from PsfSimulator import PsfDataset\n",
    "\n",
    "from scripts.plotting import PlotController\n",
    "from scripts.evaluating import test_densities_fixed_snr, test_model_once_plot, evaluate_recall_per_snr, test_perlinnoise_fixed_snr\n",
    "import numpy as np\n",
    "import matplotlib.pyplot as plt\n",
    "import pickle\n",
    "from scipy.ndimage import gaussian_filter, gaussian_laplace, laplace"
   ]
  },
  {
   "cell_type": "code",
   "execution_count": 2,
   "id": "60b84f77",
   "metadata": {},
   "outputs": [],
   "source": [
    "# Density 1 = 40 spots per 64x64 image\n",
    "# Density 0.05 = 2 spots per 64x64 image"
   ]
  },
  {
   "cell_type": "code",
   "execution_count": 2,
   "id": "90e2304a",
   "metadata": {},
   "outputs": [
    {
     "name": "stdout",
     "output_type": "stream",
     "text": [
      "Training dataset size:      2000\n",
      "Validation dataset size:     100\n",
      "dtype: int64\n"
     ]
    }
   ],
   "source": [
    "# Instatiate the dataset\n",
    "seed = None\n",
    "\n",
    "num_spots_min = 2\n",
    "num_spots_max = 80\n",
    "sigma_mean= 1.5\n",
    "sigma_std = 0.1\n",
    "snr_min = 2\n",
    "snr_max = 20\n",
    "snr_std = 0.0\n",
    "base_noise_min = 300\n",
    "base_noise_max = 10000\n",
    "use_gauss_noise = False\n",
    "gauss_noise_std = 0.0\n",
    "use_perlin_noise = True\n",
    "perlin_min_max = None#(0.4, 0.6)\n",
    "img_w = 64\n",
    "img_h = 64\n",
    "\n",
    "train_dataset = PsfDataset(seed, 2000, num_spots_min, num_spots_max, sigma_mean, sigma_std,\n",
    "                      snr_min, snr_max, snr_std, base_noise_min, base_noise_max, use_gauss_noise,\n",
    "                      gauss_noise_std, use_perlin_noise, perlin_min_max, img_w, img_h)\n",
    "\n",
    "\n",
    "valid_dataset = PsfDataset(seed, 100, num_spots_min, num_spots_max, sigma_mean, sigma_std,\n",
    "                      snr_min, snr_max, snr_std, base_noise_min, base_noise_max, use_gauss_noise,\n",
    "                      gauss_noise_std, use_perlin_noise, perlin_min_max, img_w, img_h)\n",
    "\n",
    "\n",
    "# Print the number of samples in the training and validation datasets\n",
    "print(pd.Series({\n",
    "    'Training dataset size:': len(train_dataset),\n",
    "    'Validation dataset size:': len(valid_dataset)}))\n",
    "\n",
    "data_loader_params = {'batch_size':8,    'collate_fn': lambda batch: tuple(zip(*batch)),}\n",
    "\n",
    "training_loader = torch.utils.data.DataLoader(train_dataset, **data_loader_params)\n",
    "validation_loader = torch.utils.data.DataLoader(valid_dataset, **data_loader_params)"
   ]
  },
  {
   "cell_type": "code",
   "execution_count": 3,
   "id": "a0e60b66",
   "metadata": {},
   "outputs": [],
   "source": [
    "def generate_checkpoint_path(model_name, project_name):\n",
    "\n",
    "  # 1. Define the project directory within Colab's content area\n",
    "  folder_path = os.path.join(os.curdir, project_name)\n",
    "\n",
    "  # 2. Create the directory if it doesn't exist\n",
    "  os.makedirs(folder_path, exist_ok=True)\n",
    "\n",
    "  # 3. Generate a timestamped subdirectory\n",
    "  timestamp = datetime.datetime.now().strftime(\"%Y-%m-%d_%H-%M-%S\")\n",
    "  checkpoint_dir = os.path.join(folder_path, timestamp)\n",
    "  os.makedirs(checkpoint_dir, exist_ok=True)\n",
    "\n",
    "  # 4. Construct the checkpoint path\n",
    "  checkpoint_path = os.path.join(checkpoint_dir, f\"{model_name}.pth\")\n",
    "\n",
    "  return checkpoint_path"
   ]
  },
  {
   "cell_type": "code",
   "execution_count": 4,
   "id": "6275c7ca",
   "metadata": {},
   "outputs": [],
   "source": [
    "from torch.utils.tensorboard import SummaryWriter"
   ]
  },
  {
   "cell_type": "code",
   "execution_count": 5,
   "id": "a3044bbc",
   "metadata": {},
   "outputs": [],
   "source": [
    "writer = SummaryWriter('runs/filters_perlin_std')"
   ]
  },
  {
   "cell_type": "code",
   "execution_count": null,
   "id": "cddcf5b7",
   "metadata": {},
   "outputs": [
    {
     "name": "stdout",
     "output_type": "stream",
     "text": [
      "cuda\n"
     ]
    },
    {
     "name": "stderr",
     "output_type": "stream",
     "text": [
      "c:\\Users\\zeiss\\anaconda3\\envs\\hilger312\\Lib\\site-packages\\torchvision\\models\\_utils.py:135: UserWarning: Using 'backbone_name' as positional parameter(s) is deprecated since 0.13 and may be removed in the future. Please use keyword parameter(s) instead.\n",
      "  warnings.warn(\n"
     ]
    },
    {
     "name": "stdout",
     "output_type": "stream",
     "text": [
      "Custom SubpixRoIHeads successfully initialized!\n"
     ]
    },
    {
     "data": {
      "application/vnd.jupyter.widget-view+json": {
       "model_id": "c6110c7666a34e14959ae5e54d5a8ef6",
       "version_major": 2,
       "version_minor": 0
      },
      "text/plain": [
       "Training Loop:   0%|          | 0/200 [00:00<?, ?it/s]"
      ]
     },
     "metadata": {},
     "output_type": "display_data"
    },
    {
     "data": {
      "application/vnd.jupyter.widget-view+json": {
       "model_id": "aa328afda72b45a59782dbd0a244e7b6",
       "version_major": 2,
       "version_minor": 0
      },
      "text/plain": [
       "Train:   0%|          | 0/250 [00:00<?, ?it/s]"
      ]
     },
     "metadata": {},
     "output_type": "display_data"
    },
    {
     "name": "stderr",
     "output_type": "stream",
     "text": [
      "d:\\zeiss\\Desktop\\coding\\Hilger\\bachelor\\PsfSimulator.py:123: RuntimeWarning: All-NaN slice encountered\n",
      "  signal = np.nanmax(array[y1:y2, x1:x2])\n"
     ]
    },
    {
     "data": {
      "application/vnd.jupyter.widget-view+json": {
       "model_id": "1209a7e924034a89badd42353e2a4026",
       "version_major": 2,
       "version_minor": 0
      },
      "text/plain": [
       "Eval:   0%|          | 0/13 [00:00<?, ?it/s]"
      ]
     },
     "metadata": {},
     "output_type": "display_data"
    },
    {
     "name": "stdout",
     "output_type": "stream",
     "text": [
      "New best loss: 0.326901559646313\n"
     ]
    },
    {
     "data": {
      "application/vnd.jupyter.widget-view+json": {
       "model_id": "332fadf6bc32487bad3f3abe0077db50",
       "version_major": 2,
       "version_minor": 0
      },
      "text/plain": [
       "Train:   0%|          | 0/250 [00:00<?, ?it/s]"
      ]
     },
     "metadata": {},
     "output_type": "display_data"
    },
    {
     "data": {
      "application/vnd.jupyter.widget-view+json": {
       "model_id": "09ae8a9a63994c6d8c3511d2fe1d80a9",
       "version_major": 2,
       "version_minor": 0
      },
      "text/plain": [
       "Eval:   0%|          | 0/13 [00:00<?, ?it/s]"
      ]
     },
     "metadata": {},
     "output_type": "display_data"
    },
    {
     "data": {
      "application/vnd.jupyter.widget-view+json": {
       "model_id": "fcb437069fb5439bbcb28911133b3877",
       "version_major": 2,
       "version_minor": 0
      },
      "text/plain": [
       "Train:   0%|          | 0/250 [00:00<?, ?it/s]"
      ]
     },
     "metadata": {},
     "output_type": "display_data"
    },
    {
     "data": {
      "application/vnd.jupyter.widget-view+json": {
       "model_id": "3ddff9d929944d2e800a1cdabcce2b1e",
       "version_major": 2,
       "version_minor": 0
      },
      "text/plain": [
       "Eval:   0%|          | 0/13 [00:00<?, ?it/s]"
      ]
     },
     "metadata": {},
     "output_type": "display_data"
    },
    {
     "data": {
      "application/vnd.jupyter.widget-view+json": {
       "model_id": "f026a37ae6bb477c9f5668addd26132e",
       "version_major": 2,
       "version_minor": 0
      },
      "text/plain": [
       "Train:   0%|          | 0/250 [00:00<?, ?it/s]"
      ]
     },
     "metadata": {},
     "output_type": "display_data"
    }
   ],
   "source": [
    "device = torch.device(\"cuda\" if torch.cuda.is_available() else \"cpu\")\n",
    "print(device)\n",
    "\n",
    "backbone = resnet_fpn_backbone(\"resnet50\", weights=None, trainable_layers=5)\n",
    "kwargs = {\"nms_tresh\": 0.1, \"image_mean\":[0,0,0], \"image_std\":[1,1,1], 'score_thresh': 0.5}\n",
    "\n",
    "model = SubpixRCNN(backbone, num_classes=2, device=device, **kwargs)\n",
    "model.to(device)\n",
    "model.name = \"testmodel\"\n",
    "optimizer = optim.Adam(model.parameters(), lr=0.0001)\n",
    "path = r\"D:\\zeiss\\Desktop\\coding\\Hilger\\bachelor\\notebooks\\subpix_rcnn_models\\2025-06-02_19-10-05\\with_filters_long.pth\"\n",
    "model.load_state_dict(torch.load(path, map_location=device))\n",
    "\n",
    "checkpoint_path = generate_checkpoint_path(\"with_filters_long\", \"subpix_rcnn_models\")\n",
    "num_epochs = 200\n",
    "\n",
    "train_loop(model, training_loader, validation_loader, optimizer, device, num_epochs, checkpoint_path, writer)"
   ]
  },
  {
   "cell_type": "markdown",
   "id": "1c91dd32",
   "metadata": {},
   "source": [
    "# Now time to test the model"
   ]
  },
  {
   "cell_type": "code",
   "execution_count": null,
   "id": "d8e81fb4",
   "metadata": {},
   "outputs": [],
   "source": [
    "device = torch.device(\"cuda\" if torch.cuda.is_available() else \"cpu\")\n",
    "print(device)\n",
    "\n",
    "backbone = resnet_fpn_backbone(\"resnet50\", weights=None, trainable_layers=5)\n",
    "kwargs = {\"nms_tresh\": 0.1, \"image_mean\":[0,0,0], \"image_std\":[1,1,1], 'score_thresh': 0.7}\n",
    "\n",
    "model = SubpixRCNN(backbone, num_classes=2, device=device, **kwargs)\n",
    "model.to(device)\n",
    "model.name = \"testmodel\"\n",
    "optimizer = optim.Adam(model.parameters(), lr=0.0001)\n",
    "path = r\"D:\\zeiss\\Desktop\\coding\\Hilger\\bachelor\\notebooks\\subpix_rcnn_models\\2025-06-02_19-15-51\\with_filters_long.pth\"\n",
    "model.load_state_dict(torch.load(path, map_location=device))\n",
    "model.eval()"
   ]
  },
  {
   "cell_type": "code",
   "execution_count": null,
   "id": "e8f24b5d",
   "metadata": {},
   "outputs": [
    {
     "name": "stdout",
     "output_type": "stream",
     "text": [
      "Density: 0.04, Metrics: {'mean_precision': np.float64(0.775), 'mean_recall': np.float64(0.85), 'mean_f1': np.float64(0.8), 'mean_ji': np.float64(0.775), 'mean_loc_error': np.float64(0.34789618102074615), 'avg_std_loc_error': np.float64(0.0), 'mean_mean_squared_error': np.float64(0.1348537260063869), 'avg_std_mean_squared_error': np.float64(0.0), 'std_precision': np.float64(0.3699662146737186), 'std_recall': np.float64(0.3570714214271425), 'std_f1': np.float64(0.35590260840104376), 'std_ji': np.float64(0.3699662146737186), 'std_loc_error': np.float64(0.11756688835538316), 'std_mean_squared_error': np.float64(0.08280909418057483)}\n",
      "Density: 0.05, Metrics: {'mean_precision': np.float64(0.6083333333333333), 'mean_recall': np.float64(0.675), 'mean_f1': np.float64(0.6266666666666666), 'mean_ji': np.float64(0.5166666666666667), 'mean_loc_error': np.float64(0.2918609666774608), 'avg_std_loc_error': np.float64(0.031497804785626325), 'mean_mean_squared_error': np.float64(0.10230908711997068), 'avg_std_mean_squared_error': np.float64(0.019362119236676436), 'std_precision': np.float64(0.28516564387114457), 'std_recall': np.float64(0.3269174207655505), 'std_f1': np.float64(0.2823709144606316), 'std_ji': np.float64(0.3023059524536176), 'std_loc_error': np.float64(0.11781582364411046), 'std_mean_squared_error': np.float64(0.06941544573744647)}\n",
      "Density: 0.060000000000000005, Metrics: {'mean_precision': np.float64(0.7083333333333333), 'mean_recall': np.float64(0.725), 'mean_f1': np.float64(0.7150000000000001), 'mean_ji': np.float64(0.6250000000000001), 'mean_loc_error': np.float64(0.34989886538541193), 'avg_std_loc_error': np.float64(0.04897115249660204), 'mean_mean_squared_error': np.float64(0.1423127886839211), 'avg_std_mean_squared_error': np.float64(0.03084681397303939), 'std_precision': np.float64(0.2680951323690902), 'std_recall': np.float64(0.24874685927665496), 'std_f1': np.float64(0.25937424698685874), 'std_ji': np.float64(0.3400367627183861), 'std_loc_error': np.float64(0.1143342471185008), 'std_mean_squared_error': np.float64(0.07838637483944853)}\n",
      "Density: 0.07, Metrics: {'mean_precision': np.float64(0.7666666666666666), 'mean_recall': np.float64(0.875), 'mean_f1': np.float64(0.8066666666666666), 'mean_ji': np.float64(0.7291666666666667), 'mean_loc_error': np.float64(0.327797729808932), 'avg_std_loc_error': np.float64(0.05213227437923799), 'mean_mean_squared_error': np.float64(0.12430705932201817), 'avg_std_mean_squared_error': np.float64(0.032047758426051585), 'std_precision': np.float64(0.2438123139721299), 'std_recall': np.float64(0.21650635094610965), 'std_f1': np.float64(0.2184795947756525), 'std_ji': np.float64(0.2921127541055185), 'std_loc_error': np.float64(0.10781884558899243), 'std_mean_squared_error': np.float64(0.07149354333329624)}\n",
      "Density: 0.08000000000000002, Metrics: {'mean_precision': np.float64(0.7458333333333333), 'mean_recall': np.float64(0.8), 'mean_f1': np.float64(0.7629761904761906), 'mean_ji': np.float64(0.6699999999999999), 'mean_loc_error': np.float64(0.29752828076698246), 'avg_std_loc_error': np.float64(0.1062997079910577), 'mean_mean_squared_error': np.float64(0.12123953889701322), 'avg_std_mean_squared_error': np.float64(0.06857376632864738), 'std_precision': np.float64(0.23850663862179322), 'std_recall': np.float64(0.24494897427831783), 'std_f1': np.float64(0.22978407862407624), 'std_ji': np.float64(0.28961660480327744), 'std_loc_error': np.float64(0.12715541120194798), 'std_mean_squared_error': np.float64(0.06793465301026755)}\n",
      "Density: 0.09000000000000001, Metrics: {'mean_precision': np.float64(0.7541666666666667), 'mean_recall': np.float64(0.7666666666666666), 'mean_f1': np.float64(0.7485714285714287), 'mean_ji': np.float64(0.6633333333333333), 'mean_loc_error': np.float64(0.3328675339255537), 'avg_std_loc_error': np.float64(0.10459850861464982), 'mean_mean_squared_error': np.float64(0.13397983252683557), 'avg_std_mean_squared_error': np.float64(0.0655203768988503), 'std_precision': np.float64(0.296361031701388), 'std_recall': np.float64(0.28087165910587863), 'std_f1': np.float64(0.27196104829806644), 'std_ji': np.float64(0.307074004833435), 'std_loc_error': np.float64(0.09204914870991791), 'std_mean_squared_error': np.float64(0.06136748780291521)}\n",
      "Density: 0.1, Metrics: {'mean_precision': np.float64(0.7783333333333332), 'mean_recall': np.float64(0.8), 'mean_f1': np.float64(0.7849206349206349), 'mean_ji': np.float64(0.6789285714285714), 'mean_loc_error': np.float64(0.2850564952097289), 'avg_std_loc_error': np.float64(0.1037477052812393), 'mean_mean_squared_error': np.float64(0.09897156648221425), 'avg_std_mean_squared_error': np.float64(0.05968955616197021), 'std_precision': np.float64(0.17803713719958045), 'std_recall': np.float64(0.1695582495781317), 'std_f1': np.float64(0.17111707443152932), 'std_ji': np.float64(0.23635707809868303), 'std_loc_error': np.float64(0.06973651863126949), 'std_mean_squared_error': np.float64(0.04102456750200328)}\n",
      "Density: 0.2, Metrics: {'mean_precision': np.float64(0.7334253246753247), 'mean_recall': np.float64(0.78125), 'mean_f1': np.float64(0.754579033367733), 'mean_ji': np.float64(0.6144755244755246), 'mean_loc_error': np.float64(0.3035746296452474), 'avg_std_loc_error': np.float64(0.11798188473156068), 'mean_mean_squared_error': np.float64(0.10969822583368069), 'avg_std_mean_squared_error': np.float64(0.07676733499685097), 'std_precision': np.float64(0.10751872313701803), 'std_recall': np.float64(0.09581068572972433), 'std_f1': np.float64(0.09467039477461343), 'std_ji': np.float64(0.11373184242214746), 'std_loc_error': np.float64(0.05287620584622199), 'std_mean_squared_error': np.float64(0.03292307009555469)}\n",
      "Density: 0.30000000000000004, Metrics: {'mean_precision': np.float64(0.8211538461538461), 'mean_recall': np.float64(0.8208333333333332), 'mean_f1': np.float64(0.820304347826087), 'mean_ji': np.float64(0.7068040293040293), 'mean_loc_error': np.float64(0.29156124426234253), 'avg_std_loc_error': np.float64(0.13240905438713046), 'mean_mean_squared_error': np.float64(0.10481101967636444), 'avg_std_mean_squared_error': np.float64(0.08170794391883597), 'std_precision': np.float64(0.09671726925186558), 'std_recall': np.float64(0.10299339245256894), 'std_f1': np.float64(0.09723682862043388), 'std_ji': np.float64(0.1396342910449041), 'std_loc_error': np.float64(0.04127463846967821), 'std_mean_squared_error': np.float64(0.02568783257342793)}\n",
      "Density: 0.4, Metrics: {'mean_precision': np.float64(0.7454751131221719), 'mean_recall': np.float64(0.725), 'mean_f1': np.float64(0.734414163885799), 'mean_ji': np.float64(0.5929769608765774), 'mean_loc_error': np.float64(0.30990680710467755), 'avg_std_loc_error': np.float64(0.12856656527176238), 'mean_mean_squared_error': np.float64(0.11481295269279986), 'avg_std_mean_squared_error': np.float64(0.08173222756479993), 'std_precision': np.float64(0.11224080690690454), 'std_recall': np.float64(0.11924240017711822), 'std_f1': np.float64(0.11433435047206385), 'std_ji': np.float64(0.1410313931947391), 'std_loc_error': np.float64(0.04074289829363993), 'std_mean_squared_error': np.float64(0.024246373695976854)}\n",
      "Density: 0.5, Metrics: {'mean_precision': np.float64(0.7019776413443124), 'mean_recall': np.float64(0.7050000000000001), 'mean_f1': np.float64(0.7026483240529275), 'mean_ji': np.float64(0.5549189371549603), 'mean_loc_error': np.float64(0.310437808512178), 'avg_std_loc_error': np.float64(0.12284557741539226), 'mean_mean_squared_error': np.float64(0.11467994603048035), 'avg_std_mean_squared_error': np.float64(0.0791012567770691), 'std_precision': np.float64(0.11848370683193364), 'std_recall': np.float64(0.12737739202856996), 'std_f1': np.float64(0.12072465802937264), 'std_ji': np.float64(0.1435582696585576), 'std_loc_error': np.float64(0.04954380982805948), 'std_mean_squared_error': np.float64(0.031052276363998203)}\n",
      "Density: 0.6, Metrics: {'mean_precision': np.float64(0.7422809502346116), 'mean_recall': np.float64(0.7041666666666667), 'mean_f1': np.float64(0.7216685547462968), 'mean_ji': np.float64(0.5701812431147109), 'mean_loc_error': np.float64(0.3131951125003671), 'avg_std_loc_error': np.float64(0.1294835861194859), 'mean_mean_squared_error': np.float64(0.11581074569698217), 'avg_std_mean_squared_error': np.float64(0.08214065519530035), 'std_precision': np.float64(0.07645086789546889), 'std_recall': np.float64(0.0832291014809924), 'std_f1': np.float64(0.07658158261452047), 'std_ji': np.float64(0.09440314630172227), 'std_loc_error': np.float64(0.024906697447112068), 'std_mean_squared_error': np.float64(0.017192646299915515)}\n",
      "Density: 0.7000000000000001, Metrics: {'mean_precision': np.float64(0.6973221388528734), 'mean_recall': np.float64(0.6535714285714286), 'mean_f1': np.float64(0.6735139515492048), 'mean_ji': np.float64(0.5150196708490477), 'mean_loc_error': np.float64(0.32077456700768303), 'avg_std_loc_error': np.float64(0.13513233672658348), 'mean_mean_squared_error': np.float64(0.1225994781647913), 'avg_std_mean_squared_error': np.float64(0.08892253618085193), 'std_precision': np.float64(0.08787273814846377), 'std_recall': np.float64(0.10295382360999697), 'std_f1': np.float64(0.09324775274656884), 'std_ji': np.float64(0.10386902595036561), 'std_loc_error': np.float64(0.031096121792480103), 'std_mean_squared_error': np.float64(0.020252685408566676)}\n",
      "Density: 0.8, Metrics: {'mean_precision': np.float64(0.7513069783592587), 'mean_recall': np.float64(0.6796875), 'mean_f1': np.float64(0.7129169233553823), 'mean_ji': np.float64(0.5573477211558606), 'mean_loc_error': np.float64(0.31417801230486025), 'avg_std_loc_error': np.float64(0.13664512942077361), 'mean_mean_squared_error': np.float64(0.118662119962231), 'avg_std_mean_squared_error': np.float64(0.08965748590730974), 'std_precision': np.float64(0.06615942712173462), 'std_recall': np.float64(0.06394806853025352), 'std_f1': np.float64(0.06058599467829352), 'std_ji': np.float64(0.07333280973911054), 'std_loc_error': np.float64(0.03331011913463433), 'std_mean_squared_error': np.float64(0.02162060857487233)}\n",
      "Density: 0.9, Metrics: {'mean_precision': np.float64(0.6993537163274576), 'mean_recall': np.float64(0.5958333333333333), 'mean_f1': np.float64(0.6424443079047552), 'mean_ji': np.float64(0.48026421926580454), 'mean_loc_error': np.float64(0.309646294663251), 'avg_std_loc_error': np.float64(0.1293175671679303), 'mean_mean_squared_error': np.float64(0.11459225194923775), 'avg_std_mean_squared_error': np.float64(0.08191366257269819), 'std_precision': np.float64(0.10037435032046658), 'std_recall': np.float64(0.08892143501393952), 'std_f1': np.float64(0.09111446183739279), 'std_ji': np.float64(0.10496724986697235), 'std_loc_error': np.float64(0.04165303667319072), 'std_mean_squared_error': np.float64(0.024517956391867345)}\n",
      "Density: 1.0, Metrics: {'mean_precision': np.float64(0.7305179067288303), 'mean_recall': np.float64(0.63125), 'mean_f1': np.float64(0.6761272369055601), 'mean_ji': np.float64(0.5148136395714386), 'mean_loc_error': np.float64(0.3118467344256145), 'avg_std_loc_error': np.float64(0.13113421711286383), 'mean_mean_squared_error': np.float64(0.11518980907792235), 'avg_std_mean_squared_error': np.float64(0.08501069801412785), 'std_precision': np.float64(0.07000416481284888), 'std_recall': np.float64(0.07494789856960633), 'std_f1': np.float64(0.06868683764547984), 'std_ji': np.float64(0.07899480146508285), 'std_loc_error': np.float64(0.022092209746131623), 'std_mean_squared_error': np.float64(0.012744152640294826)}\n",
      "Density: 2.0, Metrics: {'mean_precision': np.float64(0.6499771668595734), 'mean_recall': np.float64(0.41728395061728396), 'mean_f1': np.float64(0.5073297869318549), 'mean_ji': np.float64(0.34127851682244537), 'mean_loc_error': np.float64(0.32117811040753413), 'avg_std_loc_error': np.float64(0.135935855321906), 'mean_mean_squared_error': np.float64(0.1221858058434648), 'avg_std_mean_squared_error': np.float64(0.08943154203496181), 'std_precision': np.float64(0.05714948019748081), 'std_recall': np.float64(0.04726960424463371), 'std_f1': np.float64(0.04840501715087226), 'std_ji': np.float64(0.043135135905684956), 'std_loc_error': np.float64(0.019961477386146807), 'std_mean_squared_error': np.float64(0.011783012527498431)}\n",
      "Density: 3.0, Metrics: {'mean_precision': np.float64(0.6044073681106706), 'mean_recall': np.float64(0.2725409836065574), 'mean_f1': np.float64(0.37492968770210733), 'mean_ji': np.float64(0.2321890659439425), 'mean_loc_error': np.float64(0.32757101575137265), 'avg_std_loc_error': np.float64(0.1338659595647436), 'mean_mean_squared_error': np.float64(0.12608098802348), 'avg_std_mean_squared_error': np.float64(0.0895670349589953), 'std_precision': np.float64(0.08120701131985171), 'std_recall': np.float64(0.045406802881476103), 'std_f1': np.float64(0.05640725940446063), 'std_ji': np.float64(0.042467327974482875), 'std_loc_error': np.float64(0.025169478545900764), 'std_mean_squared_error': np.float64(0.01882578057930313)}\n",
      "Density: 4.0, Metrics: {'mean_precision': np.float64(0.5427200943087996), 'mean_recall': np.float64(0.1852760736196319), 'mean_f1': np.float64(0.2757104755937758), 'mean_ji': np.float64(0.16025884905002102), 'mean_loc_error': np.float64(0.3311611824434092), 'avg_std_loc_error': np.float64(0.13900858489096826), 'mean_mean_squared_error': np.float64(0.12961998546843004), 'avg_std_mean_squared_error': np.float64(0.09333259333699596), 'std_precision': np.float64(0.052415499924651505), 'std_recall': np.float64(0.023329022505314777), 'std_f1': np.float64(0.03031424120945967), 'std_ji': np.float64(0.020527005278503523), 'std_loc_error': np.float64(0.01837820634619376), 'std_mean_squared_error': np.float64(0.011558684730168568)}\n"
     ]
    }
   ],
   "source": [
    "# Test densities at fixed SNRs\n",
    "denseresults2snr = test_densities_fixed_snr(model, snr=2, num_images=300, device=device)\n",
    "denseresults3snr = test_densities_fixed_snr(model, snr=3, num_images=300, device=device)\n",
    "denseresults5snr = test_densities_fixed_snr(model, snr=5, num_images=300, device=device)\n",
    "denseresults8snr = test_densities_fixed_snr(model, snr=8, num_images=300, device=device)\n",
    "\n",
    "save_path = r'D:\\zeiss\\Desktop\\coding\\Hilger\\bachelor\\measurements\\overnight_measurements\\score07\\d_2snr.pkl'\n",
    "with open(save_path, 'wb') as f:\n",
    "    pickle.dump(denseresults2snr, f)\n",
    "\n",
    "save_path = r'D:\\zeiss\\Desktop\\coding\\Hilger\\bachelor\\measurements\\overnight_measurements\\score07\\d_3snr.pkl'\n",
    "with open(save_path, 'wb') as f:\n",
    "    pickle.dump(denseresults3snr, f)\n",
    "\n",
    "save_path = r'D:\\zeiss\\Desktop\\coding\\Hilger\\bachelor\\measurements\\overnight_measurements\\score07\\d_5snr.pkl'\n",
    "with open(save_path, 'wb') as f:\n",
    "    pickle.dump(denseresults5snr, f)\n",
    "\n",
    "save_path = r'D:\\zeiss\\Desktop\\coding\\Hilger\\bachelor\\measurements\\overnight_measurements\\score07\\d_8snr.pkl'\n",
    "with open(save_path, 'wb') as f:\n",
    "    pickle.dump(denseresults8snr, f)"
   ]
  },
  {
   "cell_type": "code",
   "execution_count": null,
   "id": "b9f9ba7a",
   "metadata": {},
   "outputs": [],
   "source": [
    "# Test recall per SNR\n",
    "params = {'snr_min': 1, 'snr_max': 15}\n",
    "recall_per_snr_iou05 = evaluate_recall_per_snr(model, 20000, device, 0.5, **params)\n",
    "recall_per_snr_iou03 = evaluate_recall_per_snr(model, 20000, device, 0.3, **params)\n",
    "\n",
    "save_path = r'D:\\zeiss\\Desktop\\coding\\Hilger\\bachelor\\measurements\\overnight_measurements\\score07\\rec_iou05.pkl'\n",
    "with open(save_path, 'wb') as f:\n",
    "    pickle.dump(recall_per_snr_iou05, f)\n",
    "save_path = r'D:\\zeiss\\Desktop\\coding\\Hilger\\bachelor\\measurements\\overnight_measurements\\score07\\rec_iou03.pkl'\n",
    "with open(save_path, 'wb') as f:\n",
    "    pickle.dump(recall_per_snr_iou03, f)"
   ]
  },
  {
   "cell_type": "code",
   "execution_count": null,
   "id": "67163865",
   "metadata": {},
   "outputs": [],
   "source": [
    "# Test noise levels\n",
    "noisetest_snr3 = test_perlinnoise_fixed_snr(model, snr=3, num_images=300, device=device)\n",
    "noisetest_snr2 = test_perlinnoise_fixed_snr(model, snr=2, num_images=300, device=device)\n",
    "noisetest_snr5 = test_perlinnoise_fixed_snr(model, snr=5, num_images=300, device=device)\n",
    "noisetest_snr8 = test_perlinnoise_fixed_snr(model, snr=8, num_images=300, device=device)\n",
    "\n",
    "save_path = r'D:\\zeiss\\Desktop\\coding\\Hilger\\bachelor\\measurements\\overnight_measurements\\score07\\noise_2snr.pkl'\n",
    "with open(save_path, 'wb') as f:\n",
    "    pickle.dump(noisetest_snr2, f)\n",
    "\n",
    "save_path = r'D:\\zeiss\\Desktop\\coding\\Hilger\\bachelor\\measurements\\overnight_measurements\\score07\\noise_3snr.pkl'\n",
    "with open(save_path, 'wb') as f:\n",
    "    pickle.dump(noisetest_snr3, f)\n",
    "\n",
    "save_path = r'D:\\zeiss\\Desktop\\coding\\Hilger\\bachelor\\measurements\\overnight_measurements\\score07\\noise_8snr.pkl'\n",
    "with open(save_path, 'wb') as f:\n",
    "    pickle.dump(noisetest_snr8, f)\n",
    "\n",
    "save_path = r'D:\\zeiss\\Desktop\\coding\\Hilger\\bachelor\\measurements\\overnight_measurements\\score07\\noise_5snr.pkl'\n",
    "with open(save_path, 'wb') as f:\n",
    "    pickle.dump(noisetest_snr5, f)"
   ]
  },
  {
   "cell_type": "code",
   "execution_count": null,
   "id": "b49cb761",
   "metadata": {},
   "outputs": [],
   "source": [
    "device = torch.device(\"cuda\" if torch.cuda.is_available() else \"cpu\")\n",
    "print(device)\n",
    "\n",
    "backbone = resnet_fpn_backbone(\"resnet50\", weights=None, trainable_layers=5)\n",
    "kwargs = {\"nms_tresh\": 0.1, \"image_mean\":[0,0,0], \"image_std\":[1,1,1], 'score_thresh': 0.67}\n",
    "\n",
    "model = SubpixRCNN(backbone, num_classes=2, device=device, **kwargs)\n",
    "model.to(device)\n",
    "model.name = \"testmodel\"\n",
    "optimizer = optim.Adam(model.parameters(), lr=0.0001)\n",
    "path = r\"D:\\zeiss\\Desktop\\coding\\Hilger\\bachelor\\notebooks\\subpix_rcnn_models\\2025-06-02_19-15-51\\with_filters_long.pth\"\n",
    "model.load_state_dict(torch.load(path, map_location=device))\n",
    "model.eval()"
   ]
  },
  {
   "cell_type": "code",
   "execution_count": null,
   "id": "e362f473",
   "metadata": {},
   "outputs": [],
   "source": [
    "# Test densities at fixed SNRs\n",
    "denseresults2snr = test_densities_fixed_snr(model, snr=2, num_images=300, device=device)\n",
    "denseresults3snr = test_densities_fixed_snr(model, snr=3, num_images=300, device=device)\n",
    "denseresults5snr = test_densities_fixed_snr(model, snr=5, num_images=300, device=device)\n",
    "denseresults8snr = test_densities_fixed_snr(model, snr=8, num_images=300, device=device)\n",
    "\n",
    "save_path = r'D:\\zeiss\\Desktop\\coding\\Hilger\\bachelor\\measurements\\overnight_measurements\\score067\\d_2snr.pkl'\n",
    "with open(save_path, 'wb') as f:\n",
    "    pickle.dump(denseresults2snr, f)\n",
    "\n",
    "save_path = r'D:\\zeiss\\Desktop\\coding\\Hilger\\bachelor\\measurements\\overnight_measurements\\score067\\d_3snr.pkl'\n",
    "with open(save_path, 'wb') as f:\n",
    "    pickle.dump(denseresults3snr, f)\n",
    "\n",
    "save_path = r'D:\\zeiss\\Desktop\\coding\\Hilger\\bachelor\\measurements\\overnight_measurements\\score067\\d_5snr.pkl'\n",
    "with open(save_path, 'wb') as f:\n",
    "    pickle.dump(denseresults5snr, f)\n",
    "\n",
    "save_path = r'D:\\zeiss\\Desktop\\coding\\Hilger\\bachelor\\measurements\\overnight_measurements\\score067\\d_8snr.pkl'\n",
    "with open(save_path, 'wb') as f:\n",
    "    pickle.dump(denseresults8snr, f)"
   ]
  },
  {
   "cell_type": "code",
   "execution_count": null,
   "id": "bc0472f5",
   "metadata": {},
   "outputs": [],
   "source": [
    "# Test recall per SNR\n",
    "params = {'snr_min': 1, 'snr_max': 15}\n",
    "recall_per_snr_iou05 = evaluate_recall_per_snr(model, 20000, device, 0.5, **params)\n",
    "recall_per_snr_iou03 = evaluate_recall_per_snr(model, 20000, device, 0.3, **params)\n",
    "\n",
    "save_path = r'D:\\zeiss\\Desktop\\coding\\Hilger\\bachelor\\measurements\\overnight_measurements\\score067\\rec_iou05.pkl'\n",
    "with open(save_path, 'wb') as f:\n",
    "    pickle.dump(recall_per_snr_iou05, f)\n",
    "save_path = r'D:\\zeiss\\Desktop\\coding\\Hilger\\bachelor\\measurements\\overnight_measurements\\score067\\rec_iou03.pkl'\n",
    "with open(save_path, 'wb') as f:\n",
    "    pickle.dump(recall_per_snr_iou03, f)"
   ]
  },
  {
   "cell_type": "code",
   "execution_count": null,
   "id": "eb20f8ed",
   "metadata": {},
   "outputs": [],
   "source": [
    "# Test noise levels\n",
    "noisetest_snr3 = test_perlinnoise_fixed_snr(model, snr=3, num_images=300, device=device)\n",
    "noisetest_snr2 = test_perlinnoise_fixed_snr(model, snr=2, num_images=300, device=device)\n",
    "noisetest_snr5 = test_perlinnoise_fixed_snr(model, snr=5, num_images=300, device=device)\n",
    "noisetest_snr8 = test_perlinnoise_fixed_snr(model, snr=8, num_images=300, device=device)\n",
    "\n",
    "save_path = r'D:\\zeiss\\Desktop\\coding\\Hilger\\bachelor\\measurements\\overnight_measurements\\score067\\noise_2snr.pkl'\n",
    "with open(save_path, 'wb') as f:\n",
    "    pickle.dump(noisetest_snr2, f)\n",
    "\n",
    "save_path = r'D:\\zeiss\\Desktop\\coding\\Hilger\\bachelor\\measurements\\overnight_measurements\\score067\\noise_3snr.pkl'\n",
    "with open(save_path, 'wb') as f:\n",
    "    pickle.dump(noisetest_snr3, f)\n",
    "\n",
    "save_path = r'D:\\zeiss\\Desktop\\coding\\Hilger\\bachelor\\measurements\\overnight_measurements\\score067\\noise_8snr.pkl'\n",
    "with open(save_path, 'wb') as f:\n",
    "    pickle.dump(noisetest_snr8, f)\n",
    "\n",
    "save_path = r'D:\\zeiss\\Desktop\\coding\\Hilger\\bachelor\\measurements\\overnight_measurements\\score067\\noise_5snr.pkl'\n",
    "with open(save_path, 'wb') as f:\n",
    "    pickle.dump(noisetest_snr5, f)"
   ]
  },
  {
   "cell_type": "code",
   "execution_count": null,
   "id": "f6750ea1",
   "metadata": {},
   "outputs": [],
   "source": [
    "# images = [] # FOR TESTING SCORE THRESHOLDS\n",
    "# targets = []\n",
    "# predictions = []\n",
    "# model.eval()\n",
    "# for i in range(50):\n",
    "#     img, target = valid_dataset[i]\n",
    "#     img = move_data_to_device(img, device)\n",
    "\n",
    "#     images.append(img)\n",
    "#     targets.append(target)\n",
    "#     with torch.no_grad():\n",
    "#         prediction = model([img])[0]\n",
    "#     predictions.append(prediction)\n",
    "# targets = move_data_to_device(targets, device)\n",
    "# predictions = move_data_to_device(predictions, device)"
   ]
  },
  {
   "cell_type": "code",
   "execution_count": null,
   "id": "00d57ca2",
   "metadata": {},
   "outputs": [
    {
     "name": "stdout",
     "output_type": "stream",
     "text": [
      "Score 0.5: {'mean_precision': np.float64(0.6305933985504183), 'mean_recall': np.float64(0.7850718286701257), 'mean_f1': np.float64(0.691228810908318), 'mean_ji': np.float64(0.5531333482177672), 'mean_loc_error': np.float64(0.28740319602197756), 'avg_std_loc_error': np.float64(0.1105305996507351), 'mean_mean_squared_error': np.float64(0.10067826104397275), 'avg_std_mean_squared_error': np.float64(0.06637076121398605), 'std_precision': np.float64(0.1831164911955375), 'std_recall': np.float64(0.1660587075171345), 'std_f1': np.float64(0.1636737428769076), 'std_ji': np.float64(0.20266108382530854), 'std_loc_error': np.float64(0.0651254860984144), 'std_mean_squared_error': np.float64(0.03714115002570901)}\n",
      "Score 0.51: {'mean_precision': np.float64(0.6392457191587223), 'mean_recall': np.float64(0.7758001199866524), 'mean_f1': np.float64(0.6939217571955667), 'mean_ji': np.float64(0.5591636882312392), 'mean_loc_error': np.float64(0.28455278966966235), 'avg_std_loc_error': np.float64(0.10702998095876741), 'mean_mean_squared_error': np.float64(0.09878551715689181), 'avg_std_mean_squared_error': np.float64(0.06427437876211918), 'std_precision': np.float64(0.18998402583483795), 'std_recall': np.float64(0.17828245380759336), 'std_f1': np.float64(0.1746035911011789), 'std_ji': np.float64(0.21184459392473662), 'std_loc_error': np.float64(0.06773170537247443), 'std_mean_squared_error': np.float64(0.03847359721333539)}\n",
      "Score 0.52: {'mean_precision': np.float64(0.6512540468460992), 'mean_recall': np.float64(0.7758001199866524), 'mean_f1': np.float64(0.7017430631634005), 'mean_ji': np.float64(0.5680208346024894), 'mean_loc_error': np.float64(0.2851827259543509), 'avg_std_loc_error': np.float64(0.10735779505698771), 'mean_mean_squared_error': np.float64(0.09931711790539105), 'avg_std_mean_squared_error': np.float64(0.06452806970142595), 'std_precision': np.float64(0.1860594161289433), 'std_recall': np.float64(0.17828245380759336), 'std_f1': np.float64(0.17228880722211942), 'std_ji': np.float64(0.21042390141580478), 'std_loc_error': np.float64(0.06837944375111361), 'std_mean_squared_error': np.float64(0.03905556368849152)}\n",
      "Score 0.53: {'mean_precision': np.float64(0.6615991486079318), 'mean_recall': np.float64(0.7688908450510616), 'mean_f1': np.float64(0.7046472840477782), 'mean_ji': np.float64(0.5708569755644564), 'mean_loc_error': np.float64(0.28493404476762374), 'avg_std_loc_error': np.float64(0.10778284111193356), 'mean_mean_squared_error': np.float64(0.09926976108657701), 'avg_std_mean_squared_error': np.float64(0.06479361530071001), 'std_precision': np.float64(0.1824839380532414), 'std_recall': np.float64(0.17859903670002605), 'std_f1': np.float64(0.16970197510352), 'std_ji': np.float64(0.20820693808607207), 'std_loc_error': np.float64(0.06827044968317102), 'std_mean_squared_error': np.float64(0.038996879715819194)}\n",
      "Score 0.54: {'mean_precision': np.float64(0.6701101275751679), 'mean_recall': np.float64(0.7688908450510616), 'mean_f1': np.float64(0.7095758134245882), 'mean_ji': np.float64(0.5763201518185169), 'mean_loc_error': np.float64(0.28543951832999276), 'avg_std_loc_error': np.float64(0.1076789286566279), 'mean_mean_squared_error': np.float64(0.09956162991399445), 'avg_std_mean_squared_error': np.float64(0.06474474397356798), 'std_precision': np.float64(0.17991708104972393), 'std_recall': np.float64(0.17859903670002605), 'std_f1': np.float64(0.16730211083936108), 'std_ji': np.float64(0.20680844906096416), 'std_loc_error': np.float64(0.06845668953502379), 'std_mean_squared_error': np.float64(0.03909946042394113)}\n",
      "Score 0.55: {'mean_precision': np.float64(0.6803435597104037), 'mean_recall': np.float64(0.7677143744628263), 'mean_f1': np.float64(0.7152873553057363), 'mean_ji': np.float64(0.5847260319334763), 'mean_loc_error': np.float64(0.285257207763224), 'avg_std_loc_error': np.float64(0.10775939055598523), 'mean_mean_squared_error': np.float64(0.09948179121743765), 'avg_std_mean_squared_error': np.float64(0.06479323042978315), 'std_precision': np.float64(0.18423842389375686), 'std_recall': np.float64(0.17997363102391034), 'std_f1': np.float64(0.17103364996735773), 'std_ji': np.float64(0.21299475931891315), 'std_loc_error': np.float64(0.06847745546090706), 'std_mean_squared_error': np.float64(0.03910934605304847)}\n",
      "Score 0.56: {'mean_precision': np.float64(0.6851453665991671), 'mean_recall': np.float64(0.7664643744628263), 'mean_f1': np.float64(0.717757508027167), 'mean_ji': np.float64(0.5879382562630919), 'mean_loc_error': np.float64(0.28473515431739616), 'avg_std_loc_error': np.float64(0.1073323978775526), 'mean_mean_squared_error': np.float64(0.09912430933484064), 'avg_std_mean_squared_error': np.float64(0.06440263154085042), 'std_precision': np.float64(0.18283443933223972), 'std_recall': np.float64(0.18117355298190654), 'std_f1': np.float64(0.17161627136134613), 'std_ji': np.float64(0.21344400442962705), 'std_loc_error': np.float64(0.06876947410351889), 'std_mean_squared_error': np.float64(0.039332576786426994)}\n",
      "Score 0.5700000000000001: {'mean_precision': np.float64(0.6900081214913338), 'mean_recall': np.float64(0.7622143744628265), 'mean_f1': np.float64(0.718936492477642), 'mean_ji': np.float64(0.5891205239953597), 'mean_loc_error': np.float64(0.28523467168736927), 'avg_std_loc_error': np.float64(0.10730617368912786), 'mean_mean_squared_error': np.float64(0.09943584138562489), 'avg_std_mean_squared_error': np.float64(0.06441685153796228), 'std_precision': np.float64(0.17872198362119668), 'std_recall': np.float64(0.18369163286067694), 'std_f1': np.float64(0.17076742661949812), 'std_ji': np.float64(0.21241888380588805), 'std_loc_error': np.float64(0.06890008039312552), 'std_mean_squared_error': np.float64(0.03931618741092795)}\n",
      "Score 0.5800000000000001: {'mean_precision': np.float64(0.7021485394836787), 'mean_recall': np.float64(0.758424691923144), 'mean_f1': np.float64(0.7250797155917829), 'mean_ji': np.float64(0.5977220748360651), 'mean_loc_error': np.float64(0.28458851609084707), 'avg_std_loc_error': np.float64(0.10711745510367143), 'mean_mean_squared_error': np.float64(0.09903082914869284), 'avg_std_mean_squared_error': np.float64(0.06421883834403957), 'std_precision': np.float64(0.1773866425719238), 'std_recall': np.float64(0.1866855509012856), 'std_f1': np.float64(0.17369732203484), 'std_ji': np.float64(0.21569221593493218), 'std_loc_error': np.float64(0.06895918335053038), 'std_mean_squared_error': np.float64(0.03933926352459674)}\n",
      "Score 0.5900000000000001: {'mean_precision': np.float64(0.707086969789756), 'mean_recall': np.float64(0.758424691923144), 'mean_f1': np.float64(0.7281879894054343), 'mean_ji': np.float64(0.6019202812273751), 'mean_loc_error': np.float64(0.28458851609084707), 'avg_std_loc_error': np.float64(0.10711745510367143), 'mean_mean_squared_error': np.float64(0.09903082914869284), 'avg_std_mean_squared_error': np.float64(0.06421883834403957), 'std_precision': np.float64(0.1765709352089548), 'std_recall': np.float64(0.1866855509012856), 'std_f1': np.float64(0.17445429457488018), 'std_ji': np.float64(0.21684697423139926), 'std_loc_error': np.float64(0.06895918335053038), 'std_mean_squared_error': np.float64(0.03933926352459674)}\n",
      "Score 0.6000000000000001: {'mean_precision': np.float64(0.7110163465533433), 'mean_recall': np.float64(0.757174691923144), 'mean_f1': np.float64(0.7297400007063469), 'mean_ji': np.float64(0.6042347056113646), 'mean_loc_error': np.float64(0.2850691015422921), 'avg_std_loc_error': np.float64(0.10720728869221713), 'mean_mean_squared_error': np.float64(0.0993535115401015), 'avg_std_mean_squared_error': np.float64(0.06426127542674105), 'std_precision': np.float64(0.17726125823800212), 'std_recall': np.float64(0.18902478447315937), 'std_f1': np.float64(0.1760827199699046), 'std_ji': np.float64(0.2175254904169005), 'std_loc_error': np.float64(0.0692165877756174), 'std_mean_squared_error': np.float64(0.03946138804669146)}\n",
      "Score 0.6100000000000001: {'mean_precision': np.float64(0.7177099973469941), 'mean_recall': np.float64(0.757174691923144), 'mean_f1': np.float64(0.7334947281582633), 'mean_ji': np.float64(0.6101917633684224), 'mean_loc_error': np.float64(0.2850691015422921), 'avg_std_loc_error': np.float64(0.10720728869221713), 'mean_mean_squared_error': np.float64(0.0993535115401015), 'avg_std_mean_squared_error': np.float64(0.06426127542674105), 'std_precision': np.float64(0.180602091594858), 'std_recall': np.float64(0.18902478447315937), 'std_f1': np.float64(0.1787145354310381), 'std_ji': np.float64(0.22294255595964407), 'std_loc_error': np.float64(0.0692165877756174), 'std_mean_squared_error': np.float64(0.03946138804669146)}\n",
      "Score 0.6200000000000001: {'mean_precision': np.float64(0.7235743172376299), 'mean_recall': np.float64(0.7535635808120328), 'mean_f1': np.float64(0.7348791697874811), 'mean_ji': np.float64(0.6111247201903951), 'mean_loc_error': np.float64(0.2858330032145476), 'avg_std_loc_error': np.float64(0.10785230471543925), 'mean_mean_squared_error': np.float64(0.0999607565264118), 'avg_std_mean_squared_error': np.float64(0.06486278494749673), 'std_precision': np.float64(0.17577395482292058), 'std_recall': np.float64(0.18797124634100035), 'std_f1': np.float64(0.17549864963461442), 'std_ji': np.float64(0.22081480414069202), 'std_loc_error': np.float64(0.06928375102521288), 'std_mean_squared_error': np.float64(0.03954133419614323)}\n",
      "Score 0.6300000000000001: {'mean_precision': np.float64(0.7335080920971013), 'mean_recall': np.float64(0.7503871102237976), 'mean_f1': np.float64(0.7389834174887683), 'mean_ji': np.float64(0.6187152673244206), 'mean_loc_error': np.float64(0.2864472831597857), 'avg_std_loc_error': np.float64(0.10928746482415112), 'mean_mean_squared_error': np.float64(0.10059885119304889), 'avg_std_mean_squared_error': np.float64(0.06585850419383045), 'std_precision': np.float64(0.1814954921267364), 'std_recall': np.float64(0.19166109151047117), 'std_f1': np.float64(0.1818902730657148), 'std_ji': np.float64(0.22945635662469505), 'std_loc_error': np.float64(0.0694322351072113), 'std_mean_squared_error': np.float64(0.03926741329635971)}\n",
      "Score 0.6400000000000001: {'mean_precision': np.float64(0.7457381412017635), 'mean_recall': np.float64(0.7480259991126864), 'mean_f1': np.float64(0.7434178810404994), 'mean_ji': np.float64(0.623611334491426), 'mean_loc_error': np.float64(0.2861279610975581), 'avg_std_loc_error': np.float64(0.10906306460265613), 'mean_mean_squared_error': np.float64(0.10036434149506666), 'avg_std_mean_squared_error': np.float64(0.06546033554382072), 'std_precision': np.float64(0.17980169725867717), 'std_recall': np.float64(0.1922618063313862), 'std_f1': np.float64(0.17947445514361596), 'std_ji': np.float64(0.2268171976148012), 'std_loc_error': np.float64(0.06964790849844375), 'std_mean_squared_error': np.float64(0.03937107069798699)}\n",
      "Score 0.6500000000000001: {'mean_precision': np.float64(0.7487381412017635), 'mean_recall': np.float64(0.7480259991126864), 'mean_f1': np.float64(0.7450788049875315), 'mean_ji': np.float64(0.6255596386393801), 'mean_loc_error': np.float64(0.2861279610975581), 'avg_std_loc_error': np.float64(0.10906306460265613), 'mean_mean_squared_error': np.float64(0.10036434149506666), 'avg_std_mean_squared_error': np.float64(0.06546033554382072), 'std_precision': np.float64(0.17805953727378224), 'std_recall': np.float64(0.1922618063313862), 'std_f1': np.float64(0.17872419075553936), 'std_ji': np.float64(0.22632261806839332), 'std_loc_error': np.float64(0.06964790849844375), 'std_mean_squared_error': np.float64(0.03937107069798699)}\n",
      "Score 0.6600000000000001: {'mean_precision': np.float64(0.7548602413238636), 'mean_recall': np.float64(0.7480259991126864), 'mean_f1': np.float64(0.7478984634852087), 'mean_ji': np.float64(0.6293144899262008), 'mean_loc_error': np.float64(0.2861279610975581), 'avg_std_loc_error': np.float64(0.10906306460265613), 'mean_mean_squared_error': np.float64(0.10036434149506666), 'avg_std_mean_squared_error': np.float64(0.06546033554382072), 'std_precision': np.float64(0.17942458613993836), 'std_recall': np.float64(0.1922618063313862), 'std_f1': np.float64(0.17880462076452489), 'std_ji': np.float64(0.22687708982659974), 'std_loc_error': np.float64(0.06964790849844375), 'std_mean_squared_error': np.float64(0.03937107069798699)}\n",
      "Score 0.6700000000000002: {'mean_precision': np.float64(0.7590494643815076), 'mean_recall': np.float64(0.7480259991126864), 'mean_f1': np.float64(0.7500229705570841), 'mean_ji': np.float64(0.6320079085848368), 'mean_loc_error': np.float64(0.2861279610975581), 'avg_std_loc_error': np.float64(0.10906306460265613), 'mean_mean_squared_error': np.float64(0.10036434149506666), 'avg_std_mean_squared_error': np.float64(0.06546033554382072), 'std_precision': np.float64(0.17853697937366497), 'std_recall': np.float64(0.1922618063313862), 'std_f1': np.float64(0.17854343880621007), 'std_ji': np.float64(0.22666535595404755), 'std_loc_error': np.float64(0.06964790849844375), 'std_mean_squared_error': np.float64(0.03937107069798699)}\n",
      "Score 0.6800000000000002: {'mean_precision': np.float64(0.7755183288503722), 'mean_recall': np.float64(0.7480259991126864), 'mean_f1': np.float64(0.758710007622364), 'mean_ji': np.float64(0.6446495423134272), 'mean_loc_error': np.float64(0.2861279610975581), 'avg_std_loc_error': np.float64(0.10906306460265613), 'mean_mean_squared_error': np.float64(0.10036434149506666), 'avg_std_mean_squared_error': np.float64(0.06546033554382072), 'std_precision': np.float64(0.17516742617194356), 'std_recall': np.float64(0.1922618063313862), 'std_f1': np.float64(0.18000542710620349), 'std_ji': np.float64(0.23306869223226762), 'std_loc_error': np.float64(0.06964790849844375), 'std_mean_squared_error': np.float64(0.03937107069798699)}\n",
      "Score 0.6900000000000002: {'mean_precision': np.float64(0.7818730737786466), 'mean_recall': np.float64(0.7432640943507817), 'mean_f1': np.float64(0.7587182839077193), 'mean_ji': np.float64(0.6440791323312525), 'mean_loc_error': np.float64(0.28656787136218675), 'avg_std_loc_error': np.float64(0.1089929392067141), 'mean_mean_squared_error': np.float64(0.1006517217882779), 'avg_std_mean_squared_error': np.float64(0.06554516088404298), 'std_precision': np.float64(0.17167934200826546), 'std_recall': np.float64(0.19289332000766143), 'std_f1': np.float64(0.17822069558547124), 'std_ji': np.float64(0.23135502168539873), 'std_loc_error': np.float64(0.06991236414531445), 'std_mean_squared_error': np.float64(0.03949007010064997)}\n",
      "Score 0.7000000000000002: {'mean_precision': np.float64(0.7837137126719169), 'mean_recall': np.float64(0.7349783800650674), 'mean_f1': np.float64(0.7549151493354144), 'mean_ji': np.float64(0.6393440765448438), 'mean_loc_error': np.float64(0.28609608851380025), 'avg_std_loc_error': np.float64(0.10840704634600148), 'mean_mean_squared_error': np.float64(0.10029789931127123), 'avg_std_mean_squared_error': np.float64(0.0648684136892197), 'std_precision': np.float64(0.170900334079404), 'std_recall': np.float64(0.19451405997595597), 'std_f1': np.float64(0.17867364560117266), 'std_ji': np.float64(0.23272077663511764), 'std_loc_error': np.float64(0.07022747015550641), 'std_mean_squared_error': np.float64(0.03981457268995557)}\n",
      "Score 0.7100000000000002: {'mean_precision': np.float64(0.7838386857380665), 'mean_recall': np.float64(0.733801909476832), 'mean_f1': np.float64(0.7543068544045387), 'mean_ji': np.float64(0.6389092939361481), 'mean_loc_error': np.float64(0.28669806716544577), 'avg_std_loc_error': np.float64(0.10806086132695732), 'mean_mean_squared_error': np.float64(0.10054076400688171), 'avg_std_mean_squared_error': np.float64(0.06480245256151378), 'std_precision': np.float64(0.17133515610349342), 'std_recall': np.float64(0.19627947945676474), 'std_f1': np.float64(0.1799591299917321), 'std_ji': np.float64(0.23364898644485566), 'std_loc_error': np.float64(0.07014247785497917), 'std_mean_squared_error': np.float64(0.039773255358896205)}\n",
      "Score 0.7200000000000002: {'mean_precision': np.float64(0.7850851585634867), 'mean_recall': np.float64(0.7316254388885968), 'mean_f1': np.float64(0.7534386715690238), 'mean_ji': np.float64(0.6380146990827432), 'mean_loc_error': np.float64(0.2864372804443881), 'avg_std_loc_error': np.float64(0.10825168415867877), 'mean_mean_squared_error': np.float64(0.10042909009143344), 'avg_std_mean_squared_error': np.float64(0.06493231775378722), 'std_precision': np.float64(0.17120848168654484), 'std_recall': np.float64(0.19815508976428733), 'std_f1': np.float64(0.18092130589799194), 'std_ji': np.float64(0.23419732169182766), 'std_loc_error': np.float64(0.0700824843944512), 'std_mean_squared_error': np.float64(0.03974990337707933)}\n",
      "Score 0.7300000000000002: {'mean_precision': np.float64(0.789048792882384), 'mean_recall': np.float64(0.7293378571892505), 'mean_f1': np.float64(0.7539350969454914), 'mean_ji': np.float64(0.6386124436229429), 'mean_loc_error': np.float64(0.28748284722053763), 'avg_std_loc_error': np.float64(0.10911024593428761), 'mean_mean_squared_error': np.float64(0.10123653712257717), 'avg_std_mean_squared_error': np.float64(0.06578501475430362), 'std_precision': np.float64(0.1685595219042717), 'std_recall': np.float64(0.19762940623107972), 'std_f1': np.float64(0.18003120123409366), 'std_ji': np.float64(0.2349679361859398), 'std_loc_error': np.float64(0.07031720174693623), 'std_mean_squared_error': np.float64(0.03980171308923638)}\n",
      "Score 0.7400000000000002: {'mean_precision': np.float64(0.7929589236013384), 'mean_recall': np.float64(0.7180600794114725), 'mean_f1': np.float64(0.7497242266324541), 'mean_ji': np.float64(0.6390774665227484), 'mean_loc_error': np.float64(0.28274360341692995), 'avg_std_loc_error': np.float64(0.1114215745006561), 'mean_mean_squared_error': np.float64(0.09808530168349627), 'avg_std_mean_squared_error': np.float64(0.06715663545304705), 'std_precision': np.float64(0.19503438395815564), 'std_recall': np.float64(0.2164517017341379), 'std_f1': np.float64(0.20294120103326854), 'std_ji': np.float64(0.2487947112783385), 'std_loc_error': np.float64(0.06482595738690301), 'std_mean_squared_error': np.float64(0.03480764898456946)}\n",
      "Score 0.7500000000000002: {'mean_precision': np.float64(0.7960422569346719), 'mean_recall': np.float64(0.7168100794114726), 'mean_f1': np.float64(0.7502037429194006), 'mean_ji': np.float64(0.6402704908896859), 'mean_loc_error': np.float64(0.28295561582914963), 'avg_std_loc_error': np.float64(0.11153283329188084), 'mean_mean_squared_error': np.float64(0.09819315816923553), 'avg_std_mean_squared_error': np.float64(0.06719806891052443), 'std_precision': np.float64(0.19557189373548692), 'std_recall': np.float64(0.21859906651706654), 'std_f1': np.float64(0.2046239269491196), 'std_ji': np.float64(0.2502558554982159), 'std_loc_error': np.float64(0.06457054302869712), 'std_mean_squared_error': np.float64(0.03466097205313916)}\n",
      "Score 0.7600000000000002: {'mean_precision': np.float64(0.7962366342807519), 'mean_recall': np.float64(0.709877552014549), 'mean_f1': np.float64(0.746243557560693), 'mean_ji': np.float64(0.6348067422773306), 'mean_loc_error': np.float64(0.28415508094931724), 'avg_std_loc_error': np.float64(0.11162603022825865), 'mean_mean_squared_error': np.float64(0.09895692848857045), 'avg_std_mean_squared_error': np.float64(0.06745957895843986), 'std_precision': np.float64(0.19464335972407948), 'std_recall': np.float64(0.21822980916520895), 'std_f1': np.float64(0.20460859971798606), 'std_ji': np.float64(0.24842600315761115), 'std_loc_error': np.float64(0.06504382148460883), 'std_mean_squared_error': np.float64(0.03503710784791681)}\n",
      "Score 0.7700000000000002: {'mean_precision': np.float64(0.8006201510907394), 'mean_recall': np.float64(0.7067138093244903), 'mean_f1': np.float64(0.7458909553551497), 'mean_ji': np.float64(0.6346684191625368), 'mean_loc_error': np.float64(0.2837239711137251), 'avg_std_loc_error': np.float64(0.11147374489146607), 'mean_mean_squared_error': np.float64(0.09860286025416697), 'avg_std_mean_squared_error': np.float64(0.06729248429589746), 'std_precision': np.float64(0.19391208191445292), 'std_recall': np.float64(0.22049037502678417), 'std_f1': np.float64(0.20567656301956688), 'std_ji': np.float64(0.24912061518188777), 'std_loc_error': np.float64(0.06426246732891938), 'std_mean_squared_error': np.float64(0.03432711851862846)}\n",
      "Score 0.7800000000000002: {'mean_precision': np.float64(0.8121547325223796), 'mean_recall': np.float64(0.701835134507735), 'mean_f1': np.float64(0.745063582076672), 'mean_ji': np.float64(0.6335930136598867), 'mean_loc_error': np.float64(0.28449181955551994), 'avg_std_loc_error': np.float64(0.11143783984825058), 'mean_mean_squared_error': np.float64(0.09907367671464826), 'avg_std_mean_squared_error': np.float64(0.06742129664200389), 'std_precision': np.float64(0.19113195117988827), 'std_recall': np.float64(0.22435616859296856), 'std_f1': np.float64(0.205990835743986), 'std_ji': np.float64(0.24879444796585382), 'std_loc_error': np.float64(0.06461495226276318), 'std_mean_squared_error': np.float64(0.03461261281347228)}\n",
      "Score 0.7900000000000003: {'mean_precision': np.float64(0.8162558813735284), 'mean_recall': np.float64(0.697474023396624), 'mean_f1': np.float64(0.7434248577929174), 'mean_ji': np.float64(0.6319350376489695), 'mean_loc_error': np.float64(0.2849926486981951), 'avg_std_loc_error': np.float64(0.11105885281047784), 'mean_mean_squared_error': np.float64(0.09915202882487732), 'avg_std_mean_squared_error': np.float64(0.06741095507543388), 'std_precision': np.float64(0.1903411582818235), 'std_recall': np.float64(0.2271797707226362), 'std_f1': np.float64(0.20713091683443668), 'std_ji': np.float64(0.25026899628728855), 'std_loc_error': np.float64(0.06398733121018788), 'std_mean_squared_error': np.float64(0.03448951357251418)}\n",
      "Score 0.8000000000000003: {'mean_precision': np.float64(0.8237638178814649), 'mean_recall': np.float64(0.6964740233966239), 'mean_f1': np.float64(0.7454058576588277), 'mean_ji': np.float64(0.6338960276393714), 'mean_loc_error': np.float64(0.28479764574401684), 'avg_std_loc_error': np.float64(0.1110432604136254), 'mean_mean_squared_error': np.float64(0.09902072242655463), 'avg_std_mean_squared_error': np.float64(0.0674013213899717), 'std_precision': np.float64(0.18397118591521727), 'std_recall': np.float64(0.22749636540477478), 'std_f1': np.float64(0.20528705951271664), 'std_ji': np.float64(0.2487164138131678), 'std_loc_error': np.float64(0.06385623470034972), 'std_mean_squared_error': np.float64(0.03441110131328404)}\n",
      "Score 0.8100000000000003: {'mean_precision': np.float64(0.8304268019562138), 'mean_recall': np.float64(0.6939343408569414), 'mean_f1': np.float64(0.7463501546998988), 'mean_ji': np.float64(0.6350357519501483), 'mean_loc_error': np.float64(0.2848863060035431), 'avg_std_loc_error': np.float64(0.11119963352238763), 'mean_mean_squared_error': np.float64(0.09911384573277945), 'avg_std_mean_squared_error': np.float64(0.0675004666860826), 'std_precision': np.float64(0.18479232895638942), 'std_recall': np.float64(0.22752145796918388), 'std_f1': np.float64(0.20506401109436934), 'std_ji': np.float64(0.2484459590784215), 'std_loc_error': np.float64(0.06388615678296539), 'std_mean_squared_error': np.float64(0.034419668364899306)}\n",
      "Score 0.8200000000000003: {'mean_precision': np.float64(0.8363290386084503), 'mean_recall': np.float64(0.691631709277994), 'mean_f1': np.float64(0.7464192259951851), 'mean_ji': np.float64(0.6359158096289675), 'mean_loc_error': np.float64(0.2845468924841411), 'avg_std_loc_error': np.float64(0.11106641437022138), 'mean_mean_squared_error': np.float64(0.09895714971066524), 'avg_std_mean_squared_error': np.float64(0.06736654199517382), 'std_precision': np.float64(0.18339629734642882), 'std_recall': np.float64(0.2304988547037326), 'std_f1': np.float64(0.20759727932112992), 'std_ji': np.float64(0.2502429659264935), 'std_loc_error': np.float64(0.06456073419781987), 'std_mean_squared_error': np.float64(0.03490585473482087)}\n",
      "Score 0.8300000000000003: {'mean_precision': np.float64(0.8346092583886702), 'mean_recall': np.float64(0.6813272102854147), 'mean_f1': np.float64(0.7387080371757544), 'mean_ji': np.float64(0.6275298447166868), 'mean_loc_error': np.float64(0.2833707795364396), 'avg_std_loc_error': np.float64(0.11098886031435722), 'mean_mean_squared_error': np.float64(0.09844150462519988), 'avg_std_mean_squared_error': np.float64(0.06705490454358361), 'std_precision': np.float64(0.18594680155283197), 'std_recall': np.float64(0.23551490413030915), 'std_f1': np.float64(0.21240272611717936), 'std_ji': np.float64(0.2543551132182738), 'std_loc_error': np.float64(0.06531819956219674), 'std_mean_squared_error': np.float64(0.03534161194975924)}\n",
      "Score 0.8400000000000003: {'mean_precision': np.float64(0.8379592907092908), 'mean_recall': np.float64(0.6691634675953562), 'mean_f1': np.float64(0.731975739955791), 'mean_ji': np.float64(0.6175759985628406), 'mean_loc_error': np.float64(0.2809862973103645), 'avg_std_loc_error': np.float64(0.10882754461611087), 'mean_mean_squared_error': np.float64(0.09776230907532432), 'avg_std_mean_squared_error': np.float64(0.06645593487444196), 'std_precision': np.float64(0.18380252540248912), 'std_recall': np.float64(0.23331215137499736), 'std_f1': np.float64(0.20953125316204346), 'std_ji': np.float64(0.2497713666863977), 'std_loc_error': np.float64(0.07183846198053934), 'std_mean_squared_error': np.float64(0.03693824511514464)}\n",
      "Score 0.8500000000000003: {'mean_precision': np.float64(0.8413249805749805), 'mean_recall': np.float64(0.6573551019843589), 'mean_f1': np.float64(0.7254514314802192), 'mean_ji': np.float64(0.61023332369385), 'mean_loc_error': np.float64(0.28110220123915614), 'avg_std_loc_error': np.float64(0.10780634201152695), 'mean_mean_squared_error': np.float64(0.09776121065294388), 'avg_std_mean_squared_error': np.float64(0.06587590772063645), 'std_precision': np.float64(0.18483012858697012), 'std_recall': np.float64(0.23687757433663947), 'std_f1': np.float64(0.21277746151905697), 'std_ji': np.float64(0.2517175062146509), 'std_loc_error': np.float64(0.07336629918262708), 'std_mean_squared_error': np.float64(0.03804764312095121)}\n",
      "Score 0.8600000000000003: {'mean_precision': np.float64(0.8446140248640248), 'mean_recall': np.float64(0.6497945338974751), 'mean_f1': np.float64(0.7203401057462573), 'mean_ji': np.float64(0.6048024179982384), 'mean_loc_error': np.float64(0.28105274301056216), 'avg_std_loc_error': np.float64(0.10663816786628397), 'mean_mean_squared_error': np.float64(0.09762926284248542), 'avg_std_mean_squared_error': np.float64(0.06535511261198236), 'std_precision': np.float64(0.18108755013004532), 'std_recall': np.float64(0.2413672714206834), 'std_f1': np.float64(0.21510883443267131), 'std_ji': np.float64(0.254830292957368), 'std_loc_error': np.float64(0.07358738050795083), 'std_mean_squared_error': np.float64(0.038297736973155985)}\n",
      "Score 0.8700000000000003: {'mean_precision': np.float64(0.8444465811965813), 'mean_recall': np.float64(0.6374388720154974), 'mean_f1': np.float64(0.7112338946697271), 'mean_ji': np.float64(0.5943411847870052), 'mean_loc_error': np.float64(0.27982501204355725), 'avg_std_loc_error': np.float64(0.10507261264919647), 'mean_mean_squared_error': np.float64(0.09674034014316416), 'avg_std_mean_squared_error': np.float64(0.0641756328115807), 'std_precision': np.float64(0.18094626863428534), 'std_recall': np.float64(0.2441777949727129), 'std_f1': np.float64(0.21861529624581463), 'std_ji': np.float64(0.256043403424028), 'std_loc_error': np.float64(0.07469191268653011), 'std_mean_squared_error': np.float64(0.03920350750341515)}\n",
      "Score 0.8800000000000003: {'mean_precision': np.float64(0.8439523532023532), 'mean_recall': np.float64(0.6286664418313025), 'mean_f1': np.float64(0.7048480329428302), 'mean_ji': np.float64(0.5878254505212709), 'mean_loc_error': np.float64(0.2785273755827043), 'avg_std_loc_error': np.float64(0.10493508797404248), 'mean_mean_squared_error': np.float64(0.09587149464618948), 'avg_std_mean_squared_error': np.float64(0.06397641968048697), 'std_precision': np.float64(0.1819160772307431), 'std_recall': np.float64(0.24839816945724882), 'std_f1': np.float64(0.22263269938221658), 'std_ji': np.float64(0.25941341294578524), 'std_loc_error': np.float64(0.07389850344077992), 'std_mean_squared_error': np.float64(0.03867777909521643)}\n",
      "Score 0.8900000000000003: {'mean_precision': np.float64(0.8507073204573206), 'mean_recall': np.float64(0.5962528130624105), 'mean_f1': np.float64(0.6830860690687227), 'mean_ji': np.float64(0.5606328878379963), 'mean_loc_error': np.float64(0.28031172443457036), 'avg_std_loc_error': np.float64(0.10128631269101089), 'mean_mean_squared_error': np.float64(0.09620876459403183), 'avg_std_mean_squared_error': np.float64(0.06198953408589675), 'std_precision': np.float64(0.18189209963744413), 'std_recall': np.float64(0.24741263094959384), 'std_f1': np.float64(0.22209874436145058), 'std_ji': np.float64(0.25395089288535), 'std_loc_error': np.float64(0.07295458856032444), 'std_mean_squared_error': np.float64(0.0382331984990699)}\n",
      "Score 0.9000000000000004: {'mean_precision': np.float64(0.8591746031746033), 'mean_recall': np.float64(0.5754364093079264), 'mean_f1': np.float64(0.6670462680811683), 'mean_ji': np.float64(0.5437156191761455), 'mean_loc_error': np.float64(0.2758236256362193), 'avg_std_loc_error': np.float64(0.09780191874203849), 'mean_mean_squared_error': np.float64(0.0933082737468083), 'avg_std_mean_squared_error': np.float64(0.058681297534882194), 'std_precision': np.float64(0.1853374388469507), 'std_recall': np.float64(0.2543857884964218), 'std_f1': np.float64(0.22738995279468), 'std_ji': np.float64(0.25902055233282034), 'std_loc_error': np.float64(0.07528761287072516), 'std_mean_squared_error': np.float64(0.039484467865424616)}\n",
      "Score 0.9100000000000004: {'mean_precision': np.float64(0.8440768120768121), 'mean_recall': np.float64(0.5402515722151945), 'mean_f1': np.float64(0.6370073914505028), 'mean_ji': np.float64(0.5110480556595107), 'mean_loc_error': np.float64(0.2806990588282147), 'avg_std_loc_error': np.float64(0.0947442998983864), 'mean_mean_squared_error': np.float64(0.09647334771009734), 'avg_std_mean_squared_error': np.float64(0.05690878819786016), 'std_precision': np.float64(0.2207344458274132), 'std_recall': np.float64(0.2527888788742943), 'std_f1': np.float64(0.2391947349696909), 'std_ji': np.float64(0.25525999453687004), 'std_loc_error': np.float64(0.07995042656048469), 'std_mean_squared_error': np.float64(0.044379321028616435)}\n"
     ]
    },
    {
     "ename": "KeyboardInterrupt",
     "evalue": "",
     "output_type": "error",
     "traceback": [
      "\u001b[31m---------------------------------------------------------------------------\u001b[39m",
      "\u001b[31mKeyboardInterrupt\u001b[39m                         Traceback (most recent call last)",
      "\u001b[36mCell\u001b[39m\u001b[36m \u001b[39m\u001b[32mIn[34]\u001b[39m\u001b[32m, line 3\u001b[39m\n\u001b[32m      1\u001b[39m evals = []\n\u001b[32m      2\u001b[39m \u001b[38;5;28;01mfor\u001b[39;00m score \u001b[38;5;129;01min\u001b[39;00m np.arange(\u001b[32m0.5\u001b[39m,\u001b[32m0.95\u001b[39m, \u001b[32m0.01\u001b[39m):\n\u001b[32m----> \u001b[39m\u001b[32m3\u001b[39m     \u001b[38;5;28mprint\u001b[39m(\u001b[33mf\u001b[39m\u001b[33m\"\u001b[39m\u001b[33mScore \u001b[39m\u001b[38;5;132;01m{\u001b[39;00mscore\u001b[38;5;132;01m}\u001b[39;00m\u001b[33m: \u001b[39m\u001b[38;5;132;01m{\u001b[39;00m\u001b[43mevaluate_predictions\u001b[49m\u001b[43m(\u001b[49m\u001b[43mpredictions\u001b[49m\u001b[43m,\u001b[49m\u001b[38;5;250;43m \u001b[39;49m\u001b[43mtargets\u001b[49m\u001b[43m,\u001b[49m\u001b[38;5;250;43m \u001b[39;49m\u001b[43miou_thresh\u001b[49m\u001b[43m=\u001b[49m\u001b[32;43m0.5\u001b[39;49m\u001b[43m,\u001b[49m\u001b[38;5;250;43m \u001b[39;49m\u001b[43mscore_thresh\u001b[49m\u001b[43m=\u001b[49m\u001b[43mscore\u001b[49m\u001b[43m)\u001b[49m\u001b[38;5;132;01m}\u001b[39;00m\u001b[33m\"\u001b[39m)\n",
      "\u001b[36mFile \u001b[39m\u001b[32md:\\zeiss\\Desktop\\coding\\Hilger\\bachelor\\utils.py:108\u001b[39m, in \u001b[36mevaluate_predictions\u001b[39m\u001b[34m(predictions, targets, iou_thresh, score_thresh)\u001b[39m\n\u001b[32m    105\u001b[39m stdses = []\n\u001b[32m    107\u001b[39m \u001b[38;5;28;01mfor\u001b[39;00m prediction, target \u001b[38;5;129;01min\u001b[39;00m \u001b[38;5;28mzip\u001b[39m(predictions, targets):\n\u001b[32m--> \u001b[39m\u001b[32m108\u001b[39m     p, r, f1, ji, mean_error, std_error, mse, stdse = \u001b[43mevaluate_prediction\u001b[49m\u001b[43m(\u001b[49m\u001b[43mprediction\u001b[49m\u001b[43m,\u001b[49m\u001b[43m \u001b[49m\u001b[43mtarget\u001b[49m\u001b[43m,\u001b[49m\u001b[43m \u001b[49m\u001b[43miou_thresh\u001b[49m\u001b[43m,\u001b[49m\u001b[43m \u001b[49m\u001b[43mscore_thresh\u001b[49m\u001b[43m)\u001b[49m\n\u001b[32m    109\u001b[39m     precisions.append(p)\n\u001b[32m    110\u001b[39m     recalls.append(r)\n",
      "\u001b[36mFile \u001b[39m\u001b[32md:\\zeiss\\Desktop\\coding\\Hilger\\bachelor\\utils.py:49\u001b[39m, in \u001b[36mevaluate_prediction\u001b[39m\u001b[34m(prediction, target, iou_thresh, score_thresh)\u001b[39m\n\u001b[32m     46\u001b[39m used_preds = \u001b[38;5;28mset\u001b[39m()\n\u001b[32m     47\u001b[39m used_gts = \u001b[38;5;28mset\u001b[39m()\n\u001b[32m---> \u001b[39m\u001b[32m49\u001b[39m pairs = [(i, j, \u001b[43miou_matrix\u001b[49m\u001b[43m[\u001b[49m\u001b[43mi\u001b[49m\u001b[43m,\u001b[49m\u001b[43mj\u001b[49m\u001b[43m]\u001b[49m\u001b[43m.\u001b[49m\u001b[43mitem\u001b[49m\u001b[43m(\u001b[49m\u001b[43m)\u001b[49m)\n\u001b[32m     50\u001b[39m          \u001b[38;5;28;01mfor\u001b[39;00m i \u001b[38;5;129;01min\u001b[39;00m \u001b[38;5;28mrange\u001b[39m(iou_matrix.shape[\u001b[32m0\u001b[39m])\n\u001b[32m     51\u001b[39m          \u001b[38;5;28;01mfor\u001b[39;00m j \u001b[38;5;129;01min\u001b[39;00m \u001b[38;5;28mrange\u001b[39m(iou_matrix.shape[\u001b[32m1\u001b[39m])] \u001b[38;5;66;03m# Makes a list of tuples. All possible pairs\u001b[39;00m\n\u001b[32m     53\u001b[39m \u001b[38;5;66;03m# Sort pairs by IoU in descending order\u001b[39;00m\n\u001b[32m     54\u001b[39m pairs.sort(key=\u001b[38;5;28;01mlambda\u001b[39;00m x: x[\u001b[32m2\u001b[39m], reverse=\u001b[38;5;28;01mTrue\u001b[39;00m)\n",
      "\u001b[31mKeyboardInterrupt\u001b[39m: "
     ]
    }
   ],
   "source": [
    "# evals = []\n",
    "# for score in np.arange(0.5,0.95, 0.01):\n",
    "#     print(f\"Score {score}: {evaluate_predictions(predictions, targets, iou_thresh=0.5, score_thresh=score)}\")"
   ]
  },
  {
   "cell_type": "code",
   "execution_count": null,
   "id": "f6de3170",
   "metadata": {},
   "outputs": [],
   "source": []
  }
 ],
 "metadata": {
  "kernelspec": {
   "display_name": "hilger312",
   "language": "python",
   "name": "python3"
  },
  "language_info": {
   "codemirror_mode": {
    "name": "ipython",
    "version": 3
   },
   "file_extension": ".py",
   "mimetype": "text/x-python",
   "name": "python",
   "nbconvert_exporter": "python",
   "pygments_lexer": "ipython3",
   "version": "3.12.9"
  }
 },
 "nbformat": 4,
 "nbformat_minor": 5
}
