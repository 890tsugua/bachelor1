{
 "cells": [
  {
   "cell_type": "code",
   "execution_count": null,
   "id": "36b8376a",
   "metadata": {},
   "outputs": [],
   "source": [
    "from torchvision.models.detection.backbone_utils import resnet_fpn_backbone\n",
    "import torch\n",
    "\n",
    "import sys, os\n",
    "sys.path.append(os.path.abspath('..'))\n",
    "from models.subpix_rcnn import SubpixRCNN\n",
    "from utils import move_data_to_device, move_dict_to_cpu, plot_image_boxes, evaluate_predictions\n",
    "from PsfSimulator import PsfDataset\n",
    "from scripts.plotting import PlotController\n",
    "from scripts.evaluating import test_densities_fixed_snr, test_model_once_plot, evaluate_recall_per_snr, test_perlinnoise_fixed_snr\n",
    "import numpy as np\n",
    "import matplotlib.pyplot as plt\n",
    "import pickle\n",
    "\n",
    "from scripts.test_gpu_tracking import load_csv, extract_predictions_from_gpu_tracking, dist_evaluate_prediction, dist_evaluate_predictions"
   ]
  },
  {
   "cell_type": "code",
   "execution_count": null,
   "id": "d923b66a",
   "metadata": {},
   "outputs": [],
   "source": [
    "seed = None\n",
    "num_datapoints = 1\n",
    "num_spots_min = 1\n",
    "num_spots_max = 1\n",
    "sigma_mean= 1.0\n",
    "sigma_std = 0.1\n",
    "snr_min = 5\n",
    "snr_max = 5\n",
    "snr_std = 0.0\n",
    "base_noise_min = 50\n",
    "base_noise_max = 6000\n",
    "use_gauss_noise = False\n",
    "gauss_noise_std = 0.02\n",
    "use_perlin_noise = False\n",
    "perlin_min_max = (0.4, 0.6)\n",
    "img_w = 64\n",
    "img_h = 64\n",
    "\n",
    "dataset = PsfDataset(seed, num_datapoints, num_spots_min, num_spots_max, sigma_mean, sigma_std,\n",
    "                      snr_min, snr_max, snr_std, base_noise_min, base_noise_max, use_gauss_noise,\n",
    "                      gauss_noise_std, use_perlin_noise, perlin_min_max, img_w, img_h)\n",
    "\n"
   ]
  },
  {
   "cell_type": "code",
   "execution_count": null,
   "id": "83d3d135",
   "metadata": {},
   "outputs": [],
   "source": [
    "# Load model\n",
    "device = 'cuda'\n",
    "backbone = resnet_fpn_backbone(\"resnet50\", pretrained=False, trainable_layers=5)\n",
    "kwargs = {\"nms_thresh\": 0.1, \"detections_per_img\": None, \"score_thresh\": 0.7, \"image_mean\":[0,0,0], \"image_std\":[1,1,1]}\n",
    "model = SubpixRCNN(backbone, num_classes=2, device=device, **kwargs)\n",
    "model.to(device=device)\n",
    "path = r\"D:\\zeiss\\Desktop\\coding\\Hilger\\bachelor\\notebooks\\subpix_rcnn_models\\2025-05-28_08-57-04\\threehrsperlin.pth\"\n",
    "model.load_state_dict(torch.load(path, map_location=device))\n",
    "model.eval()"
   ]
  },
  {
   "cell_type": "code",
   "execution_count": null,
   "id": "481a31c5",
   "metadata": {},
   "outputs": [],
   "source": [
    "# Load GPU tracking results"
   ]
  }
 ],
 "metadata": {
  "language_info": {
   "name": "python"
  }
 },
 "nbformat": 4,
 "nbformat_minor": 5
}
