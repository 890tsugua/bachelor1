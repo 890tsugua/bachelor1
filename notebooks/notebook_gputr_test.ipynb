{
 "cells": [
  {
   "cell_type": "code",
   "execution_count": 6,
   "id": "36b8376a",
   "metadata": {},
   "outputs": [],
   "source": [
    "from torchvision.models.detection.backbone_utils import resnet_fpn_backbone\n",
    "import torch\n",
    "\n",
    "import sys, os\n",
    "sys.path.append(os.path.abspath('..'))\n",
    "from models.subpix_rcnn import SubpixRCNN\n",
    "from utils import move_data_to_device, move_dict_to_cpu, plot_image_boxes, evaluate_predictions\n",
    "from PsfSimulator import PsfDataset\n",
    "from scripts.plotting import PlotController\n",
    "from scripts.evaluating import test_densities_fixed_snr, test_model_once_plot, evaluate_recall_per_snr, test_perlinnoise_fixed_snr\n",
    "import numpy as np\n",
    "import matplotlib.pyplot as plt\n",
    "import pickle\n",
    "import gpu_tracking\n",
    "import tifffile\n",
    "\n",
    "from scripts.test_gpu_tracking import load_csv, extract_predictions_from_gpu_tracking, dist_evaluate_prediction, dist_evaluate_predictions"
   ]
  },
  {
   "cell_type": "code",
   "execution_count": 4,
   "id": "d923b66a",
   "metadata": {},
   "outputs": [],
   "source": [
    "seed = None\n",
    "num_datapoints = 10\n",
    "num_spots_min = 10\n",
    "num_spots_max = 10\n",
    "sigma_mean= 1.0\n",
    "sigma_std = 0.1\n",
    "snr_min = 5\n",
    "snr_max = 5\n",
    "snr_std = 0.0\n",
    "base_noise_min = 50\n",
    "base_noise_max = 6000\n",
    "use_gauss_noise = False\n",
    "gauss_noise_std = 0.02\n",
    "use_perlin_noise = False\n",
    "perlin_min_max = (0.4, 0.6)\n",
    "img_w = 64\n",
    "img_h = 64\n",
    "\n",
    "dataset = PsfDataset(seed, num_datapoints, num_spots_min, num_spots_max, sigma_mean, sigma_std,\n",
    "                      snr_min, snr_max, snr_std, base_noise_min, base_noise_max, use_gauss_noise,\n",
    "                      gauss_noise_std, use_perlin_noise, perlin_min_max, img_w, img_h)\n",
    "\n"
   ]
  },
  {
   "cell_type": "code",
   "execution_count": null,
   "id": "83d3d135",
   "metadata": {},
   "outputs": [],
   "source": [
    "# Load model\n",
    "device = 'cuda'\n",
    "backbone = resnet_fpn_backbone(\"resnet50\", pretrained=False, trainable_layers=5)\n",
    "kwargs = {\"nms_thresh\": 0.1, \"detections_per_img\": None, \"score_thresh\": 0.7, \"image_mean\":[0,0,0], \"image_std\":[1,1,1]}\n",
    "model = SubpixRCNN(backbone, num_classes=2, device=device, **kwargs)\n",
    "model.to(device=device)\n",
    "path = r\"D:\\zeiss\\Desktop\\coding\\Hilger\\bachelor\\notebooks\\subpix_rcnn_models\\2025-05-28_08-57-04\\threehrsperlin.pth\"\n",
    "model.load_state_dict(torch.load(path, map_location=device))\n",
    "model.eval()"
   ]
  },
  {
   "cell_type": "code",
   "execution_count": null,
   "id": "481a31c5",
   "metadata": {},
   "outputs": [],
   "source": [
    "# Load GPU tracking results"
   ]
  },
  {
   "cell_type": "code",
   "execution_count": null,
   "id": "87cef3dc",
   "metadata": {},
   "outputs": [],
   "source": [
    "# Generate images\n",
    "reps = 100\n",
    "\n",
    "for i in range(reps):\n",
    "    tiff_img, image, targets = dataset[1]\n",
    "    "
   ]
  },
  {
   "cell_type": "code",
   "execution_count": null,
   "id": "5d3963b6",
   "metadata": {},
   "outputs": [],
   "source": [
    "# array = 3 dim array (frame, height, width)\n",
    "array = gpu_tracking.load(file path)\n",
    "df = gpu_tracking.LoG(array, min_r=1.4, max_r=3.4, snr = 2, minmass_snr=0.3, characterize = True, \n",
    "                      doughnut_correction = True, search_range=0, n_radii = 10)\n",
    "\n",
    "seach range = 0 gør den ikke tracker på tværs af billeder"
   ]
  }
 ],
 "metadata": {
  "kernelspec": {
   "display_name": "base",
   "language": "python",
   "name": "python3"
  },
  "language_info": {
   "codemirror_mode": {
    "name": "ipython",
    "version": 3
   },
   "file_extension": ".py",
   "mimetype": "text/x-python",
   "name": "python",
   "nbconvert_exporter": "python",
   "pygments_lexer": "ipython3",
   "version": "3.12.7"
  }
 },
 "nbformat": 4,
 "nbformat_minor": 5
}
