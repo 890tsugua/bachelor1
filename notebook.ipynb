{
 "cells": [
  {
   "cell_type": "code",
   "execution_count": 1,
   "id": "8be3f121",
   "metadata": {},
   "outputs": [
    {
     "name": "stderr",
     "output_type": "stream",
     "text": [
      "c:\\Users\\zeiss\\anaconda3\\envs\\hilger\\Lib\\site-packages\\tqdm\\auto.py:21: TqdmWarning: IProgress not found. Please update jupyter and ipywidgets. See https://ipywidgets.readthedocs.io/en/stable/user_install.html\n",
      "  from .autonotebook import tqdm as notebook_tqdm\n"
     ]
    }
   ],
   "source": [
    "import pandas as pd\n",
    "import torch\n",
    "\n",
    "from scripts.training import run_epoch, train_loop\n",
    "from utils import move_data_to_device, move_dict_to_cpu, plot_image, plot_image_boxes\n",
    "from data_simulator import PsfDataset\n",
    "from models.subpix_rcnn import SubpixRCNN\n",
    "\n",
    "import torch.nn as nn\n",
    "from torchvision.ops import MultiScaleRoIAlign\n",
    "from torchvision.ops import misc as misc_nn_ops\n",
    "from torchvision.transforms._presets import ObjectDetection\n",
    "from torchvision.models._api import register_model, Weights, WeightsEnum\n",
    "from torchvision.models._meta import _COCO_CATEGORIES\n",
    "from torchvision.models._utils import _ovewrite_value_param, handle_legacy_interface\n",
    "from torchvision.models.resnet import resnet50, ResNet50_Weights\n",
    "from torchvision.models.detection._utils import overwrite_eps\n",
    "from torchvision.models.detection.backbone_utils import _resnet_fpn_extractor, _validate_trainable_layers\n",
    "from torchvision.models.detection.faster_rcnn import _default_anchorgen, FasterRCNN, FastRCNNConvFCHead, RPNHead\n",
    "from torchvision.models.detection.roi_heads import RoIHeads\n",
    "\n",
    "from torchvision.models.detection.backbone_utils import resnet_fpn_backbone\n",
    "from torchvision.models.detection.generalized_rcnn import GeneralizedRCNN\n",
    "import torch.nn.functional as F\n",
    "import torch.optim as optim\n",
    "from data_simulator import make_one_data\n",
    "import os\n",
    "import datetime"
   ]
  },
  {
   "cell_type": "code",
   "execution_count": 15,
   "id": "90e2304a",
   "metadata": {},
   "outputs": [
    {
     "name": "stdout",
     "output_type": "stream",
     "text": [
      "Training dataset size:      200\n",
      "Validation dataset size:     40\n",
      "dtype: int64\n"
     ]
    }
   ],
   "source": [
    "# Instantiate the datasets.\n",
    "num_spots_min = 2\n",
    "num_spots_max = 6\n",
    "sigma_mean = 2.0\n",
    "sigma_std = 0.0\n",
    "snr_mean = 8\n",
    "snr_std = 0.2\n",
    "base_noise_min = 50\n",
    "base_noise_max = 100\n",
    "use_gauss_noise = True\n",
    "gauss_noise_std = 10\n",
    "img_w, img_h = 64, 64\n",
    "\n",
    "# Instantiate the datasets.\n",
    "train_dataset = PsfDataset( 1,\n",
    "                            200,\n",
    "                            num_spots_min, num_spots_max,\n",
    "                            sigma_mean, sigma_std,\n",
    "                            snr_mean, snr_std,\n",
    "                            base_noise_min, base_noise_max,\n",
    "                            use_gauss_noise, gauss_noise_std,\n",
    "                            img_w, img_h\n",
    "                          )\n",
    "\n",
    "valid_dataset = PsfDataset( 2,\n",
    "                            40,\n",
    "                            num_spots_min, num_spots_max,\n",
    "                            sigma_mean, sigma_std,\n",
    "                            snr_mean, snr_std,\n",
    "                            base_noise_min, base_noise_max,\n",
    "                            use_gauss_noise, gauss_noise_std,\n",
    "                            img_w, img_h\n",
    "                          )\n",
    "\n",
    "\n",
    "# Print the number of samples in the training and validation datasets\n",
    "print(pd.Series({\n",
    "    'Training dataset size:': len(train_dataset),\n",
    "    'Validation dataset size:': len(valid_dataset)}))\n",
    "\n",
    "data_loader_params = {'batch_size':4,    'collate_fn': lambda batch: tuple(zip(*batch)),}\n",
    "\n",
    "training_loader = torch.utils.data.DataLoader(train_dataset, **data_loader_params)\n",
    "validation_loader = torch.utils.data.DataLoader(valid_dataset, **data_loader_params)"
   ]
  },
  {
   "cell_type": "code",
   "execution_count": 22,
   "id": "a0e60b66",
   "metadata": {},
   "outputs": [],
   "source": [
    "def generate_checkpoint_path(model_name, project_name):\n",
    "\n",
    "  # 1. Define the project directory within Colab's content area\n",
    "  folder_path = os.path.join(os.curdir, project_name)\n",
    "\n",
    "  # 2. Create the directory if it doesn't exist\n",
    "  os.makedirs(folder_path, exist_ok=True)\n",
    "\n",
    "  # 3. Generate a timestamped subdirectory\n",
    "  timestamp = datetime.datetime.now().strftime(\"%Y-%m-%d_%H-%M-%S\")\n",
    "  checkpoint_dir = os.path.join(folder_path, timestamp)\n",
    "  os.makedirs(checkpoint_dir, exist_ok=True)\n",
    "\n",
    "  # 4. Construct the checkpoint path\n",
    "  checkpoint_path = os.path.join(checkpoint_dir, f\"{model_name}.pth\")\n",
    "\n",
    "  return checkpoint_path"
   ]
  },
  {
   "cell_type": "code",
   "execution_count": 23,
   "id": "cddcf5b7",
   "metadata": {},
   "outputs": [
    {
     "name": "stderr",
     "output_type": "stream",
     "text": [
      "c:\\Users\\zeiss\\anaconda3\\envs\\hilger\\Lib\\site-packages\\torchvision\\models\\_utils.py:135: UserWarning: Using 'backbone_name' as positional parameter(s) is deprecated since 0.13 and may be removed in the future. Please use keyword parameter(s) instead.\n",
      "  warnings.warn(\n",
      "c:\\Users\\zeiss\\anaconda3\\envs\\hilger\\Lib\\site-packages\\torchvision\\models\\_utils.py:208: UserWarning: The parameter 'pretrained' is deprecated since 0.13 and may be removed in the future, please use 'weights' instead.\n",
      "  warnings.warn(\n",
      "c:\\Users\\zeiss\\anaconda3\\envs\\hilger\\Lib\\site-packages\\torchvision\\models\\_utils.py:223: UserWarning: Arguments other than a weight enum or `None` for 'weights' are deprecated since 0.13 and may be removed in the future. The current behavior is equivalent to passing `weights=ResNet50_Weights.IMAGENET1K_V1`. You can also use `weights=ResNet50_Weights.DEFAULT` to get the most up-to-date weights.\n",
      "  warnings.warn(msg)\n"
     ]
    },
    {
     "name": "stdout",
     "output_type": "stream",
     "text": [
      "Custom SubpixRoIHeads successfully initialized!\n"
     ]
    },
    {
     "name": "stderr",
     "output_type": "stream",
     "text": [
      "Train: 100%|██████████| 50/50 [00:10<00:00,  4.55it/s, loss=21.2, avg_loss=0.425]\n",
      "Eval: 100%|██████████| 10/10 [00:01<00:00,  9.22it/s, loss=4.98, avg_loss=0.498]\n",
      "Epochs:   2%|▏         | 1/50 [00:12<09:59, 12.24s/it]"
     ]
    },
    {
     "name": "stdout",
     "output_type": "stream",
     "text": [
      "New best loss: 0.4979962110519409\n"
     ]
    },
    {
     "name": "stderr",
     "output_type": "stream",
     "text": [
      "Train: 100%|██████████| 50/50 [00:10<00:00,  4.81it/s, loss=24.4, avg_loss=0.488]\n",
      "Eval: 100%|██████████| 10/10 [00:01<00:00,  9.28it/s, loss=4.21, avg_loss=0.421]\n",
      "Epochs:   4%|▍         | 2/50 [00:23<09:31, 11.90s/it]"
     ]
    },
    {
     "name": "stdout",
     "output_type": "stream",
     "text": [
      "New best loss: 0.42095363736152647\n"
     ]
    },
    {
     "name": "stderr",
     "output_type": "stream",
     "text": [
      "Train: 100%|██████████| 50/50 [00:10<00:00,  4.75it/s, loss=20.9, avg_loss=0.417]\n",
      "Eval: 100%|██████████| 10/10 [00:01<00:00,  9.07it/s, loss=4.69, avg_loss=0.469]\n",
      "Train: 100%|██████████| 50/50 [00:10<00:00,  4.74it/s, loss=19.1, avg_loss=0.382]\n",
      "Eval: 100%|██████████| 10/10 [00:01<00:00,  9.04it/s, loss=3.12, avg_loss=0.312]\n",
      "Epochs:   8%|▊         | 4/50 [00:47<09:02, 11.80s/it]"
     ]
    },
    {
     "name": "stdout",
     "output_type": "stream",
     "text": [
      "New best loss: 0.3116786822676659\n"
     ]
    },
    {
     "name": "stderr",
     "output_type": "stream",
     "text": [
      "Train: 100%|██████████| 50/50 [00:10<00:00,  4.67it/s, loss=17.1, avg_loss=0.342]\n",
      "Eval: 100%|██████████| 10/10 [00:01<00:00,  8.96it/s, loss=3.75, avg_loss=0.375]\n",
      "Train: 100%|██████████| 50/50 [00:10<00:00,  4.64it/s, loss=18.7, avg_loss=0.374]\n",
      "Eval: 100%|██████████| 10/10 [00:01<00:00,  8.72it/s, loss=4.26, avg_loss=0.426]\n",
      "Train: 100%|██████████| 50/50 [00:10<00:00,  4.58it/s, loss=18.9, avg_loss=0.378]\n",
      "Eval: 100%|██████████| 10/10 [00:01<00:00,  8.69it/s, loss=3.31, avg_loss=0.331]\n",
      "Train: 100%|██████████| 50/50 [00:10<00:00,  4.59it/s, loss=18.2, avg_loss=0.364]\n",
      "Eval: 100%|██████████| 10/10 [00:01<00:00,  8.64it/s, loss=3.31, avg_loss=0.331]\n",
      "Train: 100%|██████████| 50/50 [00:10<00:00,  4.55it/s, loss=17.7, avg_loss=0.355]\n",
      "Eval: 100%|██████████| 10/10 [00:01<00:00,  8.49it/s, loss=3.25, avg_loss=0.325]\n",
      "Train: 100%|██████████| 50/50 [00:11<00:00,  4.52it/s, loss=15.6, avg_loss=0.312]\n",
      "Eval: 100%|██████████| 10/10 [00:01<00:00,  8.49it/s, loss=3.26, avg_loss=0.326]\n",
      "Train: 100%|██████████| 50/50 [00:11<00:00,  4.54it/s, loss=15.1, avg_loss=0.302]\n",
      "Eval: 100%|██████████| 10/10 [00:01<00:00,  8.54it/s, loss=3.12, avg_loss=0.312]\n",
      "Train: 100%|██████████| 50/50 [00:11<00:00,  4.54it/s, loss=16.8, avg_loss=0.335]\n",
      "Eval: 100%|██████████| 10/10 [00:01<00:00,  8.54it/s, loss=2.94, avg_loss=0.294]\n",
      "Epochs:  24%|██▍       | 12/50 [02:24<07:43, 12.19s/it]"
     ]
    },
    {
     "name": "stdout",
     "output_type": "stream",
     "text": [
      "New best loss: 0.2938096523284912\n"
     ]
    },
    {
     "name": "stderr",
     "output_type": "stream",
     "text": [
      "Train: 100%|██████████| 50/50 [00:11<00:00,  4.54it/s, loss=15.1, avg_loss=0.303]\n",
      "Eval: 100%|██████████| 10/10 [00:01<00:00,  8.49it/s, loss=3.68, avg_loss=0.368]\n",
      "Train: 100%|██████████| 50/50 [00:11<00:00,  4.53it/s, loss=16.2, avg_loss=0.324]\n",
      "Eval: 100%|██████████| 10/10 [00:01<00:00,  8.51it/s, loss=3.06, avg_loss=0.306]\n",
      "Train: 100%|██████████| 50/50 [00:11<00:00,  4.54it/s, loss=15.1, avg_loss=0.301]\n",
      "Eval: 100%|██████████| 10/10 [00:01<00:00,  8.51it/s, loss=3.23, avg_loss=0.323]\n",
      "Train: 100%|██████████| 50/50 [00:11<00:00,  4.52it/s, loss=16.5, avg_loss=0.33]\n",
      "Eval: 100%|██████████| 10/10 [00:01<00:00,  8.50it/s, loss=3.11, avg_loss=0.311]\n",
      "Train: 100%|██████████| 50/50 [00:11<00:00,  4.53it/s, loss=17, avg_loss=0.341]\n",
      "Eval: 100%|██████████| 10/10 [00:01<00:00,  8.54it/s, loss=3.26, avg_loss=0.326]\n",
      "Train: 100%|██████████| 50/50 [00:11<00:00,  4.54it/s, loss=15, avg_loss=0.3]\n",
      "Eval: 100%|██████████| 10/10 [00:01<00:00,  8.49it/s, loss=3.52, avg_loss=0.352]\n",
      "Train: 100%|██████████| 50/50 [00:11<00:00,  4.51it/s, loss=15.4, avg_loss=0.308]\n",
      "Eval: 100%|██████████| 10/10 [00:01<00:00,  8.48it/s, loss=2.91, avg_loss=0.291]\n",
      "Epochs:  38%|███▊      | 19/50 [03:49<06:20, 12.27s/it]"
     ]
    },
    {
     "name": "stdout",
     "output_type": "stream",
     "text": [
      "New best loss: 0.29072640389204024\n"
     ]
    },
    {
     "name": "stderr",
     "output_type": "stream",
     "text": [
      "Train: 100%|██████████| 50/50 [00:11<00:00,  4.53it/s, loss=14.8, avg_loss=0.295]\n",
      "Eval: 100%|██████████| 10/10 [00:01<00:00,  8.49it/s, loss=3.07, avg_loss=0.307]\n",
      "Train: 100%|██████████| 50/50 [00:11<00:00,  4.53it/s, loss=14.5, avg_loss=0.289]\n",
      "Eval: 100%|██████████| 10/10 [00:01<00:00,  8.49it/s, loss=2.91, avg_loss=0.291]\n",
      "Epochs:  42%|████▏     | 21/50 [04:14<05:56, 12.30s/it]"
     ]
    },
    {
     "name": "stdout",
     "output_type": "stream",
     "text": [
      "New best loss: 0.2906492978334427\n"
     ]
    },
    {
     "name": "stderr",
     "output_type": "stream",
     "text": [
      "Train: 100%|██████████| 50/50 [00:11<00:00,  4.52it/s, loss=14.7, avg_loss=0.294]\n",
      "Eval: 100%|██████████| 10/10 [00:01<00:00,  8.46it/s, loss=3.16, avg_loss=0.316]\n",
      "Train: 100%|██████████| 50/50 [00:11<00:00,  4.54it/s, loss=15.7, avg_loss=0.314]\n",
      "Eval: 100%|██████████| 10/10 [00:01<00:00,  8.51it/s, loss=3.16, avg_loss=0.316]\n",
      "Train: 100%|██████████| 50/50 [00:11<00:00,  4.53it/s, loss=16, avg_loss=0.321]\n",
      "Eval: 100%|██████████| 10/10 [00:01<00:00,  8.44it/s, loss=2.61, avg_loss=0.261]\n",
      "Epochs:  48%|████▊     | 24/50 [04:51<05:19, 12.29s/it]"
     ]
    },
    {
     "name": "stdout",
     "output_type": "stream",
     "text": [
      "New best loss: 0.261344288289547\n"
     ]
    },
    {
     "name": "stderr",
     "output_type": "stream",
     "text": [
      "Train: 100%|██████████| 50/50 [00:11<00:00,  4.53it/s, loss=15.2, avg_loss=0.304]\n",
      "Eval: 100%|██████████| 10/10 [00:01<00:00,  8.58it/s, loss=2.95, avg_loss=0.295]\n",
      "Train: 100%|██████████| 50/50 [00:11<00:00,  4.54it/s, loss=13.8, avg_loss=0.276]\n",
      "Eval: 100%|██████████| 10/10 [00:01<00:00,  8.52it/s, loss=3.42, avg_loss=0.342]\n",
      "Train: 100%|██████████| 50/50 [00:10<00:00,  4.55it/s, loss=16.3, avg_loss=0.326]\n",
      "Eval: 100%|██████████| 10/10 [00:01<00:00,  8.53it/s, loss=2.76, avg_loss=0.276]\n",
      "Train: 100%|██████████| 50/50 [00:11<00:00,  4.54it/s, loss=14.5, avg_loss=0.29]\n",
      "Eval: 100%|██████████| 10/10 [00:01<00:00,  8.52it/s, loss=3.11, avg_loss=0.311]\n",
      "Train: 100%|██████████| 50/50 [00:11<00:00,  4.53it/s, loss=14.7, avg_loss=0.295]\n",
      "Eval: 100%|██████████| 10/10 [00:01<00:00,  8.55it/s, loss=3.06, avg_loss=0.306]\n",
      "Train: 100%|██████████| 50/50 [00:10<00:00,  4.57it/s, loss=15.2, avg_loss=0.304]\n",
      "Eval: 100%|██████████| 10/10 [00:01<00:00,  8.63it/s, loss=2.99, avg_loss=0.299]\n",
      "Train: 100%|██████████| 50/50 [00:10<00:00,  4.55it/s, loss=13.9, avg_loss=0.278]\n",
      "Eval: 100%|██████████| 10/10 [00:01<00:00,  8.48it/s, loss=2.61, avg_loss=0.261]\n",
      "Epochs:  62%|██████▏   | 31/50 [06:16<03:52, 12.22s/it]"
     ]
    },
    {
     "name": "stdout",
     "output_type": "stream",
     "text": [
      "New best loss: 0.26104901283979415\n"
     ]
    },
    {
     "name": "stderr",
     "output_type": "stream",
     "text": [
      "Train: 100%|██████████| 50/50 [00:11<00:00,  4.54it/s, loss=13, avg_loss=0.261]\n",
      "Eval: 100%|██████████| 10/10 [00:01<00:00,  8.56it/s, loss=2.93, avg_loss=0.293]\n",
      "Train: 100%|██████████| 50/50 [00:10<00:00,  4.56it/s, loss=13.3, avg_loss=0.266]\n",
      "Eval: 100%|██████████| 10/10 [00:01<00:00,  8.48it/s, loss=2.88, avg_loss=0.288]\n",
      "Train: 100%|██████████| 50/50 [00:10<00:00,  4.55it/s, loss=14, avg_loss=0.28]\n",
      "Eval: 100%|██████████| 10/10 [00:01<00:00,  8.51it/s, loss=2.69, avg_loss=0.269]\n",
      "Train: 100%|██████████| 50/50 [00:10<00:00,  4.55it/s, loss=13.7, avg_loss=0.275]\n",
      "Eval: 100%|██████████| 10/10 [00:01<00:00,  8.66it/s, loss=2.82, avg_loss=0.282]\n",
      "Train: 100%|██████████| 50/50 [00:10<00:00,  4.55it/s, loss=13.9, avg_loss=0.277]\n",
      "Eval: 100%|██████████| 10/10 [00:01<00:00,  8.55it/s, loss=3.05, avg_loss=0.305]\n",
      "Train: 100%|██████████| 50/50 [00:11<00:00,  4.54it/s, loss=13.7, avg_loss=0.273]\n",
      "Eval: 100%|██████████| 10/10 [00:01<00:00,  8.58it/s, loss=2.58, avg_loss=0.258]\n",
      "Epochs:  74%|███████▍  | 37/50 [07:29<02:38, 12.22s/it]"
     ]
    },
    {
     "name": "stdout",
     "output_type": "stream",
     "text": [
      "New best loss: 0.25797916352748873\n"
     ]
    },
    {
     "name": "stderr",
     "output_type": "stream",
     "text": [
      "Train: 100%|██████████| 50/50 [00:10<00:00,  4.55it/s, loss=14.1, avg_loss=0.281]\n",
      "Eval: 100%|██████████| 10/10 [00:01<00:00,  8.66it/s, loss=2.41, avg_loss=0.241]\n",
      "Epochs:  76%|███████▌  | 38/50 [07:42<02:27, 12.25s/it]"
     ]
    },
    {
     "name": "stdout",
     "output_type": "stream",
     "text": [
      "New best loss: 0.24053304493427277\n"
     ]
    },
    {
     "name": "stderr",
     "output_type": "stream",
     "text": [
      "Train: 100%|██████████| 50/50 [00:11<00:00,  4.53it/s, loss=12.9, avg_loss=0.258]\n",
      "Eval: 100%|██████████| 10/10 [00:01<00:00,  8.48it/s, loss=2.77, avg_loss=0.277]\n",
      "Train: 100%|██████████| 50/50 [00:11<00:00,  4.52it/s, loss=12.4, avg_loss=0.247]\n",
      "Eval: 100%|██████████| 10/10 [00:01<00:00,  8.55it/s, loss=2.81, avg_loss=0.281]\n",
      "Train: 100%|██████████| 50/50 [00:10<00:00,  4.55it/s, loss=15.2, avg_loss=0.304]\n",
      "Eval: 100%|██████████| 10/10 [00:01<00:00,  8.43it/s, loss=3.04, avg_loss=0.304]\n",
      "Train: 100%|██████████| 50/50 [00:11<00:00,  4.53it/s, loss=15, avg_loss=0.3]\n",
      "Eval: 100%|██████████| 10/10 [00:01<00:00,  8.52it/s, loss=3.04, avg_loss=0.304]\n",
      "Train: 100%|██████████| 50/50 [00:11<00:00,  4.53it/s, loss=14.4, avg_loss=0.288]\n",
      "Eval: 100%|██████████| 10/10 [00:01<00:00,  8.47it/s, loss=2.84, avg_loss=0.284]\n",
      "Train: 100%|██████████| 50/50 [00:11<00:00,  4.52it/s, loss=13.8, avg_loss=0.275]\n",
      "Eval: 100%|██████████| 10/10 [00:01<00:00,  8.43it/s, loss=2.95, avg_loss=0.295]\n",
      "Train: 100%|██████████| 50/50 [00:11<00:00,  4.52it/s, loss=13.8, avg_loss=0.275]\n",
      "Eval: 100%|██████████| 10/10 [00:01<00:00,  8.55it/s, loss=2.87, avg_loss=0.287]\n",
      "Train: 100%|██████████| 50/50 [00:10<00:00,  4.56it/s, loss=13.2, avg_loss=0.264]\n",
      "Eval: 100%|██████████| 10/10 [00:01<00:00,  8.55it/s, loss=2.75, avg_loss=0.275]\n",
      "Train: 100%|██████████| 50/50 [00:10<00:00,  4.56it/s, loss=13, avg_loss=0.261]\n",
      "Eval: 100%|██████████| 10/10 [00:01<00:00,  8.69it/s, loss=2.88, avg_loss=0.288]\n",
      "Train: 100%|██████████| 50/50 [00:10<00:00,  4.59it/s, loss=13.4, avg_loss=0.268]\n",
      "Eval: 100%|██████████| 10/10 [00:01<00:00,  8.69it/s, loss=2.62, avg_loss=0.262]\n",
      "Train: 100%|██████████| 50/50 [00:10<00:00,  4.55it/s, loss=12.9, avg_loss=0.258]\n",
      "Eval: 100%|██████████| 10/10 [00:01<00:00,  8.63it/s, loss=2.36, avg_loss=0.236]\n",
      "Epochs:  98%|█████████▊| 49/50 [09:56<00:12, 12.20s/it]"
     ]
    },
    {
     "name": "stdout",
     "output_type": "stream",
     "text": [
      "New best loss: 0.23625116795301437\n"
     ]
    },
    {
     "name": "stderr",
     "output_type": "stream",
     "text": [
      "Train: 100%|██████████| 50/50 [00:11<00:00,  4.54it/s, loss=12.5, avg_loss=0.249]\n",
      "Eval: 100%|██████████| 10/10 [00:01<00:00,  8.65it/s, loss=2.47, avg_loss=0.247]\n",
      "Epochs: 100%|██████████| 50/50 [10:08<00:00, 12.17s/it]\n"
     ]
    }
   ],
   "source": [
    "device = torch.device(\"cuda\" if torch.cuda.is_available() else \"cpu\")\n",
    "\n",
    "backbone = resnet_fpn_backbone(\"resnet50\", pretrained=True)\n",
    "kwargs = {\"nms_tresh\": 0.1, \"detections_per_img\": 6}\n",
    "model = SubpixRCNN(backbone, num_classes=2, device=device, **kwargs)\n",
    "model.to(device)\n",
    "model.name = \"testmodel\"\n",
    "optimizer = optim.Adam(model.parameters(), lr=0.0001)\n",
    "\n",
    "checkpoint_path = generate_checkpoint_path(\"testmodel_noise_added\", \"subpix_rcnn_models\")\n",
    "num_epochs = 50\n",
    "\n",
    "train_loop(model, training_loader, validation_loader, optimizer, device, num_epochs, checkpoint_path)"
   ]
  },
  {
   "cell_type": "code",
   "execution_count": null,
   "id": "6972c198",
   "metadata": {},
   "outputs": [],
   "source": []
  }
 ],
 "metadata": {
  "kernelspec": {
   "display_name": "base",
   "language": "python",
   "name": "python3"
  },
  "language_info": {
   "codemirror_mode": {
    "name": "ipython",
    "version": 3
   },
   "file_extension": ".py",
   "mimetype": "text/x-python",
   "name": "python",
   "nbconvert_exporter": "python",
   "pygments_lexer": "ipython3",
   "version": "3.12.7"
  }
 },
 "nbformat": 4,
 "nbformat_minor": 5
}
