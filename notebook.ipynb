{
 "cells": [
  {
   "cell_type": "code",
   "execution_count": 1,
   "id": "8be3f121",
   "metadata": {},
   "outputs": [
    {
     "name": "stderr",
     "output_type": "stream",
     "text": [
      "c:\\Users\\zeiss\\anaconda3\\envs\\hilger312\\Lib\\site-packages\\tqdm\\auto.py:21: TqdmWarning: IProgress not found. Please update jupyter and ipywidgets. See https://ipywidgets.readthedocs.io/en/stable/user_install.html\n",
      "  from .autonotebook import tqdm as notebook_tqdm\n"
     ]
    }
   ],
   "source": [
    "import pandas as pd\n",
    "import torch\n",
    "\n",
    "from scripts.training import run_epoch, train_loop\n",
    "from utils import move_data_to_device, move_dict_to_cpu, plot_image, plot_image_boxes\n",
    "from data_simulator import PsfDataset\n",
    "from models.subpix_rcnn import SubpixRCNN\n",
    "\n",
    "import torch.nn as nn\n",
    "from torchvision.ops import MultiScaleRoIAlign\n",
    "from torchvision.ops import misc as misc_nn_ops\n",
    "from torchvision.transforms._presets import ObjectDetection\n",
    "from torchvision.models._api import register_model, Weights, WeightsEnum\n",
    "from torchvision.models._meta import _COCO_CATEGORIES\n",
    "from torchvision.models._utils import _ovewrite_value_param, handle_legacy_interface\n",
    "from torchvision.models.resnet import resnet50, ResNet50_Weights\n",
    "from torchvision.models.detection._utils import overwrite_eps\n",
    "from torchvision.models.detection.backbone_utils import _resnet_fpn_extractor, _validate_trainable_layers\n",
    "from torchvision.models.detection.faster_rcnn import _default_anchorgen, FasterRCNN, FastRCNNConvFCHead, RPNHead\n",
    "from torchvision.models.detection.roi_heads import RoIHeads\n",
    "\n",
    "from torchvision.models.detection.backbone_utils import resnet_fpn_backbone\n",
    "from torchvision.models.detection.generalized_rcnn import GeneralizedRCNN\n",
    "import torch.nn.functional as F\n",
    "import torch.optim as optim\n",
    "from data_simulator import make_one_data\n",
    "import os\n",
    "import datetime"
   ]
  },
  {
   "cell_type": "code",
   "execution_count": 11,
   "id": "60b84f77",
   "metadata": {},
   "outputs": [],
   "source": [
    "# Density 1 = 40 spots per 64x64 image\n",
    "# Density 0.05 = 2 spots per 64x64 image"
   ]
  },
  {
   "cell_type": "code",
   "execution_count": 2,
   "id": "90e2304a",
   "metadata": {},
   "outputs": [
    {
     "name": "stdout",
     "output_type": "stream",
     "text": [
      "Training dataset size:      200\n",
      "Validation dataset size:     40\n",
      "dtype: int64\n"
     ]
    }
   ],
   "source": [
    "# Instantiate the datasets.\n",
    "num_spots_min = 2\n",
    "num_spots_max = 80\n",
    "sigma_mean = 1.0\n",
    "sigma_std = 0.0\n",
    "snr_mean = 8\n",
    "snr_std = 0.2\n",
    "base_noise_min = 10\n",
    "base_noise_max = 150\n",
    "use_gauss_noise = False\n",
    "gauss_noise_std = 10\n",
    "img_w, img_h = 64, 64\n",
    "\n",
    "# Instantiate the datasets.\n",
    "train_dataset = PsfDataset( 1,\n",
    "                            200,\n",
    "                            num_spots_min, num_spots_max,\n",
    "                            sigma_mean, sigma_std,\n",
    "                            snr_mean, snr_std,\n",
    "                            base_noise_min, base_noise_max,\n",
    "                            use_gauss_noise, gauss_noise_std,\n",
    "                            img_w, img_h\n",
    "                          )\n",
    "\n",
    "valid_dataset = PsfDataset( 2,\n",
    "                            40,\n",
    "                            num_spots_min, num_spots_max,\n",
    "                            sigma_mean, sigma_std,\n",
    "                            snr_mean, snr_std,\n",
    "                            base_noise_min, base_noise_max,\n",
    "                            use_gauss_noise, gauss_noise_std,\n",
    "                            img_w, img_h\n",
    "                          )\n",
    "\n",
    "\n",
    "# Print the number of samples in the training and validation datasets\n",
    "print(pd.Series({\n",
    "    'Training dataset size:': len(train_dataset),\n",
    "    'Validation dataset size:': len(valid_dataset)}))\n",
    "\n",
    "data_loader_params = {'batch_size':4,    'collate_fn': lambda batch: tuple(zip(*batch)),}\n",
    "\n",
    "training_loader = torch.utils.data.DataLoader(train_dataset, **data_loader_params)\n",
    "validation_loader = torch.utils.data.DataLoader(valid_dataset, **data_loader_params)"
   ]
  },
  {
   "cell_type": "code",
   "execution_count": 3,
   "id": "a0e60b66",
   "metadata": {},
   "outputs": [],
   "source": [
    "def generate_checkpoint_path(model_name, project_name):\n",
    "\n",
    "  # 1. Define the project directory within Colab's content area\n",
    "  folder_path = os.path.join(os.curdir, project_name)\n",
    "\n",
    "  # 2. Create the directory if it doesn't exist\n",
    "  os.makedirs(folder_path, exist_ok=True)\n",
    "\n",
    "  # 3. Generate a timestamped subdirectory\n",
    "  timestamp = datetime.datetime.now().strftime(\"%Y-%m-%d_%H-%M-%S\")\n",
    "  checkpoint_dir = os.path.join(folder_path, timestamp)\n",
    "  os.makedirs(checkpoint_dir, exist_ok=True)\n",
    "\n",
    "  # 4. Construct the checkpoint path\n",
    "  checkpoint_path = os.path.join(checkpoint_dir, f\"{model_name}.pth\")\n",
    "\n",
    "  return checkpoint_path"
   ]
  },
  {
   "cell_type": "code",
   "execution_count": 6,
   "id": "6275c7ca",
   "metadata": {},
   "outputs": [],
   "source": [
    "from torch.utils.tensorboard import SummaryWriter"
   ]
  },
  {
   "cell_type": "code",
   "execution_count": 7,
   "id": "a3044bbc",
   "metadata": {},
   "outputs": [],
   "source": [
    "writer = SummaryWriter('runs/psf_rcnn')"
   ]
  },
  {
   "cell_type": "code",
   "execution_count": 8,
   "id": "cddcf5b7",
   "metadata": {},
   "outputs": [
    {
     "name": "stderr",
     "output_type": "stream",
     "text": [
      "c:\\Users\\zeiss\\anaconda3\\envs\\hilger312\\Lib\\site-packages\\torchvision\\models\\_utils.py:135: UserWarning: Using 'backbone_name' as positional parameter(s) is deprecated since 0.13 and may be removed in the future. Please use keyword parameter(s) instead.\n",
      "  warnings.warn(\n",
      "c:\\Users\\zeiss\\anaconda3\\envs\\hilger312\\Lib\\site-packages\\torchvision\\models\\_utils.py:208: UserWarning: The parameter 'pretrained' is deprecated since 0.13 and may be removed in the future, please use 'weights' instead.\n",
      "  warnings.warn(\n",
      "c:\\Users\\zeiss\\anaconda3\\envs\\hilger312\\Lib\\site-packages\\torchvision\\models\\_utils.py:223: UserWarning: Arguments other than a weight enum or `None` for 'weights' are deprecated since 0.13 and may be removed in the future. The current behavior is equivalent to passing `weights=ResNet50_Weights.IMAGENET1K_V1`. You can also use `weights=ResNet50_Weights.DEFAULT` to get the most up-to-date weights.\n",
      "  warnings.warn(msg)\n"
     ]
    },
    {
     "name": "stdout",
     "output_type": "stream",
     "text": [
      "Custom SubpixRoIHeads successfully initialized!\n"
     ]
    },
    {
     "name": "stderr",
     "output_type": "stream",
     "text": [
      "Train: 100%|██████████| 50/50 [00:12<00:00,  4.02it/s, loss=59, avg_loss=1.18]\n",
      "Eval: 100%|██████████| 10/10 [00:01<00:00,  7.43it/s, loss=10.7, avg_loss=1.07]\n",
      "Epochs:   0%|          | 1/200 [00:13<46:16, 13.95s/it]"
     ]
    },
    {
     "name": "stdout",
     "output_type": "stream",
     "text": [
      "New best loss: 1.0741138935089112\n"
     ]
    },
    {
     "name": "stderr",
     "output_type": "stream",
     "text": [
      "Train: 100%|██████████| 50/50 [00:11<00:00,  4.41it/s, loss=42.6, avg_loss=0.852]\n",
      "Eval: 100%|██████████| 10/10 [00:01<00:00,  7.88it/s, loss=7.77, avg_loss=0.777]\n",
      "Epochs:   1%|          | 2/200 [00:26<43:45, 13.26s/it]"
     ]
    },
    {
     "name": "stdout",
     "output_type": "stream",
     "text": [
      "New best loss: 0.777353823184967\n"
     ]
    },
    {
     "name": "stderr",
     "output_type": "stream",
     "text": [
      "Train: 100%|██████████| 50/50 [00:11<00:00,  4.42it/s, loss=36, avg_loss=0.72]\n",
      "Eval: 100%|██████████| 10/10 [00:01<00:00,  7.95it/s, loss=8.15, avg_loss=0.815]\n",
      "Train: 100%|██████████| 50/50 [00:11<00:00,  4.39it/s, loss=37.5, avg_loss=0.751]\n",
      "Eval: 100%|██████████| 10/10 [00:01<00:00,  7.78it/s, loss=7.32, avg_loss=0.732]\n",
      "Epochs:   2%|▏         | 4/200 [00:52<42:10, 12.91s/it]"
     ]
    },
    {
     "name": "stdout",
     "output_type": "stream",
     "text": [
      "New best loss: 0.7322913706302643\n"
     ]
    },
    {
     "name": "stderr",
     "output_type": "stream",
     "text": [
      "Train: 100%|██████████| 50/50 [00:11<00:00,  4.38it/s, loss=33.7, avg_loss=0.674]\n",
      "Eval: 100%|██████████| 10/10 [00:01<00:00,  7.97it/s, loss=6.16, avg_loss=0.616]\n",
      "Epochs:   2%|▎         | 5/200 [01:04<41:51, 12.88s/it]"
     ]
    },
    {
     "name": "stdout",
     "output_type": "stream",
     "text": [
      "New best loss: 0.6160640120506287\n"
     ]
    },
    {
     "name": "stderr",
     "output_type": "stream",
     "text": [
      "Train: 100%|██████████| 50/50 [00:11<00:00,  4.27it/s, loss=33.8, avg_loss=0.677]\n",
      "Eval: 100%|██████████| 10/10 [00:01<00:00,  7.88it/s, loss=6.42, avg_loss=0.642]\n",
      "Train: 100%|██████████| 50/50 [00:11<00:00,  4.28it/s, loss=32.6, avg_loss=0.653]\n",
      "Eval: 100%|██████████| 10/10 [00:01<00:00,  7.73it/s, loss=6.27, avg_loss=0.627]\n",
      "Train: 100%|██████████| 50/50 [00:11<00:00,  4.30it/s, loss=30.7, avg_loss=0.614]\n",
      "Eval: 100%|██████████| 10/10 [00:01<00:00,  7.87it/s, loss=6.05, avg_loss=0.605]\n",
      "Epochs:   4%|▍         | 8/200 [01:43<41:30, 12.97s/it]"
     ]
    },
    {
     "name": "stdout",
     "output_type": "stream",
     "text": [
      "New best loss: 0.6048902541399002\n"
     ]
    },
    {
     "name": "stderr",
     "output_type": "stream",
     "text": [
      "Train: 100%|██████████| 50/50 [00:11<00:00,  4.26it/s, loss=32.4, avg_loss=0.648]\n",
      "Eval: 100%|██████████| 10/10 [00:01<00:00,  7.48it/s, loss=6.18, avg_loss=0.618]\n",
      "Train: 100%|██████████| 50/50 [00:11<00:00,  4.30it/s, loss=30.3, avg_loss=0.607]\n",
      "Eval: 100%|██████████| 10/10 [00:01<00:00,  7.83it/s, loss=5.87, avg_loss=0.587]\n",
      "Epochs:   5%|▌         | 10/200 [02:10<41:15, 13.03s/it]"
     ]
    },
    {
     "name": "stdout",
     "output_type": "stream",
     "text": [
      "New best loss: 0.587306159734726\n"
     ]
    },
    {
     "name": "stderr",
     "output_type": "stream",
     "text": [
      "Train: 100%|██████████| 50/50 [00:11<00:00,  4.26it/s, loss=31.7, avg_loss=0.635]\n",
      "Eval: 100%|██████████| 10/10 [00:01<00:00,  7.87it/s, loss=5.63, avg_loss=0.563]\n",
      "Epochs:   6%|▌         | 11/200 [02:23<41:10, 13.07s/it]"
     ]
    },
    {
     "name": "stdout",
     "output_type": "stream",
     "text": [
      "New best loss: 0.563143739104271\n"
     ]
    },
    {
     "name": "stderr",
     "output_type": "stream",
     "text": [
      "Train: 100%|██████████| 50/50 [00:11<00:00,  4.27it/s, loss=31.3, avg_loss=0.625]\n",
      "Eval: 100%|██████████| 10/10 [00:01<00:00,  7.71it/s, loss=6.02, avg_loss=0.602]\n",
      "Train: 100%|██████████| 50/50 [00:11<00:00,  4.24it/s, loss=30.2, avg_loss=0.604]\n",
      "Eval: 100%|██████████| 10/10 [00:01<00:00,  7.70it/s, loss=6.2, avg_loss=0.62]\n",
      "Train: 100%|██████████| 50/50 [00:11<00:00,  4.26it/s, loss=29.3, avg_loss=0.587]\n",
      "Eval: 100%|██████████| 10/10 [00:01<00:00,  7.94it/s, loss=6.16, avg_loss=0.616]\n",
      "Train: 100%|██████████| 50/50 [00:11<00:00,  4.27it/s, loss=30.7, avg_loss=0.614]\n",
      "Eval: 100%|██████████| 10/10 [00:01<00:00,  7.76it/s, loss=5.49, avg_loss=0.549]\n",
      "Epochs:   8%|▊         | 15/200 [03:15<40:20, 13.08s/it]"
     ]
    },
    {
     "name": "stdout",
     "output_type": "stream",
     "text": [
      "New best loss: 0.5493205726146698\n"
     ]
    },
    {
     "name": "stderr",
     "output_type": "stream",
     "text": [
      "Train: 100%|██████████| 50/50 [00:11<00:00,  4.26it/s, loss=30.6, avg_loss=0.612]\n",
      "Eval: 100%|██████████| 10/10 [00:01<00:00,  7.71it/s, loss=5.16, avg_loss=0.516]\n",
      "Epochs:   8%|▊         | 16/200 [03:28<40:14, 13.12s/it]"
     ]
    },
    {
     "name": "stdout",
     "output_type": "stream",
     "text": [
      "New best loss: 0.5164199858903885\n"
     ]
    },
    {
     "name": "stderr",
     "output_type": "stream",
     "text": [
      "Train: 100%|██████████| 50/50 [00:11<00:00,  4.25it/s, loss=31.2, avg_loss=0.625]\n",
      "Eval: 100%|██████████| 10/10 [00:01<00:00,  7.67it/s, loss=6.56, avg_loss=0.656]\n",
      "Train: 100%|██████████| 50/50 [00:11<00:00,  4.27it/s, loss=31, avg_loss=0.62]\n",
      "Eval: 100%|██████████| 10/10 [00:01<00:00,  7.60it/s, loss=6.85, avg_loss=0.685]\n",
      "Train: 100%|██████████| 50/50 [00:11<00:00,  4.27it/s, loss=31, avg_loss=0.62]\n",
      "Eval: 100%|██████████| 10/10 [00:01<00:00,  7.50it/s, loss=5.79, avg_loss=0.579]\n",
      "Train: 100%|██████████| 50/50 [00:11<00:00,  4.24it/s, loss=31, avg_loss=0.621]\n",
      "Eval: 100%|██████████| 10/10 [00:01<00:00,  7.67it/s, loss=5.73, avg_loss=0.573]\n",
      "Train: 100%|██████████| 50/50 [00:11<00:00,  4.26it/s, loss=29.3, avg_loss=0.585]\n",
      "Eval: 100%|██████████| 10/10 [00:01<00:00,  7.60it/s, loss=6.08, avg_loss=0.608]\n",
      "Train: 100%|██████████| 50/50 [00:11<00:00,  4.28it/s, loss=28.5, avg_loss=0.57]\n",
      "Eval: 100%|██████████| 10/10 [00:01<00:00,  7.59it/s, loss=5.39, avg_loss=0.539]\n",
      "Train: 100%|██████████| 50/50 [00:11<00:00,  4.24it/s, loss=30.1, avg_loss=0.602]\n",
      "Eval: 100%|██████████| 10/10 [00:01<00:00,  7.74it/s, loss=5.68, avg_loss=0.568]\n",
      "Train: 100%|██████████| 50/50 [00:11<00:00,  4.26it/s, loss=28.7, avg_loss=0.574]\n",
      "Eval: 100%|██████████| 10/10 [00:01<00:00,  7.63it/s, loss=5.94, avg_loss=0.594]\n",
      "Train: 100%|██████████| 50/50 [00:11<00:00,  4.25it/s, loss=29.2, avg_loss=0.583]\n",
      "Eval: 100%|██████████| 10/10 [00:01<00:00,  7.63it/s, loss=6, avg_loss=0.6]\n",
      "Train: 100%|██████████| 50/50 [00:11<00:00,  4.23it/s, loss=28.3, avg_loss=0.565]\n",
      "Eval: 100%|██████████| 10/10 [00:01<00:00,  7.73it/s, loss=5.92, avg_loss=0.592]\n",
      "Train: 100%|██████████| 50/50 [00:11<00:00,  4.28it/s, loss=29.6, avg_loss=0.592]\n",
      "Eval: 100%|██████████| 10/10 [00:01<00:00,  7.74it/s, loss=5.88, avg_loss=0.588]\n",
      "Train: 100%|██████████| 50/50 [00:11<00:00,  4.25it/s, loss=29.9, avg_loss=0.599]\n",
      "Eval: 100%|██████████| 10/10 [00:01<00:00,  7.53it/s, loss=6.02, avg_loss=0.602]\n",
      "Train: 100%|██████████| 50/50 [00:11<00:00,  4.27it/s, loss=27.6, avg_loss=0.552]\n",
      "Eval: 100%|██████████| 10/10 [00:01<00:00,  7.76it/s, loss=5.7, avg_loss=0.57]\n",
      "Train: 100%|██████████| 50/50 [00:11<00:00,  4.25it/s, loss=31.5, avg_loss=0.63]\n",
      "Eval: 100%|██████████| 10/10 [00:01<00:00,  7.59it/s, loss=6.02, avg_loss=0.602]\n",
      "Train: 100%|██████████| 50/50 [00:11<00:00,  4.23it/s, loss=29.4, avg_loss=0.588]\n",
      "Eval: 100%|██████████| 10/10 [00:01<00:00,  7.61it/s, loss=5.04, avg_loss=0.504]\n",
      "Epochs:  16%|█▌        | 31/200 [06:44<36:59, 13.13s/it]"
     ]
    },
    {
     "name": "stdout",
     "output_type": "stream",
     "text": [
      "New best loss: 0.5035950392484665\n"
     ]
    },
    {
     "name": "stderr",
     "output_type": "stream",
     "text": [
      "Train: 100%|██████████| 50/50 [00:11<00:00,  4.24it/s, loss=29, avg_loss=0.58]\n",
      "Eval: 100%|██████████| 10/10 [00:01<00:00,  7.52it/s, loss=5.9, avg_loss=0.59]\n",
      "Train: 100%|██████████| 50/50 [00:11<00:00,  4.27it/s, loss=29.8, avg_loss=0.596]\n",
      "Eval: 100%|██████████| 10/10 [00:01<00:00,  7.57it/s, loss=5.98, avg_loss=0.598]\n",
      "Train: 100%|██████████| 50/50 [00:11<00:00,  4.28it/s, loss=30.1, avg_loss=0.602]\n",
      "Eval: 100%|██████████| 10/10 [00:01<00:00,  7.50it/s, loss=6.63, avg_loss=0.663]\n",
      "Train: 100%|██████████| 50/50 [00:11<00:00,  4.23it/s, loss=29.6, avg_loss=0.591]\n",
      "Eval: 100%|██████████| 10/10 [00:01<00:00,  7.52it/s, loss=6.55, avg_loss=0.655]\n",
      "Train: 100%|██████████| 50/50 [00:11<00:00,  4.25it/s, loss=29.3, avg_loss=0.586]\n",
      "Eval: 100%|██████████| 10/10 [00:01<00:00,  7.68it/s, loss=5.11, avg_loss=0.511]\n",
      "Train: 100%|██████████| 50/50 [00:11<00:00,  4.24it/s, loss=29.4, avg_loss=0.588]\n",
      "Eval: 100%|██████████| 10/10 [00:01<00:00,  7.56it/s, loss=5.72, avg_loss=0.572]\n",
      "Train: 100%|██████████| 50/50 [00:11<00:00,  4.25it/s, loss=28.7, avg_loss=0.574]\n",
      "Eval: 100%|██████████| 10/10 [00:01<00:00,  7.41it/s, loss=6.29, avg_loss=0.629]\n",
      "Train: 100%|██████████| 50/50 [00:11<00:00,  4.25it/s, loss=29.5, avg_loss=0.59]\n",
      "Eval: 100%|██████████| 10/10 [00:01<00:00,  7.46it/s, loss=6.18, avg_loss=0.618]\n",
      "Train: 100%|██████████| 50/50 [00:11<00:00,  4.25it/s, loss=29.2, avg_loss=0.584]\n",
      "Eval: 100%|██████████| 10/10 [00:01<00:00,  7.49it/s, loss=5.92, avg_loss=0.592]\n",
      "Train: 100%|██████████| 50/50 [00:11<00:00,  4.26it/s, loss=28.7, avg_loss=0.574]\n",
      "Eval: 100%|██████████| 10/10 [00:01<00:00,  7.75it/s, loss=6.85, avg_loss=0.685]\n",
      "Train: 100%|██████████| 50/50 [00:11<00:00,  4.26it/s, loss=29.8, avg_loss=0.597]\n",
      "Eval: 100%|██████████| 10/10 [00:01<00:00,  7.56it/s, loss=6.34, avg_loss=0.634]\n",
      "Train: 100%|██████████| 50/50 [00:11<00:00,  4.27it/s, loss=28.8, avg_loss=0.576]\n",
      "Eval: 100%|██████████| 10/10 [00:01<00:00,  7.41it/s, loss=6.74, avg_loss=0.674]\n",
      "Train: 100%|██████████| 50/50 [00:11<00:00,  4.25it/s, loss=30.7, avg_loss=0.614]\n",
      "Eval: 100%|██████████| 10/10 [00:01<00:00,  7.51it/s, loss=6.28, avg_loss=0.628]\n",
      "Train: 100%|██████████| 50/50 [00:11<00:00,  4.26it/s, loss=29.4, avg_loss=0.588]\n",
      "Eval: 100%|██████████| 10/10 [00:01<00:00,  7.81it/s, loss=5.66, avg_loss=0.566]\n",
      "Train: 100%|██████████| 50/50 [00:11<00:00,  4.26it/s, loss=29.6, avg_loss=0.592]\n",
      "Eval: 100%|██████████| 10/10 [00:01<00:00,  7.71it/s, loss=6.45, avg_loss=0.645]\n",
      "Train: 100%|██████████| 50/50 [00:11<00:00,  4.28it/s, loss=28.4, avg_loss=0.567]\n",
      "Eval: 100%|██████████| 10/10 [00:01<00:00,  7.54it/s, loss=5.86, avg_loss=0.586]\n",
      "Train: 100%|██████████| 50/50 [00:11<00:00,  4.25it/s, loss=30.8, avg_loss=0.616]\n",
      "Eval: 100%|██████████| 10/10 [00:01<00:00,  7.68it/s, loss=5.61, avg_loss=0.561]\n",
      "Train: 100%|██████████| 50/50 [00:11<00:00,  4.26it/s, loss=28.5, avg_loss=0.571]\n",
      "Eval: 100%|██████████| 10/10 [00:01<00:00,  7.48it/s, loss=5.6, avg_loss=0.56]\n",
      "Train: 100%|██████████| 50/50 [00:11<00:00,  4.25it/s, loss=28.3, avg_loss=0.565]\n",
      "Eval: 100%|██████████| 10/10 [00:01<00:00,  7.54it/s, loss=6.16, avg_loss=0.616]\n",
      "Train: 100%|██████████| 50/50 [00:11<00:00,  4.22it/s, loss=29.6, avg_loss=0.592]\n",
      "Eval: 100%|██████████| 10/10 [00:01<00:00,  7.39it/s, loss=5.51, avg_loss=0.551]\n",
      "Train: 100%|██████████| 50/50 [00:11<00:00,  4.22it/s, loss=28.3, avg_loss=0.567]\n",
      "Eval: 100%|██████████| 10/10 [00:01<00:00,  7.47it/s, loss=5.93, avg_loss=0.593]\n",
      "Train: 100%|██████████| 50/50 [00:11<00:00,  4.23it/s, loss=26.9, avg_loss=0.539]\n",
      "Eval: 100%|██████████| 10/10 [00:01<00:00,  7.36it/s, loss=5.95, avg_loss=0.595]\n",
      "Train: 100%|██████████| 50/50 [00:11<00:00,  4.25it/s, loss=27.8, avg_loss=0.556]\n",
      "Eval: 100%|██████████| 10/10 [00:01<00:00,  7.64it/s, loss=4.79, avg_loss=0.479]\n",
      "Epochs:  27%|██▋       | 54/200 [11:46<32:03, 13.18s/it]"
     ]
    },
    {
     "name": "stdout",
     "output_type": "stream",
     "text": [
      "New best loss: 0.4794237554073334\n"
     ]
    },
    {
     "name": "stderr",
     "output_type": "stream",
     "text": [
      "Train: 100%|██████████| 50/50 [00:11<00:00,  4.22it/s, loss=28.7, avg_loss=0.574]\n",
      "Eval: 100%|██████████| 10/10 [00:01<00:00,  7.59it/s, loss=5.94, avg_loss=0.594]\n",
      "Train: 100%|██████████| 50/50 [00:11<00:00,  4.26it/s, loss=27.7, avg_loss=0.555]\n",
      "Eval: 100%|██████████| 10/10 [00:01<00:00,  7.54it/s, loss=5.36, avg_loss=0.536]\n",
      "Train: 100%|██████████| 50/50 [00:11<00:00,  4.23it/s, loss=27.9, avg_loss=0.558]\n",
      "Eval: 100%|██████████| 10/10 [00:01<00:00,  7.48it/s, loss=6.01, avg_loss=0.601]\n",
      "Train: 100%|██████████| 50/50 [00:11<00:00,  4.20it/s, loss=27, avg_loss=0.539]\n",
      "Eval: 100%|██████████| 10/10 [00:01<00:00,  7.57it/s, loss=5.63, avg_loss=0.563]\n",
      "Train: 100%|██████████| 50/50 [00:11<00:00,  4.27it/s, loss=27.9, avg_loss=0.557]\n",
      "Eval: 100%|██████████| 10/10 [00:01<00:00,  7.48it/s, loss=5.01, avg_loss=0.501]\n",
      "Train: 100%|██████████| 50/50 [00:11<00:00,  4.24it/s, loss=28.1, avg_loss=0.563]\n",
      "Eval: 100%|██████████| 10/10 [00:01<00:00,  7.49it/s, loss=5.88, avg_loss=0.588]\n",
      "Train: 100%|██████████| 50/50 [00:11<00:00,  4.23it/s, loss=28, avg_loss=0.56]\n",
      "Eval: 100%|██████████| 10/10 [00:01<00:00,  7.66it/s, loss=5.59, avg_loss=0.559]\n",
      "Train: 100%|██████████| 50/50 [00:11<00:00,  4.26it/s, loss=28.6, avg_loss=0.572]\n",
      "Eval: 100%|██████████| 10/10 [00:01<00:00,  7.26it/s, loss=6.25, avg_loss=0.625]\n",
      "Train: 100%|██████████| 50/50 [00:11<00:00,  4.25it/s, loss=28.7, avg_loss=0.574]\n",
      "Eval: 100%|██████████| 10/10 [00:01<00:00,  7.60it/s, loss=5.54, avg_loss=0.554]\n",
      "Train: 100%|██████████| 50/50 [00:11<00:00,  4.25it/s, loss=27.8, avg_loss=0.557]\n",
      "Eval: 100%|██████████| 10/10 [00:01<00:00,  7.53it/s, loss=5.58, avg_loss=0.558]\n",
      "Train: 100%|██████████| 50/50 [00:11<00:00,  4.22it/s, loss=28.9, avg_loss=0.577]\n",
      "Eval: 100%|██████████| 10/10 [00:01<00:00,  7.45it/s, loss=5.58, avg_loss=0.558]\n",
      "Train: 100%|██████████| 50/50 [00:11<00:00,  4.23it/s, loss=28.7, avg_loss=0.574]\n",
      "Eval: 100%|██████████| 10/10 [00:01<00:00,  7.43it/s, loss=5.71, avg_loss=0.571]\n",
      "Train: 100%|██████████| 50/50 [00:11<00:00,  4.24it/s, loss=29.1, avg_loss=0.582]\n",
      "Eval: 100%|██████████| 10/10 [00:01<00:00,  7.63it/s, loss=5.92, avg_loss=0.592]\n",
      "Train: 100%|██████████| 50/50 [00:11<00:00,  4.21it/s, loss=31.1, avg_loss=0.623]\n",
      "Eval: 100%|██████████| 10/10 [00:01<00:00,  7.57it/s, loss=5.6, avg_loss=0.56]\n",
      "Train: 100%|██████████| 50/50 [00:11<00:00,  4.26it/s, loss=26.7, avg_loss=0.533]\n",
      "Eval: 100%|██████████| 10/10 [00:01<00:00,  7.52it/s, loss=6.21, avg_loss=0.621]\n",
      "Train: 100%|██████████| 50/50 [00:11<00:00,  4.25it/s, loss=28.5, avg_loss=0.569]\n",
      "Eval: 100%|██████████| 10/10 [00:01<00:00,  7.69it/s, loss=5.89, avg_loss=0.589]\n",
      "Train: 100%|██████████| 50/50 [00:11<00:00,  4.25it/s, loss=27.9, avg_loss=0.558]\n",
      "Eval: 100%|██████████| 10/10 [00:01<00:00,  7.62it/s, loss=5.26, avg_loss=0.526]\n",
      "Train: 100%|██████████| 50/50 [00:11<00:00,  4.22it/s, loss=28.2, avg_loss=0.565]\n",
      "Eval: 100%|██████████| 10/10 [00:01<00:00,  7.56it/s, loss=6.08, avg_loss=0.608]\n",
      "Train: 100%|██████████| 50/50 [00:11<00:00,  4.26it/s, loss=27.3, avg_loss=0.546]\n",
      "Eval: 100%|██████████| 10/10 [00:01<00:00,  7.66it/s, loss=5.97, avg_loss=0.597]\n",
      "Train: 100%|██████████| 50/50 [00:11<00:00,  4.28it/s, loss=28.8, avg_loss=0.576]\n",
      "Eval: 100%|██████████| 10/10 [00:01<00:00,  7.53it/s, loss=5.89, avg_loss=0.589]\n",
      "Train: 100%|██████████| 50/50 [00:11<00:00,  4.20it/s, loss=30.2, avg_loss=0.604]\n",
      "Eval: 100%|██████████| 10/10 [00:01<00:00,  7.86it/s, loss=4.51, avg_loss=0.451]\n",
      "Epochs:  38%|███▊      | 75/200 [16:21<27:24, 13.15s/it]"
     ]
    },
    {
     "name": "stdout",
     "output_type": "stream",
     "text": [
      "New best loss: 0.4506273478269577\n"
     ]
    },
    {
     "name": "stderr",
     "output_type": "stream",
     "text": [
      "Train: 100%|██████████| 50/50 [00:11<00:00,  4.27it/s, loss=28.6, avg_loss=0.572]\n",
      "Eval: 100%|██████████| 10/10 [00:01<00:00,  7.66it/s, loss=4.8, avg_loss=0.48]\n",
      "Train: 100%|██████████| 50/50 [00:11<00:00,  4.27it/s, loss=28.1, avg_loss=0.563]\n",
      "Eval: 100%|██████████| 10/10 [00:01<00:00,  7.51it/s, loss=6.14, avg_loss=0.614]\n",
      "Train: 100%|██████████| 50/50 [00:11<00:00,  4.25it/s, loss=27.9, avg_loss=0.558]\n",
      "Eval: 100%|██████████| 10/10 [00:01<00:00,  7.43it/s, loss=5.3, avg_loss=0.53]\n",
      "Train: 100%|██████████| 50/50 [00:11<00:00,  4.22it/s, loss=29.1, avg_loss=0.582]\n",
      "Eval: 100%|██████████| 10/10 [00:01<00:00,  7.58it/s, loss=6.23, avg_loss=0.623]\n",
      "Train: 100%|██████████| 50/50 [00:11<00:00,  4.26it/s, loss=28.7, avg_loss=0.574]\n",
      "Eval: 100%|██████████| 10/10 [00:01<00:00,  7.60it/s, loss=5.92, avg_loss=0.592]\n",
      "Train: 100%|██████████| 50/50 [00:11<00:00,  4.22it/s, loss=27.9, avg_loss=0.559]\n",
      "Eval: 100%|██████████| 10/10 [00:01<00:00,  7.52it/s, loss=4.95, avg_loss=0.495]\n",
      "Train: 100%|██████████| 50/50 [00:11<00:00,  4.22it/s, loss=30.6, avg_loss=0.613]\n",
      "Eval: 100%|██████████| 10/10 [00:01<00:00,  7.67it/s, loss=6.11, avg_loss=0.611]\n",
      "Train: 100%|██████████| 50/50 [00:11<00:00,  4.22it/s, loss=27.7, avg_loss=0.555]\n",
      "Eval: 100%|██████████| 10/10 [00:01<00:00,  7.37it/s, loss=6.75, avg_loss=0.675]\n",
      "Train: 100%|██████████| 50/50 [00:11<00:00,  4.22it/s, loss=28.3, avg_loss=0.566]\n",
      "Eval: 100%|██████████| 10/10 [00:01<00:00,  7.33it/s, loss=6.28, avg_loss=0.628]\n",
      "Train: 100%|██████████| 50/50 [00:11<00:00,  4.20it/s, loss=29.8, avg_loss=0.596]\n",
      "Eval: 100%|██████████| 10/10 [00:01<00:00,  7.21it/s, loss=5.86, avg_loss=0.586]\n",
      "Train: 100%|██████████| 50/50 [00:11<00:00,  4.21it/s, loss=27.9, avg_loss=0.557]\n",
      "Eval: 100%|██████████| 10/10 [00:01<00:00,  7.46it/s, loss=6.3, avg_loss=0.63]\n",
      "Train: 100%|██████████| 50/50 [00:11<00:00,  4.24it/s, loss=28.3, avg_loss=0.566]\n",
      "Eval: 100%|██████████| 10/10 [00:01<00:00,  7.59it/s, loss=4.91, avg_loss=0.491]\n",
      "Train: 100%|██████████| 50/50 [00:11<00:00,  4.22it/s, loss=28.3, avg_loss=0.566]\n",
      "Eval: 100%|██████████| 10/10 [00:01<00:00,  7.53it/s, loss=5.04, avg_loss=0.504]\n",
      "Train: 100%|██████████| 50/50 [00:11<00:00,  4.22it/s, loss=28.5, avg_loss=0.57]\n",
      "Eval: 100%|██████████| 10/10 [00:01<00:00,  7.41it/s, loss=5.11, avg_loss=0.511]\n",
      "Train: 100%|██████████| 50/50 [00:12<00:00,  4.10it/s, loss=28.2, avg_loss=0.564]\n",
      "Eval: 100%|██████████| 10/10 [00:01<00:00,  7.17it/s, loss=6.32, avg_loss=0.632]\n",
      "Train: 100%|██████████| 50/50 [00:12<00:00,  4.03it/s, loss=27.8, avg_loss=0.557]\n",
      "Eval: 100%|██████████| 10/10 [00:01<00:00,  7.25it/s, loss=5.5, avg_loss=0.55]\n",
      "Train: 100%|██████████| 50/50 [00:12<00:00,  4.11it/s, loss=28, avg_loss=0.559]\n",
      "Eval: 100%|██████████| 10/10 [00:01<00:00,  7.41it/s, loss=5.38, avg_loss=0.538]\n",
      "Train: 100%|██████████| 50/50 [00:12<00:00,  4.10it/s, loss=28, avg_loss=0.56]\n",
      "Eval: 100%|██████████| 10/10 [00:01<00:00,  7.48it/s, loss=5.58, avg_loss=0.558]\n",
      "Train: 100%|██████████| 50/50 [00:12<00:00,  4.14it/s, loss=28.9, avg_loss=0.578]\n",
      "Eval: 100%|██████████| 10/10 [00:01<00:00,  7.28it/s, loss=5.48, avg_loss=0.548]\n",
      "Train: 100%|██████████| 50/50 [00:12<00:00,  4.10it/s, loss=28.7, avg_loss=0.574]\n",
      "Eval: 100%|██████████| 10/10 [00:01<00:00,  7.27it/s, loss=5.72, avg_loss=0.572]\n",
      "Train: 100%|██████████| 50/50 [00:12<00:00,  4.12it/s, loss=27.4, avg_loss=0.548]\n",
      "Eval: 100%|██████████| 10/10 [00:01<00:00,  7.35it/s, loss=6.55, avg_loss=0.655]\n",
      "Train: 100%|██████████| 50/50 [00:12<00:00,  4.10it/s, loss=28.5, avg_loss=0.57]\n",
      "Eval: 100%|██████████| 10/10 [00:01<00:00,  7.32it/s, loss=5.58, avg_loss=0.558]\n",
      "Train: 100%|██████████| 50/50 [00:12<00:00,  4.12it/s, loss=28.3, avg_loss=0.566]\n",
      "Eval: 100%|██████████| 10/10 [00:01<00:00,  7.28it/s, loss=5.65, avg_loss=0.565]\n",
      "Train: 100%|██████████| 50/50 [00:12<00:00,  4.11it/s, loss=26.4, avg_loss=0.528]\n",
      "Eval: 100%|██████████| 10/10 [00:01<00:00,  7.34it/s, loss=6.01, avg_loss=0.601]\n",
      "Train: 100%|██████████| 50/50 [00:11<00:00,  4.19it/s, loss=29.7, avg_loss=0.595]\n",
      "Eval: 100%|██████████| 10/10 [00:01<00:00,  7.26it/s, loss=5.26, avg_loss=0.526]\n",
      "Train: 100%|██████████| 50/50 [00:11<00:00,  4.23it/s, loss=27.9, avg_loss=0.558]\n",
      "Eval: 100%|██████████| 10/10 [00:01<00:00,  7.64it/s, loss=5.51, avg_loss=0.551]\n",
      "Train: 100%|██████████| 50/50 [00:11<00:00,  4.20it/s, loss=30.2, avg_loss=0.603]\n",
      "Eval: 100%|██████████| 10/10 [00:01<00:00,  7.47it/s, loss=5.62, avg_loss=0.562]\n",
      "Train: 100%|██████████| 50/50 [00:11<00:00,  4.21it/s, loss=27.7, avg_loss=0.553]\n",
      "Eval: 100%|██████████| 10/10 [00:01<00:00,  7.47it/s, loss=5.48, avg_loss=0.548]\n",
      "Train: 100%|██████████| 50/50 [00:11<00:00,  4.23it/s, loss=28.9, avg_loss=0.578]\n",
      "Eval: 100%|██████████| 10/10 [00:01<00:00,  7.49it/s, loss=4.93, avg_loss=0.493]\n",
      "Train: 100%|██████████| 50/50 [00:11<00:00,  4.22it/s, loss=28.6, avg_loss=0.573]\n",
      "Eval: 100%|██████████| 10/10 [00:01<00:00,  7.57it/s, loss=4.85, avg_loss=0.485]\n",
      "Train: 100%|██████████| 50/50 [00:11<00:00,  4.22it/s, loss=28.7, avg_loss=0.574]\n",
      "Eval: 100%|██████████| 10/10 [00:01<00:00,  7.48it/s, loss=5.47, avg_loss=0.547]\n",
      "Train: 100%|██████████| 50/50 [00:11<00:00,  4.21it/s, loss=28.7, avg_loss=0.575]\n",
      "Eval: 100%|██████████| 10/10 [00:01<00:00,  7.19it/s, loss=5.39, avg_loss=0.539]\n",
      "Train: 100%|██████████| 50/50 [00:11<00:00,  4.22it/s, loss=27.5, avg_loss=0.55]\n",
      "Eval: 100%|██████████| 10/10 [00:01<00:00,  7.30it/s, loss=5.83, avg_loss=0.583]\n",
      "Train: 100%|██████████| 50/50 [00:11<00:00,  4.25it/s, loss=26.4, avg_loss=0.529]\n",
      "Eval: 100%|██████████| 10/10 [00:01<00:00,  7.34it/s, loss=6.35, avg_loss=0.635]\n",
      "Train: 100%|██████████| 50/50 [00:11<00:00,  4.22it/s, loss=28.3, avg_loss=0.565]\n",
      "Eval: 100%|██████████| 10/10 [00:01<00:00,  7.65it/s, loss=5.38, avg_loss=0.538]\n",
      "Train: 100%|██████████| 50/50 [00:11<00:00,  4.22it/s, loss=28.5, avg_loss=0.571]\n",
      "Eval: 100%|██████████| 10/10 [00:01<00:00,  7.46it/s, loss=6.69, avg_loss=0.669]\n",
      "Train: 100%|██████████| 50/50 [00:11<00:00,  4.22it/s, loss=26.9, avg_loss=0.538]\n",
      "Eval: 100%|██████████| 10/10 [00:01<00:00,  7.54it/s, loss=5.42, avg_loss=0.542]\n",
      "Train: 100%|██████████| 50/50 [00:11<00:00,  4.23it/s, loss=27.3, avg_loss=0.546]\n",
      "Eval: 100%|██████████| 10/10 [00:01<00:00,  7.36it/s, loss=5.33, avg_loss=0.533]\n",
      "Train: 100%|██████████| 50/50 [00:11<00:00,  4.22it/s, loss=28.3, avg_loss=0.566]\n",
      "Eval: 100%|██████████| 10/10 [00:01<00:00,  7.36it/s, loss=6.06, avg_loss=0.606]\n",
      "Train: 100%|██████████| 50/50 [00:11<00:00,  4.24it/s, loss=27.2, avg_loss=0.545]\n",
      "Eval: 100%|██████████| 10/10 [00:01<00:00,  7.54it/s, loss=5.45, avg_loss=0.545]\n",
      "Train: 100%|██████████| 50/50 [00:11<00:00,  4.23it/s, loss=28.4, avg_loss=0.569]\n",
      "Eval: 100%|██████████| 10/10 [00:01<00:00,  7.34it/s, loss=5.47, avg_loss=0.547]\n",
      "Train: 100%|██████████| 50/50 [00:11<00:00,  4.20it/s, loss=27.5, avg_loss=0.549]\n",
      "Eval: 100%|██████████| 10/10 [00:01<00:00,  7.29it/s, loss=5.42, avg_loss=0.542]\n",
      "Train: 100%|██████████| 50/50 [00:11<00:00,  4.21it/s, loss=28.6, avg_loss=0.572]\n",
      "Eval: 100%|██████████| 10/10 [00:01<00:00,  7.39it/s, loss=5.48, avg_loss=0.548]\n",
      "Train: 100%|██████████| 50/50 [00:11<00:00,  4.19it/s, loss=27.8, avg_loss=0.556]\n",
      "Eval: 100%|██████████| 10/10 [00:01<00:00,  7.61it/s, loss=5.3, avg_loss=0.53]\n",
      "Train: 100%|██████████| 50/50 [00:11<00:00,  4.23it/s, loss=27.3, avg_loss=0.547]\n",
      "Eval: 100%|██████████| 10/10 [00:01<00:00,  7.57it/s, loss=5.54, avg_loss=0.554]\n",
      "Train: 100%|██████████| 50/50 [00:11<00:00,  4.25it/s, loss=25.1, avg_loss=0.503]\n",
      "Eval: 100%|██████████| 10/10 [00:01<00:00,  7.52it/s, loss=5.79, avg_loss=0.579]\n",
      "Train: 100%|██████████| 50/50 [00:11<00:00,  4.24it/s, loss=28.6, avg_loss=0.571]\n",
      "Eval: 100%|██████████| 10/10 [00:01<00:00,  7.46it/s, loss=6.16, avg_loss=0.616]\n",
      "Train: 100%|██████████| 50/50 [00:11<00:00,  4.23it/s, loss=28.7, avg_loss=0.573]\n",
      "Eval: 100%|██████████| 10/10 [00:01<00:00,  7.53it/s, loss=5.95, avg_loss=0.595]\n",
      "Train: 100%|██████████| 50/50 [00:11<00:00,  4.22it/s, loss=27.5, avg_loss=0.55]\n",
      "Eval: 100%|██████████| 10/10 [00:01<00:00,  7.53it/s, loss=5.38, avg_loss=0.538]\n",
      "Train: 100%|██████████| 50/50 [00:11<00:00,  4.23it/s, loss=27.2, avg_loss=0.543]\n",
      "Eval: 100%|██████████| 10/10 [00:01<00:00,  7.59it/s, loss=5.56, avg_loss=0.556]\n",
      "Train: 100%|██████████| 50/50 [00:11<00:00,  4.21it/s, loss=27.7, avg_loss=0.555]\n",
      "Eval: 100%|██████████| 10/10 [00:01<00:00,  7.29it/s, loss=6.03, avg_loss=0.603]\n",
      "Train: 100%|██████████| 50/50 [00:11<00:00,  4.22it/s, loss=28.1, avg_loss=0.563]\n",
      "Eval: 100%|██████████| 10/10 [00:01<00:00,  7.52it/s, loss=5.06, avg_loss=0.506]\n",
      "Train: 100%|██████████| 50/50 [00:11<00:00,  4.18it/s, loss=29.2, avg_loss=0.585]\n",
      "Eval: 100%|██████████| 10/10 [00:01<00:00,  7.38it/s, loss=5.48, avg_loss=0.548]\n",
      "Train: 100%|██████████| 50/50 [00:12<00:00,  4.16it/s, loss=28.5, avg_loss=0.57]\n",
      "Eval: 100%|██████████| 10/10 [00:01<00:00,  7.76it/s, loss=5.08, avg_loss=0.508]\n",
      "Train: 100%|██████████| 50/50 [00:11<00:00,  4.21it/s, loss=27.6, avg_loss=0.552]\n",
      "Eval: 100%|██████████| 10/10 [00:01<00:00,  7.31it/s, loss=6.24, avg_loss=0.624]\n",
      "Train: 100%|██████████| 50/50 [00:11<00:00,  4.22it/s, loss=27.7, avg_loss=0.553]\n",
      "Eval: 100%|██████████| 10/10 [00:01<00:00,  7.51it/s, loss=5.38, avg_loss=0.538]\n",
      "Train: 100%|██████████| 50/50 [00:11<00:00,  4.20it/s, loss=27.6, avg_loss=0.552]\n",
      "Eval: 100%|██████████| 10/10 [00:01<00:00,  7.34it/s, loss=5.15, avg_loss=0.515]\n",
      "Train: 100%|██████████| 50/50 [00:11<00:00,  4.23it/s, loss=27.2, avg_loss=0.544]\n",
      "Eval: 100%|██████████| 10/10 [00:01<00:00,  7.53it/s, loss=5, avg_loss=0.5]\n",
      "Train: 100%|██████████| 50/50 [00:11<00:00,  4.22it/s, loss=27.3, avg_loss=0.546]\n",
      "Eval: 100%|██████████| 10/10 [00:01<00:00,  7.48it/s, loss=5.55, avg_loss=0.555]\n",
      "Train: 100%|██████████| 50/50 [00:11<00:00,  4.20it/s, loss=28.4, avg_loss=0.568]\n",
      "Eval: 100%|██████████| 10/10 [00:01<00:00,  7.38it/s, loss=4.87, avg_loss=0.487]\n",
      "Train: 100%|██████████| 50/50 [00:11<00:00,  4.20it/s, loss=28.1, avg_loss=0.562]\n",
      "Eval: 100%|██████████| 10/10 [00:01<00:00,  7.39it/s, loss=5, avg_loss=0.5]\n",
      "Train: 100%|██████████| 50/50 [00:11<00:00,  4.23it/s, loss=26.1, avg_loss=0.521]\n",
      "Eval: 100%|██████████| 10/10 [00:01<00:00,  7.95it/s, loss=4.8, avg_loss=0.48]\n",
      "Train: 100%|██████████| 50/50 [00:11<00:00,  4.22it/s, loss=27.3, avg_loss=0.546]\n",
      "Eval: 100%|██████████| 10/10 [00:01<00:00,  7.44it/s, loss=5.81, avg_loss=0.581]\n",
      "Train: 100%|██████████| 50/50 [00:11<00:00,  4.20it/s, loss=26.3, avg_loss=0.527]\n",
      "Eval: 100%|██████████| 10/10 [00:01<00:00,  7.15it/s, loss=6.17, avg_loss=0.617]\n",
      "Train: 100%|██████████| 50/50 [00:11<00:00,  4.18it/s, loss=28, avg_loss=0.559]\n",
      "Eval: 100%|██████████| 10/10 [00:01<00:00,  7.24it/s, loss=5.68, avg_loss=0.568]\n",
      "Train: 100%|██████████| 50/50 [00:12<00:00,  4.07it/s, loss=27.5, avg_loss=0.55]\n",
      "Eval: 100%|██████████| 10/10 [00:01<00:00,  7.13it/s, loss=5.62, avg_loss=0.562]\n",
      "Train: 100%|██████████| 50/50 [00:12<00:00,  3.98it/s, loss=27.4, avg_loss=0.548]\n",
      "Eval: 100%|██████████| 10/10 [00:01<00:00,  7.33it/s, loss=5.39, avg_loss=0.539]\n",
      "Train: 100%|██████████| 50/50 [00:12<00:00,  4.04it/s, loss=28.6, avg_loss=0.572]\n",
      "Eval: 100%|██████████| 10/10 [00:01<00:00,  7.22it/s, loss=5.95, avg_loss=0.595]\n",
      "Train: 100%|██████████| 50/50 [00:12<00:00,  4.06it/s, loss=28.1, avg_loss=0.562]\n",
      "Eval: 100%|██████████| 10/10 [00:01<00:00,  7.30it/s, loss=5.43, avg_loss=0.543]\n",
      "Train: 100%|██████████| 50/50 [00:12<00:00,  4.08it/s, loss=28, avg_loss=0.56]\n",
      "Eval: 100%|██████████| 10/10 [00:01<00:00,  7.17it/s, loss=5.76, avg_loss=0.576]\n",
      "Train: 100%|██████████| 50/50 [00:12<00:00,  4.04it/s, loss=27.7, avg_loss=0.555]\n",
      "Eval: 100%|██████████| 10/10 [00:01<00:00,  7.15it/s, loss=6, avg_loss=0.6]\n",
      "Train: 100%|██████████| 50/50 [00:12<00:00,  4.06it/s, loss=27.7, avg_loss=0.553]\n",
      "Eval: 100%|██████████| 10/10 [00:01<00:00,  7.19it/s, loss=5.05, avg_loss=0.505]\n",
      "Train: 100%|██████████| 50/50 [00:12<00:00,  4.07it/s, loss=25.7, avg_loss=0.514]\n",
      "Eval: 100%|██████████| 10/10 [00:01<00:00,  7.11it/s, loss=5.94, avg_loss=0.594]\n",
      "Train: 100%|██████████| 50/50 [00:12<00:00,  4.07it/s, loss=27.9, avg_loss=0.557]\n",
      "Eval: 100%|██████████| 10/10 [00:01<00:00,  7.21it/s, loss=5.86, avg_loss=0.586]\n",
      "Train: 100%|██████████| 50/50 [00:12<00:00,  4.10it/s, loss=27.4, avg_loss=0.547]\n",
      "Eval: 100%|██████████| 10/10 [00:01<00:00,  7.42it/s, loss=5.28, avg_loss=0.528]\n",
      "Train: 100%|██████████| 50/50 [00:12<00:00,  4.04it/s, loss=27, avg_loss=0.54]\n",
      "Eval: 100%|██████████| 10/10 [00:01<00:00,  6.92it/s, loss=5.31, avg_loss=0.531]\n",
      "Train: 100%|██████████| 50/50 [00:12<00:00,  4.11it/s, loss=28.9, avg_loss=0.578]\n",
      "Eval: 100%|██████████| 10/10 [00:01<00:00,  7.52it/s, loss=5.79, avg_loss=0.579]\n",
      "Train: 100%|██████████| 50/50 [00:11<00:00,  4.22it/s, loss=27.6, avg_loss=0.552]\n",
      "Eval: 100%|██████████| 10/10 [00:01<00:00,  7.49it/s, loss=5.74, avg_loss=0.574]\n",
      "Train: 100%|██████████| 50/50 [00:11<00:00,  4.19it/s, loss=27.3, avg_loss=0.546]\n",
      "Eval: 100%|██████████| 10/10 [00:01<00:00,  7.15it/s, loss=5.83, avg_loss=0.583]\n",
      "Train: 100%|██████████| 50/50 [00:11<00:00,  4.20it/s, loss=28.8, avg_loss=0.576]\n",
      "Eval: 100%|██████████| 10/10 [00:01<00:00,  7.43it/s, loss=5.99, avg_loss=0.599]\n",
      "Train: 100%|██████████| 50/50 [00:11<00:00,  4.19it/s, loss=29.3, avg_loss=0.587]\n",
      "Eval: 100%|██████████| 10/10 [00:01<00:00,  7.52it/s, loss=5.42, avg_loss=0.542]\n",
      "Train: 100%|██████████| 50/50 [00:11<00:00,  4.22it/s, loss=28.2, avg_loss=0.565]\n",
      "Eval: 100%|██████████| 10/10 [00:01<00:00,  7.40it/s, loss=5.94, avg_loss=0.594]\n",
      "Train: 100%|██████████| 50/50 [00:11<00:00,  4.19it/s, loss=28.1, avg_loss=0.561]\n",
      "Eval: 100%|██████████| 10/10 [00:01<00:00,  7.33it/s, loss=6.17, avg_loss=0.617]\n",
      "Train: 100%|██████████| 50/50 [00:11<00:00,  4.20it/s, loss=26.6, avg_loss=0.532]\n",
      "Eval: 100%|██████████| 10/10 [00:01<00:00,  7.28it/s, loss=5.38, avg_loss=0.538]\n",
      "Train: 100%|██████████| 50/50 [00:11<00:00,  4.20it/s, loss=27.5, avg_loss=0.549]\n",
      "Eval: 100%|██████████| 10/10 [00:01<00:00,  7.28it/s, loss=5.5, avg_loss=0.55]\n",
      "Train: 100%|██████████| 50/50 [00:11<00:00,  4.18it/s, loss=27.9, avg_loss=0.558]\n",
      "Eval: 100%|██████████| 10/10 [00:01<00:00,  7.55it/s, loss=4.74, avg_loss=0.474]\n",
      "Train: 100%|██████████| 50/50 [00:11<00:00,  4.21it/s, loss=26.3, avg_loss=0.526]\n",
      "Eval: 100%|██████████| 10/10 [00:01<00:00,  7.53it/s, loss=5.66, avg_loss=0.566]\n",
      "Train: 100%|██████████| 50/50 [00:11<00:00,  4.22it/s, loss=26.7, avg_loss=0.533]\n",
      "Eval: 100%|██████████| 10/10 [00:01<00:00,  7.58it/s, loss=4.87, avg_loss=0.487]\n",
      "Train: 100%|██████████| 50/50 [00:11<00:00,  4.18it/s, loss=27.7, avg_loss=0.554]\n",
      "Eval: 100%|██████████| 10/10 [00:01<00:00,  7.37it/s, loss=5.83, avg_loss=0.583]\n",
      "Train: 100%|██████████| 50/50 [00:11<00:00,  4.20it/s, loss=28.1, avg_loss=0.562]\n",
      "Eval: 100%|██████████| 10/10 [00:01<00:00,  7.28it/s, loss=5.99, avg_loss=0.599]\n",
      "Train: 100%|██████████| 50/50 [00:11<00:00,  4.21it/s, loss=27.3, avg_loss=0.546]\n",
      "Eval: 100%|██████████| 10/10 [00:01<00:00,  7.33it/s, loss=5.17, avg_loss=0.517]\n",
      "Train: 100%|██████████| 50/50 [00:11<00:00,  4.20it/s, loss=27.3, avg_loss=0.546]\n",
      "Eval: 100%|██████████| 10/10 [00:01<00:00,  7.27it/s, loss=5.54, avg_loss=0.554]\n",
      "Train: 100%|██████████| 50/50 [00:11<00:00,  4.17it/s, loss=27.5, avg_loss=0.55]\n",
      "Eval: 100%|██████████| 10/10 [00:01<00:00,  7.21it/s, loss=5.03, avg_loss=0.503]\n",
      "Train: 100%|██████████| 50/50 [00:11<00:00,  4.18it/s, loss=26.7, avg_loss=0.533]\n",
      "Eval: 100%|██████████| 10/10 [00:01<00:00,  7.47it/s, loss=5.16, avg_loss=0.516]\n",
      "Train: 100%|██████████| 50/50 [00:11<00:00,  4.20it/s, loss=26.4, avg_loss=0.529]\n",
      "Eval: 100%|██████████| 10/10 [00:01<00:00,  7.18it/s, loss=6.04, avg_loss=0.604]\n",
      "Train: 100%|██████████| 50/50 [00:11<00:00,  4.20it/s, loss=27.3, avg_loss=0.546]\n",
      "Eval: 100%|██████████| 10/10 [00:01<00:00,  7.23it/s, loss=5.53, avg_loss=0.553]\n",
      "Train: 100%|██████████| 50/50 [00:11<00:00,  4.21it/s, loss=26.7, avg_loss=0.534]\n",
      "Eval: 100%|██████████| 10/10 [00:01<00:00,  7.23it/s, loss=5, avg_loss=0.5]\n",
      "Train: 100%|██████████| 50/50 [00:11<00:00,  4.21it/s, loss=27.7, avg_loss=0.555]\n",
      "Eval: 100%|██████████| 10/10 [00:01<00:00,  7.44it/s, loss=5.42, avg_loss=0.542]\n",
      "Train: 100%|██████████| 50/50 [00:11<00:00,  4.21it/s, loss=27.2, avg_loss=0.545]\n",
      "Eval: 100%|██████████| 10/10 [00:01<00:00,  7.32it/s, loss=4.93, avg_loss=0.493]\n",
      "Train: 100%|██████████| 50/50 [00:11<00:00,  4.23it/s, loss=26.4, avg_loss=0.529]\n",
      "Eval: 100%|██████████| 10/10 [00:01<00:00,  7.28it/s, loss=5.83, avg_loss=0.583]\n",
      "Train: 100%|██████████| 50/50 [00:11<00:00,  4.18it/s, loss=27.3, avg_loss=0.546]\n",
      "Eval: 100%|██████████| 10/10 [00:01<00:00,  7.37it/s, loss=5.42, avg_loss=0.542]\n",
      "Train: 100%|██████████| 50/50 [00:11<00:00,  4.19it/s, loss=27, avg_loss=0.541]\n",
      "Eval: 100%|██████████| 10/10 [00:01<00:00,  7.38it/s, loss=5.75, avg_loss=0.575]\n",
      "Train: 100%|██████████| 50/50 [00:12<00:00,  4.14it/s, loss=28.7, avg_loss=0.575]\n",
      "Eval: 100%|██████████| 10/10 [00:01<00:00,  6.76it/s, loss=6.21, avg_loss=0.621]\n",
      "Train: 100%|██████████| 50/50 [00:12<00:00,  4.05it/s, loss=28.8, avg_loss=0.575]\n",
      "Eval: 100%|██████████| 10/10 [00:01<00:00,  7.03it/s, loss=5.57, avg_loss=0.557]\n",
      "Train: 100%|██████████| 50/50 [00:12<00:00,  4.02it/s, loss=26.8, avg_loss=0.536]\n",
      "Eval: 100%|██████████| 10/10 [00:01<00:00,  7.15it/s, loss=6.16, avg_loss=0.616]\n",
      "Train: 100%|██████████| 50/50 [00:12<00:00,  4.02it/s, loss=27.4, avg_loss=0.548]\n",
      "Eval: 100%|██████████| 10/10 [00:01<00:00,  7.59it/s, loss=5.06, avg_loss=0.506]\n",
      "Train: 100%|██████████| 50/50 [00:11<00:00,  4.20it/s, loss=27.1, avg_loss=0.543]\n",
      "Eval: 100%|██████████| 10/10 [00:01<00:00,  7.31it/s, loss=5.96, avg_loss=0.596]\n",
      "Train: 100%|██████████| 50/50 [00:11<00:00,  4.19it/s, loss=27.3, avg_loss=0.546]\n",
      "Eval: 100%|██████████| 10/10 [00:01<00:00,  7.48it/s, loss=5.41, avg_loss=0.541]\n",
      "Train: 100%|██████████| 50/50 [00:11<00:00,  4.21it/s, loss=27.2, avg_loss=0.543]\n",
      "Eval: 100%|██████████| 10/10 [00:01<00:00,  7.52it/s, loss=5.4, avg_loss=0.54]\n",
      "Train: 100%|██████████| 50/50 [00:11<00:00,  4.21it/s, loss=28.3, avg_loss=0.566]\n",
      "Eval: 100%|██████████| 10/10 [00:01<00:00,  7.26it/s, loss=6.21, avg_loss=0.621]\n",
      "Train: 100%|██████████| 50/50 [00:11<00:00,  4.18it/s, loss=27.3, avg_loss=0.545]\n",
      "Eval: 100%|██████████| 10/10 [00:01<00:00,  7.67it/s, loss=4.99, avg_loss=0.499]\n",
      "Train: 100%|██████████| 50/50 [00:11<00:00,  4.21it/s, loss=26.7, avg_loss=0.533]\n",
      "Eval: 100%|██████████| 10/10 [00:01<00:00,  7.45it/s, loss=5.08, avg_loss=0.508]\n",
      "Train: 100%|██████████| 50/50 [00:11<00:00,  4.19it/s, loss=28, avg_loss=0.561]\n",
      "Eval: 100%|██████████| 10/10 [00:01<00:00,  7.46it/s, loss=4.98, avg_loss=0.498]\n",
      "Train: 100%|██████████| 50/50 [00:11<00:00,  4.20it/s, loss=26.6, avg_loss=0.532]\n",
      "Eval: 100%|██████████| 10/10 [00:01<00:00,  7.37it/s, loss=5.73, avg_loss=0.573]\n",
      "Train: 100%|██████████| 50/50 [00:12<00:00,  4.17it/s, loss=28.1, avg_loss=0.562]\n",
      "Eval: 100%|██████████| 10/10 [00:01<00:00,  7.45it/s, loss=5.06, avg_loss=0.506]\n",
      "Train: 100%|██████████| 50/50 [00:11<00:00,  4.18it/s, loss=27.4, avg_loss=0.549]\n",
      "Eval: 100%|██████████| 10/10 [00:01<00:00,  7.39it/s, loss=5.28, avg_loss=0.528]\n",
      "Train: 100%|██████████| 50/50 [00:12<00:00,  4.15it/s, loss=26.6, avg_loss=0.533]\n",
      "Eval: 100%|██████████| 10/10 [00:01<00:00,  7.20it/s, loss=6.08, avg_loss=0.608]\n",
      "Train: 100%|██████████| 50/50 [00:12<00:00,  4.16it/s, loss=29.4, avg_loss=0.588]\n",
      "Eval: 100%|██████████| 10/10 [00:01<00:00,  7.32it/s, loss=5.35, avg_loss=0.535]\n",
      "Train: 100%|██████████| 50/50 [00:12<00:00,  4.14it/s, loss=28, avg_loss=0.56]\n",
      "Eval: 100%|██████████| 10/10 [00:01<00:00,  7.22it/s, loss=5.37, avg_loss=0.537]\n",
      "Train: 100%|██████████| 50/50 [00:12<00:00,  4.16it/s, loss=28, avg_loss=0.56]\n",
      "Eval: 100%|██████████| 10/10 [00:01<00:00,  7.22it/s, loss=5.89, avg_loss=0.589]\n",
      "Train: 100%|██████████| 50/50 [00:12<00:00,  4.15it/s, loss=28.9, avg_loss=0.578]\n",
      "Eval: 100%|██████████| 10/10 [00:01<00:00,  7.29it/s, loss=4.58, avg_loss=0.458]\n",
      "Train: 100%|██████████| 50/50 [00:11<00:00,  4.19it/s, loss=28.4, avg_loss=0.568]\n",
      "Eval: 100%|██████████| 10/10 [00:01<00:00,  7.49it/s, loss=5.68, avg_loss=0.568]\n",
      "Train: 100%|██████████| 50/50 [00:11<00:00,  4.19it/s, loss=26.4, avg_loss=0.528]\n",
      "Eval: 100%|██████████| 10/10 [00:01<00:00,  7.36it/s, loss=5.8, avg_loss=0.58]\n",
      "Train: 100%|██████████| 50/50 [00:12<00:00,  4.17it/s, loss=26.7, avg_loss=0.534]\n",
      "Eval: 100%|██████████| 10/10 [00:01<00:00,  7.37it/s, loss=5.58, avg_loss=0.558]\n",
      "Train: 100%|██████████| 50/50 [00:11<00:00,  4.19it/s, loss=27.1, avg_loss=0.542]\n",
      "Eval: 100%|██████████| 10/10 [00:01<00:00,  7.61it/s, loss=5.25, avg_loss=0.525]\n",
      "Epochs: 100%|██████████| 200/200 [44:07<00:00, 13.24s/it]\n"
     ]
    }
   ],
   "source": [
    "device = torch.device(\"cuda\" if torch.cuda.is_available() else \"cpu\")\n",
    "\n",
    "backbone = resnet_fpn_backbone(\"resnet50\", pretrained=True)\n",
    "kwargs = {\"nms_tresh\": 0.1, \"detections_per_img\": None}\n",
    "model = SubpixRCNN(backbone, num_classes=2, device=device, **kwargs)\n",
    "model.to(device)\n",
    "model.name = \"testmodel\"\n",
    "optimizer = optim.Adam(model.parameters(), lr=0.0001)\n",
    "\n",
    "checkpoint_path = generate_checkpoint_path(\"first_real_run\", \"subpix_rcnn_models\")\n",
    "num_epochs = 200\n",
    "\n",
    "train_loop(model, training_loader, validation_loader, optimizer, device, num_epochs, checkpoint_path, writer)"
   ]
  },
  {
   "cell_type": "code",
   "execution_count": null,
   "id": "6972c198",
   "metadata": {},
   "outputs": [],
   "source": []
  }
 ],
 "metadata": {
  "kernelspec": {
   "display_name": "hilger312",
   "language": "python",
   "name": "python3"
  },
  "language_info": {
   "codemirror_mode": {
    "name": "ipython",
    "version": 3
   },
   "file_extension": ".py",
   "mimetype": "text/x-python",
   "name": "python",
   "nbconvert_exporter": "python",
   "pygments_lexer": "ipython3",
   "version": "3.12.9"
  }
 },
 "nbformat": 4,
 "nbformat_minor": 5
}
