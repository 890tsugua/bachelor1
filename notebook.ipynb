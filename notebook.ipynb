{
 "cells": [
  {
   "cell_type": "code",
   "execution_count": 33,
   "id": "8be3f121",
   "metadata": {},
   "outputs": [],
   "source": [
    "import pandas as pd\n",
    "import torch\n",
    "\n",
    "from scripts.training import run_epoch, train_loop\n",
    "from utils import move_data_to_device, move_dict_to_cpu, plot_image, plot_image_boxes\n",
    "from data_simulator import PsfDataset\n",
    "from models.subpix_rcnn import SubpixRCNN\n",
    "\n",
    "import torch.nn as nn\n",
    "from torchvision.ops import MultiScaleRoIAlign\n",
    "from torchvision.ops import misc as misc_nn_ops\n",
    "from torchvision.transforms._presets import ObjectDetection\n",
    "from torchvision.models._api import register_model, Weights, WeightsEnum\n",
    "from torchvision.models._meta import _COCO_CATEGORIES\n",
    "from torchvision.models._utils import _ovewrite_value_param, handle_legacy_interface\n",
    "from torchvision.models.resnet import resnet50, ResNet50_Weights\n",
    "from torchvision.models.detection._utils import overwrite_eps\n",
    "from torchvision.models.detection.backbone_utils import _resnet_fpn_extractor, _validate_trainable_layers\n",
    "from torchvision.models.detection.faster_rcnn import _default_anchorgen, FasterRCNN, FastRCNNConvFCHead, RPNHead\n",
    "from torchvision.models.detection.roi_heads import RoIHeads\n",
    "\n",
    "from torchvision.models.detection.backbone_utils import resnet_fpn_backbone\n",
    "from torchvision.models.detection.generalized_rcnn import GeneralizedRCNN\n",
    "import torch.nn.functional as F\n",
    "import torch.optim as optim\n",
    "from data_simulator import make_one_data\n",
    "import os\n",
    "import datetime"
   ]
  },
  {
   "cell_type": "code",
   "execution_count": 34,
   "id": "90e2304a",
   "metadata": {},
   "outputs": [
    {
     "name": "stdout",
     "output_type": "stream",
     "text": [
      "Training dataset size:      200\n",
      "Validation dataset size:     40\n",
      "dtype: int64\n"
     ]
    }
   ],
   "source": [
    "# Instantiate the datasets.\n",
    "num_spots_min = 5\n",
    "num_spots_max = 5\n",
    "sigma_mean = 2.0\n",
    "sigma_std = 0.0\n",
    "snr_mean = 10\n",
    "snr_std = 0.2\n",
    "base_noise_min = 50\n",
    "base_noise_max = 150\n",
    "use_gauss_noise = True\n",
    "gauss_noise_std = 10\n",
    "img_w, img_h = 64, 64\n",
    "\n",
    "# Instantiate the datasets.\n",
    "train_dataset = PsfDataset( 1,\n",
    "                            200,\n",
    "                            num_spots_min, num_spots_max,\n",
    "                            sigma_mean, sigma_std,\n",
    "                            snr_mean, snr_std,\n",
    "                            base_noise_min, base_noise_max,\n",
    "                            use_gauss_noise, gauss_noise_std,\n",
    "                            img_w, img_h\n",
    "                          )\n",
    "\n",
    "valid_dataset = PsfDataset( 2,\n",
    "                            40,\n",
    "                            num_spots_min, num_spots_max,\n",
    "                            sigma_mean, sigma_std,\n",
    "                            snr_mean, snr_std,\n",
    "                            base_noise_min, base_noise_max,\n",
    "                            use_gauss_noise, gauss_noise_std,\n",
    "                            img_w, img_h\n",
    "                          )\n",
    "\n",
    "\n",
    "# Print the number of samples in the training and validation datasets\n",
    "print(pd.Series({\n",
    "    'Training dataset size:': len(train_dataset),\n",
    "    'Validation dataset size:': len(valid_dataset)}))\n",
    "\n",
    "data_loader_params = {'batch_size':4,    'collate_fn': lambda batch: tuple(zip(*batch)),}\n",
    "\n",
    "training_loader = torch.utils.data.DataLoader(train_dataset, **data_loader_params)\n",
    "validation_loader = torch.utils.data.DataLoader(valid_dataset, **data_loader_params)"
   ]
  },
  {
   "cell_type": "code",
   "execution_count": 35,
   "id": "a0e60b66",
   "metadata": {},
   "outputs": [],
   "source": [
    "def generate_checkpoint_path(model_name, project_name):\n",
    "\n",
    "  # 1. Define the project directory within Colab's content area\n",
    "  folder_path = os.path.join(os.curdir, project_name)\n",
    "\n",
    "  # 2. Create the directory if it doesn't exist\n",
    "  os.makedirs(folder_path, exist_ok=True)\n",
    "\n",
    "  # 3. Generate a timestamped subdirectory\n",
    "  timestamp = datetime.datetime.now().strftime(\"%Y-%m-%d_%H-%M-%S\")\n",
    "  checkpoint_dir = os.path.join(folder_path, timestamp)\n",
    "  os.makedirs(checkpoint_dir, exist_ok=True)\n",
    "\n",
    "  # 4. Construct the checkpoint path\n",
    "  checkpoint_path = os.path.join(checkpoint_dir, f\"{model_name}.pth\")\n",
    "\n",
    "  return checkpoint_path"
   ]
  },
  {
   "cell_type": "code",
   "execution_count": 36,
   "id": "cddcf5b7",
   "metadata": {},
   "outputs": [
    {
     "name": "stdout",
     "output_type": "stream",
     "text": [
      "Custom SubpixRoIHeads successfully initialized!\n"
     ]
    },
    {
     "name": "stderr",
     "output_type": "stream",
     "text": [
      "Train: 100%|██████████| 50/50 [00:10<00:00,  4.82it/s, loss=53.9, avg_loss=1.08]\n",
      "Eval: 100%|██████████| 10/10 [00:01<00:00,  9.37it/s, loss=6.72, avg_loss=0.672]\n",
      "Epochs: 100%|██████████| 1/1 [00:11<00:00, 11.61s/it]"
     ]
    },
    {
     "name": "stdout",
     "output_type": "stream",
     "text": [
      "New best loss: 0.6716180384159088\n"
     ]
    },
    {
     "name": "stderr",
     "output_type": "stream",
     "text": [
      "\n"
     ]
    }
   ],
   "source": [
    "device = torch.device(\"cuda\" if torch.cuda.is_available() else \"cpu\")\n",
    "\n",
    "backbone = resnet_fpn_backbone(\"resnet50\", pretrained=True)\n",
    "kwargs = {\"nms_tresh\": 0.1, \"detections_per_img\": 5}\n",
    "model = SubpixRCNN(backbone, num_classes=2, device=device, **kwargs)\n",
    "model.to(device)\n",
    "model.name = \"testmodel\"\n",
    "optimizer = optim.Adam(model.parameters(), lr=0.001)\n",
    "\n",
    "checkpoint_path = generate_checkpoint_path(\"testmodel\", \"subpix_rcnn_models\")\n",
    "num_epochs = 1\n",
    "\n",
    "train_loop(model, training_loader, validation_loader, optimizer, device, num_epochs, checkpoint_path)"
   ]
  },
  {
   "cell_type": "code",
   "execution_count": 37,
   "id": "12c2f72e",
   "metadata": {},
   "outputs": [
    {
     "name": "stdout",
     "output_type": "stream",
     "text": [
      "None\n",
      "{'boxes': tensor([[26.4050, 51.2709, 28.4050, 53.2709],\n",
      "        [13.6184, 50.2900, 15.6184, 52.2900],\n",
      "        [48.0205, 53.2875, 50.0205, 55.2875],\n",
      "        [ 0.4685, 17.9009,  2.4685, 19.9009],\n",
      "        [38.9255,  1.1170, 40.9255,  3.1170]], device='cuda:0'), 'labels': tensor([1, 1, 1, 1, 1], device='cuda:0'), 'positions': tensor([[27.4050, 52.2709],\n",
      "        [14.6184, 51.2900],\n",
      "        [49.0205, 54.2875],\n",
      "        [ 1.4685, 18.9009],\n",
      "        [39.9255,  2.1170]], device='cuda:0'), 'subpixel_positions': tensor([[0.4050, 0.2709],\n",
      "        [0.6184, 0.2900],\n",
      "        [0.0206, 0.2875],\n",
      "        [0.4685, 0.9009],\n",
      "        [0.9255, 0.1170]], device='cuda:0')}\n"
     ]
    },
    {
     "ename": "TypeError",
     "evalue": "'NoneType' object is not subscriptable",
     "output_type": "error",
     "traceback": [
      "\u001b[31m---------------------------------------------------------------------------\u001b[39m",
      "\u001b[31mTypeError\u001b[39m                                 Traceback (most recent call last)",
      "\u001b[36mCell\u001b[39m\u001b[36m \u001b[39m\u001b[32mIn[37]\u001b[39m\u001b[32m, line 13\u001b[39m\n\u001b[32m     11\u001b[39m \u001b[38;5;28mprint\u001b[39m(out)\n\u001b[32m     12\u001b[39m \u001b[38;5;28mprint\u001b[39m(tar)\n\u001b[32m---> \u001b[39m\u001b[32m13\u001b[39m out = \u001b[43mout\u001b[49m\u001b[43m[\u001b[49m\u001b[32;43m0\u001b[39;49m\u001b[43m]\u001b[49m\n\u001b[32m     14\u001b[39m move_dict_to_cpu(tar)\n\u001b[32m     15\u001b[39m move_dict_to_cpu(out)\n",
      "\u001b[31mTypeError\u001b[39m: 'NoneType' object is not subscriptable"
     ]
    }
   ],
   "source": [
    "model.to(device='cuda')\n",
    "device = 'cuda'\n",
    "model.eval()\n",
    "img, tar = valid_dataset[2]\n",
    "img = move_data_to_device(img,device)\n",
    "tar = move_data_to_device(tar,device)\n",
    "imgs = []\n",
    "imgs.append(img)\n",
    "with torch.no_grad():\n",
    "  out = model(imgs)\n",
    "print(out)\n",
    "print(tar)\n",
    "out = out[0]\n",
    "move_dict_to_cpu(tar)\n",
    "move_dict_to_cpu(out)\n",
    "plot_image_boxes(img,tar,None,True,True)\n",
    "print(tar)\n",
    "print(out)"
   ]
  },
  {
   "cell_type": "code",
   "execution_count": null,
   "id": "6972c198",
   "metadata": {},
   "outputs": [],
   "source": []
  }
 ],
 "metadata": {
  "kernelspec": {
   "display_name": "hilger",
   "language": "python",
   "name": "python3"
  },
  "language_info": {
   "codemirror_mode": {
    "name": "ipython",
    "version": 3
   },
   "file_extension": ".py",
   "mimetype": "text/x-python",
   "name": "python",
   "nbconvert_exporter": "python",
   "pygments_lexer": "ipython3",
   "version": "3.13.2"
  }
 },
 "nbformat": 4,
 "nbformat_minor": 5
}
