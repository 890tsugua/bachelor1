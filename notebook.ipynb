{
 "cells": [
  {
   "cell_type": "code",
   "execution_count": 2,
   "id": "8be3f121",
   "metadata": {},
   "outputs": [
    {
     "name": "stderr",
     "output_type": "stream",
     "text": [
      "c:\\Users\\zeiss\\anaconda3\\envs\\hilger312\\Lib\\site-packages\\tqdm\\auto.py:21: TqdmWarning: IProgress not found. Please update jupyter and ipywidgets. See https://ipywidgets.readthedocs.io/en/stable/user_install.html\n",
      "  from .autonotebook import tqdm as notebook_tqdm\n"
     ]
    }
   ],
   "source": [
    "import pandas as pd\n",
    "import torch\n",
    "\n",
    "from scripts.training import run_epoch, train_loop\n",
    "from utils import move_data_to_device, move_dict_to_cpu, plot_image, plot_image_boxes\n",
    "from data_simulator import PsfDataset\n",
    "from models.subpix_rcnn import SubpixRCNN\n",
    "\n",
    "import torch.nn as nn\n",
    "from torchvision.ops import MultiScaleRoIAlign\n",
    "from torchvision.ops import misc as misc_nn_ops\n",
    "from torchvision.transforms._presets import ObjectDetection\n",
    "from torchvision.models._api import register_model, Weights, WeightsEnum\n",
    "from torchvision.models._meta import _COCO_CATEGORIES\n",
    "from torchvision.models._utils import _ovewrite_value_param, handle_legacy_interface\n",
    "from torchvision.models.resnet import resnet50, ResNet50_Weights\n",
    "from torchvision.models.detection._utils import overwrite_eps\n",
    "from torchvision.models.detection.backbone_utils import _resnet_fpn_extractor, _validate_trainable_layers\n",
    "from torchvision.models.detection.faster_rcnn import _default_anchorgen, FasterRCNN, FastRCNNConvFCHead, RPNHead\n",
    "from torchvision.models.detection.roi_heads import RoIHeads\n",
    "\n",
    "from torchvision.models.detection.backbone_utils import resnet_fpn_backbone\n",
    "from torchvision.models.detection.generalized_rcnn import GeneralizedRCNN\n",
    "import torch.nn.functional as F\n",
    "import torch.optim as optim\n",
    "from data_simulator import make_one_data\n",
    "import os\n",
    "import datetime"
   ]
  },
  {
   "cell_type": "code",
   "execution_count": 11,
   "id": "60b84f77",
   "metadata": {},
   "outputs": [],
   "source": [
    "# Density 1 = 40 spots per 64x64 image\n",
    "# Density 0.05 = 2 spots per 64x64 image"
   ]
  },
  {
   "cell_type": "code",
   "execution_count": 3,
   "id": "90e2304a",
   "metadata": {},
   "outputs": [
    {
     "name": "stdout",
     "output_type": "stream",
     "text": [
      "Training dataset size:      200\n",
      "Validation dataset size:     40\n",
      "dtype: int64\n"
     ]
    }
   ],
   "source": [
    "# Instantiate the datasets.\n",
    "num_spots_min = 2\n",
    "num_spots_max = 80\n",
    "sigma_mean = 1.0\n",
    "sigma_std = 0.0\n",
    "snr_mean = 8\n",
    "snr_std = 0.2\n",
    "base_noise_min = 10\n",
    "base_noise_max = 150\n",
    "use_gauss_noise = False\n",
    "gauss_noise_std = 10\n",
    "img_w, img_h = 64, 64\n",
    "\n",
    "# Instantiate the datasets.\n",
    "train_dataset = PsfDataset( 1,\n",
    "                            200,\n",
    "                            num_spots_min, num_spots_max,\n",
    "                            sigma_mean, sigma_std,\n",
    "                            snr_mean, snr_std,\n",
    "                            base_noise_min, base_noise_max,\n",
    "                            use_gauss_noise, gauss_noise_std,\n",
    "                            img_w, img_h\n",
    "                          )\n",
    "\n",
    "valid_dataset = PsfDataset( 2,\n",
    "                            40,\n",
    "                            num_spots_min, num_spots_max,\n",
    "                            sigma_mean, sigma_std,\n",
    "                            snr_mean, snr_std,\n",
    "                            base_noise_min, base_noise_max,\n",
    "                            use_gauss_noise, gauss_noise_std,\n",
    "                            img_w, img_h\n",
    "                          )\n",
    "\n",
    "\n",
    "# Print the number of samples in the training and validation datasets\n",
    "print(pd.Series({\n",
    "    'Training dataset size:': len(train_dataset),\n",
    "    'Validation dataset size:': len(valid_dataset)}))\n",
    "\n",
    "data_loader_params = {'batch_size':4,    'collate_fn': lambda batch: tuple(zip(*batch)),}\n",
    "\n",
    "training_loader = torch.utils.data.DataLoader(train_dataset, **data_loader_params)\n",
    "validation_loader = torch.utils.data.DataLoader(valid_dataset, **data_loader_params)"
   ]
  },
  {
   "cell_type": "code",
   "execution_count": 4,
   "id": "a0e60b66",
   "metadata": {},
   "outputs": [],
   "source": [
    "def generate_checkpoint_path(model_name, project_name):\n",
    "\n",
    "  # 1. Define the project directory within Colab's content area\n",
    "  folder_path = os.path.join(os.curdir, project_name)\n",
    "\n",
    "  # 2. Create the directory if it doesn't exist\n",
    "  os.makedirs(folder_path, exist_ok=True)\n",
    "\n",
    "  # 3. Generate a timestamped subdirectory\n",
    "  timestamp = datetime.datetime.now().strftime(\"%Y-%m-%d_%H-%M-%S\")\n",
    "  checkpoint_dir = os.path.join(folder_path, timestamp)\n",
    "  os.makedirs(checkpoint_dir, exist_ok=True)\n",
    "\n",
    "  # 4. Construct the checkpoint path\n",
    "  checkpoint_path = os.path.join(checkpoint_dir, f\"{model_name}.pth\")\n",
    "\n",
    "  return checkpoint_path"
   ]
  },
  {
   "cell_type": "code",
   "execution_count": 6,
   "id": "6275c7ca",
   "metadata": {},
   "outputs": [],
   "source": [
    "from torch.utils.tensorboard import SummaryWriter"
   ]
  },
  {
   "cell_type": "code",
   "execution_count": 7,
   "id": "a3044bbc",
   "metadata": {},
   "outputs": [],
   "source": [
    "writer = SummaryWriter('runs/psf_rcnn')"
   ]
  },
  {
   "cell_type": "code",
   "execution_count": 8,
   "id": "cddcf5b7",
   "metadata": {},
   "outputs": [
    {
     "name": "stderr",
     "output_type": "stream",
     "text": [
      "c:\\Users\\zeiss\\anaconda3\\envs\\hilger312\\Lib\\site-packages\\torchvision\\models\\_utils.py:135: UserWarning: Using 'backbone_name' as positional parameter(s) is deprecated since 0.13 and may be removed in the future. Please use keyword parameter(s) instead.\n",
      "  warnings.warn(\n",
      "c:\\Users\\zeiss\\anaconda3\\envs\\hilger312\\Lib\\site-packages\\torchvision\\models\\_utils.py:208: UserWarning: The parameter 'pretrained' is deprecated since 0.13 and may be removed in the future, please use 'weights' instead.\n",
      "  warnings.warn(\n",
      "c:\\Users\\zeiss\\anaconda3\\envs\\hilger312\\Lib\\site-packages\\torchvision\\models\\_utils.py:223: UserWarning: Arguments other than a weight enum or `None` for 'weights' are deprecated since 0.13 and may be removed in the future. The current behavior is equivalent to passing `weights=ResNet50_Weights.IMAGENET1K_V1`. You can also use `weights=ResNet50_Weights.DEFAULT` to get the most up-to-date weights.\n",
      "  warnings.warn(msg)\n"
     ]
    },
    {
     "name": "stdout",
     "output_type": "stream",
     "text": [
      "Custom SubpixRoIHeads successfully initialized!\n"
     ]
    },
    {
     "name": "stderr",
     "output_type": "stream",
     "text": [
      "Train: 100%|██████████| 50/50 [00:12<00:00,  4.13it/s, loss=59.5, avg_loss=1.19]\n",
      "Eval: 100%|██████████| 10/10 [00:01<00:00,  7.60it/s, loss=9.63, avg_loss=0.963]\n",
      "Epochs:   0%|          | 1/200 [00:13<45:06, 13.60s/it]"
     ]
    },
    {
     "name": "stdout",
     "output_type": "stream",
     "text": [
      "New best loss: 0.9633887410163879\n"
     ]
    },
    {
     "name": "stderr",
     "output_type": "stream",
     "text": [
      "Train: 100%|██████████| 50/50 [00:11<00:00,  4.21it/s, loss=42.4, avg_loss=0.848]\n",
      "Eval: 100%|██████████| 10/10 [00:01<00:00,  7.17it/s, loss=9.4, avg_loss=0.94]\n",
      "Epochs:   1%|          | 2/200 [00:27<44:33, 13.50s/it]"
     ]
    },
    {
     "name": "stdout",
     "output_type": "stream",
     "text": [
      "New best loss: 0.9399996876716614\n"
     ]
    },
    {
     "name": "stderr",
     "output_type": "stream",
     "text": [
      "Train: 100%|██████████| 50/50 [00:12<00:00,  4.14it/s, loss=39.8, avg_loss=0.797]\n",
      "Eval: 100%|██████████| 10/10 [00:01<00:00,  7.21it/s, loss=7.62, avg_loss=0.762]\n",
      "Epochs:   2%|▏         | 3/200 [00:40<44:30, 13.55s/it]"
     ]
    },
    {
     "name": "stdout",
     "output_type": "stream",
     "text": [
      "New best loss: 0.7617885828018188\n"
     ]
    },
    {
     "name": "stderr",
     "output_type": "stream",
     "text": [
      "Train: 100%|██████████| 50/50 [00:12<00:00,  4.13it/s, loss=40.6, avg_loss=0.812]\n",
      "Eval: 100%|██████████| 10/10 [00:01<00:00,  7.21it/s, loss=8.47, avg_loss=0.847]\n",
      "Train: 100%|██████████| 50/50 [00:12<00:00,  4.13it/s, loss=39.6, avg_loss=0.792]\n",
      "Eval: 100%|██████████| 10/10 [00:01<00:00,  7.43it/s, loss=8.05, avg_loss=0.805]\n",
      "Train: 100%|██████████| 50/50 [00:11<00:00,  4.21it/s, loss=38.3, avg_loss=0.767]\n",
      "Eval: 100%|██████████| 10/10 [00:01<00:00,  7.16it/s, loss=8.14, avg_loss=0.814]\n",
      "Train: 100%|██████████| 50/50 [00:12<00:00,  4.14it/s, loss=38.3, avg_loss=0.766]\n",
      "Eval: 100%|██████████| 10/10 [00:01<00:00,  7.27it/s, loss=8.56, avg_loss=0.856]\n",
      "Train: 100%|██████████| 50/50 [00:11<00:00,  4.20it/s, loss=37.6, avg_loss=0.752]\n",
      "Eval: 100%|██████████| 10/10 [00:01<00:00,  7.29it/s, loss=8.09, avg_loss=0.809]\n",
      "Train: 100%|██████████| 50/50 [00:11<00:00,  4.17it/s, loss=37, avg_loss=0.741]\n",
      "Eval: 100%|██████████| 10/10 [00:01<00:00,  7.15it/s, loss=7.72, avg_loss=0.772]\n",
      "Train: 100%|██████████| 50/50 [00:12<00:00,  4.05it/s, loss=33.3, avg_loss=0.667]\n",
      "Eval: 100%|██████████| 10/10 [00:01<00:00,  7.20it/s, loss=7.43, avg_loss=0.743]\n",
      "Epochs:   5%|▌         | 10/200 [02:14<42:54, 13.55s/it]"
     ]
    },
    {
     "name": "stdout",
     "output_type": "stream",
     "text": [
      "New best loss: 0.7430141657590866\n"
     ]
    },
    {
     "name": "stderr",
     "output_type": "stream",
     "text": [
      "Train: 100%|██████████| 50/50 [00:12<00:00,  4.05it/s, loss=36.4, avg_loss=0.728]\n",
      "Eval: 100%|██████████| 10/10 [00:01<00:00,  7.46it/s, loss=6.67, avg_loss=0.667]\n",
      "Epochs:   6%|▌         | 11/200 [02:28<42:58, 13.64s/it]"
     ]
    },
    {
     "name": "stdout",
     "output_type": "stream",
     "text": [
      "New best loss: 0.667293804883957\n"
     ]
    },
    {
     "name": "stderr",
     "output_type": "stream",
     "text": [
      "Epochs:   6%|▌         | 11/200 [02:39<45:38, 14.49s/it]\n"
     ]
    },
    {
     "ename": "KeyboardInterrupt",
     "evalue": "",
     "output_type": "error",
     "traceback": [
      "\u001b[31m---------------------------------------------------------------------------\u001b[39m",
      "\u001b[31mKeyboardInterrupt\u001b[39m                         Traceback (most recent call last)",
      "\u001b[36mCell\u001b[39m\u001b[36m \u001b[39m\u001b[32mIn[8]\u001b[39m\u001b[32m, line 13\u001b[39m\n\u001b[32m     10\u001b[39m checkpoint_path = generate_checkpoint_path(\u001b[33m\"\u001b[39m\u001b[33mtestmodel_noise_added\u001b[39m\u001b[33m\"\u001b[39m, \u001b[33m\"\u001b[39m\u001b[33msubpix_rcnn_models\u001b[39m\u001b[33m\"\u001b[39m)\n\u001b[32m     11\u001b[39m num_epochs = \u001b[32m200\u001b[39m\n\u001b[32m---> \u001b[39m\u001b[32m13\u001b[39m \u001b[43mtrain_loop\u001b[49m\u001b[43m(\u001b[49m\u001b[43mmodel\u001b[49m\u001b[43m,\u001b[49m\u001b[43m \u001b[49m\u001b[43mtraining_loader\u001b[49m\u001b[43m,\u001b[49m\u001b[43m \u001b[49m\u001b[43mvalidation_loader\u001b[49m\u001b[43m,\u001b[49m\u001b[43m \u001b[49m\u001b[43moptimizer\u001b[49m\u001b[43m,\u001b[49m\u001b[43m \u001b[49m\u001b[43mdevice\u001b[49m\u001b[43m,\u001b[49m\u001b[43m \u001b[49m\u001b[43mnum_epochs\u001b[49m\u001b[43m,\u001b[49m\u001b[43m \u001b[49m\u001b[43mcheckpoint_path\u001b[49m\u001b[43m,\u001b[49m\u001b[43m \u001b[49m\u001b[43mwriter\u001b[49m\u001b[43m)\u001b[49m\n",
      "\u001b[36mFile \u001b[39m\u001b[32md:\\zeiss\\Desktop\\coding\\Hilger\\bachelor\\scripts\\training.py:46\u001b[39m, in \u001b[36mtrain_loop\u001b[39m\u001b[34m(model, training_loader, validation_loader, optimizer, device, epochs, checkpoint_path, writer)\u001b[39m\n\u001b[32m     43\u001b[39m best_loss = torch.inf\n\u001b[32m     45\u001b[39m \u001b[38;5;28;01mfor\u001b[39;00m epoch \u001b[38;5;129;01min\u001b[39;00m tqdm(\u001b[38;5;28mrange\u001b[39m(epochs), desc=\u001b[33m\"\u001b[39m\u001b[33mEpochs\u001b[39m\u001b[33m\"\u001b[39m):\n\u001b[32m---> \u001b[39m\u001b[32m46\u001b[39m   train_loss = \u001b[43mrun_epoch\u001b[49m\u001b[43m(\u001b[49m\u001b[43mmodel\u001b[49m\u001b[43m,\u001b[49m\u001b[43m \u001b[49m\u001b[43mtraining_loader\u001b[49m\u001b[43m,\u001b[49m\u001b[43m \u001b[49m\u001b[43moptimizer\u001b[49m\u001b[43m,\u001b[49m\u001b[43m \u001b[49m\u001b[43mdevice\u001b[49m\u001b[43m,\u001b[49m\u001b[43m \u001b[49m\u001b[38;5;28;43;01mTrue\u001b[39;49;00m\u001b[43m)\u001b[49m\n\u001b[32m     48\u001b[39m   \u001b[38;5;66;03m# Run a validation epoch.\u001b[39;00m\n\u001b[32m     49\u001b[39m   \u001b[38;5;28;01mwith\u001b[39;00m torch.no_grad():\n",
      "\u001b[36mFile \u001b[39m\u001b[32md:\\zeiss\\Desktop\\coding\\Hilger\\bachelor\\scripts\\training.py:32\u001b[39m, in \u001b[36mrun_epoch\u001b[39m\u001b[34m(model, dataloader, optimizer, device, is_training)\u001b[39m\n\u001b[32m     29\u001b[39m   optimizer.step() \u001b[38;5;66;03m# Update weights\u001b[39;00m\n\u001b[32m     30\u001b[39m   optimizer.zero_grad() \u001b[38;5;66;03m# Zero the gradients.\u001b[39;00m\n\u001b[32m---> \u001b[39m\u001b[32m32\u001b[39m epoch_loss += \u001b[43mloss\u001b[49m\u001b[43m.\u001b[49m\u001b[43mitem\u001b[49m\u001b[43m(\u001b[49m\u001b[43m)\u001b[49m\n\u001b[32m     34\u001b[39m \u001b[38;5;66;03m# Update the progress bar.\u001b[39;00m\n\u001b[32m     35\u001b[39m progress_bar_dict = \u001b[38;5;28mdict\u001b[39m(loss=epoch_loss, avg_loss = epoch_loss/(batch_id+\u001b[32m1\u001b[39m))\n",
      "\u001b[31mKeyboardInterrupt\u001b[39m: "
     ]
    }
   ],
   "source": [
    "device = torch.device(\"cuda\" if torch.cuda.is_available() else \"cpu\")\n",
    "\n",
    "backbone = resnet_fpn_backbone(\"resnet50\", pretrained=True)\n",
    "kwargs = {\"nms_tresh\": 0.1, \"detections_per_img\": None}\n",
    "model = SubpixRCNN(backbone, num_classes=2, device=device, **kwargs)\n",
    "model.to(device)\n",
    "model.name = \"testmodel\"\n",
    "optimizer = optim.Adam(model.parameters(), lr=0.0001)\n",
    "\n",
    "checkpoint_path = generate_checkpoint_path(\"testmodel_noise_added\", \"subpix_rcnn_models\")\n",
    "num_epochs = 200\n",
    "\n",
    "train_loop(model, training_loader, validation_loader, optimizer, device, num_epochs, checkpoint_path, writer)"
   ]
  },
  {
   "cell_type": "code",
   "execution_count": null,
   "id": "6972c198",
   "metadata": {},
   "outputs": [],
   "source": []
  }
 ],
 "metadata": {
  "kernelspec": {
   "display_name": "hilger312",
   "language": "python",
   "name": "python3"
  },
  "language_info": {
   "codemirror_mode": {
    "name": "ipython",
    "version": 3
   },
   "file_extension": ".py",
   "mimetype": "text/x-python",
   "name": "python",
   "nbconvert_exporter": "python",
   "pygments_lexer": "ipython3",
   "version": "3.12.9"
  }
 },
 "nbformat": 4,
 "nbformat_minor": 5
}
