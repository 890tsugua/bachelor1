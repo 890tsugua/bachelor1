{
 "cells": [
  {
   "cell_type": "code",
   "execution_count": 1,
   "id": "8be3f121",
   "metadata": {},
   "outputs": [
    {
     "name": "stderr",
     "output_type": "stream",
     "text": [
      "c:\\Users\\zeiss\\anaconda3\\envs\\hilger312\\Lib\\site-packages\\tqdm\\auto.py:21: TqdmWarning: IProgress not found. Please update jupyter and ipywidgets. See https://ipywidgets.readthedocs.io/en/stable/user_install.html\n",
      "  from .autonotebook import tqdm as notebook_tqdm\n"
     ]
    }
   ],
   "source": [
    "import pandas as pd\n",
    "import torch\n",
    "\n",
    "from scripts.training import run_epoch, train_loop\n",
    "from utils import move_data_to_device, move_dict_to_cpu, plot_image, plot_image_boxes\n",
    "from PsfSimulator import PsfDataset\n",
    "from models.subpix_rcnn import SubpixRCNN\n",
    "\n",
    "import torch.nn as nn\n",
    "from torchvision.ops import MultiScaleRoIAlign\n",
    "from torchvision.ops import misc as misc_nn_ops\n",
    "from torchvision.transforms._presets import ObjectDetection\n",
    "from torchvision.models._api import register_model, Weights, WeightsEnum\n",
    "from torchvision.models._meta import _COCO_CATEGORIES\n",
    "from torchvision.models._utils import _ovewrite_value_param, handle_legacy_interface\n",
    "from torchvision.models.resnet import resnet50, ResNet50_Weights\n",
    "from torchvision.models.detection._utils import overwrite_eps\n",
    "from torchvision.models.detection.backbone_utils import _resnet_fpn_extractor, _validate_trainable_layers\n",
    "from torchvision.models.detection.faster_rcnn import _default_anchorgen, FasterRCNN, FastRCNNConvFCHead, RPNHead\n",
    "from torchvision.models.detection.roi_heads import RoIHeads\n",
    "\n",
    "from torchvision.models.detection.backbone_utils import resnet_fpn_backbone\n",
    "from torchvision.models.detection.generalized_rcnn import GeneralizedRCNN\n",
    "import torch.nn.functional as F\n",
    "import torch.optim as optim\n",
    "import os\n",
    "import datetime"
   ]
  },
  {
   "cell_type": "code",
   "execution_count": 11,
   "id": "60b84f77",
   "metadata": {},
   "outputs": [],
   "source": [
    "# Density 1 = 40 spots per 64x64 image\n",
    "# Density 0.05 = 2 spots per 64x64 image"
   ]
  },
  {
   "cell_type": "code",
   "execution_count": 2,
   "id": "90e2304a",
   "metadata": {},
   "outputs": [
    {
     "name": "stdout",
     "output_type": "stream",
     "text": [
      "Training dataset size:      1000\n",
      "Validation dataset size:      50\n",
      "dtype: int64\n"
     ]
    }
   ],
   "source": [
    "# Instatiate the dataset\n",
    "seed = None\n",
    "\n",
    "num_spots_min = 2\n",
    "num_spots_max = 80\n",
    "sigma_mean= 1.0\n",
    "sigma_std = 0.1\n",
    "snr_min = 2\n",
    "snr_max = 10\n",
    "snr_std = 0.0\n",
    "base_noise_min = 20\n",
    "base_noise_max = 150\n",
    "use_gauss_noise = False\n",
    "gauss_noise_std = 0.02\n",
    "use_perlin_noise = False\n",
    "perlin_min_max = (0.4, 0.6)\n",
    "img_w = 64\n",
    "img_h = 64\n",
    "\n",
    "train_dataset = PsfDataset(seed, 1000, num_spots_min, num_spots_max, sigma_mean, sigma_std,\n",
    "                      snr_min, snr_max, snr_std, base_noise_min, base_noise_max, use_gauss_noise,\n",
    "                      gauss_noise_std, use_perlin_noise, perlin_min_max, img_w, img_h)\n",
    "\n",
    "\n",
    "valid_dataset = PsfDataset(seed, 50, num_spots_min, num_spots_max, sigma_mean, sigma_std,\n",
    "                      snr_min, snr_max, snr_std, base_noise_min, base_noise_max, use_gauss_noise,\n",
    "                      gauss_noise_std, use_perlin_noise, perlin_min_max, img_w, img_h)\n",
    "\n",
    "\n",
    "# Print the number of samples in the training and validation datasets\n",
    "print(pd.Series({\n",
    "    'Training dataset size:': len(train_dataset),\n",
    "    'Validation dataset size:': len(valid_dataset)}))\n",
    "\n",
    "data_loader_params = {'batch_size':4,    'collate_fn': lambda batch: tuple(zip(*batch)),}\n",
    "\n",
    "training_loader = torch.utils.data.DataLoader(train_dataset, **data_loader_params)\n",
    "validation_loader = torch.utils.data.DataLoader(valid_dataset, **data_loader_params)"
   ]
  },
  {
   "cell_type": "code",
   "execution_count": 3,
   "id": "a0e60b66",
   "metadata": {},
   "outputs": [],
   "source": [
    "def generate_checkpoint_path(model_name, project_name):\n",
    "\n",
    "  # 1. Define the project directory within Colab's content area\n",
    "  folder_path = os.path.join(os.curdir, project_name)\n",
    "\n",
    "  # 2. Create the directory if it doesn't exist\n",
    "  os.makedirs(folder_path, exist_ok=True)\n",
    "\n",
    "  # 3. Generate a timestamped subdirectory\n",
    "  timestamp = datetime.datetime.now().strftime(\"%Y-%m-%d_%H-%M-%S\")\n",
    "  checkpoint_dir = os.path.join(folder_path, timestamp)\n",
    "  os.makedirs(checkpoint_dir, exist_ok=True)\n",
    "\n",
    "  # 4. Construct the checkpoint path\n",
    "  checkpoint_path = os.path.join(checkpoint_dir, f\"{model_name}.pth\")\n",
    "\n",
    "  return checkpoint_path"
   ]
  },
  {
   "cell_type": "code",
   "execution_count": 4,
   "id": "6275c7ca",
   "metadata": {},
   "outputs": [],
   "source": [
    "from torch.utils.tensorboard import SummaryWriter"
   ]
  },
  {
   "cell_type": "code",
   "execution_count": 5,
   "id": "a3044bbc",
   "metadata": {},
   "outputs": [],
   "source": [
    "writer = SummaryWriter('runs/psf_rcnn')"
   ]
  },
  {
   "cell_type": "code",
   "execution_count": 6,
   "id": "cddcf5b7",
   "metadata": {},
   "outputs": [
    {
     "name": "stderr",
     "output_type": "stream",
     "text": [
      "c:\\Users\\zeiss\\anaconda3\\envs\\hilger312\\Lib\\site-packages\\torchvision\\models\\_utils.py:135: UserWarning: Using 'backbone_name' as positional parameter(s) is deprecated since 0.13 and may be removed in the future. Please use keyword parameter(s) instead.\n",
      "  warnings.warn(\n",
      "c:\\Users\\zeiss\\anaconda3\\envs\\hilger312\\Lib\\site-packages\\torchvision\\models\\_utils.py:208: UserWarning: The parameter 'pretrained' is deprecated since 0.13 and may be removed in the future, please use 'weights' instead.\n",
      "  warnings.warn(\n",
      "c:\\Users\\zeiss\\anaconda3\\envs\\hilger312\\Lib\\site-packages\\torchvision\\models\\_utils.py:223: UserWarning: Arguments other than a weight enum or `None` for 'weights' are deprecated since 0.13 and may be removed in the future. The current behavior is equivalent to passing `weights=ResNet50_Weights.IMAGENET1K_V1`. You can also use `weights=ResNet50_Weights.DEFAULT` to get the most up-to-date weights.\n",
      "  warnings.warn(msg)\n"
     ]
    },
    {
     "name": "stdout",
     "output_type": "stream",
     "text": [
      "Custom SubpixRoIHeads successfully initialized!\n"
     ]
    },
    {
     "name": "stderr",
     "output_type": "stream",
     "text": [
      "Train: 100%|██████████| 250/250 [00:58<00:00,  4.25it/s, loss=179, avg_loss=0.717, data_time=7367.185s, train_time=30.540s]\n",
      "Eval: 100%|██████████| 13/13 [00:01<00:00,  8.09it/s, loss=7.92, avg_loss=0.609, data_time=9.961s, train_time=1.401s]\n",
      "Epochs:   0%|          | 1/200 [01:00<3:20:46, 60.54s/it]"
     ]
    },
    {
     "name": "stdout",
     "output_type": "stream",
     "text": [
      "New best loss: 0.6089555185574752\n"
     ]
    },
    {
     "name": "stderr",
     "output_type": "stream",
     "text": [
      "Train: 100%|██████████| 250/250 [00:57<00:00,  4.36it/s, loss=137, avg_loss=0.547, data_time=7182.089s, train_time=29.495s]\n",
      "Eval: 100%|██████████| 13/13 [00:01<00:00,  8.28it/s, loss=7.1, avg_loss=0.546, data_time=9.829s, train_time=1.372s]\n",
      "Epochs:   1%|          | 2/200 [01:59<3:17:02, 59.71s/it]"
     ]
    },
    {
     "name": "stdout",
     "output_type": "stream",
     "text": [
      "New best loss: 0.5459109338430258\n"
     ]
    },
    {
     "name": "stderr",
     "output_type": "stream",
     "text": [
      "Train: 100%|██████████| 250/250 [00:56<00:00,  4.41it/s, loss=130, avg_loss=0.52, data_time=7090.235s, train_time=29.054s]\n",
      "Eval: 100%|██████████| 13/13 [00:01<00:00,  8.49it/s, loss=6.22, avg_loss=0.478, data_time=9.713s, train_time=1.335s]\n",
      "Epochs:   2%|▏         | 3/200 [02:58<3:14:04, 59.11s/it]"
     ]
    },
    {
     "name": "stdout",
     "output_type": "stream",
     "text": [
      "New best loss: 0.47816068163284886\n"
     ]
    },
    {
     "name": "stderr",
     "output_type": "stream",
     "text": [
      "Train: 100%|██████████| 250/250 [00:56<00:00,  4.44it/s, loss=126, avg_loss=0.504, data_time=7022.008s, train_time=28.967s]\n",
      "Eval: 100%|██████████| 13/13 [00:01<00:00,  8.40it/s, loss=6.6, avg_loss=0.508, data_time=9.919s, train_time=1.337s]\n",
      "Train: 100%|██████████| 250/250 [00:56<00:00,  4.42it/s, loss=130, avg_loss=0.521, data_time=7037.343s, train_time=29.088s]\n",
      "Eval: 100%|██████████| 13/13 [00:01<00:00,  8.35it/s, loss=7.26, avg_loss=0.558, data_time=9.832s, train_time=1.340s]\n",
      "Train: 100%|██████████| 250/250 [00:56<00:00,  4.42it/s, loss=125, avg_loss=0.5, data_time=7056.103s, train_time=29.071s]\n",
      "Eval: 100%|██████████| 13/13 [00:01<00:00,  8.45it/s, loss=6.28, avg_loss=0.483, data_time=9.829s, train_time=1.333s]\n",
      "Train: 100%|██████████| 250/250 [00:56<00:00,  4.43it/s, loss=126, avg_loss=0.506, data_time=7032.583s, train_time=29.048s]\n",
      "Eval: 100%|██████████| 13/13 [00:01<00:00,  8.48it/s, loss=6.88, avg_loss=0.529, data_time=9.723s, train_time=1.333s]\n",
      "Train: 100%|██████████| 250/250 [00:56<00:00,  4.43it/s, loss=124, avg_loss=0.495, data_time=7031.790s, train_time=29.005s]\n",
      "Eval: 100%|██████████| 13/13 [00:01<00:00,  8.33it/s, loss=6.81, avg_loss=0.524, data_time=9.836s, train_time=1.353s]\n",
      "Train: 100%|██████████| 250/250 [00:56<00:00,  4.41it/s, loss=126, avg_loss=0.506, data_time=7053.379s, train_time=29.132s]\n",
      "Eval: 100%|██████████| 13/13 [00:01<00:00,  8.21it/s, loss=6.76, avg_loss=0.52, data_time=10.042s, train_time=1.358s]\n",
      "Train: 100%|██████████| 250/250 [00:56<00:00,  4.42it/s, loss=121, avg_loss=0.483, data_time=7030.553s, train_time=29.125s]\n",
      "Eval: 100%|██████████| 13/13 [00:01<00:00,  8.50it/s, loss=6.65, avg_loss=0.512, data_time=9.644s, train_time=1.323s]\n",
      "Train: 100%|██████████| 250/250 [00:56<00:00,  4.39it/s, loss=125, avg_loss=0.5, data_time=7059.789s, train_time=29.479s]\n",
      "Eval: 100%|██████████| 13/13 [00:01<00:00,  8.21it/s, loss=6.53, avg_loss=0.502, data_time=9.988s, train_time=1.363s]\n",
      "Train: 100%|██████████| 250/250 [00:56<00:00,  4.39it/s, loss=118, avg_loss=0.473, data_time=7088.946s, train_time=29.399s]\n",
      "Eval: 100%|██████████| 13/13 [00:01<00:00,  8.39it/s, loss=6.02, avg_loss=0.463, data_time=9.775s, train_time=1.349s]\n",
      "Epochs:   6%|▌         | 12/200 [11:41<3:02:52, 58.36s/it]"
     ]
    },
    {
     "name": "stdout",
     "output_type": "stream",
     "text": [
      "New best loss: 0.46316010447648853\n"
     ]
    },
    {
     "name": "stderr",
     "output_type": "stream",
     "text": [
      "Train: 100%|██████████| 250/250 [00:56<00:00,  4.42it/s, loss=122, avg_loss=0.486, data_time=7041.988s, train_time=29.191s]\n",
      "Eval: 100%|██████████| 13/13 [00:01<00:00,  8.48it/s, loss=5.93, avg_loss=0.456, data_time=9.765s, train_time=1.340s]\n",
      "Epochs:   6%|▋         | 13/200 [12:39<3:01:45, 58.32s/it]"
     ]
    },
    {
     "name": "stdout",
     "output_type": "stream",
     "text": [
      "New best loss: 0.45614994718478274\n"
     ]
    },
    {
     "name": "stderr",
     "output_type": "stream",
     "text": [
      "Train: 100%|██████████| 250/250 [00:56<00:00,  4.42it/s, loss=121, avg_loss=0.484, data_time=7038.250s, train_time=29.182s]\n",
      "Eval: 100%|██████████| 13/13 [00:01<00:00,  8.37it/s, loss=6.45, avg_loss=0.496, data_time=9.912s, train_time=1.345s]\n",
      "Train: 100%|██████████| 250/250 [00:56<00:00,  4.42it/s, loss=120, avg_loss=0.479, data_time=7035.664s, train_time=29.253s]\n",
      "Eval: 100%|██████████| 13/13 [00:01<00:00,  8.40it/s, loss=6.43, avg_loss=0.494, data_time=9.762s, train_time=1.348s]\n",
      "Train: 100%|██████████| 250/250 [00:56<00:00,  4.41it/s, loss=123, avg_loss=0.492, data_time=7059.272s, train_time=29.337s]\n",
      "Eval: 100%|██████████| 13/13 [00:01<00:00,  8.53it/s, loss=6.69, avg_loss=0.515, data_time=9.549s, train_time=1.323s]\n",
      "Train: 100%|██████████| 250/250 [00:56<00:00,  4.42it/s, loss=123, avg_loss=0.492, data_time=7043.463s, train_time=29.121s]\n",
      "Eval: 100%|██████████| 13/13 [00:01<00:00,  8.40it/s, loss=6.9, avg_loss=0.531, data_time=9.723s, train_time=1.350s]\n",
      "Train: 100%|██████████| 250/250 [00:56<00:00,  4.42it/s, loss=121, avg_loss=0.485, data_time=7042.879s, train_time=29.170s]\n",
      "Eval: 100%|██████████| 13/13 [00:01<00:00,  8.53it/s, loss=5.72, avg_loss=0.44, data_time=9.656s, train_time=1.325s]\n",
      "Epochs:   9%|▉         | 18/200 [17:30<2:56:31, 58.20s/it]"
     ]
    },
    {
     "name": "stdout",
     "output_type": "stream",
     "text": [
      "New best loss: 0.4401691578901731\n"
     ]
    },
    {
     "name": "stderr",
     "output_type": "stream",
     "text": [
      "Train: 100%|██████████| 250/250 [00:56<00:00,  4.44it/s, loss=117, avg_loss=0.47, data_time=7019.637s, train_time=29.055s]\n",
      "Eval: 100%|██████████| 13/13 [00:01<00:00,  8.34it/s, loss=6.77, avg_loss=0.521, data_time=9.905s, train_time=1.340s]\n",
      "Train: 100%|██████████| 250/250 [00:56<00:00,  4.42it/s, loss=118, avg_loss=0.473, data_time=7035.417s, train_time=29.169s]\n",
      "Eval: 100%|██████████| 13/13 [00:01<00:00,  8.52it/s, loss=5.46, avg_loss=0.42, data_time=9.714s, train_time=1.331s]\n",
      "Epochs:  10%|█         | 20/200 [19:26<2:54:26, 58.15s/it]"
     ]
    },
    {
     "name": "stdout",
     "output_type": "stream",
     "text": [
      "New best loss: 0.4203055478059329\n"
     ]
    },
    {
     "name": "stderr",
     "output_type": "stream",
     "text": [
      "Train: 100%|██████████| 250/250 [00:56<00:00,  4.43it/s, loss=120, avg_loss=0.478, data_time=7025.459s, train_time=29.100s]\n",
      "Eval: 100%|██████████| 13/13 [00:01<00:00,  8.43it/s, loss=5.85, avg_loss=0.45, data_time=9.672s, train_time=1.340s]\n",
      "Train: 100%|██████████| 250/250 [00:56<00:00,  4.43it/s, loss=121, avg_loss=0.483, data_time=7035.442s, train_time=29.038s]\n",
      "Eval: 100%|██████████| 13/13 [00:01<00:00,  8.56it/s, loss=5.75, avg_loss=0.442, data_time=9.522s, train_time=1.336s]\n",
      "Train: 100%|██████████| 250/250 [00:56<00:00,  4.43it/s, loss=119, avg_loss=0.476, data_time=7025.777s, train_time=29.080s]\n",
      "Eval: 100%|██████████| 13/13 [00:01<00:00,  8.46it/s, loss=6.36, avg_loss=0.489, data_time=9.731s, train_time=1.333s]\n",
      "Train: 100%|██████████| 250/250 [00:56<00:00,  4.43it/s, loss=120, avg_loss=0.481, data_time=7025.735s, train_time=29.080s]\n",
      "Eval: 100%|██████████| 13/13 [00:01<00:00,  8.52it/s, loss=7.11, avg_loss=0.547, data_time=9.651s, train_time=1.334s]\n",
      "Train: 100%|██████████| 250/250 [00:56<00:00,  4.42it/s, loss=116, avg_loss=0.464, data_time=7045.441s, train_time=29.098s]\n",
      "Eval: 100%|██████████| 13/13 [00:01<00:00,  8.60it/s, loss=6.02, avg_loss=0.463, data_time=9.646s, train_time=1.325s]\n",
      "Train: 100%|██████████| 250/250 [00:56<00:00,  4.43it/s, loss=117, avg_loss=0.468, data_time=7036.654s, train_time=28.982s]\n",
      "Eval: 100%|██████████| 13/13 [00:01<00:00,  8.31it/s, loss=6.25, avg_loss=0.481, data_time=9.903s, train_time=1.341s]\n",
      "Train: 100%|██████████| 250/250 [00:56<00:00,  4.42it/s, loss=114, avg_loss=0.456, data_time=7036.604s, train_time=29.021s]\n",
      "Eval: 100%|██████████| 13/13 [00:01<00:00,  8.47it/s, loss=5.54, avg_loss=0.426, data_time=9.796s, train_time=1.325s]\n",
      "Train: 100%|██████████| 250/250 [00:56<00:00,  4.42it/s, loss=118, avg_loss=0.474, data_time=7042.083s, train_time=29.088s]\n",
      "Eval: 100%|██████████| 13/13 [00:01<00:00,  8.22it/s, loss=6.58, avg_loss=0.506, data_time=10.064s, train_time=1.348s]\n",
      "Train: 100%|██████████| 250/250 [00:56<00:00,  4.40it/s, loss=119, avg_loss=0.478, data_time=7078.637s, train_time=29.143s]\n",
      "Eval: 100%|██████████| 13/13 [00:01<00:00,  8.46it/s, loss=5.54, avg_loss=0.426, data_time=9.741s, train_time=1.320s]\n",
      "Train: 100%|██████████| 250/250 [00:56<00:00,  4.41it/s, loss=118, avg_loss=0.474, data_time=7068.550s, train_time=29.076s]\n",
      "Eval: 100%|██████████| 13/13 [00:01<00:00,  8.48it/s, loss=5.28, avg_loss=0.406, data_time=9.669s, train_time=1.326s]\n",
      "Epochs:  15%|█▌        | 30/200 [29:07<2:45:01, 58.24s/it]"
     ]
    },
    {
     "name": "stdout",
     "output_type": "stream",
     "text": [
      "New best loss: 0.4062681370056592\n"
     ]
    },
    {
     "name": "stderr",
     "output_type": "stream",
     "text": [
      "Train: 100%|██████████| 250/250 [00:56<00:00,  4.42it/s, loss=115, avg_loss=0.461, data_time=7030.699s, train_time=29.096s]\n",
      "Eval: 100%|██████████| 13/13 [00:01<00:00,  8.37it/s, loss=5.67, avg_loss=0.436, data_time=9.804s, train_time=1.343s]\n",
      "Train: 100%|██████████| 250/250 [00:56<00:00,  4.43it/s, loss=118, avg_loss=0.471, data_time=7039.698s, train_time=29.025s]\n",
      "Eval: 100%|██████████| 13/13 [00:01<00:00,  8.25it/s, loss=5.58, avg_loss=0.43, data_time=10.020s, train_time=1.359s]\n",
      "Train: 100%|██████████| 250/250 [00:56<00:00,  4.41it/s, loss=117, avg_loss=0.468, data_time=7069.634s, train_time=29.219s]\n",
      "Eval: 100%|██████████| 13/13 [00:01<00:00,  8.49it/s, loss=6.73, avg_loss=0.518, data_time=9.661s, train_time=1.324s]\n",
      "Train: 100%|██████████| 250/250 [00:56<00:00,  4.43it/s, loss=114, avg_loss=0.457, data_time=7027.707s, train_time=29.098s]\n",
      "Eval: 100%|██████████| 13/13 [00:01<00:00,  8.62it/s, loss=5.84, avg_loss=0.449, data_time=9.546s, train_time=1.312s]\n",
      "Train: 100%|██████████| 250/250 [00:56<00:00,  4.42it/s, loss=117, avg_loss=0.468, data_time=7040.342s, train_time=29.019s]\n",
      "Eval: 100%|██████████| 13/13 [00:01<00:00,  8.49it/s, loss=6.22, avg_loss=0.478, data_time=9.720s, train_time=1.323s]\n",
      "Train: 100%|██████████| 250/250 [00:56<00:00,  4.41it/s, loss=116, avg_loss=0.462, data_time=7054.093s, train_time=29.028s]\n",
      "Eval: 100%|██████████| 13/13 [00:01<00:00,  8.55it/s, loss=5.88, avg_loss=0.453, data_time=9.701s, train_time=1.322s]\n",
      "Train: 100%|██████████| 250/250 [00:56<00:00,  4.43it/s, loss=116, avg_loss=0.465, data_time=7034.242s, train_time=28.993s]\n",
      "Eval: 100%|██████████| 13/13 [00:01<00:00,  8.51it/s, loss=6.01, avg_loss=0.463, data_time=9.780s, train_time=1.320s]\n",
      "Train: 100%|██████████| 250/250 [00:56<00:00,  4.43it/s, loss=119, avg_loss=0.474, data_time=7033.626s, train_time=28.928s]\n",
      "Eval: 100%|██████████| 13/13 [00:01<00:00,  8.51it/s, loss=5.96, avg_loss=0.459, data_time=9.625s, train_time=1.326s]\n",
      "Train: 100%|██████████| 250/250 [00:56<00:00,  4.42it/s, loss=114, avg_loss=0.456, data_time=7037.877s, train_time=28.868s]\n",
      "Eval: 100%|██████████| 13/13 [00:01<00:00,  8.43it/s, loss=6.35, avg_loss=0.488, data_time=9.731s, train_time=1.323s]\n",
      "Train: 100%|██████████| 250/250 [00:56<00:00,  4.41it/s, loss=116, avg_loss=0.464, data_time=7069.643s, train_time=28.954s]\n",
      "Eval: 100%|██████████| 13/13 [00:01<00:00,  8.47it/s, loss=5.24, avg_loss=0.403, data_time=9.785s, train_time=1.325s]\n",
      "Epochs:  20%|██        | 40/200 [38:48<2:35:06, 58.17s/it]"
     ]
    },
    {
     "name": "stdout",
     "output_type": "stream",
     "text": [
      "New best loss: 0.40345531472792995\n"
     ]
    },
    {
     "name": "stderr",
     "output_type": "stream",
     "text": [
      "Train: 100%|██████████| 250/250 [00:56<00:00,  4.43it/s, loss=114, avg_loss=0.456, data_time=7025.141s, train_time=28.978s]\n",
      "Eval: 100%|██████████| 13/13 [00:01<00:00,  8.51it/s, loss=5.67, avg_loss=0.436, data_time=9.669s, train_time=1.325s]\n",
      "Train: 100%|██████████| 250/250 [00:56<00:00,  4.44it/s, loss=115, avg_loss=0.461, data_time=7023.995s, train_time=28.969s]\n",
      "Eval: 100%|██████████| 13/13 [00:01<00:00,  8.42it/s, loss=6.67, avg_loss=0.513, data_time=9.720s, train_time=1.331s]\n",
      "Train: 100%|██████████| 250/250 [00:56<00:00,  4.45it/s, loss=114, avg_loss=0.455, data_time=7003.504s, train_time=28.912s]\n",
      "Eval: 100%|██████████| 13/13 [00:01<00:00,  8.64it/s, loss=5.69, avg_loss=0.438, data_time=9.616s, train_time=1.313s]\n",
      "Train: 100%|██████████| 250/250 [00:56<00:00,  4.44it/s, loss=115, avg_loss=0.46, data_time=7024.180s, train_time=28.881s]\n",
      "Eval: 100%|██████████| 13/13 [00:01<00:00,  8.52it/s, loss=6.34, avg_loss=0.488, data_time=9.671s, train_time=1.324s]\n",
      "Train: 100%|██████████| 250/250 [00:56<00:00,  4.44it/s, loss=112, avg_loss=0.447, data_time=7027.577s, train_time=28.849s]\n",
      "Eval: 100%|██████████| 13/13 [00:01<00:00,  8.62it/s, loss=5.18, avg_loss=0.398, data_time=9.541s, train_time=1.315s]\n",
      "Epochs:  22%|██▎       | 45/200 [43:38<2:29:45, 57.97s/it]"
     ]
    },
    {
     "name": "stdout",
     "output_type": "stream",
     "text": [
      "New best loss: 0.3984619562442486\n"
     ]
    },
    {
     "name": "stderr",
     "output_type": "stream",
     "text": [
      "Train: 100%|██████████| 250/250 [00:56<00:00,  4.45it/s, loss=113, avg_loss=0.452, data_time=7006.533s, train_time=28.894s]\n",
      "Eval: 100%|██████████| 13/13 [00:01<00:00,  8.50it/s, loss=6.15, avg_loss=0.473, data_time=9.829s, train_time=1.326s]\n",
      "Train: 100%|██████████| 250/250 [00:56<00:00,  4.44it/s, loss=117, avg_loss=0.466, data_time=7005.810s, train_time=28.826s]\n",
      "Eval: 100%|██████████| 13/13 [00:01<00:00,  8.52it/s, loss=6.05, avg_loss=0.466, data_time=9.649s, train_time=1.320s]\n",
      "Train: 100%|██████████| 250/250 [00:56<00:00,  4.44it/s, loss=113, avg_loss=0.451, data_time=7013.762s, train_time=28.940s]\n",
      "Eval: 100%|██████████| 13/13 [00:01<00:00,  8.41it/s, loss=6.08, avg_loss=0.468, data_time=9.888s, train_time=1.336s]\n",
      "Train: 100%|██████████| 250/250 [00:56<00:00,  4.45it/s, loss=113, avg_loss=0.453, data_time=7003.158s, train_time=28.810s]\n",
      "Eval: 100%|██████████| 13/13 [00:01<00:00,  8.47it/s, loss=5.88, avg_loss=0.452, data_time=9.749s, train_time=1.323s]\n",
      "Train: 100%|██████████| 250/250 [00:56<00:00,  4.44it/s, loss=114, avg_loss=0.455, data_time=7010.327s, train_time=28.866s]\n",
      "Eval: 100%|██████████| 13/13 [00:01<00:00,  8.60it/s, loss=5.21, avg_loss=0.401, data_time=9.603s, train_time=1.311s]\n",
      "Train: 100%|██████████| 250/250 [00:56<00:00,  4.44it/s, loss=114, avg_loss=0.457, data_time=7005.511s, train_time=28.837s]\n",
      "Eval: 100%|██████████| 13/13 [00:01<00:00,  8.53it/s, loss=5.22, avg_loss=0.401, data_time=9.716s, train_time=1.317s]\n",
      "Train: 100%|██████████| 250/250 [00:56<00:00,  4.44it/s, loss=112, avg_loss=0.45, data_time=7017.231s, train_time=28.838s]\n",
      "Eval: 100%|██████████| 13/13 [00:01<00:00,  8.66it/s, loss=5.47, avg_loss=0.421, data_time=9.521s, train_time=1.311s]\n",
      "Train: 100%|██████████| 250/250 [00:56<00:00,  4.44it/s, loss=111, avg_loss=0.443, data_time=7016.895s, train_time=28.844s]\n",
      "Eval: 100%|██████████| 13/13 [00:01<00:00,  8.44it/s, loss=5.56, avg_loss=0.428, data_time=9.733s, train_time=1.323s]\n",
      "Train: 100%|██████████| 250/250 [00:56<00:00,  4.43it/s, loss=113, avg_loss=0.454, data_time=7024.360s, train_time=28.885s]\n",
      "Eval: 100%|██████████| 13/13 [00:01<00:00,  8.49it/s, loss=5.89, avg_loss=0.453, data_time=9.714s, train_time=1.314s]\n",
      "Train: 100%|██████████| 250/250 [00:56<00:00,  4.42it/s, loss=113, avg_loss=0.452, data_time=7044.639s, train_time=28.913s]\n",
      "Eval: 100%|██████████| 13/13 [00:01<00:00,  8.50it/s, loss=6.14, avg_loss=0.473, data_time=9.661s, train_time=1.317s]\n",
      "Train: 100%|██████████| 250/250 [00:56<00:00,  4.43it/s, loss=111, avg_loss=0.443, data_time=7031.894s, train_time=28.829s]\n",
      "Eval: 100%|██████████| 13/13 [00:01<00:00,  8.42it/s, loss=7.05, avg_loss=0.543, data_time=9.789s, train_time=1.322s]\n",
      "Train: 100%|██████████| 250/250 [00:56<00:00,  4.42it/s, loss=114, avg_loss=0.457, data_time=7050.396s, train_time=28.842s]\n",
      "Eval: 100%|██████████| 13/13 [00:01<00:00,  8.45it/s, loss=5.82, avg_loss=0.448, data_time=9.735s, train_time=1.313s]\n",
      "Train: 100%|██████████| 250/250 [00:56<00:00,  4.44it/s, loss=111, avg_loss=0.446, data_time=7019.763s, train_time=28.724s]\n",
      "Eval: 100%|██████████| 13/13 [00:01<00:00,  8.49it/s, loss=5.85, avg_loss=0.45, data_time=9.684s, train_time=1.314s]\n",
      "Train: 100%|██████████| 250/250 [00:56<00:00,  4.42it/s, loss=112, avg_loss=0.448, data_time=7035.426s, train_time=28.820s]\n",
      "Eval: 100%|██████████| 13/13 [00:01<00:00,  8.62it/s, loss=5.14, avg_loss=0.396, data_time=9.504s, train_time=1.306s]\n",
      "Epochs:  30%|██▉       | 59/200 [57:09<2:16:27, 58.07s/it]"
     ]
    },
    {
     "name": "stdout",
     "output_type": "stream",
     "text": [
      "New best loss: 0.39557945728302\n"
     ]
    },
    {
     "name": "stderr",
     "output_type": "stream",
     "text": [
      "Train: 100%|██████████| 250/250 [00:56<00:00,  4.45it/s, loss=111, avg_loss=0.444, data_time=6987.524s, train_time=28.912s]\n",
      "Eval: 100%|██████████| 13/13 [00:01<00:00,  8.46it/s, loss=6.38, avg_loss=0.49, data_time=9.851s, train_time=1.326s]\n",
      "Train: 100%|██████████| 250/250 [00:56<00:00,  4.44it/s, loss=115, avg_loss=0.458, data_time=7017.265s, train_time=29.032s]\n",
      "Eval: 100%|██████████| 13/13 [00:01<00:00,  8.54it/s, loss=5.23, avg_loss=0.402, data_time=9.768s, train_time=1.317s]\n",
      "Train: 100%|██████████| 250/250 [00:56<00:00,  4.44it/s, loss=114, avg_loss=0.456, data_time=7014.661s, train_time=28.928s]\n",
      "Eval: 100%|██████████| 13/13 [00:01<00:00,  8.55it/s, loss=5.79, avg_loss=0.445, data_time=9.612s, train_time=1.320s]\n",
      "Train: 100%|██████████| 250/250 [00:56<00:00,  4.43it/s, loss=110, avg_loss=0.439, data_time=7013.501s, train_time=28.980s]\n",
      "Eval: 100%|██████████| 13/13 [00:01<00:00,  8.58it/s, loss=5.78, avg_loss=0.445, data_time=9.608s, train_time=1.320s]\n",
      "Train: 100%|██████████| 250/250 [00:56<00:00,  4.43it/s, loss=110, avg_loss=0.44, data_time=7023.454s, train_time=29.014s]\n",
      "Eval: 100%|██████████| 13/13 [00:01<00:00,  8.29it/s, loss=6.18, avg_loss=0.475, data_time=9.893s, train_time=1.336s]\n",
      "Train: 100%|██████████| 250/250 [00:56<00:00,  4.42it/s, loss=109, avg_loss=0.436, data_time=7046.382s, train_time=29.274s]\n",
      "Eval: 100%|██████████| 13/13 [00:01<00:00,  8.29it/s, loss=5.84, avg_loss=0.449, data_time=9.915s, train_time=1.342s]\n",
      "Train: 100%|██████████| 250/250 [00:56<00:00,  4.42it/s, loss=109, avg_loss=0.437, data_time=7035.955s, train_time=29.233s]\n",
      "Eval: 100%|██████████| 13/13 [00:01<00:00,  8.43it/s, loss=5.37, avg_loss=0.413, data_time=9.782s, train_time=1.330s]\n",
      "Train: 100%|██████████| 250/250 [00:56<00:00,  4.41it/s, loss=112, avg_loss=0.447, data_time=7066.612s, train_time=29.192s]\n",
      "Eval: 100%|██████████| 13/13 [00:01<00:00,  8.60it/s, loss=5.61, avg_loss=0.431, data_time=9.558s, train_time=1.314s]\n",
      "Train: 100%|██████████| 250/250 [00:56<00:00,  4.40it/s, loss=114, avg_loss=0.454, data_time=7060.430s, train_time=29.101s]\n",
      "Eval: 100%|██████████| 13/13 [00:01<00:00,  8.19it/s, loss=5.95, avg_loss=0.458, data_time=10.037s, train_time=1.352s]\n",
      "Train: 100%|██████████| 250/250 [00:57<00:00,  4.38it/s, loss=113, avg_loss=0.452, data_time=7099.855s, train_time=29.468s]\n",
      "Eval: 100%|██████████| 13/13 [00:01<00:00,  8.33it/s, loss=5.57, avg_loss=0.429, data_time=9.760s, train_time=1.346s]\n",
      "Train: 100%|██████████| 250/250 [00:56<00:00,  4.41it/s, loss=114, avg_loss=0.457, data_time=7052.882s, train_time=29.134s]\n",
      "Eval: 100%|██████████| 13/13 [00:01<00:00,  8.37it/s, loss=5.57, avg_loss=0.428, data_time=9.849s, train_time=1.335s]\n",
      "Train: 100%|██████████| 250/250 [00:56<00:00,  4.40it/s, loss=112, avg_loss=0.449, data_time=7078.025s, train_time=29.208s]\n",
      "Eval: 100%|██████████| 13/13 [00:01<00:00,  8.19it/s, loss=6.06, avg_loss=0.466, data_time=10.028s, train_time=1.355s]\n",
      "Train: 100%|██████████| 250/250 [00:56<00:00,  4.40it/s, loss=112, avg_loss=0.449, data_time=7070.800s, train_time=29.136s]\n",
      "Eval: 100%|██████████| 13/13 [00:01<00:00,  8.35it/s, loss=5.79, avg_loss=0.445, data_time=9.948s, train_time=1.338s]\n",
      "Train: 100%|██████████| 250/250 [00:56<00:00,  4.39it/s, loss=110, avg_loss=0.439, data_time=7088.563s, train_time=29.247s]\n",
      "Eval: 100%|██████████| 13/13 [00:01<00:00,  8.23it/s, loss=5.96, avg_loss=0.458, data_time=10.011s, train_time=1.354s]\n",
      "Train: 100%|██████████| 250/250 [00:57<00:00,  4.37it/s, loss=113, avg_loss=0.454, data_time=7120.682s, train_time=29.623s]\n",
      "Eval: 100%|██████████| 13/13 [00:01<00:00,  8.24it/s, loss=5.82, avg_loss=0.448, data_time=10.058s, train_time=1.353s]\n",
      "Train: 100%|██████████| 250/250 [00:57<00:00,  4.38it/s, loss=112, avg_loss=0.446, data_time=7099.453s, train_time=29.382s]\n",
      "Eval: 100%|██████████| 13/13 [00:01<00:00,  8.27it/s, loss=5.23, avg_loss=0.403, data_time=10.046s, train_time=1.355s]\n",
      "Train: 100%|██████████| 250/250 [00:56<00:00,  4.39it/s, loss=112, avg_loss=0.448, data_time=7090.984s, train_time=29.211s]\n",
      "Eval: 100%|██████████| 13/13 [00:01<00:00,  8.37it/s, loss=6.41, avg_loss=0.493, data_time=9.809s, train_time=1.331s]\n",
      "Train: 100%|██████████| 250/250 [00:57<00:00,  4.39it/s, loss=115, avg_loss=0.462, data_time=7099.826s, train_time=29.204s]\n",
      "Eval: 100%|██████████| 13/13 [00:01<00:00,  8.14it/s, loss=5.85, avg_loss=0.45, data_time=10.110s, train_time=1.369s]\n",
      "Train: 100%|██████████| 250/250 [00:57<00:00,  4.37it/s, loss=112, avg_loss=0.446, data_time=7126.421s, train_time=29.371s]\n",
      "Eval: 100%|██████████| 13/13 [00:01<00:00,  8.36it/s, loss=5.8, avg_loss=0.446, data_time=9.838s, train_time=1.338s]\n",
      "Train: 100%|██████████| 250/250 [00:57<00:00,  4.38it/s, loss=111, avg_loss=0.446, data_time=7107.952s, train_time=29.287s]\n",
      "Eval: 100%|██████████| 13/13 [00:01<00:00,  8.32it/s, loss=5.58, avg_loss=0.43, data_time=9.916s, train_time=1.336s]\n",
      "Train: 100%|██████████| 250/250 [00:57<00:00,  4.37it/s, loss=112, avg_loss=0.449, data_time=7113.900s, train_time=29.298s]\n",
      "Eval: 100%|██████████| 13/13 [00:01<00:00,  8.36it/s, loss=5.63, avg_loss=0.433, data_time=9.757s, train_time=1.334s]\n",
      "Train: 100%|██████████| 250/250 [00:57<00:00,  4.37it/s, loss=110, avg_loss=0.44, data_time=7124.544s, train_time=29.320s]\n",
      "Eval: 100%|██████████| 13/13 [00:01<00:00,  8.37it/s, loss=5.58, avg_loss=0.43, data_time=9.755s, train_time=1.332s]\n",
      "Train: 100%|██████████| 250/250 [00:57<00:00,  4.37it/s, loss=113, avg_loss=0.453, data_time=7121.501s, train_time=29.369s]\n",
      "Eval: 100%|██████████| 13/13 [00:01<00:00,  8.26it/s, loss=5.49, avg_loss=0.422, data_time=9.948s, train_time=1.339s]\n",
      "Train: 100%|██████████| 250/250 [00:57<00:00,  4.37it/s, loss=111, avg_loss=0.445, data_time=7122.673s, train_time=29.460s]\n",
      "Eval: 100%|██████████| 13/13 [00:01<00:00,  8.24it/s, loss=5.92, avg_loss=0.455, data_time=10.026s, train_time=1.342s]\n",
      "Train: 100%|██████████| 250/250 [00:57<00:00,  4.36it/s, loss=113, avg_loss=0.451, data_time=7147.282s, train_time=29.428s]\n",
      "Eval: 100%|██████████| 13/13 [00:01<00:00,  8.20it/s, loss=6.24, avg_loss=0.48, data_time=10.053s, train_time=1.336s]\n",
      "Train: 100%|██████████| 250/250 [00:57<00:00,  4.37it/s, loss=111, avg_loss=0.443, data_time=7125.444s, train_time=29.220s]\n",
      "Eval: 100%|██████████| 13/13 [00:01<00:00,  8.16it/s, loss=5.39, avg_loss=0.415, data_time=10.175s, train_time=1.351s]\n",
      "Train: 100%|██████████| 250/250 [00:57<00:00,  4.35it/s, loss=109, avg_loss=0.438, data_time=7158.979s, train_time=29.468s]\n",
      "Eval: 100%|██████████| 13/13 [00:01<00:00,  8.19it/s, loss=5.76, avg_loss=0.443, data_time=10.060s, train_time=1.345s]\n",
      "Train: 100%|██████████| 250/250 [00:57<00:00,  4.36it/s, loss=112, avg_loss=0.446, data_time=7148.998s, train_time=29.300s]\n",
      "Eval: 100%|██████████| 13/13 [00:01<00:00,  8.15it/s, loss=6.39, avg_loss=0.492, data_time=10.130s, train_time=1.335s]\n",
      "Train: 100%|██████████| 250/250 [00:57<00:00,  4.38it/s, loss=113, avg_loss=0.45, data_time=7117.572s, train_time=29.144s]\n",
      "Eval: 100%|██████████| 13/13 [00:01<00:00,  8.17it/s, loss=5.48, avg_loss=0.422, data_time=10.207s, train_time=1.350s]\n",
      "Train: 100%|██████████| 250/250 [00:57<00:00,  4.37it/s, loss=110, avg_loss=0.439, data_time=7132.315s, train_time=29.121s]\n",
      "Eval: 100%|██████████| 13/13 [00:01<00:00,  8.31it/s, loss=5.8, avg_loss=0.446, data_time=9.888s, train_time=1.329s]\n",
      "Train: 100%|██████████| 250/250 [00:57<00:00,  4.38it/s, loss=110, avg_loss=0.441, data_time=7129.135s, train_time=28.959s]\n",
      "Eval: 100%|██████████| 13/13 [00:01<00:00,  8.27it/s, loss=5.59, avg_loss=0.43, data_time=10.003s, train_time=1.322s]\n",
      "Train: 100%|██████████| 250/250 [00:57<00:00,  4.35it/s, loss=113, avg_loss=0.453, data_time=7149.682s, train_time=29.319s]\n",
      "Eval: 100%|██████████| 13/13 [00:01<00:00,  8.30it/s, loss=5.8, avg_loss=0.446, data_time=9.959s, train_time=1.333s]\n",
      "Train: 100%|██████████| 250/250 [00:57<00:00,  4.36it/s, loss=106, avg_loss=0.424, data_time=7149.334s, train_time=29.273s]\n",
      "Eval: 100%|██████████| 13/13 [00:01<00:00,  8.05it/s, loss=6.17, avg_loss=0.474, data_time=10.271s, train_time=1.350s]\n",
      "Train: 100%|██████████| 250/250 [00:57<00:00,  4.33it/s, loss=110, avg_loss=0.439, data_time=7190.056s, train_time=29.663s]\n",
      "Eval: 100%|██████████| 13/13 [00:01<00:00,  8.14it/s, loss=5.38, avg_loss=0.414, data_time=10.080s, train_time=1.343s]\n",
      "Train: 100%|██████████| 250/250 [00:57<00:00,  4.36it/s, loss=110, avg_loss=0.441, data_time=7152.397s, train_time=29.272s]\n",
      "Eval: 100%|██████████| 13/13 [00:01<00:00,  8.22it/s, loss=5.65, avg_loss=0.435, data_time=10.008s, train_time=1.328s]\n",
      "Train: 100%|██████████| 250/250 [00:57<00:00,  4.35it/s, loss=108, avg_loss=0.43, data_time=7148.165s, train_time=29.277s]\n",
      "Eval: 100%|██████████| 13/13 [00:01<00:00,  8.19it/s, loss=5.85, avg_loss=0.45, data_time=9.961s, train_time=1.342s]\n",
      "Train: 100%|██████████| 250/250 [00:57<00:00,  4.34it/s, loss=110, avg_loss=0.439, data_time=7189.079s, train_time=29.520s]\n",
      "Eval: 100%|██████████| 13/13 [00:01<00:00,  8.21it/s, loss=5.53, avg_loss=0.426, data_time=9.981s, train_time=1.344s]\n",
      "Train: 100%|██████████| 250/250 [00:57<00:00,  4.34it/s, loss=111, avg_loss=0.444, data_time=7184.137s, train_time=29.355s]\n",
      "Eval: 100%|██████████| 13/13 [00:01<00:00,  8.16it/s, loss=5.37, avg_loss=0.413, data_time=10.055s, train_time=1.339s]\n",
      "Train: 100%|██████████| 250/250 [00:57<00:00,  4.35it/s, loss=110, avg_loss=0.442, data_time=7166.075s, train_time=29.063s]\n",
      "Eval: 100%|██████████| 13/13 [00:01<00:00,  8.08it/s, loss=6.33, avg_loss=0.487, data_time=10.272s, train_time=1.347s]\n",
      "Train: 100%|██████████| 250/250 [00:57<00:00,  4.35it/s, loss=111, avg_loss=0.446, data_time=7153.786s, train_time=29.053s]\n",
      "Eval: 100%|██████████| 13/13 [00:01<00:00,  8.07it/s, loss=5.58, avg_loss=0.43, data_time=10.232s, train_time=1.341s]\n",
      "Train: 100%|██████████| 250/250 [00:57<00:00,  4.36it/s, loss=110, avg_loss=0.438, data_time=7140.902s, train_time=29.048s]\n",
      "Eval: 100%|██████████| 13/13 [00:01<00:00,  7.94it/s, loss=6.36, avg_loss=0.489, data_time=10.406s, train_time=1.349s]\n",
      "Train: 100%|██████████| 250/250 [00:57<00:00,  4.35it/s, loss=110, avg_loss=0.441, data_time=7159.136s, train_time=29.191s]\n",
      "Eval: 100%|██████████| 13/13 [00:01<00:00,  8.29it/s, loss=5.12, avg_loss=0.394, data_time=9.943s, train_time=1.320s]\n",
      "Epochs:  50%|█████     | 101/200 [1:38:12<1:37:32, 59.12s/it]"
     ]
    },
    {
     "name": "stdout",
     "output_type": "stream",
     "text": [
      "New best loss: 0.39364294937023747\n"
     ]
    },
    {
     "name": "stderr",
     "output_type": "stream",
     "text": [
      "Train: 100%|██████████| 250/250 [00:56<00:00,  4.46it/s, loss=110, avg_loss=0.44, data_time=6985.688s, train_time=28.867s]\n",
      "Eval: 100%|██████████| 13/13 [00:01<00:00,  8.56it/s, loss=5.65, avg_loss=0.434, data_time=9.699s, train_time=1.305s]\n",
      "Train: 100%|██████████| 250/250 [00:56<00:00,  4.46it/s, loss=110, avg_loss=0.438, data_time=6987.522s, train_time=28.749s]\n",
      "Eval: 100%|██████████| 13/13 [00:01<00:00,  8.57it/s, loss=5.64, avg_loss=0.434, data_time=9.698s, train_time=1.314s]\n",
      "Train: 100%|██████████| 250/250 [00:56<00:00,  4.43it/s, loss=111, avg_loss=0.444, data_time=7028.034s, train_time=29.074s]\n",
      "Eval: 100%|██████████| 13/13 [00:01<00:00,  8.36it/s, loss=6.3, avg_loss=0.484, data_time=9.910s, train_time=1.341s]\n",
      "Train: 100%|██████████| 250/250 [00:56<00:00,  4.43it/s, loss=109, avg_loss=0.435, data_time=7021.499s, train_time=29.140s]\n",
      "Eval: 100%|██████████| 13/13 [00:01<00:00,  8.40it/s, loss=5.86, avg_loss=0.451, data_time=9.794s, train_time=1.336s]\n",
      "Train: 100%|██████████| 250/250 [00:56<00:00,  4.44it/s, loss=110, avg_loss=0.439, data_time=7029.070s, train_time=29.049s]\n",
      "Eval: 100%|██████████| 13/13 [00:01<00:00,  8.40it/s, loss=5.81, avg_loss=0.447, data_time=9.896s, train_time=1.329s]\n",
      "Train: 100%|██████████| 250/250 [00:56<00:00,  4.44it/s, loss=111, avg_loss=0.444, data_time=7011.227s, train_time=28.936s]\n",
      "Eval: 100%|██████████| 13/13 [00:01<00:00,  8.39it/s, loss=5.95, avg_loss=0.458, data_time=9.786s, train_time=1.330s]\n",
      "Train: 100%|██████████| 250/250 [00:56<00:00,  4.45it/s, loss=109, avg_loss=0.435, data_time=6998.351s, train_time=28.873s]\n",
      "Eval: 100%|██████████| 13/13 [00:01<00:00,  8.40it/s, loss=5.49, avg_loss=0.422, data_time=9.762s, train_time=1.327s]\n",
      "Train: 100%|██████████| 250/250 [00:56<00:00,  4.44it/s, loss=111, avg_loss=0.443, data_time=7001.273s, train_time=28.985s]\n",
      "Eval: 100%|██████████| 13/13 [00:01<00:00,  8.42it/s, loss=5.57, avg_loss=0.428, data_time=9.739s, train_time=1.334s]\n",
      "Train: 100%|██████████| 250/250 [00:56<00:00,  4.42it/s, loss=109, avg_loss=0.437, data_time=7042.196s, train_time=29.006s]\n",
      "Eval: 100%|██████████| 13/13 [00:01<00:00,  8.56it/s, loss=5.41, avg_loss=0.416, data_time=9.605s, train_time=1.321s]\n",
      "Train: 100%|██████████| 250/250 [00:56<00:00,  4.42it/s, loss=113, avg_loss=0.45, data_time=7051.619s, train_time=29.024s]\n",
      "Eval: 100%|██████████| 13/13 [00:01<00:00,  8.53it/s, loss=5.46, avg_loss=0.42, data_time=9.620s, train_time=1.316s]\n",
      "Train: 100%|██████████| 250/250 [00:56<00:00,  4.42it/s, loss=108, avg_loss=0.432, data_time=7042.327s, train_time=28.922s]\n",
      "Eval: 100%|██████████| 13/13 [00:01<00:00,  8.41it/s, loss=5.87, avg_loss=0.451, data_time=9.686s, train_time=1.333s]\n",
      "Train: 100%|██████████| 250/250 [00:56<00:00,  4.42it/s, loss=111, avg_loss=0.446, data_time=7041.242s, train_time=28.924s]\n",
      "Eval: 100%|██████████| 13/13 [00:01<00:00,  8.54it/s, loss=4.92, avg_loss=0.378, data_time=9.660s, train_time=1.320s]\n",
      "Epochs:  56%|█████▋    | 113/200 [1:49:47<1:24:14, 58.10s/it]"
     ]
    },
    {
     "name": "stdout",
     "output_type": "stream",
     "text": [
      "New best loss: 0.37828349608641404\n"
     ]
    },
    {
     "name": "stderr",
     "output_type": "stream",
     "text": [
      "Train: 100%|██████████| 250/250 [00:56<00:00,  4.46it/s, loss=108, avg_loss=0.433, data_time=6976.714s, train_time=28.916s]\n",
      "Eval: 100%|██████████| 13/13 [00:01<00:00,  8.55it/s, loss=6.06, avg_loss=0.467, data_time=9.543s, train_time=1.317s]\n",
      "Train: 100%|██████████| 250/250 [00:56<00:00,  4.46it/s, loss=110, avg_loss=0.442, data_time=6983.363s, train_time=28.973s]\n",
      "Eval: 100%|██████████| 13/13 [00:01<00:00,  8.46it/s, loss=5.79, avg_loss=0.446, data_time=9.675s, train_time=1.338s]\n",
      "Train: 100%|██████████| 250/250 [00:56<00:00,  4.45it/s, loss=109, avg_loss=0.437, data_time=6995.585s, train_time=28.967s]\n",
      "Eval: 100%|██████████| 13/13 [00:01<00:00,  8.66it/s, loss=5.3, avg_loss=0.408, data_time=9.447s, train_time=1.312s]\n",
      "Train: 100%|██████████| 250/250 [00:56<00:00,  4.44it/s, loss=112, avg_loss=0.448, data_time=6997.319s, train_time=28.947s]\n",
      "Eval: 100%|██████████| 13/13 [00:01<00:00,  8.46it/s, loss=6.45, avg_loss=0.496, data_time=9.695s, train_time=1.330s]\n",
      "Train: 100%|██████████| 250/250 [00:56<00:00,  4.44it/s, loss=108, avg_loss=0.431, data_time=7011.483s, train_time=29.071s]\n",
      "Eval: 100%|██████████| 13/13 [00:01<00:00,  8.33it/s, loss=6.06, avg_loss=0.466, data_time=9.872s, train_time=1.341s]\n",
      "Train: 100%|██████████| 250/250 [00:56<00:00,  4.44it/s, loss=111, avg_loss=0.444, data_time=7012.847s, train_time=29.044s]\n",
      "Eval: 100%|██████████| 13/13 [00:01<00:00,  8.49it/s, loss=5.85, avg_loss=0.45, data_time=9.738s, train_time=1.329s]\n",
      "Train: 100%|██████████| 250/250 [00:56<00:00,  4.44it/s, loss=113, avg_loss=0.451, data_time=7026.700s, train_time=29.036s]\n",
      "Eval: 100%|██████████| 13/13 [00:01<00:00,  8.35it/s, loss=5.32, avg_loss=0.41, data_time=9.938s, train_time=1.341s]\n",
      "Train: 100%|██████████| 250/250 [00:56<00:00,  4.44it/s, loss=108, avg_loss=0.433, data_time=7026.070s, train_time=29.036s]\n",
      "Eval: 100%|██████████| 13/13 [00:01<00:00,  8.35it/s, loss=6.64, avg_loss=0.511, data_time=9.869s, train_time=1.335s]\n",
      "Train: 100%|██████████| 250/250 [00:56<00:00,  4.43it/s, loss=107, avg_loss=0.426, data_time=7022.793s, train_time=29.014s]\n",
      "Eval: 100%|██████████| 13/13 [00:01<00:00,  8.36it/s, loss=6.21, avg_loss=0.478, data_time=9.868s, train_time=1.330s]\n",
      "Train: 100%|██████████| 250/250 [00:56<00:00,  4.41it/s, loss=111, avg_loss=0.443, data_time=7066.817s, train_time=29.200s]\n",
      "Eval: 100%|██████████| 13/13 [00:01<00:00,  8.38it/s, loss=6.52, avg_loss=0.502, data_time=9.783s, train_time=1.326s]\n",
      "Train: 100%|██████████| 250/250 [00:56<00:00,  4.41it/s, loss=112, avg_loss=0.448, data_time=7056.986s, train_time=29.070s]\n",
      "Eval: 100%|██████████| 13/13 [00:01<00:00,  8.40it/s, loss=4.88, avg_loss=0.375, data_time=9.816s, train_time=1.321s]\n",
      "Epochs:  62%|██████▏   | 124/200 [2:00:24<1:13:36, 58.11s/it]"
     ]
    },
    {
     "name": "stdout",
     "output_type": "stream",
     "text": [
      "New best loss: 0.37544962534537685\n"
     ]
    },
    {
     "name": "stderr",
     "output_type": "stream",
     "text": [
      "Train: 100%|██████████| 250/250 [00:56<00:00,  4.45it/s, loss=108, avg_loss=0.431, data_time=7000.186s, train_time=29.066s]\n",
      "Eval: 100%|██████████| 13/13 [00:01<00:00,  8.19it/s, loss=6.07, avg_loss=0.467, data_time=10.064s, train_time=1.365s]\n",
      "Train: 100%|██████████| 250/250 [00:56<00:00,  4.45it/s, loss=109, avg_loss=0.437, data_time=7013.667s, train_time=28.979s]\n",
      "Eval: 100%|██████████| 13/13 [00:01<00:00,  8.65it/s, loss=5.64, avg_loss=0.434, data_time=9.527s, train_time=1.311s]\n",
      "Train: 100%|██████████| 250/250 [00:56<00:00,  4.44it/s, loss=109, avg_loss=0.435, data_time=7021.297s, train_time=29.022s]\n",
      "Eval: 100%|██████████| 13/13 [00:01<00:00,  8.65it/s, loss=5.16, avg_loss=0.397, data_time=9.524s, train_time=1.317s]\n",
      "Train: 100%|██████████| 250/250 [00:56<00:00,  4.44it/s, loss=109, avg_loss=0.438, data_time=7000.848s, train_time=29.006s]\n",
      "Eval: 100%|██████████| 13/13 [00:01<00:00,  8.48it/s, loss=5.72, avg_loss=0.44, data_time=9.780s, train_time=1.330s]\n",
      "Train: 100%|██████████| 250/250 [00:56<00:00,  4.44it/s, loss=112, avg_loss=0.45, data_time=7016.213s, train_time=29.008s]\n",
      "Eval: 100%|██████████| 13/13 [00:01<00:00,  8.42it/s, loss=5.71, avg_loss=0.439, data_time=9.786s, train_time=1.326s]\n",
      "Train: 100%|██████████| 250/250 [00:56<00:00,  4.44it/s, loss=111, avg_loss=0.445, data_time=7020.871s, train_time=29.042s]\n",
      "Eval: 100%|██████████| 13/13 [00:01<00:00,  8.37it/s, loss=6, avg_loss=0.461, data_time=9.776s, train_time=1.333s]\n",
      "Train: 100%|██████████| 250/250 [00:56<00:00,  4.42it/s, loss=109, avg_loss=0.438, data_time=7029.993s, train_time=29.318s]\n",
      "Eval: 100%|██████████| 13/13 [00:01<00:00,  8.32it/s, loss=5.68, avg_loss=0.437, data_time=9.852s, train_time=1.350s]\n",
      "Train: 100%|██████████| 250/250 [00:56<00:00,  4.41it/s, loss=111, avg_loss=0.444, data_time=7052.625s, train_time=29.422s]\n",
      "Eval: 100%|██████████| 13/13 [00:01<00:00,  8.37it/s, loss=5.08, avg_loss=0.391, data_time=9.849s, train_time=1.344s]\n",
      "Train: 100%|██████████| 250/250 [00:56<00:00,  4.40it/s, loss=111, avg_loss=0.444, data_time=7081.171s, train_time=29.425s]\n",
      "Eval: 100%|██████████| 13/13 [00:01<00:00,  8.23it/s, loss=5.81, avg_loss=0.447, data_time=9.887s, train_time=1.353s]\n",
      "Train: 100%|██████████| 250/250 [00:57<00:00,  4.38it/s, loss=110, avg_loss=0.438, data_time=7104.422s, train_time=29.509s]\n",
      "Eval: 100%|██████████| 13/13 [00:01<00:00,  8.37it/s, loss=5.25, avg_loss=0.404, data_time=9.908s, train_time=1.345s]\n",
      "Train: 100%|██████████| 250/250 [00:56<00:00,  4.39it/s, loss=106, avg_loss=0.426, data_time=7099.689s, train_time=29.584s]\n",
      "Eval: 100%|██████████| 13/13 [00:01<00:00,  8.18it/s, loss=5.69, avg_loss=0.438, data_time=10.114s, train_time=1.363s]\n",
      "Train: 100%|██████████| 250/250 [00:57<00:00,  4.37it/s, loss=110, avg_loss=0.439, data_time=7128.244s, train_time=29.620s]\n",
      "Eval: 100%|██████████| 13/13 [00:01<00:00,  8.37it/s, loss=6.02, avg_loss=0.463, data_time=9.855s, train_time=1.327s]\n",
      "Train: 100%|██████████| 250/250 [00:56<00:00,  4.40it/s, loss=113, avg_loss=0.451, data_time=7080.606s, train_time=29.321s]\n",
      "Eval: 100%|██████████| 13/13 [00:01<00:00,  8.28it/s, loss=6.6, avg_loss=0.508, data_time=10.012s, train_time=1.338s]\n",
      "Train: 100%|██████████| 250/250 [00:56<00:00,  4.42it/s, loss=109, avg_loss=0.437, data_time=7056.114s, train_time=29.001s]\n",
      "Eval: 100%|██████████| 13/13 [00:01<00:00,  8.55it/s, loss=5.16, avg_loss=0.397, data_time=9.577s, train_time=1.321s]\n",
      "Train: 100%|██████████| 250/250 [00:56<00:00,  4.41it/s, loss=108, avg_loss=0.431, data_time=7058.108s, train_time=29.047s]\n",
      "Eval: 100%|██████████| 13/13 [00:01<00:00,  8.46it/s, loss=5.29, avg_loss=0.407, data_time=9.736s, train_time=1.324s]\n",
      "Train: 100%|██████████| 250/250 [00:56<00:00,  4.39it/s, loss=108, avg_loss=0.433, data_time=7090.166s, train_time=29.129s]\n",
      "Eval: 100%|██████████| 13/13 [00:01<00:00,  8.39it/s, loss=5.48, avg_loss=0.421, data_time=9.762s, train_time=1.324s]\n",
      "Train: 100%|██████████| 250/250 [00:56<00:00,  4.40it/s, loss=111, avg_loss=0.445, data_time=7084.196s, train_time=29.099s]\n",
      "Eval: 100%|██████████| 13/13 [00:01<00:00,  8.55it/s, loss=5.72, avg_loss=0.44, data_time=9.524s, train_time=1.319s]\n",
      "Train: 100%|██████████| 250/250 [00:56<00:00,  4.40it/s, loss=111, avg_loss=0.446, data_time=7091.339s, train_time=29.077s]\n",
      "Eval: 100%|██████████| 13/13 [00:01<00:00,  8.45it/s, loss=5.79, avg_loss=0.445, data_time=9.711s, train_time=1.319s]\n",
      "Train: 100%|██████████| 250/250 [00:56<00:00,  4.41it/s, loss=109, avg_loss=0.438, data_time=7061.256s, train_time=28.841s]\n",
      "Eval: 100%|██████████| 13/13 [00:01<00:00,  8.43it/s, loss=5.62, avg_loss=0.433, data_time=9.842s, train_time=1.319s]\n",
      "Train: 100%|██████████| 250/250 [00:56<00:00,  4.41it/s, loss=109, avg_loss=0.436, data_time=7060.848s, train_time=28.912s]\n",
      "Eval: 100%|██████████| 13/13 [00:01<00:00,  8.37it/s, loss=5.56, avg_loss=0.428, data_time=9.775s, train_time=1.329s]\n",
      "Train: 100%|██████████| 250/250 [00:56<00:00,  4.41it/s, loss=110, avg_loss=0.441, data_time=7070.164s, train_time=28.920s]\n",
      "Eval: 100%|██████████| 13/13 [00:01<00:00,  8.40it/s, loss=5.31, avg_loss=0.408, data_time=9.951s, train_time=1.316s]\n",
      "Train: 100%|██████████| 250/250 [00:56<00:00,  4.41it/s, loss=109, avg_loss=0.436, data_time=7069.414s, train_time=28.930s]\n",
      "Eval: 100%|██████████| 13/13 [00:01<00:00,  8.29it/s, loss=5.52, avg_loss=0.425, data_time=10.015s, train_time=1.322s]\n",
      "Train: 100%|██████████| 250/250 [00:56<00:00,  4.40it/s, loss=109, avg_loss=0.435, data_time=7083.868s, train_time=28.982s]\n",
      "Eval: 100%|██████████| 13/13 [00:01<00:00,  8.34it/s, loss=6.11, avg_loss=0.47, data_time=9.884s, train_time=1.328s]\n",
      "Train: 100%|██████████| 250/250 [00:57<00:00,  4.38it/s, loss=110, avg_loss=0.439, data_time=7114.996s, train_time=29.148s]\n",
      "Eval: 100%|██████████| 13/13 [00:01<00:00,  8.25it/s, loss=6.18, avg_loss=0.475, data_time=10.032s, train_time=1.342s]\n",
      "Train: 100%|██████████| 250/250 [00:56<00:00,  4.39it/s, loss=108, avg_loss=0.432, data_time=7095.226s, train_time=29.115s]\n",
      "Eval: 100%|██████████| 13/13 [00:01<00:00,  8.26it/s, loss=5.53, avg_loss=0.425, data_time=10.122s, train_time=1.334s]\n",
      "Train: 100%|██████████| 250/250 [00:57<00:00,  4.38it/s, loss=106, avg_loss=0.425, data_time=7099.976s, train_time=29.106s]\n",
      "Eval: 100%|██████████| 13/13 [00:01<00:00,  8.40it/s, loss=5.9, avg_loss=0.454, data_time=9.760s, train_time=1.319s]\n",
      "Train: 100%|██████████| 250/250 [00:57<00:00,  4.38it/s, loss=108, avg_loss=0.434, data_time=7102.552s, train_time=29.156s]\n",
      "Eval: 100%|██████████| 13/13 [00:01<00:00,  8.23it/s, loss=5.87, avg_loss=0.452, data_time=9.946s, train_time=1.329s]\n",
      "Train: 100%|██████████| 250/250 [00:57<00:00,  4.38it/s, loss=109, avg_loss=0.438, data_time=7112.114s, train_time=29.069s]\n",
      "Eval: 100%|██████████| 13/13 [00:01<00:00,  8.31it/s, loss=5.76, avg_loss=0.443, data_time=9.871s, train_time=1.325s]\n",
      "Train: 100%|██████████| 250/250 [00:57<00:00,  4.38it/s, loss=109, avg_loss=0.438, data_time=7110.907s, train_time=29.192s]\n",
      "Eval: 100%|██████████| 13/13 [00:01<00:00,  8.27it/s, loss=4.95, avg_loss=0.38, data_time=9.942s, train_time=1.328s]\n",
      "Train: 100%|██████████| 250/250 [00:57<00:00,  4.38it/s, loss=108, avg_loss=0.431, data_time=7111.136s, train_time=29.072s]\n",
      "Eval: 100%|██████████| 13/13 [00:01<00:00,  8.32it/s, loss=5.7, avg_loss=0.438, data_time=9.891s, train_time=1.325s]\n",
      "Train: 100%|██████████| 250/250 [00:56<00:00,  4.39it/s, loss=112, avg_loss=0.45, data_time=7089.405s, train_time=28.939s]\n",
      "Eval: 100%|██████████| 13/13 [00:01<00:00,  8.19it/s, loss=5.77, avg_loss=0.444, data_time=10.018s, train_time=1.332s]\n",
      "Train: 100%|██████████| 250/250 [00:57<00:00,  4.37it/s, loss=110, avg_loss=0.439, data_time=7120.567s, train_time=28.996s]\n",
      "Eval: 100%|██████████| 13/13 [00:01<00:00,  8.33it/s, loss=5.66, avg_loss=0.435, data_time=9.887s, train_time=1.324s]\n",
      "Train: 100%|██████████| 250/250 [00:57<00:00,  4.36it/s, loss=107, avg_loss=0.429, data_time=7129.609s, train_time=29.414s]\n",
      "Eval: 100%|██████████| 13/13 [00:01<00:00,  8.06it/s, loss=5.57, avg_loss=0.429, data_time=10.257s, train_time=1.371s]\n",
      "Train: 100%|██████████| 250/250 [00:57<00:00,  4.34it/s, loss=113, avg_loss=0.451, data_time=7184.770s, train_time=29.645s]\n",
      "Eval: 100%|██████████| 13/13 [00:01<00:00,  8.02it/s, loss=5.59, avg_loss=0.43, data_time=10.237s, train_time=1.360s]\n",
      "Train: 100%|██████████| 250/250 [00:57<00:00,  4.36it/s, loss=110, avg_loss=0.44, data_time=7135.355s, train_time=29.346s]\n",
      "Eval: 100%|██████████| 13/13 [00:01<00:00,  8.20it/s, loss=5.98, avg_loss=0.46, data_time=10.092s, train_time=1.340s]\n",
      "Train: 100%|██████████| 250/250 [00:57<00:00,  4.35it/s, loss=110, avg_loss=0.44, data_time=7166.004s, train_time=29.296s]\n",
      "Eval: 100%|██████████| 13/13 [00:01<00:00,  8.31it/s, loss=5.22, avg_loss=0.402, data_time=9.879s, train_time=1.329s]\n",
      "Train: 100%|██████████| 250/250 [00:57<00:00,  4.34it/s, loss=110, avg_loss=0.442, data_time=7169.829s, train_time=29.465s]\n",
      "Eval: 100%|██████████| 13/13 [00:01<00:00,  8.21it/s, loss=5.64, avg_loss=0.434, data_time=10.137s, train_time=1.337s]\n",
      "Train: 100%|██████████| 250/250 [00:57<00:00,  4.36it/s, loss=105, avg_loss=0.422, data_time=7143.648s, train_time=29.127s]\n",
      "Eval: 100%|██████████| 13/13 [00:01<00:00,  8.04it/s, loss=5.99, avg_loss=0.461, data_time=10.278s, train_time=1.362s]\n",
      "Train: 100%|██████████| 250/250 [00:57<00:00,  4.34it/s, loss=109, avg_loss=0.436, data_time=7189.246s, train_time=29.487s]\n",
      "Eval: 100%|██████████| 13/13 [00:01<00:00,  8.08it/s, loss=5.95, avg_loss=0.458, data_time=10.267s, train_time=1.345s]\n",
      "Train: 100%|██████████| 250/250 [00:57<00:00,  4.33it/s, loss=110, avg_loss=0.438, data_time=7193.547s, train_time=29.465s]\n",
      "Eval: 100%|██████████| 13/13 [00:01<00:00,  8.13it/s, loss=5.39, avg_loss=0.415, data_time=10.126s, train_time=1.342s]\n",
      "Train: 100%|██████████| 250/250 [00:57<00:00,  4.35it/s, loss=111, avg_loss=0.445, data_time=7154.238s, train_time=29.123s]\n",
      "Eval: 100%|██████████| 13/13 [00:01<00:00,  8.02it/s, loss=6.06, avg_loss=0.466, data_time=10.201s, train_time=1.359s]\n",
      "Train: 100%|██████████| 250/250 [00:57<00:00,  4.33it/s, loss=112, avg_loss=0.447, data_time=7192.366s, train_time=29.461s]\n",
      "Eval: 100%|██████████| 13/13 [00:01<00:00,  8.09it/s, loss=5.47, avg_loss=0.421, data_time=10.168s, train_time=1.352s]\n",
      "Train: 100%|██████████| 250/250 [00:57<00:00,  4.32it/s, loss=108, avg_loss=0.431, data_time=7203.628s, train_time=29.748s]\n",
      "Eval: 100%|██████████| 13/13 [00:01<00:00,  7.95it/s, loss=6.02, avg_loss=0.463, data_time=10.344s, train_time=1.363s]\n",
      "Train: 100%|██████████| 250/250 [00:57<00:00,  4.32it/s, loss=108, avg_loss=0.433, data_time=7207.564s, train_time=29.612s]\n",
      "Eval: 100%|██████████| 13/13 [00:01<00:00,  8.00it/s, loss=5.98, avg_loss=0.46, data_time=10.205s, train_time=1.361s]\n",
      "Train: 100%|██████████| 250/250 [00:57<00:00,  4.33it/s, loss=115, avg_loss=0.459, data_time=7207.005s, train_time=29.284s]\n",
      "Eval: 100%|██████████| 13/13 [00:01<00:00,  8.11it/s, loss=5.73, avg_loss=0.441, data_time=10.147s, train_time=1.328s]\n",
      "Train: 100%|██████████| 250/250 [00:57<00:00,  4.33it/s, loss=110, avg_loss=0.439, data_time=7164.984s, train_time=29.351s]\n",
      "Eval: 100%|██████████| 13/13 [00:01<00:00,  7.97it/s, loss=5.81, avg_loss=0.447, data_time=10.328s, train_time=1.355s]\n",
      "Train: 100%|██████████| 250/250 [00:58<00:00,  4.31it/s, loss=108, avg_loss=0.431, data_time=7217.034s, train_time=29.712s]\n",
      "Eval: 100%|██████████| 13/13 [00:01<00:00,  7.89it/s, loss=5.63, avg_loss=0.433, data_time=10.334s, train_time=1.373s]\n",
      "Train: 100%|██████████| 250/250 [00:57<00:00,  4.31it/s, loss=111, avg_loss=0.443, data_time=7213.576s, train_time=29.629s]\n",
      "Eval: 100%|██████████| 13/13 [00:01<00:00,  7.90it/s, loss=6.11, avg_loss=0.47, data_time=10.440s, train_time=1.378s]\n",
      "Train: 100%|██████████| 250/250 [00:58<00:00,  4.27it/s, loss=112, avg_loss=0.447, data_time=7292.253s, train_time=30.181s]\n",
      "Eval: 100%|██████████| 13/13 [00:01<00:00,  8.06it/s, loss=5.51, avg_loss=0.424, data_time=10.206s, train_time=1.345s]\n",
      "Train: 100%|██████████| 250/250 [00:58<00:00,  4.30it/s, loss=110, avg_loss=0.442, data_time=7231.277s, train_time=29.690s]\n",
      "Eval: 100%|██████████| 13/13 [00:01<00:00,  7.93it/s, loss=5.61, avg_loss=0.431, data_time=10.318s, train_time=1.368s]\n",
      "Train: 100%|██████████| 250/250 [00:58<00:00,  4.30it/s, loss=109, avg_loss=0.435, data_time=7242.928s, train_time=29.631s]\n",
      "Eval: 100%|██████████| 13/13 [00:01<00:00,  8.07it/s, loss=5.2, avg_loss=0.4, data_time=10.159s, train_time=1.346s]\n",
      "Train: 100%|██████████| 250/250 [00:58<00:00,  4.30it/s, loss=108, avg_loss=0.434, data_time=7242.292s, train_time=29.691s]\n",
      "Eval: 100%|██████████| 13/13 [00:01<00:00,  7.94it/s, loss=5.06, avg_loss=0.39, data_time=10.308s, train_time=1.372s]\n",
      "Train: 100%|██████████| 250/250 [00:58<00:00,  4.30it/s, loss=110, avg_loss=0.44, data_time=7229.968s, train_time=29.699s]\n",
      "Eval: 100%|██████████| 13/13 [00:01<00:00,  7.82it/s, loss=6.18, avg_loss=0.475, data_time=10.514s, train_time=1.372s]\n",
      "Train: 100%|██████████| 250/250 [00:58<00:00,  4.29it/s, loss=109, avg_loss=0.435, data_time=7263.230s, train_time=29.702s]\n",
      "Eval: 100%|██████████| 13/13 [00:01<00:00,  7.97it/s, loss=5.68, avg_loss=0.437, data_time=10.340s, train_time=1.354s]\n",
      "Train: 100%|██████████| 250/250 [00:57<00:00,  4.31it/s, loss=107, avg_loss=0.428, data_time=7218.435s, train_time=29.337s]\n",
      "Eval: 100%|██████████| 13/13 [00:01<00:00,  7.91it/s, loss=5.28, avg_loss=0.406, data_time=10.374s, train_time=1.360s]\n",
      "Train: 100%|██████████| 250/250 [00:58<00:00,  4.28it/s, loss=111, avg_loss=0.444, data_time=7277.915s, train_time=29.786s]\n",
      "Eval: 100%|██████████| 13/13 [00:01<00:00,  7.80it/s, loss=5.85, avg_loss=0.45, data_time=10.529s, train_time=1.388s]\n",
      "Train: 100%|██████████| 250/250 [00:58<00:00,  4.30it/s, loss=109, avg_loss=0.437, data_time=7242.365s, train_time=29.576s]\n",
      "Eval: 100%|██████████| 13/13 [00:01<00:00,  8.09it/s, loss=5.39, avg_loss=0.415, data_time=10.236s, train_time=1.335s]\n",
      "Train: 100%|██████████| 250/250 [00:57<00:00,  4.31it/s, loss=109, avg_loss=0.436, data_time=7215.046s, train_time=29.173s]\n",
      "Eval: 100%|██████████| 13/13 [00:01<00:00,  7.93it/s, loss=5.61, avg_loss=0.432, data_time=10.285s, train_time=1.346s]\n",
      "Train: 100%|██████████| 250/250 [00:58<00:00,  4.31it/s, loss=110, avg_loss=0.442, data_time=7217.725s, train_time=29.233s]\n",
      "Eval: 100%|██████████| 13/13 [00:01<00:00,  7.96it/s, loss=5.58, avg_loss=0.43, data_time=10.337s, train_time=1.356s]\n",
      "Train: 100%|██████████| 250/250 [00:58<00:00,  4.30it/s, loss=109, avg_loss=0.434, data_time=7228.351s, train_time=29.372s]\n",
      "Eval: 100%|██████████| 13/13 [00:01<00:00,  7.77it/s, loss=5.93, avg_loss=0.456, data_time=10.596s, train_time=1.372s]\n",
      "Train: 100%|██████████| 250/250 [00:58<00:00,  4.28it/s, loss=106, avg_loss=0.425, data_time=7274.752s, train_time=29.650s]\n",
      "Eval: 100%|██████████| 13/13 [00:01<00:00,  7.97it/s, loss=5.02, avg_loss=0.387, data_time=10.337s, train_time=1.359s]\n",
      "Train: 100%|██████████| 250/250 [00:58<00:00,  4.29it/s, loss=107, avg_loss=0.429, data_time=7256.655s, train_time=29.515s]\n",
      "Eval: 100%|██████████| 13/13 [00:01<00:00,  7.96it/s, loss=5.26, avg_loss=0.405, data_time=10.369s, train_time=1.351s]\n",
      "Train: 100%|██████████| 250/250 [00:58<00:00,  4.29it/s, loss=110, avg_loss=0.439, data_time=7257.660s, train_time=29.373s]\n",
      "Eval: 100%|██████████| 13/13 [00:01<00:00,  8.07it/s, loss=5.31, avg_loss=0.409, data_time=10.112s, train_time=1.336s]\n",
      "Train: 100%|██████████| 250/250 [00:57<00:00,  4.32it/s, loss=108, avg_loss=0.432, data_time=7211.608s, train_time=29.034s]\n",
      "Eval: 100%|██████████| 13/13 [00:01<00:00,  7.96it/s, loss=5.97, avg_loss=0.459, data_time=10.333s, train_time=1.336s]\n",
      "Train: 100%|██████████| 250/250 [00:58<00:00,  4.31it/s, loss=110, avg_loss=0.438, data_time=7222.355s, train_time=29.081s]\n",
      "Eval: 100%|██████████| 13/13 [00:01<00:00,  8.10it/s, loss=5.47, avg_loss=0.421, data_time=10.246s, train_time=1.329s]\n",
      "Train: 100%|██████████| 250/250 [00:58<00:00,  4.30it/s, loss=110, avg_loss=0.442, data_time=7240.068s, train_time=29.295s]\n",
      "Eval: 100%|██████████| 13/13 [00:01<00:00,  7.87it/s, loss=5.98, avg_loss=0.46, data_time=10.439s, train_time=1.342s]\n",
      "Train: 100%|██████████| 250/250 [00:58<00:00,  4.29it/s, loss=110, avg_loss=0.441, data_time=7258.488s, train_time=29.296s]\n",
      "Eval: 100%|██████████| 13/13 [00:01<00:00,  7.75it/s, loss=5.8, avg_loss=0.446, data_time=10.571s, train_time=1.363s]\n",
      "Train: 100%|██████████| 250/250 [00:58<00:00,  4.28it/s, loss=111, avg_loss=0.443, data_time=7273.725s, train_time=29.375s]\n",
      "Eval: 100%|██████████| 13/13 [00:01<00:00,  7.87it/s, loss=5.81, avg_loss=0.447, data_time=10.530s, train_time=1.356s]\n",
      "Train: 100%|██████████| 250/250 [00:58<00:00,  4.28it/s, loss=108, avg_loss=0.431, data_time=7272.295s, train_time=29.398s]\n",
      "Eval: 100%|██████████| 13/13 [00:01<00:00,  7.83it/s, loss=5.09, avg_loss=0.392, data_time=10.569s, train_time=1.353s]\n",
      "Train: 100%|██████████| 250/250 [00:58<00:00,  4.30it/s, loss=108, avg_loss=0.431, data_time=7253.257s, train_time=29.257s]\n",
      "Eval: 100%|██████████| 13/13 [00:01<00:00,  7.92it/s, loss=5.63, avg_loss=0.433, data_time=10.440s, train_time=1.337s]\n",
      "Train: 100%|██████████| 250/250 [00:58<00:00,  4.29it/s, loss=109, avg_loss=0.436, data_time=7258.874s, train_time=29.296s]\n",
      "Eval: 100%|██████████| 13/13 [00:01<00:00,  8.09it/s, loss=5.3, avg_loss=0.408, data_time=10.313s, train_time=1.321s]\n",
      "Train: 100%|██████████| 250/250 [00:58<00:00,  4.29it/s, loss=106, avg_loss=0.424, data_time=7251.358s, train_time=29.145s]\n",
      "Eval: 100%|██████████| 13/13 [00:01<00:00,  7.94it/s, loss=6.1, avg_loss=0.469, data_time=10.328s, train_time=1.330s]\n",
      "Train: 100%|██████████| 250/250 [00:58<00:00,  4.29it/s, loss=109, avg_loss=0.436, data_time=7255.250s, train_time=29.102s]\n",
      "Eval: 100%|██████████| 13/13 [00:01<00:00,  7.90it/s, loss=6.22, avg_loss=0.478, data_time=10.401s, train_time=1.341s]\n",
      "Train: 100%|██████████| 250/250 [00:58<00:00,  4.29it/s, loss=109, avg_loss=0.437, data_time=7260.944s, train_time=29.127s]\n",
      "Eval: 100%|██████████| 13/13 [00:01<00:00,  7.99it/s, loss=5.62, avg_loss=0.432, data_time=10.262s, train_time=1.330s]\n",
      "Train: 100%|██████████| 250/250 [00:58<00:00,  4.28it/s, loss=110, avg_loss=0.442, data_time=7266.042s, train_time=29.379s]\n",
      "Eval: 100%|██████████| 13/13 [00:01<00:00,  7.93it/s, loss=5.27, avg_loss=0.406, data_time=10.351s, train_time=1.347s]\n",
      "Train: 100%|██████████| 250/250 [00:58<00:00,  4.28it/s, loss=110, avg_loss=0.44, data_time=7286.732s, train_time=29.265s]\n",
      "Eval: 100%|██████████| 13/13 [00:01<00:00,  7.97it/s, loss=5.21, avg_loss=0.401, data_time=10.436s, train_time=1.332s]\n",
      "Epochs: 100%|██████████| 200/200 [3:15:15<00:00, 58.58s/it]\n"
     ]
    }
   ],
   "source": [
    "device = torch.device(\"cuda\" if torch.cuda.is_available() else \"cpu\")\n",
    "\n",
    "backbone = resnet_fpn_backbone(\"resnet50\", pretrained=True)\n",
    "kwargs = {\"nms_tresh\": 0.1, \"detections_per_img\": None, \"score_thresh\": 0.7}\n",
    "\n",
    "model = SubpixRCNN(backbone, num_classes=2, device=device, **kwargs)\n",
    "model.to(device)\n",
    "model.name = \"testmodel\"\n",
    "optimizer = optim.Adam(model.parameters(), lr=0.0001)\n",
    "\n",
    "checkpoint_path = generate_checkpoint_path(\"first_long_run\", \"subpix_rcnn_models\")\n",
    "num_epochs = 200\n",
    "\n",
    "train_loop(model, training_loader, validation_loader, optimizer, device, num_epochs, checkpoint_path, writer)"
   ]
  },
  {
   "cell_type": "code",
   "execution_count": null,
   "id": "6972c198",
   "metadata": {},
   "outputs": [],
   "source": [
    "import matplotlib.pyplot as plt\n",
    "from perlin_numpy import generate_perlin_noise_2d\n"
   ]
  }
 ],
 "metadata": {
  "kernelspec": {
   "display_name": "hilger312",
   "language": "python",
   "name": "python3"
  },
  "language_info": {
   "codemirror_mode": {
    "name": "ipython",
    "version": 3
   },
   "file_extension": ".py",
   "mimetype": "text/x-python",
   "name": "python",
   "nbconvert_exporter": "python",
   "pygments_lexer": "ipython3",
   "version": "3.12.9"
  }
 },
 "nbformat": 4,
 "nbformat_minor": 5
}
