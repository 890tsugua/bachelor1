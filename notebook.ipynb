{
 "cells": [
  {
   "cell_type": "code",
   "execution_count": 2,
   "id": "8be3f121",
   "metadata": {},
   "outputs": [],
   "source": [
    "import pandas as pd\n",
    "import torch\n",
    "\n",
    "from scripts.training import run_epoch, train_loop\n",
    "from utils import move_data_to_device, move_dict_to_cpu, plot_image, plot_image_boxes\n",
    "from data_simulator import PsfDataset\n",
    "from models.subpix_rcnn import SubpixRCNN\n",
    "\n",
    "import torch.nn as nn\n",
    "from torchvision.ops import MultiScaleRoIAlign\n",
    "from torchvision.ops import misc as misc_nn_ops\n",
    "from torchvision.transforms._presets import ObjectDetection\n",
    "from torchvision.models._api import register_model, Weights, WeightsEnum\n",
    "from torchvision.models._meta import _COCO_CATEGORIES\n",
    "from torchvision.models._utils import _ovewrite_value_param, handle_legacy_interface\n",
    "from torchvision.models.resnet import resnet50, ResNet50_Weights\n",
    "from torchvision.models.detection._utils import overwrite_eps\n",
    "from torchvision.models.detection.backbone_utils import _resnet_fpn_extractor, _validate_trainable_layers\n",
    "from torchvision.models.detection.faster_rcnn import _default_anchorgen, FasterRCNN, FastRCNNConvFCHead, RPNHead\n",
    "from torchvision.models.detection.roi_heads import RoIHeads\n",
    "\n",
    "from torchvision.models.detection.backbone_utils import resnet_fpn_backbone\n",
    "from torchvision.models.detection.generalized_rcnn import GeneralizedRCNN\n",
    "import torch.nn.functional as F\n",
    "import torch.optim as optim\n",
    "from data_simulator import make_one_data\n",
    "import os\n",
    "import datetime"
   ]
  },
  {
   "cell_type": "code",
   "execution_count": 2,
   "id": "90e2304a",
   "metadata": {},
   "outputs": [
    {
     "name": "stdout",
     "output_type": "stream",
     "text": [
      "Training dataset size:      200\n",
      "Validation dataset size:     40\n",
      "dtype: int64\n"
     ]
    }
   ],
   "source": [
    "# Instantiate the datasets.\n",
    "num_spots_min = 5\n",
    "num_spots_max = 5\n",
    "sigma_mean = 2.0\n",
    "sigma_std = 0.0\n",
    "snr_mean = 10\n",
    "snr_std = 0.2\n",
    "base_noise_min = 50\n",
    "base_noise_max = 150\n",
    "use_gauss_noise = True\n",
    "gauss_noise_std = 10\n",
    "img_w, img_h = 64, 64\n",
    "\n",
    "# Instantiate the datasets.\n",
    "train_dataset = PsfDataset( 1,\n",
    "                            200,\n",
    "                            num_spots_min, num_spots_max,\n",
    "                            sigma_mean, sigma_std,\n",
    "                            snr_mean, snr_std,\n",
    "                            base_noise_min, base_noise_max,\n",
    "                            use_gauss_noise, gauss_noise_std,\n",
    "                            img_w, img_h\n",
    "                          )\n",
    "\n",
    "valid_dataset = PsfDataset( 2,\n",
    "                            40,\n",
    "                            num_spots_min, num_spots_max,\n",
    "                            sigma_mean, sigma_std,\n",
    "                            snr_mean, snr_std,\n",
    "                            base_noise_min, base_noise_max,\n",
    "                            use_gauss_noise, gauss_noise_std,\n",
    "                            img_w, img_h\n",
    "                          )\n",
    "\n",
    "\n",
    "# Print the number of samples in the training and validation datasets\n",
    "print(pd.Series({\n",
    "    'Training dataset size:': len(train_dataset),\n",
    "    'Validation dataset size:': len(valid_dataset)}))\n",
    "\n",
    "data_loader_params = {'batch_size':4,    'collate_fn': lambda batch: tuple(zip(*batch)),}\n",
    "\n",
    "training_loader = torch.utils.data.DataLoader(train_dataset, **data_loader_params)\n",
    "validation_loader = torch.utils.data.DataLoader(valid_dataset, **data_loader_params)"
   ]
  },
  {
   "cell_type": "code",
   "execution_count": 4,
   "id": "a0e60b66",
   "metadata": {},
   "outputs": [],
   "source": [
    "def generate_checkpoint_path(model_name, project_name):\n",
    "\n",
    "  # 1. Define the project directory within Colab's content area\n",
    "  folder_path = os.path.join(os.curdir, project_name)\n",
    "\n",
    "  # 2. Create the directory if it doesn't exist\n",
    "  os.makedirs(folder_path, exist_ok=True)\n",
    "\n",
    "  # 3. Generate a timestamped subdirectory\n",
    "  timestamp = datetime.datetime.now().strftime(\"%Y-%m-%d_%H-%M-%S\")\n",
    "  checkpoint_dir = os.path.join(folder_path, timestamp)\n",
    "  os.makedirs(checkpoint_dir, exist_ok=True)\n",
    "\n",
    "  # 4. Construct the checkpoint path\n",
    "  checkpoint_path = os.path.join(checkpoint_dir, f\"{model_name}.pth\")\n",
    "\n",
    "  return checkpoint_path"
   ]
  },
  {
   "cell_type": "code",
   "execution_count": 7,
   "id": "cddcf5b7",
   "metadata": {},
   "outputs": [
    {
     "name": "stdout",
     "output_type": "stream",
     "text": [
      "Custom SubpixRoIHeads successfully initialized!\n"
     ]
    },
    {
     "name": "stderr",
     "output_type": "stream",
     "text": [
      "Train: 100%|██████████| 50/50 [00:11<00:00,  4.54it/s, loss=63.5, avg_loss=1.27]\n",
      "Eval: 100%|██████████| 10/10 [00:01<00:00,  8.66it/s, loss=4.75, avg_loss=0.475]\n",
      "Epochs:  20%|██        | 1/5 [00:12<00:49, 12.33s/it]"
     ]
    },
    {
     "name": "stdout",
     "output_type": "stream",
     "text": [
      "New best loss: 0.475411182641983\n"
     ]
    },
    {
     "name": "stderr",
     "output_type": "stream",
     "text": [
      "Train: 100%|██████████| 50/50 [00:11<00:00,  4.54it/s, loss=25.5, avg_loss=0.509]\n",
      "Eval: 100%|██████████| 10/10 [00:01<00:00,  8.62it/s, loss=2.77, avg_loss=0.277]\n",
      "Epochs:  40%|████      | 2/5 [00:24<00:37, 12.34s/it]"
     ]
    },
    {
     "name": "stdout",
     "output_type": "stream",
     "text": [
      "New best loss: 0.2770371913909912\n"
     ]
    },
    {
     "name": "stderr",
     "output_type": "stream",
     "text": [
      "Train: 100%|██████████| 50/50 [00:11<00:00,  4.53it/s, loss=14.3, avg_loss=0.287]\n",
      "Eval: 100%|██████████| 10/10 [00:01<00:00,  8.80it/s, loss=3.11, avg_loss=0.311]\n",
      "Train: 100%|██████████| 50/50 [00:10<00:00,  4.58it/s, loss=16, avg_loss=0.319]\n",
      "Eval: 100%|██████████| 10/10 [00:01<00:00,  8.97it/s, loss=3.58, avg_loss=0.358]\n",
      "Train: 100%|██████████| 50/50 [00:10<00:00,  4.68it/s, loss=16, avg_loss=0.319]\n",
      "Eval: 100%|██████████| 10/10 [00:01<00:00,  8.93it/s, loss=2.25, avg_loss=0.225]\n",
      "Epochs: 100%|██████████| 5/5 [01:00<00:00, 12.17s/it]"
     ]
    },
    {
     "name": "stdout",
     "output_type": "stream",
     "text": [
      "New best loss: 0.22518476396799086\n"
     ]
    },
    {
     "name": "stderr",
     "output_type": "stream",
     "text": [
      "\n"
     ]
    }
   ],
   "source": [
    "device = torch.device(\"cuda\" if torch.cuda.is_available() else \"cpu\")\n",
    "\n",
    "backbone = resnet_fpn_backbone(\"resnet50\", pretrained=True)\n",
    "kwargs = {\"nms_tresh\": 0.1, \"detections_per_img\": 5}\n",
    "model = SubpixRCNN(backbone, num_classes=2, device=device, **kwargs)\n",
    "model.to(device)\n",
    "model.name = \"testmodel\"\n",
    "optimizer = optim.Adam(model.parameters(), lr=0.001)\n",
    "\n",
    "checkpoint_path = generate_checkpoint_path(\"testmodel\", \"subpix_rcnn\")\n",
    "num_epochs = 5\n",
    "\n",
    "train_loop(model, training_loader, validation_loader, optimizer, device, num_epochs, checkpoint_path)"
   ]
  },
  {
   "cell_type": "code",
   "execution_count": 4,
   "id": "12c2f72e",
   "metadata": {},
   "outputs": [
    {
     "ename": "NameError",
     "evalue": "name 'model' is not defined",
     "output_type": "error",
     "traceback": [
      "\u001b[0;31m---------------------------------------------------------------------------\u001b[0m",
      "\u001b[0;31mNameError\u001b[0m                                 Traceback (most recent call last)",
      "Cell \u001b[0;32mIn[4], line 1\u001b[0m\n\u001b[0;32m----> 1\u001b[0m model\u001b[38;5;241m.\u001b[39mto(device\u001b[38;5;241m=\u001b[39m\u001b[38;5;124m'\u001b[39m\u001b[38;5;124mcpu\u001b[39m\u001b[38;5;124m'\u001b[39m)\n\u001b[1;32m      2\u001b[0m device \u001b[38;5;241m=\u001b[39m \u001b[38;5;124m'\u001b[39m\u001b[38;5;124mcpu\u001b[39m\u001b[38;5;124m'\u001b[39m\n\u001b[1;32m      3\u001b[0m model\u001b[38;5;241m.\u001b[39meval()\n",
      "\u001b[0;31mNameError\u001b[0m: name 'model' is not defined"
     ]
    }
   ],
   "source": [
    "model.to(device='cpu')\n",
    "device = 'cpu'\n",
    "model.eval()\n",
    "img, tar = valid_dataset[2]\n",
    "img = move_data_to_device(img,device)\n",
    "tar = move_data_to_device(tar,device)\n",
    "imgs = []\n",
    "imgs.append(img)\n",
    "with torch.no_grad():\n",
    "  out = model(imgs)\n",
    "\n",
    "out = out[0]\n",
    "move_dict_to_cpu(tar)\n",
    "move_dict_to_cpu(out)\n",
    "plot_image_boxes(img,tar,None,True,True)\n",
    "print(tar)\n",
    "print(out)"
   ]
  },
  {
   "cell_type": "code",
   "execution_count": 3,
   "id": "fb92d9da",
   "metadata": {},
   "outputs": [
    {
     "name": "stdout",
     "output_type": "stream",
     "text": [
      "tensor([[1., 1., 1., 1.],\n",
      "        [1., 1., 1., 1.],\n",
      "        [1., 1., 1., 1.]])\n",
      "torch.Size([3, 4])\n"
     ]
    }
   ],
   "source": [
    "a = torch.ones((3,4))\n",
    "print(a)\n",
    "print(a.shape)"
   ]
  },
  {
   "cell_type": "code",
   "execution_count": null,
   "id": "6972c198",
   "metadata": {},
   "outputs": [],
   "source": []
  }
 ],
 "metadata": {
  "kernelspec": {
   "display_name": "base",
   "language": "python",
   "name": "python3"
  },
  "language_info": {
   "codemirror_mode": {
    "name": "ipython",
    "version": 3
   },
   "file_extension": ".py",
   "mimetype": "text/x-python",
   "name": "python",
   "nbconvert_exporter": "python",
   "pygments_lexer": "ipython3",
   "version": "3.12.7"
  }
 },
 "nbformat": 4,
 "nbformat_minor": 5
}
